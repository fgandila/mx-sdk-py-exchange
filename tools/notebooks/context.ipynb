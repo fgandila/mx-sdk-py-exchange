{
 "cells": [
  {
   "cell_type": "code",
   "execution_count": null,
   "metadata": {},
   "outputs": [],
   "source": [
    "import sys\n",
    "from pathlib import Path\n",
    "sys.path.append(str(Path.cwd().parent.parent.absolute()))\n",
    "import config"
   ]
  },
  {
   "cell_type": "code",
   "execution_count": null,
   "metadata": {},
   "outputs": [],
   "source": [
    "from context import Context\n",
    "\n",
    "context = Context()"
   ]
  },
  {
   "cell_type": "code",
   "execution_count": null,
   "metadata": {},
   "outputs": [],
   "source": [
    "from contracts.simple_lock_energy_contract import SimpleLockEnergyContract\n",
    "energy_contract: SimpleLockEnergyContract\n",
    "energy_contract = context.get_contracts(config.SIMPLE_LOCKS_ENERGY)[0]"
   ]
  },
  {
   "cell_type": "code",
   "execution_count": null,
   "metadata": {},
   "outputs": [],
   "source": [
    "energy_contract.resume(context.deployer_account, context.network_provider.proxy)"
   ]
  },
  {
   "cell_type": "code",
   "execution_count": null,
   "metadata": {},
   "outputs": [],
   "source": [
    "energy_contract.set_transfer_role_locked_token(context.deployer_account, context.network_provider.proxy, [])"
   ]
  }
 ],
 "metadata": {
  "kernelspec": {
   "display_name": "venv-newerdpy",
   "language": "python",
   "name": "python3"
  },
  "language_info": {
   "codemirror_mode": {
    "name": "ipython",
    "version": 3
   },
   "file_extension": ".py",
   "mimetype": "text/x-python",
   "name": "python",
   "nbconvert_exporter": "python",
   "pygments_lexer": "ipython3",
   "version": "3.8.10"
  },
  "orig_nbformat": 4,
  "vscode": {
   "interpreter": {
    "hash": "7ae6ab0abdf10440b34f03794a69a71508ff61341cacd694fe6034a1a71d3b05"
   }
  }
 },
 "nbformat": 4,
 "nbformat_minor": 2
}
