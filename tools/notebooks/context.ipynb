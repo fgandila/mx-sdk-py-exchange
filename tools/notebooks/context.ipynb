{
 "cells": [
  {
   "cell_type": "code",
   "execution_count": null,
   "metadata": {},
   "outputs": [],
   "source": [
    "import sys\n",
    "from pathlib import Path\n",
    "sys.path.append(str(Path.cwd().parent.parent.absolute()))\n",
    "import config"
   ]
  },
  {
   "cell_type": "code",
   "execution_count": null,
   "metadata": {},
   "outputs": [],
   "source": [
    "from context import Context\n",
    "\n",
    "context = Context()"
   ]
  },
  {
   "cell_type": "code",
   "execution_count": null,
   "metadata": {},
   "outputs": [],
   "source": [
    "from contracts.staking_contract import StakingContract\n",
    "staking_contract: StakingContract\n",
    "staking_contract = context.get_contracts(config.STAKINGS_BOOSTED)[0]"
   ]
  },
  {
   "cell_type": "code",
   "execution_count": null,
   "metadata": {},
   "outputs": [],
   "source": [
    "from contracts.metastaking_contract import MetaStakingContract\n",
    "metastaking_contract: MetaStakingContract\n",
    "metastaking_contract = context.get_contracts(config.METASTAKINGS_BOOSTED)[0]"
   ]
  },
  {
   "cell_type": "code",
   "execution_count": null,
   "metadata": {},
   "outputs": [],
   "source": [
    "from contracts.simple_lock_energy_contract import SimpleLockEnergyContract\n",
    "energy_contract: SimpleLockEnergyContract\n",
    "energy_contract = context.get_contracts(config.SIMPLE_LOCKS_ENERGY)[0]"
   ]
  },
  {
   "cell_type": "code",
   "execution_count": null,
   "metadata": {},
   "outputs": [],
   "source": [
    "energy_contract.add_sc_to_whitelist(context.deployer_account, context.network_provider.proxy, \n",
    "                                    context.get_farm_contract_by_address(\"erd1qqqqqqqqqqqqqpgqaathw30vz468zxukyjzxc4aqnzrd2n5u295q4l9ycs\").address)"
   ]
  },
  {
   "cell_type": "code",
   "execution_count": null,
   "metadata": {},
   "outputs": [],
   "source": [
    "energy_contract.resume(context.deployer_account, context.network_provider.proxy)"
   ]
  },
  {
   "cell_type": "code",
   "execution_count": null,
   "metadata": {},
   "outputs": [],
   "source": [
    "energy_contract.set_transfer_role_locked_token(context.deployer_account, context.network_provider.proxy, [])"
   ]
  },
  {
   "cell_type": "code",
   "execution_count": null,
   "metadata": {},
   "outputs": [],
   "source": [
    "txhash = staking_contract.register_farm_token(context.deployer_account, context.network_provider.proxy, [\"STKTST\", \"STKTST\"])\n",
    "status = context.network_provider.check_simple_tx_status(txhash, \"set boosted yields factors in farm\")"
   ]
  },
  {
   "cell_type": "code",
   "execution_count": null,
   "metadata": {},
   "outputs": [],
   "source": [
    "status = context.network_provider.check_simple_tx_status(\"5f5e3b111bc5ca2f59e4f8bb8faf3aa7e7827bc0247808b53eb7bd58e9db19e4\", \"set boosted yields factors in farm\")"
   ]
  },
  {
   "cell_type": "code",
   "execution_count": null,
   "metadata": {},
   "outputs": [],
   "source": [
    "from utils.contract_data_fetchers import MetaStakingContractDataFetcher\n",
    "from utils.utils_chain import WrapperAddress as Address, hex_to_string\n",
    "farm_token_hex = MetaStakingContractDataFetcher(Address(metastaking_contract.address), context.network_provider.proxy.url).get_data(\"getDualYieldTokenId\")\n",
    "print(hex_to_string(farm_token_hex))"
   ]
  },
  {
   "cell_type": "code",
   "execution_count": null,
   "metadata": {},
   "outputs": [],
   "source": [
    "from contracts.pair_contract import PairContract\n",
    "pair_contract: PairContract\n",
    "pair_contracts = context.get_contracts(config.PAIRS_V2)\n",
    "for pair_contract in pair_contracts:\n",
    "    pair_contract.resume(context.deployer_account, context.network_provider.proxy)"
   ]
  },
  {
   "cell_type": "code",
   "execution_count": null,
   "metadata": {},
   "outputs": [],
   "source": [
    "from contracts.router_contract import RouterContract\n",
    "router_contract: RouterContract\n",
    "router_contract = context.get_contracts(config.ROUTER_V2)[0]\n",
    "router_contract.set_fee_on(context.deployer_account, context.network_provider.proxy, \n",
    "                           [\n",
    "                                \"erd1qqqqqqqqqqqqqpgqkdxw8ewquxtt64t8rmdgqz3ja0zjycfm295qpdm8at\",\n",
    "                                \"erd1qqqqqqqqqqqqqqqqqqqqqqqqqqqqqqqqqqqqqqqqqqqqqqqqqqqq6gq4hu\",\n",
    "                                \"MEX-4638e4\"\n",
    "                           ])"
   ]
  },
  {
   "attachments": {},
   "cell_type": "markdown",
   "metadata": {},
   "source": [
    "FEES setup for pairs"
   ]
  },
  {
   "cell_type": "code",
   "execution_count": null,
   "metadata": {},
   "outputs": [],
   "source": [
    "import time\n",
    "from contracts.pair_contract import PairContract\n",
    "from contracts.router_contract import RouterContract\n",
    "\n",
    "router_contract: RouterContract\n",
    "router_contract = context.get_contracts(config.ROUTER_V2)[0]\n",
    "\n",
    "pair_contract: PairContract\n",
    "mex_contract = context.get_pair_contract_by_address(\"erd1qqqqqqqqqqqqqpgqsa0hwt0m05308mxlagc6wm3qs6duuh5f295qs5du2a\") # egldmex contract\n",
    "\n",
    "for sending_contract in context.get_contracts(config.PAIRS_V2):\n",
    "    if sending_contract.address in [\"erd1qqqqqqqqqqqqqpgqsa0hwt0m05308mxlagc6wm3qs6duuh5f295qs5du2a\",\n",
    "                                    \"erd1qqqqqqqqqqqqqpgqkdxw8ewquxtt64t8rmdgqz3ja0zjycfm295qpdm8at\"]:\n",
    "        continue\n",
    "    # set where to swap and what to do with the fees\n",
    "    sending_contract.add_trusted_swap_pair(context.deployer_account, context.network_provider.proxy,\n",
    "                                        [\n",
    "                                            mex_contract.address,\n",
    "                                            mex_contract.firstToken,\n",
    "                                            mex_contract.secondToken\n",
    "                                        ])\n",
    "    time.sleep(2)\n",
    "    sending_contract.set_fee_on_via_router(context.deployer_account, context.network_provider.proxy, router_contract, \n",
    "                                    [\n",
    "                                        \"erd1qqqqqqqqqqqqqqqqqqqqqqqqqqqqqqqqqqqqqqqqqqqqqqqqqqqq6gq4hu\",\n",
    "                                            \"MEX-4638e4\"\n",
    "                                    ])\n",
    "    time.sleep(2)\n",
    "    # whitelist swap no fees\n",
    "    mex_contract.whitelist_contract(context.deployer_account, context.network_provider.proxy, sending_contract.address)\n",
    "    time.sleep(2)"
   ]
  },
  {
   "cell_type": "code",
   "execution_count": null,
   "metadata": {},
   "outputs": [],
   "source": [
    "from contracts.router_contract import RouterContract\n",
    "router_contract: RouterContract\n",
    "router_contract = context.get_contracts(config.ROUTER_V2)[0]\n",
    "mex_contract.set_fee_on_via_router(context.deployer_account, context.network_provider.proxy, router_contract, \n",
    "                                   [\n",
    "                                       \"erd1qqqqqqqqqqqqqqqqqqqqqqqqqqqqqqqqqqqqqqqqqqqqqqqqqqqq6gq4hu\",\n",
    "                                        \"MEX-4638e4\"\n",
    "                                   ])"
   ]
  }
 ],
 "metadata": {
  "kernelspec": {
   "display_name": "venv-newerdpy",
   "language": "python",
   "name": "python3"
  },
  "language_info": {
   "codemirror_mode": {
    "name": "ipython",
    "version": 3
   },
   "file_extension": ".py",
   "mimetype": "text/x-python",
   "name": "python",
   "nbconvert_exporter": "python",
   "pygments_lexer": "ipython3",
   "version": "3.8.10"
  },
  "orig_nbformat": 4,
  "vscode": {
   "interpreter": {
    "hash": "7ae6ab0abdf10440b34f03794a69a71508ff61341cacd694fe6034a1a71d3b05"
   }
  }
 },
 "nbformat": 4,
 "nbformat_minor": 2
}
