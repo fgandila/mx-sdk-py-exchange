{
 "cells": [
  {
   "cell_type": "code",
   "execution_count": 1,
   "metadata": {},
   "outputs": [],
   "source": [
    "import sys\n",
    "from pathlib import Path\n",
    "sys.path.append(str(Path.cwd().parent.parent.absolute()))"
   ]
  },
  {
   "cell_type": "code",
   "execution_count": 2,
   "metadata": {},
   "outputs": [],
   "source": [
    "from multiversx_sdk_core import Address\n",
    "from multiversx_sdk_core.transaction_builders import ContractCallBuilder, ESDTNFTTransferBuilder\n",
    "from multiversx_sdk_core.transaction_builders import DefaultTransactionBuildersConfiguration\n",
    "from multiversx_sdk_core import TokenPayment\n",
    "from multiversx_sdk_network_providers import ProxyNetworkProvider\n",
    "from tools.notebooks import env\n",
    "\n",
    "config = DefaultTransactionBuildersConfiguration(chain_id=env.CHAIN_ID)\n",
    "proxy = ProxyNetworkProvider(env.PROXY_URL)"
   ]
  },
  {
   "cell_type": "code",
   "execution_count": null,
   "metadata": {},
   "outputs": [],
   "source": [
    "contract_address = env.ESCROW_CONTRACT\n",
    "XMEX = env.XMEX\n",
    "LKMEX = env.LKMEX\n",
    "WXMEX = env.WXMEX"
   ]
  },
  {
   "cell_type": "code",
   "execution_count": null,
   "metadata": {},
   "outputs": [],
   "source": [
    "from multiversx_sdk_core import AccountNonceHolder\n",
    "from multiversx_sdk_wallet import UserSigner\n",
    "from pathlib import Path\n",
    "\n",
    "user = env.USER1\n",
    "receiver = env.USER2\n",
    "admin = env.ADMIN\n",
    "owner = env.OWNER\n",
    "\n",
    "user_signer = UserSigner.from_pem_file(Path(env.USER1_PEM))\n",
    "owner_signer = UserSigner.from_pem_file(Path(env.OWNER_PEM))"
   ]
  },
  {
   "attachments": {},
   "cell_type": "markdown",
   "metadata": {},
   "source": [
    "lockFunds"
   ]
  },
  {
   "cell_type": "code",
   "execution_count": null,
   "metadata": {},
   "outputs": [],
   "source": [
    "user_nonce_holder = AccountNonceHolder(proxy.get_account(user).nonce)\n",
    "\n",
    "transfers = [\n",
    "    TokenPayment.meta_esdt_from_amount(XMEX, 1, 1000000, 18),\n",
    "    TokenPayment.meta_esdt_from_amount(XMEX, 46, 1000000, 18)\n",
    "]\n",
    "\n",
    "builder = ContractCallBuilder(\n",
    "    config,\n",
    "    contract=contract_address,\n",
    "    function_name=\"lockFunds\",\n",
    "    caller=user,\n",
    "    call_arguments=[receiver],\n",
    "    gas_limit=30000000,\n",
    "    esdt_transfers=transfers\n",
    ")\n",
    "\n",
    "tx = builder.build()\n",
    "print(\"Transaction:\", tx.to_dictionary())\n",
    "print(\"Transaction data:\", tx.data)"
   ]
  },
  {
   "cell_type": "code",
   "execution_count": null,
   "metadata": {},
   "outputs": [],
   "source": [
    "tx.nonce = user_nonce_holder.get_nonce_then_increment()\n",
    "tx.signature = user_signer.sign(tx)\n",
    "proxy.send_transaction(tx)"
   ]
  },
  {
   "attachments": {},
   "cell_type": "markdown",
   "metadata": {},
   "source": [
    "withdraw receiver"
   ]
  },
  {
   "cell_type": "code",
   "execution_count": null,
   "metadata": {},
   "outputs": [],
   "source": [
    "user_nonce_holder = AccountNonceHolder(proxy.get_account(env.USER2).nonce)\n",
    "\n",
    "builder = ContractCallBuilder(\n",
    "    config,\n",
    "    contract=env.ESCROW_CONTRACT,\n",
    "    function_name=\"withdraw\",\n",
    "    caller=env.USER2,\n",
    "    call_arguments=[env.FORWARDER_CONTRACT],\n",
    "    gas_limit=30000000\n",
    ")\n",
    "\n",
    "tx = builder.build()\n",
    "print(\"Transaction:\", tx.to_dictionary())\n",
    "print(\"Transaction data:\", tx.data)"
   ]
  },
  {
   "cell_type": "code",
   "execution_count": null,
   "metadata": {},
   "outputs": [],
   "source": [
    "tx.nonce = user_nonce_holder.get_nonce_then_increment()\n",
    "tx.signature = user_signer.sign(tx)\n",
    "proxy.send_transaction(tx)"
   ]
  },
  {
   "attachments": {},
   "cell_type": "markdown",
   "metadata": {},
   "source": [
    "withdraw self"
   ]
  },
  {
   "cell_type": "code",
   "execution_count": null,
   "metadata": {},
   "outputs": [],
   "source": [
    "user_nonce_holder = AccountNonceHolder(proxy.get_account(user).nonce)\n",
    "\n",
    "builder = ContractCallBuilder(\n",
    "    config,\n",
    "    contract=contract_address,\n",
    "    function_name=\"withdraw\",\n",
    "    caller=user,\n",
    "    call_arguments=[user],\n",
    "    gas_limit=30000000\n",
    ")\n",
    "\n",
    "tx = builder.build()\n",
    "print(\"Transaction:\", tx.to_dictionary())\n",
    "print(\"Transaction data:\", tx.data)"
   ]
  },
  {
   "cell_type": "code",
   "execution_count": null,
   "metadata": {},
   "outputs": [],
   "source": [
    "tx.nonce = user_nonce_holder.get_nonce_then_increment()\n",
    "tx.signature = user_signer.sign(tx)\n",
    "proxy.send_transaction(tx)"
   ]
  },
  {
   "attachments": {},
   "cell_type": "markdown",
   "metadata": {},
   "source": [
    "withdraw - others (fail)"
   ]
  },
  {
   "cell_type": "code",
   "execution_count": null,
   "metadata": {},
   "outputs": [],
   "source": [
    "user_nonce_holder = AccountNonceHolder(proxy.get_account(admin).nonce)\n",
    "\n",
    "builder = ContractCallBuilder(\n",
    "    config,\n",
    "    contract=contract_address,\n",
    "    function_name=\"withdraw\",\n",
    "    caller=admin,\n",
    "    call_arguments=[user],\n",
    "    gas_limit=30000000\n",
    ")\n",
    "\n",
    "tx = builder.build()\n",
    "print(\"Transaction:\", tx.to_dictionary())\n",
    "print(\"Transaction data:\", tx.data)"
   ]
  },
  {
   "cell_type": "code",
   "execution_count": null,
   "metadata": {},
   "outputs": [],
   "source": [
    "tx.nonce = user_nonce_holder.get_nonce_then_increment()\n",
    "tx.signature = user_signer.sign(tx)\n",
    "proxy.send_transaction(tx)"
   ]
  },
  {
   "attachments": {},
   "cell_type": "markdown",
   "metadata": {},
   "source": [
    "cancel transfer - user (fail)"
   ]
  },
  {
   "cell_type": "code",
   "execution_count": null,
   "metadata": {},
   "outputs": [],
   "source": [
    "user_nonce_holder = AccountNonceHolder(proxy.get_account(user).nonce)\n",
    "\n",
    "builder = ContractCallBuilder(\n",
    "    config,\n",
    "    contract=contract_address,\n",
    "    function_name=\"cancelTransfer\",\n",
    "    caller=user,\n",
    "    call_arguments=[user, receiver],\n",
    "    gas_limit=30000000\n",
    ")\n",
    "\n",
    "tx = builder.build()\n",
    "print(\"Transaction:\", tx.to_dictionary())\n",
    "print(\"Transaction data:\", tx.data)"
   ]
  },
  {
   "cell_type": "code",
   "execution_count": null,
   "metadata": {},
   "outputs": [],
   "source": [
    "tx.nonce = user_nonce_holder.get_nonce_then_increment()\n",
    "tx.signature = user_signer.sign(tx)\n",
    "proxy.send_transaction(tx)"
   ]
  },
  {
   "attachments": {},
   "cell_type": "markdown",
   "metadata": {},
   "source": [
    "addAdmin - owner (pass)"
   ]
  },
  {
   "cell_type": "code",
   "execution_count": null,
   "metadata": {},
   "outputs": [],
   "source": [
    "user_nonce_holder = AccountNonceHolder(proxy.get_account(owner).nonce)\n",
    "\n",
    "builder = ContractCallBuilder(\n",
    "    config,\n",
    "    contract=contract_address,\n",
    "    function_name=\"addAdmin\",\n",
    "    caller=owner,\n",
    "    call_arguments=[admin],\n",
    "    gas_limit=30000000\n",
    ")\n",
    "\n",
    "tx = builder.build()\n",
    "print(\"Transaction:\", tx.to_dictionary())\n",
    "print(\"Transaction data:\", tx.data)"
   ]
  },
  {
   "cell_type": "code",
   "execution_count": null,
   "metadata": {},
   "outputs": [],
   "source": [
    "tx.nonce = user_nonce_holder.get_nonce_then_increment()\n",
    "tx.signature = user_signer.sign(tx)\n",
    "proxy.send_transaction(tx)"
   ]
  },
  {
   "attachments": {},
   "cell_type": "markdown",
   "metadata": {},
   "source": [
    "addAdmin - others (fail)"
   ]
  },
  {
   "cell_type": "code",
   "execution_count": null,
   "metadata": {},
   "outputs": [],
   "source": [
    "user_nonce_holder = AccountNonceHolder(proxy.get_account(user).nonce)\n",
    "\n",
    "builder = ContractCallBuilder(\n",
    "    config,\n",
    "    contract=contract_address,\n",
    "    function_name=\"addAdmin\",\n",
    "    caller=user,\n",
    "    call_arguments=[receiver],\n",
    "    gas_limit=30000000\n",
    ")\n",
    "\n",
    "tx = builder.build()\n",
    "print(\"Transaction:\", tx.to_dictionary())\n",
    "print(\"Transaction data:\", tx.data)"
   ]
  },
  {
   "cell_type": "code",
   "execution_count": null,
   "metadata": {},
   "outputs": [],
   "source": [
    "tx.nonce = user_nonce_holder.get_nonce_then_increment()\n",
    "tx.signature = user_signer.sign(tx)\n",
    "proxy.send_transaction(tx)"
   ]
  },
  {
   "attachments": {},
   "cell_type": "markdown",
   "metadata": {},
   "source": [
    "cancel transfer"
   ]
  },
  {
   "cell_type": "code",
   "execution_count": null,
   "metadata": {},
   "outputs": [],
   "source": [
    "user_nonce_holder = AccountNonceHolder(proxy.get_account(env.ADMIN).nonce)\n",
    "\n",
    "builder = ContractCallBuilder(\n",
    "    config,\n",
    "    contract=env.ESCROW_CONTRACT,\n",
    "    function_name=\"cancelTransfer\",\n",
    "    caller=admin,\n",
    "    call_arguments=[env.USER1, env.FORWARDER_CONTRACT],\n",
    "    gas_limit=30000000\n",
    ")\n",
    "\n",
    "tx = builder.build()\n",
    "print(\"Transaction:\", tx.to_dictionary())\n",
    "print(\"Transaction data:\", tx.data)"
   ]
  },
  {
   "cell_type": "code",
   "execution_count": null,
   "metadata": {},
   "outputs": [],
   "source": [
    "tx.nonce = user_nonce_holder.get_nonce_then_increment()\n",
    "tx.signature = user_signer.sign(tx)\n",
    "proxy.send_transaction(tx)"
   ]
  },
  {
   "attachments": {},
   "cell_type": "markdown",
   "metadata": {},
   "source": [
    "Token transfer"
   ]
  },
  {
   "cell_type": "code",
   "execution_count": null,
   "metadata": {},
   "outputs": [],
   "source": [
    "transfer = TokenPayment.meta_esdt_from_amount(WXMEX, 2, 2000000, 18)\n",
    "\n",
    "user = env.USER1\n",
    "receiver = env.USER2\n",
    "user_nonce_holder = AccountNonceHolder(proxy.get_account(user).nonce)\n",
    "\n",
    "builder = ESDTNFTTransferBuilder(\n",
    "    config,\n",
    "    destination=receiver,\n",
    "    sender=user,\n",
    "    gas_limit=30000000,\n",
    "    payment=transfer\n",
    ")\n",
    "\n",
    "tx = builder.build()\n",
    "print(\"Transaction:\", tx.to_dictionary())\n",
    "print(\"Transaction data:\", tx.data)"
   ]
  },
  {
   "cell_type": "code",
   "execution_count": null,
   "metadata": {},
   "outputs": [],
   "source": [
    "tx.nonce = user_nonce_holder.get_nonce_then_increment()\n",
    "tx.signature = user_signer.sign(tx)\n",
    "proxy.send_transaction(tx)"
   ]
  }
 ],
 "metadata": {
  "kernelspec": {
   "display_name": "venv-newerdpy",
   "language": "python",
   "name": "python3"
  },
  "language_info": {
   "codemirror_mode": {
    "name": "ipython",
    "version": 3
   },
   "file_extension": ".py",
   "mimetype": "text/x-python",
   "name": "python",
   "nbconvert_exporter": "python",
   "pygments_lexer": "ipython3",
   "version": "3.8.10"
  },
  "orig_nbformat": 4,
  "vscode": {
   "interpreter": {
    "hash": "7ae6ab0abdf10440b34f03794a69a71508ff61341cacd694fe6034a1a71d3b05"
   }
  }
 },
 "nbformat": 4,
 "nbformat_minor": 2
}
