{
 "cells": [
  {
   "cell_type": "code",
   "execution_count": null,
   "metadata": {},
   "outputs": [],
   "source": [
    "import sys\n",
    "from pathlib import Path\n",
    "sys.path.append(str(Path.cwd().parent.parent.absolute()))"
   ]
  },
  {
   "cell_type": "code",
   "execution_count": null,
   "metadata": {},
   "outputs": [],
   "source": [
    "from multiversx_sdk_core import Address, Transaction, TransactionPayload\n",
    "from multiversx_sdk_core.transaction_builders import DefaultTransactionBuildersConfiguration\n",
    "from multiversx_sdk_core import TokenPayment\n",
    "from multiversx_sdk_network_providers import ProxyNetworkProvider\n",
    "from tools.notebooks import env\n",
    "\n",
    "config = DefaultTransactionBuildersConfiguration(chain_id=\"1\")\n",
    "proxy_mainnet = ProxyNetworkProvider(\"https://gateway.multiversx.com\")\n",
    "proxy_shadowfork = ProxyNetworkProvider(env.PROXY_URL)"
   ]
  },
  {
   "cell_type": "code",
   "execution_count": null,
   "metadata": {},
   "outputs": [],
   "source": [
    "from multiversx_sdk_core import AccountNonceHolder\n",
    "from multiversx_sdk_wallet import UserSigner\n",
    "from pathlib import Path\n",
    "\n",
    "user_signer = UserSigner.from_pem_file(Path(env.USER1))"
   ]
  },
  {
   "attachments": {},
   "cell_type": "markdown",
   "metadata": {},
   "source": [
    "clone & forward transaction"
   ]
  },
  {
   "cell_type": "code",
   "execution_count": null,
   "metadata": {},
   "outputs": [],
   "source": [
    "hash = \"xxxxxxxxxxxxxxxxxxxxxxxxxxxxxxxxxxxxxxxxxxxxxxxxxxxxxxxxxxxxxxxx\"\n",
    "\n",
    "original_tx_data = proxy_mainnet.get_transaction(hash)\n",
    "print(original_tx_data.data)\n",
    "forwarded_tx  = Transaction(\n",
    "    sender=original_tx_data.sender,\n",
    "    receiver=original_tx_data.receiver,\n",
    "    value=TokenPayment.egld_from_integer(original_tx_data.value),\n",
    "    data=TransactionPayload.from_str(original_tx_data.data),\n",
    "    chain_id=config.chain_id,\n",
    "    gas_limit=original_tx_data.gas_limit,\n",
    "    gas_price=config.min_gas_price\n",
    ")\n",
    "\n",
    "print(forwarded_tx.to_dictionary())"
   ]
  },
  {
   "cell_type": "code",
   "execution_count": null,
   "metadata": {},
   "outputs": [],
   "source": [
    "user_nonce_holder = AccountNonceHolder(proxy_shadowfork.get_account(forwarded_tx.sender).nonce)\n",
    "forwarded_tx.nonce = user_nonce_holder.get_nonce_then_increment()\n",
    "forwarded_tx.signature = user_signer.sign(forwarded_tx)\n",
    "proxy_shadowfork.send_transaction(forwarded_tx)"
   ]
  }
 ],
 "metadata": {
  "kernelspec": {
   "display_name": ".venv",
   "language": "python",
   "name": "python3"
  },
  "language_info": {
   "codemirror_mode": {
    "name": "ipython",
    "version": 3
   },
   "file_extension": ".py",
   "mimetype": "text/x-python",
   "name": "python",
   "nbconvert_exporter": "python",
   "pygments_lexer": "ipython3",
   "version": "3.8.10"
  },
  "orig_nbformat": 4,
  "vscode": {
   "interpreter": {
    "hash": "46890cb94c8e016cd17355f2b23107d7cb41a4430d538522c76446f308933f39"
   }
  }
 },
 "nbformat": 4,
 "nbformat_minor": 2
}
