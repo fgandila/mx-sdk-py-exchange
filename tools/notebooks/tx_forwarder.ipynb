{
 "cells": [
  {
   "cell_type": "code",
   "execution_count": null,
   "metadata": {},
   "outputs": [],
   "source": [
    "import sys\n",
    "from pathlib import Path\n",
    "sys.path.append(str(Path.cwd().parent.parent.absolute()))"
   ]
  },
  {
   "cell_type": "code",
   "execution_count": null,
   "metadata": {},
   "outputs": [],
   "source": [
    "from multiversx_sdk_core import Address, Transaction, TransactionPayload\n",
    "from multiversx_sdk_core.transaction_builders import DefaultTransactionBuildersConfiguration\n",
    "from multiversx_sdk_core import TokenPayment\n",
    "from multiversx_sdk_network_providers import ProxyNetworkProvider, ApiNetworkProvider\n",
    "from tools.notebooks import env\n",
    "import config\n",
    "\n",
    "builder_config = DefaultTransactionBuildersConfiguration(chain_id=\"1\")\n",
    "proxy_mainnet = ProxyNetworkProvider(\"https://gateway.multiversx.com\")\n",
    "api_mainnet = ApiNetworkProvider(\"https://api.multiversx.com\")\n",
    "proxy_shadowfork = ProxyNetworkProvider(config.DEFAULT_PROXY)"
   ]
  },
  {
   "cell_type": "code",
   "execution_count": null,
   "metadata": {},
   "outputs": [],
   "source": [
    "from multiversx_sdk_core import AccountNonceHolder\n",
    "from multiversx_sdk_wallet import UserSigner\n",
    "from pathlib import Path\n",
    "\n",
    "user_signer = UserSigner.from_pem_file(Path(env.USER1_PEM))"
   ]
  },
  {
   "cell_type": "code",
   "execution_count": 10,
   "metadata": {},
   "outputs": [],
   "source": [
    "def prep_forward_tx(tx_hash: str) -> Transaction:\n",
    "    original_tx_data = proxy_mainnet.get_transaction(tx_hash)\n",
    "    print(original_tx_data.data)\n",
    "    forwarded_tx  = Transaction(\n",
    "        sender=original_tx_data.sender,\n",
    "        receiver=original_tx_data.receiver,\n",
    "        value=TokenPayment.egld_from_integer(original_tx_data.value),\n",
    "        data=TransactionPayload.from_str(original_tx_data.data),\n",
    "        chain_id=builder_config.chain_id,\n",
    "        gas_limit=original_tx_data.gas_limit,\n",
    "        gas_price=builder_config.min_gas_price\n",
    "    )\n",
    "\n",
    "    print(forwarded_tx.to_dictionary())\n",
    "    return forwarded_tx\n",
    "\n",
    "\n",
    "def sign_and_send(tx: Transaction, account: UserSigner):\n",
    "    user_nonce_holder = AccountNonceHolder(proxy_shadowfork.get_account(tx.sender).nonce)\n",
    "    tx.nonce = user_nonce_holder.get_nonce_then_increment()\n",
    "    tx.signature = account.sign(tx)\n",
    "    proxy_shadowfork.send_transaction(tx)"
   ]
  },
  {
   "attachments": {},
   "cell_type": "markdown",
   "metadata": {},
   "source": [
    "clone & forward transaction"
   ]
  },
  {
   "cell_type": "code",
   "execution_count": null,
   "metadata": {},
   "outputs": [],
   "source": [
    "hash = \"xxxxxxxxxxxxxxxxxxxxxxxxxxxxxxxxxxxxxxxxxxxxxxxxxxxxxxxxxxxxxxxx\"\n",
    "\n",
    "forwarded_tx = prep_forward_tx(hash)"
   ]
  },
  {
   "cell_type": "code",
   "execution_count": null,
   "metadata": {},
   "outputs": [],
   "source": [
    "sign_and_send(forwarded_tx, user_signer)"
   ]
  },
  {
   "cell_type": "markdown",
   "metadata": {},
   "source": [
    "clone & forward transactions on account"
   ]
  },
  {
   "cell_type": "code",
   "execution_count": 11,
   "metadata": {},
   "outputs": [
    {
     "name": "stdout",
     "output_type": "stream",
     "text": [
      "Forwarded tx hash: d6dfa9b82ca6191ee7ed693c30ba9b327846ee0d6afdc6ad3e8dfeb5d089cb6f\n",
      "ESDTNFTTransfer@45474c444d4558464c2d633235323165@04b3c8@482728580e8145f2@00000000000000000500e84cd0951232d1a7ee4ebff319eae738b172e7d6b055@636c61696d52657761726473\n",
      "OrderedDict([('nonce', 0), ('value', '0'), ('receiver', 'erd1dzd6r8j7fvm26wa7vgs5j33kmvh8p8hxtupe3u8v7kvlyqx2yazqckyz39'), ('sender', 'erd1dzd6r8j7fvm26wa7vgs5j33kmvh8p8hxtupe3u8v7kvlyqx2yazqckyz39'), ('gasPrice', 1000000000), ('gasLimit', 22000000), ('data', 'RVNEVE5GVFRyYW5zZmVyQDQ1NDc0YzQ0NGQ0NTU4NDY0YzJkNjMzMjM1MzIzMTY1QDA0YjNjOEA0ODI3Mjg1ODBlODE0NWYyQDAwMDAwMDAwMDAwMDAwMDAwNTAwZTg0Y2QwOTUxMjMyZDFhN2VlNGViZmYzMTllYWU3MzhiMTcyZTdkNmIwNTVANjM2YzYxNjk2ZDUyNjU3NzYxNzI2NDcz'), ('chainID', '1'), ('version', 1), ('signature', '')])\n",
      "Forwarded tx hash: b056c70ff1613f8fcc103c84fdc5135634e5cd2bd614a59294b1dfa50c3ec387\n",
      "ESDTNFTTransfer@45474c444d4558464c2d633235323165@0382c1@2f99bde26bce8b45@00000000000000000500e84cd0951232d1a7ee4ebff319eae738b172e7d6b055@636c61696d52657761726473\n",
      "OrderedDict([('nonce', 0), ('value', '0'), ('receiver', 'erd1yqe2h8g34eu86cuzdl7hh6s0a96ccjttcpwxt2tdsj4g4tytwc7smz0mlu'), ('sender', 'erd1yqe2h8g34eu86cuzdl7hh6s0a96ccjttcpwxt2tdsj4g4tytwc7smz0mlu'), ('gasPrice', 1000000000), ('gasLimit', 22000000), ('data', 'RVNEVE5GVFRyYW5zZmVyQDQ1NDc0YzQ0NGQ0NTU4NDY0YzJkNjMzMjM1MzIzMTY1QDAzODJjMUAyZjk5YmRlMjZiY2U4YjQ1QDAwMDAwMDAwMDAwMDAwMDAwNTAwZTg0Y2QwOTUxMjMyZDFhN2VlNGViZmYzMTllYWU3MzhiMTcyZTdkNmIwNTVANjM2YzYxNjk2ZDUyNjU3NzYxNzI2NDcz'), ('chainID', '1'), ('version', 1), ('signature', '')])\n",
      "Forwarded tx hash: 6a4bd0cf7e70c47a026f3d27702ecc7119e89b439d672cf9a177e4678606889b\n",
      "ESDTNFTTransfer@45474c444d4558464c2d633235323165@749f@06929bb26ab8104c@00000000000000000500e84cd0951232d1a7ee4ebff319eae738b172e7d6b055@636c61696d52657761726473\n",
      "OrderedDict([('nonce', 0), ('value', '0'), ('receiver', 'erd1ftv3u4pg5d2tua3vlu8v0z7efwuqm8wfm0vy263n2tcu9y8hsg8q88k5ap'), ('sender', 'erd1ftv3u4pg5d2tua3vlu8v0z7efwuqm8wfm0vy263n2tcu9y8hsg8q88k5ap'), ('gasPrice', 1000000000), ('gasLimit', 22000000), ('data', 'RVNEVE5GVFRyYW5zZmVyQDQ1NDc0YzQ0NGQ0NTU4NDY0YzJkNjMzMjM1MzIzMTY1QDc0OWZAMDY5MjliYjI2YWI4MTA0Y0AwMDAwMDAwMDAwMDAwMDAwMDUwMGU4NGNkMDk1MTIzMmQxYTdlZTRlYmZmMzE5ZWFlNzM4YjE3MmU3ZDZiMDU1QDYzNmM2MTY5NmQ1MjY1Nzc2MTcyNjQ3Mw=='), ('chainID', '1'), ('version', 1), ('signature', '')])\n",
      "Forwarded tx hash: 3b197c9b7d726dbce660eb46bfe477947c003d56b2d6ead00fc70a2f5ebc748e\n",
      "ESDTNFTTransfer@45474c444d4558464c2d633235323165@03d3ad@4d2c25b607df79f0@00000000000000000500e84cd0951232d1a7ee4ebff319eae738b172e7d6b055@636c61696d52657761726473\n",
      "OrderedDict([('nonce', 0), ('value', '0'), ('receiver', 'erd1w33y96dh3tggqsx4534zw0halzl7kwdts64vrlecs0t2nggxugnqmsyn0j'), ('sender', 'erd1w33y96dh3tggqsx4534zw0halzl7kwdts64vrlecs0t2nggxugnqmsyn0j'), ('gasPrice', 1000000000), ('gasLimit', 22000000), ('data', 'RVNEVE5GVFRyYW5zZmVyQDQ1NDc0YzQ0NGQ0NTU4NDY0YzJkNjMzMjM1MzIzMTY1QDAzZDNhZEA0ZDJjMjViNjA3ZGY3OWYwQDAwMDAwMDAwMDAwMDAwMDAwNTAwZTg0Y2QwOTUxMjMyZDFhN2VlNGViZmYzMTllYWU3MzhiMTcyZTdkNmIwNTVANjM2YzYxNjk2ZDUyNjU3NzYxNzI2NDcz'), ('chainID', '1'), ('version', 1), ('signature', '')])\n",
      "Forwarded tx hash: 5234cd0f59c99d66d37f33da166d32fcba44a9a15f43ee576bbbe65e297834e6\n",
      "ESDTNFTTransfer@45474c444d4558464c2d633235323165@03d3ad@4d2c25b607df79f0@00000000000000000500e84cd0951232d1a7ee4ebff319eae738b172e7d6b055@636c61696d52657761726473\n",
      "OrderedDict([('nonce', 0), ('value', '0'), ('receiver', 'erd1w33y96dh3tggqsx4534zw0halzl7kwdts64vrlecs0t2nggxugnqmsyn0j'), ('sender', 'erd1w33y96dh3tggqsx4534zw0halzl7kwdts64vrlecs0t2nggxugnqmsyn0j'), ('gasPrice', 1000000000), ('gasLimit', 22000000), ('data', 'RVNEVE5GVFRyYW5zZmVyQDQ1NDc0YzQ0NGQ0NTU4NDY0YzJkNjMzMjM1MzIzMTY1QDAzZDNhZEA0ZDJjMjViNjA3ZGY3OWYwQDAwMDAwMDAwMDAwMDAwMDAwNTAwZTg0Y2QwOTUxMjMyZDFhN2VlNGViZmYzMTllYWU3MzhiMTcyZTdkNmIwNTVANjM2YzYxNjk2ZDUyNjU3NzYxNzI2NDcz'), ('chainID', '1'), ('version', 1), ('signature', '')])\n",
      "Forwarded tx hash: f0df34474cd8b6242ed6de137f4fe6fa32f76d596fb6e4c3eb3a28374188c297\n",
      "ESDTNFTTransfer@45474c444d4558464c2d633235323165@03d3ad@4d2c25b607df79f0@00000000000000000500e84cd0951232d1a7ee4ebff319eae738b172e7d6b055@636c61696d52657761726473\n",
      "OrderedDict([('nonce', 0), ('value', '0'), ('receiver', 'erd1w33y96dh3tggqsx4534zw0halzl7kwdts64vrlecs0t2nggxugnqmsyn0j'), ('sender', 'erd1w33y96dh3tggqsx4534zw0halzl7kwdts64vrlecs0t2nggxugnqmsyn0j'), ('gasPrice', 1000000000), ('gasLimit', 22000000), ('data', 'RVNEVE5GVFRyYW5zZmVyQDQ1NDc0YzQ0NGQ0NTU4NDY0YzJkNjMzMjM1MzIzMTY1QDAzZDNhZEA0ZDJjMjViNjA3ZGY3OWYwQDAwMDAwMDAwMDAwMDAwMDAwNTAwZTg0Y2QwOTUxMjMyZDFhN2VlNGViZmYzMTllYWU3MzhiMTcyZTdkNmIwNTVANjM2YzYxNjk2ZDUyNjU3NzYxNzI2NDcz'), ('chainID', '1'), ('version', 1), ('signature', '')])\n",
      "Forwarded tx hash: 3c04c1759714f37377a925528d1508ae05bd0cb2e27b20d3a996ade385dcb82b\n",
      "ESDTNFTTransfer@45474c444d4558464c2d633235323165@051e8a@02c978ff129522be31@00000000000000000500e84cd0951232d1a7ee4ebff319eae738b172e7d6b055@636c61696d52657761726473\n",
      "OrderedDict([('nonce', 0), ('value', '0'), ('receiver', 'erd1lg7rs79dzurngj2v668hum2x4d0a7wjkv63tz62ta3mjy8qacaksxyvp7k'), ('sender', 'erd1lg7rs79dzurngj2v668hum2x4d0a7wjkv63tz62ta3mjy8qacaksxyvp7k'), ('gasPrice', 1000000000), ('gasLimit', 22000000), ('data', 'RVNEVE5GVFRyYW5zZmVyQDQ1NDc0YzQ0NGQ0NTU4NDY0YzJkNjMzMjM1MzIzMTY1QDA1MWU4YUAwMmM5NzhmZjEyOTUyMmJlMzFAMDAwMDAwMDAwMDAwMDAwMDA1MDBlODRjZDA5NTEyMzJkMWE3ZWU0ZWJmZjMxOWVhZTczOGIxNzJlN2Q2YjA1NUA2MzZjNjE2OTZkNTI2NTc3NjE3MjY0NzM='), ('chainID', '1'), ('version', 1), ('signature', '')])\n",
      "Forwarded tx hash: dbf01901bd527a4e19ce1faab10da13a731c7fb8cb308477b2a5234ac40c91c4\n",
      "ESDTNFTTransfer@45474c444d4558464c2d633235323165@04bcbf@0116918f3bbba0bd@00000000000000000500e84cd0951232d1a7ee4ebff319eae738b172e7d6b055@636c61696d52657761726473\n",
      "OrderedDict([('nonce', 0), ('value', '0'), ('receiver', 'erd16grk5plnc053urrjq5m3flzymsft97upge3m50866a32vncu57fswveydj'), ('sender', 'erd16grk5plnc053urrjq5m3flzymsft97upge3m50866a32vncu57fswveydj'), ('gasPrice', 1000000000), ('gasLimit', 22000000), ('data', 'RVNEVE5GVFRyYW5zZmVyQDQ1NDc0YzQ0NGQ0NTU4NDY0YzJkNjMzMjM1MzIzMTY1QDA0YmNiZkAwMTE2OTE4ZjNiYmJhMGJkQDAwMDAwMDAwMDAwMDAwMDAwNTAwZTg0Y2QwOTUxMjMyZDFhN2VlNGViZmYzMTllYWU3MzhiMTcyZTdkNmIwNTVANjM2YzYxNjk2ZDUyNjU3NzYxNzI2NDcz'), ('chainID', '1'), ('version', 1), ('signature', '')])\n",
      "Forwarded tx hash: 4f94be25fcea64e04c88e4b466c9f441de289e7b5c4b2b0b97652e3fd2410dea\n",
      "ESDTNFTTransfer@45474c444d4558464c2d633235323165@050eb7@360ed7b8458afb4b@00000000000000000500e84cd0951232d1a7ee4ebff319eae738b172e7d6b055@636c61696d52657761726473\n",
      "OrderedDict([('nonce', 0), ('value', '0'), ('receiver', 'erd1jqryzwzwr5rqh52c3gca40a6ervpt4gp8wfknlvqyrrd2zuyh7dsj3vxxn'), ('sender', 'erd1jqryzwzwr5rqh52c3gca40a6ervpt4gp8wfknlvqyrrd2zuyh7dsj3vxxn'), ('gasPrice', 1000000000), ('gasLimit', 22000000), ('data', 'RVNEVE5GVFRyYW5zZmVyQDQ1NDc0YzQ0NGQ0NTU4NDY0YzJkNjMzMjM1MzIzMTY1QDA1MGViN0AzNjBlZDdiODQ1OGFmYjRiQDAwMDAwMDAwMDAwMDAwMDAwNTAwZTg0Y2QwOTUxMjMyZDFhN2VlNGViZmYzMTllYWU3MzhiMTcyZTdkNmIwNTVANjM2YzYxNjk2ZDUyNjU3NzYxNzI2NDcz'), ('chainID', '1'), ('version', 1), ('signature', '')])\n",
      "Forwarded tx hash: 0a27523efc820e7f17f853aa3e824e7cb04a9210477cec3d8267fba0123d7cae\n",
      "ESDTNFTTransfer@45474c444d4558464c2d633235323165@04f648@0d396f7899d8032b@00000000000000000500e84cd0951232d1a7ee4ebff319eae738b172e7d6b055@636c61696d52657761726473\n",
      "OrderedDict([('nonce', 0), ('value', '0'), ('receiver', 'erd1wg22xhlm0hug43h7a6kj7m80y93fz4mxr360ldzsmz4wryhlswksp90rxt'), ('sender', 'erd1wg22xhlm0hug43h7a6kj7m80y93fz4mxr360ldzsmz4wryhlswksp90rxt'), ('gasPrice', 1000000000), ('gasLimit', 22000000), ('data', 'RVNEVE5GVFRyYW5zZmVyQDQ1NDc0YzQ0NGQ0NTU4NDY0YzJkNjMzMjM1MzIzMTY1QDA0ZjY0OEAwZDM5NmY3ODk5ZDgwMzJiQDAwMDAwMDAwMDAwMDAwMDAwNTAwZTg0Y2QwOTUxMjMyZDFhN2VlNGViZmYzMTllYWU3MzhiMTcyZTdkNmIwNTVANjM2YzYxNjk2ZDUyNjU3NzYxNzI2NDcz'), ('chainID', '1'), ('version', 1), ('signature', '')])\n",
      "Forwarded tx hash: a9ef097db97173caa6522b2036b66e863b33652c3693c51115c44381e29acb4d\n",
      "ESDTNFTTransfer@45474c444d4558464c2d633235323165@0521e2@9ba9b614d2b6e02e@00000000000000000500e84cd0951232d1a7ee4ebff319eae738b172e7d6b055@636c61696d52657761726473\n",
      "OrderedDict([('nonce', 0), ('value', '0'), ('receiver', 'erd13e95xdv9wyd32cqs6l3thmgs4rlv9jqgs9v39a0c0n797djcr4jqsg0l0u'), ('sender', 'erd13e95xdv9wyd32cqs6l3thmgs4rlv9jqgs9v39a0c0n797djcr4jqsg0l0u'), ('gasPrice', 1000000000), ('gasLimit', 22000000), ('data', 'RVNEVE5GVFRyYW5zZmVyQDQ1NDc0YzQ0NGQ0NTU4NDY0YzJkNjMzMjM1MzIzMTY1QDA1MjFlMkA5YmE5YjYxNGQyYjZlMDJlQDAwMDAwMDAwMDAwMDAwMDAwNTAwZTg0Y2QwOTUxMjMyZDFhN2VlNGViZmYzMTllYWU3MzhiMTcyZTdkNmIwNTVANjM2YzYxNjk2ZDUyNjU3NzYxNzI2NDcz'), ('chainID', '1'), ('version', 1), ('signature', '')])\n",
      "Forwarded tx hash: a10a5de6c03aed2755c7057efc533353626c931debca0a9fc7a4cf07334b88dc\n",
      "ESDTNFTTransfer@45474c444d4558464c2d633235323165@048d7b@141858b71e4bc1b1@00000000000000000500e84cd0951232d1a7ee4ebff319eae738b172e7d6b055@636c61696d52657761726473\n",
      "OrderedDict([('nonce', 0), ('value', '0'), ('receiver', 'erd16eftwdw8y6d5xwkk3xvc7af5tpfthh09pv3ndvuu4x0npk4qlsjqavefj7'), ('sender', 'erd16eftwdw8y6d5xwkk3xvc7af5tpfthh09pv3ndvuu4x0npk4qlsjqavefj7'), ('gasPrice', 1000000000), ('gasLimit', 22000000), ('data', 'RVNEVE5GVFRyYW5zZmVyQDQ1NDc0YzQ0NGQ0NTU4NDY0YzJkNjMzMjM1MzIzMTY1QDA0OGQ3YkAxNDE4NThiNzFlNGJjMWIxQDAwMDAwMDAwMDAwMDAwMDAwNTAwZTg0Y2QwOTUxMjMyZDFhN2VlNGViZmYzMTllYWU3MzhiMTcyZTdkNmIwNTVANjM2YzYxNjk2ZDUyNjU3NzYxNzI2NDcz'), ('chainID', '1'), ('version', 1), ('signature', '')])\n",
      "Forwarded tx hash: 9d59d9932465cc44e00ffd35da13d46732d73c1fe3a56b51999011ac1d1a226f\n",
      "ESDTNFTTransfer@45474c444d4558464c2d633235323165@049b9f@6dbb1b906f02be4f@00000000000000000500e84cd0951232d1a7ee4ebff319eae738b172e7d6b055@636c61696d52657761726473\n",
      "OrderedDict([('nonce', 0), ('value', '0'), ('receiver', 'erd1c70qf9kn05wcl95a8f22dt02mvrndfgtcm8sm7zufytrn4nycuzqkmrq6n'), ('sender', 'erd1c70qf9kn05wcl95a8f22dt02mvrndfgtcm8sm7zufytrn4nycuzqkmrq6n'), ('gasPrice', 1000000000), ('gasLimit', 22000000), ('data', 'RVNEVE5GVFRyYW5zZmVyQDQ1NDc0YzQ0NGQ0NTU4NDY0YzJkNjMzMjM1MzIzMTY1QDA0OWI5ZkA2ZGJiMWI5MDZmMDJiZTRmQDAwMDAwMDAwMDAwMDAwMDAwNTAwZTg0Y2QwOTUxMjMyZDFhN2VlNGViZmYzMTllYWU3MzhiMTcyZTdkNmIwNTVANjM2YzYxNjk2ZDUyNjU3NzYxNzI2NDcz'), ('chainID', '1'), ('version', 1), ('signature', '')])\n",
      "Forwarded tx hash: a774e93442a6ed36b20284d3d82a6a6abc0b62bf9e4337605c2b960c21f55da2\n",
      "ESDTNFTTransfer@45474c444d4558464c2d633235323165@050941@13f8d7f0249f1595@00000000000000000500e84cd0951232d1a7ee4ebff319eae738b172e7d6b055@636c61696d52657761726473\n",
      "OrderedDict([('nonce', 0), ('value', '0'), ('receiver', 'erd1j9t5zegma2rle9aesphcnt4kmgv6njpxq233esaykj26zpjx4wpqyyd4yf'), ('sender', 'erd1j9t5zegma2rle9aesphcnt4kmgv6njpxq233esaykj26zpjx4wpqyyd4yf'), ('gasPrice', 1000000000), ('gasLimit', 22000000), ('data', 'RVNEVE5GVFRyYW5zZmVyQDQ1NDc0YzQ0NGQ0NTU4NDY0YzJkNjMzMjM1MzIzMTY1QDA1MDk0MUAxM2Y4ZDdmMDI0OWYxNTk1QDAwMDAwMDAwMDAwMDAwMDAwNTAwZTg0Y2QwOTUxMjMyZDFhN2VlNGViZmYzMTllYWU3MzhiMTcyZTdkNmIwNTVANjM2YzYxNjk2ZDUyNjU3NzYxNzI2NDcz'), ('chainID', '1'), ('version', 1), ('signature', '')])\n",
      "Forwarded tx hash: ab25aa884e17dc31715e3096661a9d2f420e5017c55734e8556cced45f0498a4\n",
      "ESDTNFTTransfer@45474c444d4558464c2d633235323165@042de9@21a7b2a55dac48ab@00000000000000000500e84cd0951232d1a7ee4ebff319eae738b172e7d6b055@636c61696d52657761726473\n",
      "OrderedDict([('nonce', 0), ('value', '0'), ('receiver', 'erd1azflp4anzdecvcjellz6qs4d7qlz036ujx2p4grw8wuzyq0svxcq9vfkzx'), ('sender', 'erd1azflp4anzdecvcjellz6qs4d7qlz036ujx2p4grw8wuzyq0svxcq9vfkzx'), ('gasPrice', 1000000000), ('gasLimit', 22000000), ('data', 'RVNEVE5GVFRyYW5zZmVyQDQ1NDc0YzQ0NGQ0NTU4NDY0YzJkNjMzMjM1MzIzMTY1QDA0MmRlOUAyMWE3YjJhNTVkYWM0OGFiQDAwMDAwMDAwMDAwMDAwMDAwNTAwZTg0Y2QwOTUxMjMyZDFhN2VlNGViZmYzMTllYWU3MzhiMTcyZTdkNmIwNTVANjM2YzYxNjk2ZDUyNjU3NzYxNzI2NDcz'), ('chainID', '1'), ('version', 1), ('signature', '')])\n",
      "Forwarded tx hash: 62d144e809e1e85a1066d0db451314d563eb26f903d690926fc84c335ac7ece7\n",
      "ESDTNFTTransfer@45474c444d4558464c2d633235323165@039bd1@0c962b1dd9eb1726@00000000000000000500e84cd0951232d1a7ee4ebff319eae738b172e7d6b055@636c61696d52657761726473\n",
      "OrderedDict([('nonce', 0), ('value', '0'), ('receiver', 'erd1rnypwk2jyzvem7yfgw84p48j2x8cn4pw5h3ktad0yf8a6djkla9snw66f8'), ('sender', 'erd1rnypwk2jyzvem7yfgw84p48j2x8cn4pw5h3ktad0yf8a6djkla9snw66f8'), ('gasPrice', 1000000000), ('gasLimit', 22000000), ('data', 'RVNEVE5GVFRyYW5zZmVyQDQ1NDc0YzQ0NGQ0NTU4NDY0YzJkNjMzMjM1MzIzMTY1QDAzOWJkMUAwYzk2MmIxZGQ5ZWIxNzI2QDAwMDAwMDAwMDAwMDAwMDAwNTAwZTg0Y2QwOTUxMjMyZDFhN2VlNGViZmYzMTllYWU3MzhiMTcyZTdkNmIwNTVANjM2YzYxNjk2ZDUyNjU3NzYxNzI2NDcz'), ('chainID', '1'), ('version', 1), ('signature', '')])\n",
      "Forwarded tx hash: 2ccbee7a641b3efb3c8ea5159c6b9ddf768ed228d359d02ef4acfe9c84571df3\n",
      "ESDTNFTTransfer@45474c444d4558464c2d633235323165@0518c4@014ab5ecfca46490be@00000000000000000500e84cd0951232d1a7ee4ebff319eae738b172e7d6b055@636c61696d52657761726473\n",
      "OrderedDict([('nonce', 0), ('value', '0'), ('receiver', 'erd1c57prvzn2vw4eyd5jvwmej5dlf7p26jn03nhgncw9saa4lg2ze8qvqf7kw'), ('sender', 'erd1c57prvzn2vw4eyd5jvwmej5dlf7p26jn03nhgncw9saa4lg2ze8qvqf7kw'), ('gasPrice', 1000000000), ('gasLimit', 22000000), ('data', 'RVNEVE5GVFRyYW5zZmVyQDQ1NDc0YzQ0NGQ0NTU4NDY0YzJkNjMzMjM1MzIzMTY1QDA1MThjNEAwMTRhYjVlY2ZjYTQ2NDkwYmVAMDAwMDAwMDAwMDAwMDAwMDA1MDBlODRjZDA5NTEyMzJkMWE3ZWU0ZWJmZjMxOWVhZTczOGIxNzJlN2Q2YjA1NUA2MzZjNjE2OTZkNTI2NTc3NjE3MjY0NzM='), ('chainID', '1'), ('version', 1), ('signature', '')])\n",
      "Forwarded tx hash: 2d74ff251205ddfe9ea9b22bea6e7669afbddef09722c32fa0300f147485f93f\n",
      "ESDTNFTTransfer@45474c444d4558464c2d633235323165@04e2a6@30613b9fd716434d@00000000000000000500e84cd0951232d1a7ee4ebff319eae738b172e7d6b055@636c61696d52657761726473\n",
      "OrderedDict([('nonce', 0), ('value', '0'), ('receiver', 'erd128p5uhetgwnvwvt5gwm7rkq9u90t6mn7ccnrwjjp8dpe7pfum60q3ydn9g'), ('sender', 'erd128p5uhetgwnvwvt5gwm7rkq9u90t6mn7ccnrwjjp8dpe7pfum60q3ydn9g'), ('gasPrice', 1000000000), ('gasLimit', 22000000), ('data', 'RVNEVE5GVFRyYW5zZmVyQDQ1NDc0YzQ0NGQ0NTU4NDY0YzJkNjMzMjM1MzIzMTY1QDA0ZTJhNkAzMDYxM2I5ZmQ3MTY0MzRkQDAwMDAwMDAwMDAwMDAwMDAwNTAwZTg0Y2QwOTUxMjMyZDFhN2VlNGViZmYzMTllYWU3MzhiMTcyZTdkNmIwNTVANjM2YzYxNjk2ZDUyNjU3NzYxNzI2NDcz'), ('chainID', '1'), ('version', 1), ('signature', '')])\n",
      "Forwarded tx hash: e71ceb2eb6c74bc3c4a7a202f54c39f2c6729279004b5f88914a6416bf15b257\n",
      "ESDTNFTTransfer@45474c444d4558464c2d633235323165@050f03@04383db5ae189e9877@00000000000000000500e84cd0951232d1a7ee4ebff319eae738b172e7d6b055@636c61696d52657761726473\n",
      "OrderedDict([('nonce', 0), ('value', '0'), ('receiver', 'erd12vusemarhh32qtf7tdtu9au6m69uej64v4qnaevapm290k7622yswwfr28'), ('sender', 'erd12vusemarhh32qtf7tdtu9au6m69uej64v4qnaevapm290k7622yswwfr28'), ('gasPrice', 1000000000), ('gasLimit', 22000000), ('data', 'RVNEVE5GVFRyYW5zZmVyQDQ1NDc0YzQ0NGQ0NTU4NDY0YzJkNjMzMjM1MzIzMTY1QDA1MGYwM0AwNDM4M2RiNWFlMTg5ZTk4NzdAMDAwMDAwMDAwMDAwMDAwMDA1MDBlODRjZDA5NTEyMzJkMWE3ZWU0ZWJmZjMxOWVhZTczOGIxNzJlN2Q2YjA1NUA2MzZjNjE2OTZkNTI2NTc3NjE3MjY0NzM='), ('chainID', '1'), ('version', 1), ('signature', '')])\n",
      "Forwarded tx hash: 3a4b1db3a22ab83ca04f5b180c799b18e72d62cac387d74bf79ac14fdae89943\n",
      "ESDTNFTTransfer@45474c444d4558464c2d633235323165@050545@09fd4f09a25aa76d@00000000000000000500e84cd0951232d1a7ee4ebff319eae738b172e7d6b055@636c61696d52657761726473\n",
      "OrderedDict([('nonce', 0), ('value', '0'), ('receiver', 'erd1vfu4tcct9ggkyf9yadges2qrjnnz3gfdgxnd3mvqd7fg5xvgdj4shkqmxv'), ('sender', 'erd1vfu4tcct9ggkyf9yadges2qrjnnz3gfdgxnd3mvqd7fg5xvgdj4shkqmxv'), ('gasPrice', 1000000000), ('gasLimit', 22000000), ('data', 'RVNEVE5GVFRyYW5zZmVyQDQ1NDc0YzQ0NGQ0NTU4NDY0YzJkNjMzMjM1MzIzMTY1QDA1MDU0NUAwOWZkNGYwOWEyNWFhNzZkQDAwMDAwMDAwMDAwMDAwMDAwNTAwZTg0Y2QwOTUxMjMyZDFhN2VlNGViZmYzMTllYWU3MzhiMTcyZTdkNmIwNTVANjM2YzYxNjk2ZDUyNjU3NzYxNzI2NDcz'), ('chainID', '1'), ('version', 1), ('signature', '')])\n",
      "Forwarded tx hash: ddd4b7e0ed4c5b04ec19ceae4674ca6e071f299859be4d194edd17be74f41a88\n",
      "ESDTNFTTransfer@45474c444d4558464c2d633235323165@050f53@133dc35e08a1c9c9@00000000000000000500e84cd0951232d1a7ee4ebff319eae738b172e7d6b055@636c61696d52657761726473\n",
      "OrderedDict([('nonce', 0), ('value', '0'), ('receiver', 'erd1zrtw4vsy7uu2frgysjxtxmjhs5ydkhtec7fjz9py8t6ktpdlxeystu6rau'), ('sender', 'erd1zrtw4vsy7uu2frgysjxtxmjhs5ydkhtec7fjz9py8t6ktpdlxeystu6rau'), ('gasPrice', 1000000000), ('gasLimit', 22000000), ('data', 'RVNEVE5GVFRyYW5zZmVyQDQ1NDc0YzQ0NGQ0NTU4NDY0YzJkNjMzMjM1MzIzMTY1QDA1MGY1M0AxMzNkYzM1ZTA4YTFjOWM5QDAwMDAwMDAwMDAwMDAwMDAwNTAwZTg0Y2QwOTUxMjMyZDFhN2VlNGViZmYzMTllYWU3MzhiMTcyZTdkNmIwNTVANjM2YzYxNjk2ZDUyNjU3NzYxNzI2NDcz'), ('chainID', '1'), ('version', 1), ('signature', '')])\n",
      "Forwarded tx hash: b967ff34fedc0a7fc8f50bfad4c0b71e18738483e5c3fc66a6b9da1025370b76\n",
      "ESDTNFTTransfer@45474c444d4558464c2d633235323165@05077a@80da1f0a595a4c2d@00000000000000000500e84cd0951232d1a7ee4ebff319eae738b172e7d6b055@636c61696d52657761726473\n",
      "OrderedDict([('nonce', 0), ('value', '0'), ('receiver', 'erd1s8qcz678250g4krzy8j62n2nhsshg66gtrzu5469nnunx3rmakssg8dnlh'), ('sender', 'erd1s8qcz678250g4krzy8j62n2nhsshg66gtrzu5469nnunx3rmakssg8dnlh'), ('gasPrice', 1000000000), ('gasLimit', 22000000), ('data', 'RVNEVE5GVFRyYW5zZmVyQDQ1NDc0YzQ0NGQ0NTU4NDY0YzJkNjMzMjM1MzIzMTY1QDA1MDc3YUA4MGRhMWYwYTU5NWE0YzJkQDAwMDAwMDAwMDAwMDAwMDAwNTAwZTg0Y2QwOTUxMjMyZDFhN2VlNGViZmYzMTllYWU3MzhiMTcyZTdkNmIwNTVANjM2YzYxNjk2ZDUyNjU3NzYxNzI2NDcz'), ('chainID', '1'), ('version', 1), ('signature', '')])\n",
      "Forwarded tx hash: 827bc29a63097e7b8a88c2b3aa743a2f2590864ee32216c083abda0dee5346c2\n",
      "ESDTNFTTransfer@45474c444d4558464c2d633235323165@04fd31@0b6703d81fe79360@00000000000000000500e84cd0951232d1a7ee4ebff319eae738b172e7d6b055@636c61696d52657761726473\n",
      "OrderedDict([('nonce', 0), ('value', '0'), ('receiver', 'erd1alu5puhfgupd64474hevrsl9ar3lvqummkcj5saquguv4egwqzhqw57x7a'), ('sender', 'erd1alu5puhfgupd64474hevrsl9ar3lvqummkcj5saquguv4egwqzhqw57x7a'), ('gasPrice', 1000000000), ('gasLimit', 22000000), ('data', 'RVNEVE5GVFRyYW5zZmVyQDQ1NDc0YzQ0NGQ0NTU4NDY0YzJkNjMzMjM1MzIzMTY1QDA0ZmQzMUAwYjY3MDNkODFmZTc5MzYwQDAwMDAwMDAwMDAwMDAwMDAwNTAwZTg0Y2QwOTUxMjMyZDFhN2VlNGViZmYzMTllYWU3MzhiMTcyZTdkNmIwNTVANjM2YzYxNjk2ZDUyNjU3NzYxNzI2NDcz'), ('chainID', '1'), ('version', 1), ('signature', '')])\n",
      "Forwarded tx hash: cb04ea0728cae4c3cbd377e9ff689eebd0d65e5a1e9fcbfe657822f38cab365c\n",
      "ESDTNFTTransfer@45474c444d4558464c2d633235323165@0513b0@0233e7231fa4dabd35@00000000000000000500e84cd0951232d1a7ee4ebff319eae738b172e7d6b055@636c61696d52657761726473\n",
      "OrderedDict([('nonce', 0), ('value', '0'), ('receiver', 'erd17mukys54h7qmddnc3yd44g8zlj8x8rvp5c6e24ez0rrfnwe3jpwq5jhygk'), ('sender', 'erd17mukys54h7qmddnc3yd44g8zlj8x8rvp5c6e24ez0rrfnwe3jpwq5jhygk'), ('gasPrice', 1000000000), ('gasLimit', 22000000), ('data', 'RVNEVE5GVFRyYW5zZmVyQDQ1NDc0YzQ0NGQ0NTU4NDY0YzJkNjMzMjM1MzIzMTY1QDA1MTNiMEAwMjMzZTcyMzFmYTRkYWJkMzVAMDAwMDAwMDAwMDAwMDAwMDA1MDBlODRjZDA5NTEyMzJkMWE3ZWU0ZWJmZjMxOWVhZTczOGIxNzJlN2Q2YjA1NUA2MzZjNjE2OTZkNTI2NTc3NjE3MjY0NzM='), ('chainID', '1'), ('version', 1), ('signature', '')])\n",
      "Forwarded tx hash: 53877626c3921b4ac342281b48c85d328bcb4d3ed59ab39435a517d1d1c60310\n",
      "ESDTNFTTransfer@45474c444d4558464c2d633235323165@047e57@0d5dff3e25522fed@00000000000000000500e84cd0951232d1a7ee4ebff319eae738b172e7d6b055@636c61696d52657761726473\n",
      "OrderedDict([('nonce', 0), ('value', '0'), ('receiver', 'erd1ezlaaxq86h7lfcdjuml80rcjmcmj8w7q69u9pr4ar220jfq50lpsnt5sak'), ('sender', 'erd1ezlaaxq86h7lfcdjuml80rcjmcmj8w7q69u9pr4ar220jfq50lpsnt5sak'), ('gasPrice', 1000000000), ('gasLimit', 22000000), ('data', 'RVNEVE5GVFRyYW5zZmVyQDQ1NDc0YzQ0NGQ0NTU4NDY0YzJkNjMzMjM1MzIzMTY1QDA0N2U1N0AwZDVkZmYzZTI1NTIyZmVkQDAwMDAwMDAwMDAwMDAwMDAwNTAwZTg0Y2QwOTUxMjMyZDFhN2VlNGViZmYzMTllYWU3MzhiMTcyZTdkNmIwNTVANjM2YzYxNjk2ZDUyNjU3NzYxNzI2NDcz'), ('chainID', '1'), ('version', 1), ('signature', '')])\n",
      "Forwarded tx hash: e39dc109a493257abcfa81f1dae3913c2847481b404ceea8d2776070aea8d850\n",
      "ESDTNFTTransfer@45474c444d4558464c2d633235323165@050ba8@07a335de423e2191@00000000000000000500e84cd0951232d1a7ee4ebff319eae738b172e7d6b055@636c61696d52657761726473\n",
      "OrderedDict([('nonce', 0), ('value', '0'), ('receiver', 'erd16gfyx6he6n4gnx3v9y6kkshcxc7h66v6sjrka5h8cea5w4vwnl7sewqwaw'), ('sender', 'erd16gfyx6he6n4gnx3v9y6kkshcxc7h66v6sjrka5h8cea5w4vwnl7sewqwaw'), ('gasPrice', 1000000000), ('gasLimit', 22000000), ('data', 'RVNEVE5GVFRyYW5zZmVyQDQ1NDc0YzQ0NGQ0NTU4NDY0YzJkNjMzMjM1MzIzMTY1QDA1MGJhOEAwN2EzMzVkZTQyM2UyMTkxQDAwMDAwMDAwMDAwMDAwMDAwNTAwZTg0Y2QwOTUxMjMyZDFhN2VlNGViZmYzMTllYWU3MzhiMTcyZTdkNmIwNTVANjM2YzYxNjk2ZDUyNjU3NzYxNzI2NDcz'), ('chainID', '1'), ('version', 1), ('signature', '')])\n",
      "Forwarded tx hash: 471e75470c8a1346a37cf34798bc4d6fbc779c4c3e19d60878eafb85934a38b8\n",
      "ESDTNFTTransfer@45474c444d4558464c2d633235323165@0307ab@46fbc11d2b2fa9bc@00000000000000000500e84cd0951232d1a7ee4ebff319eae738b172e7d6b055@636c61696d52657761726473\n",
      "OrderedDict([('nonce', 0), ('value', '0'), ('receiver', 'erd132z9wper0wlgp4rk5adpfyy9chs7mdynkw266cyvsxj5wqjdnlcshxva68'), ('sender', 'erd132z9wper0wlgp4rk5adpfyy9chs7mdynkw266cyvsxj5wqjdnlcshxva68'), ('gasPrice', 1000000000), ('gasLimit', 22000000), ('data', 'RVNEVE5GVFRyYW5zZmVyQDQ1NDc0YzQ0NGQ0NTU4NDY0YzJkNjMzMjM1MzIzMTY1QDAzMDdhYkA0NmZiYzExZDJiMmZhOWJjQDAwMDAwMDAwMDAwMDAwMDAwNTAwZTg0Y2QwOTUxMjMyZDFhN2VlNGViZmYzMTllYWU3MzhiMTcyZTdkNmIwNTVANjM2YzYxNjk2ZDUyNjU3NzYxNzI2NDcz'), ('chainID', '1'), ('version', 1), ('signature', '')])\n"
     ]
    },
    {
     "ename": "KeyboardInterrupt",
     "evalue": "",
     "output_type": "error",
     "traceback": [
      "\u001b[0;31m---------------------------------------------------------------------------\u001b[0m",
      "\u001b[0;31mKeyboardInterrupt\u001b[0m                         Traceback (most recent call last)",
      "Cell \u001b[0;32mIn[11], line 9\u001b[0m\n\u001b[1;32m      7\u001b[0m forwarded_tx \u001b[39m=\u001b[39m prep_forward_tx(transaction\u001b[39m.\u001b[39mhash)\n\u001b[1;32m      8\u001b[0m sign_and_send(forwarded_tx, user_signer)\n\u001b[0;32m----> 9\u001b[0m sleep(\u001b[39m1\u001b[39;49m)\n",
      "\u001b[0;31mKeyboardInterrupt\u001b[0m: "
     ]
    }
   ],
   "source": [
    "from time import sleep\n",
    "contract_address = \"erd1qqqqqqqqqqqqqpgqapxdp9gjxtg60mjwhle3n6h88zch9e7kkp2s8aqhkg\"\n",
    "\n",
    "transactions = api_mainnet.get_transactions(Address.from_bech32(contract_address))\n",
    "for transaction in transactions:\n",
    "    print(f\"Forwarded tx hash: {transaction.hash}\")\n",
    "    forwarded_tx = prep_forward_tx(transaction.hash)\n",
    "    sign_and_send(forwarded_tx, user_signer)\n",
    "    sleep(1)"
   ]
  },
  {
   "cell_type": "markdown",
   "metadata": {},
   "source": [
    "ESDT Transfer"
   ]
  },
  {
   "cell_type": "code",
   "execution_count": 6,
   "metadata": {},
   "outputs": [
    {
     "name": "stdout",
     "output_type": "stream",
     "text": [
      "Transaction: OrderedDict([('nonce', 0), ('value', '0'), ('receiver', 'erd1ezp86jwmcp4fmmu2mfqz0438py392z5wp6kzuqsjldgd68nwt89qshfs0y'), ('sender', 'erd1ezp86jwmcp4fmmu2mfqz0438py392z5wp6kzuqsjldgd68nwt89qshfs0y'), ('gasPrice', 1000000000), ('gasLimit', 30000000), ('data', 'TXVsdGlFU0RUTkZUVHJhbnNmZXJAYmE2NmU4YTkxNjIzNjcyM2JmMWY5NDk5NjQ4OGI2ZmM1N2RjNWY2ZWMwNTEyYjliNzRiNTNlZjY1Zjk1MDhjYkAwMUA1MjQ5NDQ0NTJkMzc2NDMxMzg2NTM5QEAzNjM1YzlhZGM1ZGVhMDAwMDA='), ('chainID', '1'), ('version', 2), ('signature', '')])\n",
      "Transaction data: MultiESDTNFTTransfer@ba66e8a916236723bf1f94996488b6fc57dc5f6ec0512b9b74b53ef65f9508cb@01@524944452d376431386539@@3635c9adc5dea00000\n"
     ]
    },
    {
     "data": {
      "text/plain": [
       "'38bbf7952ef80842804de2bdcd5d65077f96da89e7599079b1184bf743ecfaf6'"
      ]
     },
     "execution_count": 6,
     "metadata": {},
     "output_type": "execute_result"
    }
   ],
   "source": [
    "from multiversx_sdk_core.transaction_builders import MultiESDTNFTTransferBuilder, DefaultTransactionBuildersConfiguration\n",
    "from multiversx_sdk_core import TokenPayment, Address\n",
    "from multiversx_sdk_network_providers import ProxyNetworkProvider\n",
    "from multiversx_sdk_core import AccountNonceHolder\n",
    "from multiversx_sdk_wallet import UserSigner\n",
    "from pathlib import Path\n",
    "\n",
    "config = DefaultTransactionBuildersConfiguration(chain_id='1')\n",
    "proxy = ProxyNetworkProvider('https://proxy-shadowfork-one.elrond.ro')\n",
    "user_signer = UserSigner.from_pem_file(Path(\"~/Documents/sh1.pem\"))\n",
    "sender = Address.from_bech32('erd1ezp86jwmcp4fmmu2mfqz0438py392z5wp6kzuqsjldgd68nwt89qshfs0y')\n",
    "receiver = Address.from_bech32('erd1hfnw32gkydnj80cljjvkfz9kl3tachmwcpgjhxm5k5l0vhu4pr9s4zwxwa')\n",
    "\n",
    "transfers = [\n",
    "    TokenPayment.meta_esdt_from_amount('RIDE-7d18e9', 0, 1000, 18)\n",
    "             ]\n",
    "\n",
    "\n",
    "user_nonce_holder = AccountNonceHolder(proxy.get_account(sender).nonce)\n",
    "\n",
    "builder = MultiESDTNFTTransferBuilder(\n",
    "    config,\n",
    "    destination=receiver,\n",
    "    sender=sender,\n",
    "    gas_limit=30000000,\n",
    "    payments=transfers\n",
    ")\n",
    "\n",
    "tx = builder.build()\n",
    "print(\"Transaction:\", tx.to_dictionary())\n",
    "print(\"Transaction data:\", tx.data)\n",
    "\n",
    "tx.nonce = user_nonce_holder.get_nonce_then_increment()\n",
    "tx.signature = user_signer.sign(tx)\n",
    "proxy.send_transaction(tx)"
   ]
  },
  {
   "cell_type": "markdown",
   "metadata": {},
   "source": [
    "EGLD Transfer"
   ]
  },
  {
   "cell_type": "code",
   "execution_count": 8,
   "metadata": {},
   "outputs": [
    {
     "name": "stdout",
     "output_type": "stream",
     "text": [
      "Transaction: OrderedDict([('nonce', 0), ('value', '10000000000000000000'), ('receiver', 'erd1hfnw32gkydnj80cljjvkfz9kl3tachmwcpgjhxm5k5l0vhu4pr9s4zwxwa'), ('sender', 'erd1ezp86jwmcp4fmmu2mfqz0438py392z5wp6kzuqsjldgd68nwt89qshfs0y'), ('gasPrice', 1000000000), ('gasLimit', 30000000), ('chainID', '1'), ('version', 2), ('signature', '')])\n",
      "Transaction data: \n"
     ]
    },
    {
     "data": {
      "text/plain": [
       "'090451fba0a61e4bf5bdf82dd6d710e98d829aabc6901b8606a2218b073c7d2d'"
      ]
     },
     "execution_count": 8,
     "metadata": {},
     "output_type": "execute_result"
    }
   ],
   "source": [
    "from multiversx_sdk_core.transaction_builders import EGLDTransferBuilder, DefaultTransactionBuildersConfiguration\n",
    "from multiversx_sdk_core import TokenPayment, Address\n",
    "from multiversx_sdk_network_providers import ProxyNetworkProvider\n",
    "from multiversx_sdk_core import AccountNonceHolder\n",
    "from multiversx_sdk_wallet import UserSigner\n",
    "from pathlib import Path\n",
    "\n",
    "config = DefaultTransactionBuildersConfiguration(chain_id='1')\n",
    "proxy = ProxyNetworkProvider('https://proxy-shadowfork-one.elrond.ro')\n",
    "user_signer = UserSigner.from_pem_file(Path(\"~/Documents/sh1.pem\"))\n",
    "sender = Address.from_bech32('erd1ezp86jwmcp4fmmu2mfqz0438py392z5wp6kzuqsjldgd68nwt89qshfs0y')\n",
    "receiver = Address.from_bech32('erd1hfnw32gkydnj80cljjvkfz9kl3tachmwcpgjhxm5k5l0vhu4pr9s4zwxwa')\n",
    "\n",
    "transfer = TokenPayment.egld_from_amount(10)\n",
    "\n",
    "\n",
    "user_nonce_holder = AccountNonceHolder(proxy.get_account(sender).nonce)\n",
    "\n",
    "builder = EGLDTransferBuilder(\n",
    "    config,\n",
    "    receiver=receiver,\n",
    "    sender=sender,\n",
    "    gas_limit=30000000,\n",
    "    payment=transfer\n",
    ")\n",
    "\n",
    "tx = builder.build()\n",
    "print(\"Transaction:\", tx.to_dictionary())\n",
    "print(\"Transaction data:\", tx.data)\n",
    "\n",
    "tx.nonce = user_nonce_holder.get_nonce_then_increment()\n",
    "tx.signature = user_signer.sign(tx)\n",
    "proxy.send_transaction(tx)"
   ]
  }
 ],
 "metadata": {
  "kernelspec": {
   "display_name": ".venv",
   "language": "python",
   "name": "python3"
  },
  "language_info": {
   "codemirror_mode": {
    "name": "ipython",
    "version": 3
   },
   "file_extension": ".py",
   "mimetype": "text/x-python",
   "name": "python",
   "nbconvert_exporter": "python",
   "pygments_lexer": "ipython3",
   "version": "3.11.4"
  },
  "orig_nbformat": 4,
  "vscode": {
   "interpreter": {
    "hash": "46890cb94c8e016cd17355f2b23107d7cb41a4430d538522c76446f308933f39"
   }
  }
 },
 "nbformat": 4,
 "nbformat_minor": 2
}
