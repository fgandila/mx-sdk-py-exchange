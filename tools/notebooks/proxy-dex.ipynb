{
 "cells": [
  {
   "cell_type": "code",
   "execution_count": null,
   "metadata": {},
   "outputs": [],
   "source": [
    "import sys\n",
    "from pathlib import Path\n",
    "sys.path.append(str(Path.cwd().parent.parent.absolute()))\n",
    "import config\n",
    "\n",
    "from context import Context\n",
    "from utils.utils_chain import WrapperAddress as Address, Account, hex_to_string\n",
    "from utils.utils_chain import nominated_amount\n",
    "from utils.contract_retrievers import retrieve_farm_by_address\n",
    "from utils.utils_chain import get_token_details_for_address, get_all_token_nonces_details_for_account\n",
    "from utils.utils_tx import ESDTToken\n",
    "from contracts.pair_contract import PairContract\n",
    "from contracts.farm_contract import FarmContract, ClaimRewardsFarmEvent, EnterFarmEvent\n",
    "from contracts.dex_proxy_contract import DexProxyContract, DexProxyClaimRewardsEvent, DexProxyEnterFarmEvent, DexProxyExitFarmEvent, DexProxyRemoveLiquidityEvent, DexProxyAddLiquidityEvent\n",
    "from contracts.simple_lock_energy_contract import SimpleLockEnergyContract\n",
    "\n",
    "context = Context()"
   ]
  },
  {
   "cell_type": "code",
   "execution_count": null,
   "metadata": {},
   "outputs": [],
   "source": [
    "farm_contract: FarmContract\n",
    "farm_contract = context.get_contracts(config.FARMS_V2)[0]\n",
    "proxy_contract: DexProxyContract\n",
    "proxy_contract = context.get_contracts(config.PROXIES_V2)[0]\n",
    "pair_contract: PairContract\n",
    "pair_contract = context.get_contracts(config.PAIRS_V2)[0]\n",
    "energy_contract: SimpleLockEnergyContract\n",
    "energy_contract = context.get_contracts(config.SIMPLE_LOCKS_ENERGY)[0]"
   ]
  },
  {
   "cell_type": "markdown",
   "metadata": {},
   "source": [
    "address setup"
   ]
  },
  {
   "cell_type": "code",
   "execution_count": null,
   "metadata": {},
   "outputs": [],
   "source": [
    "user = Account(pem_file=\"~/Documents/sh1.pem\")\n",
    "user.address = Address(\"erd1zf3w4gxjry72me8mz0q3gue8av8wep7l2x7ave5jaelhsx98sxlsuhe729\")\n",
    "user.sync_nonce(context.network_provider.proxy)"
   ]
  },
  {
   "cell_type": "markdown",
   "metadata": {},
   "source": [
    "claim proxy farm rewards"
   ]
  },
  {
   "cell_type": "code",
   "execution_count": null,
   "metadata": {},
   "outputs": [],
   "source": [
    "farm_token_nonce, farm_token_amount, _ = get_token_details_for_address(proxy_contract.proxy_farm_token, user.address.bech32(), context.network_provider.proxy)\n",
    "if farm_token_nonce == 0:\n",
    "    print(\"No farm tokens\")\n",
    "    exit()\n",
    "event = DexProxyClaimRewardsEvent(farm_contract, proxy_contract.proxy_farm_token, farm_token_nonce, farm_token_amount)\n",
    "txhash = proxy_contract.claim_rewards_proxy(user, context.network_provider.proxy, event)"
   ]
  },
  {
   "cell_type": "markdown",
   "metadata": {},
   "source": [
    "exit position"
   ]
  },
  {
   "cell_type": "code",
   "execution_count": null,
   "metadata": {},
   "outputs": [],
   "source": [
    "farm_token_nonce, farm_token_amount, _ = get_token_details_for_address(proxy_contract.proxy_farm_token, user.address.bech32(), context.network_provider.proxy)\n",
    "if farm_token_nonce == 0:\n",
    "    print(\"No farm tokens\")\n",
    "    exit()\n",
    "event = DexProxyExitFarmEvent(farm_contract, proxy_contract.proxy_farm_token, farm_token_nonce, farm_token_amount // 2)\n",
    "txhash = proxy_contract.exit_farm_proxy(user, context.network_provider.proxy, event)"
   ]
  },
  {
   "cell_type": "markdown",
   "metadata": {},
   "source": [
    "enter position"
   ]
  },
  {
   "cell_type": "code",
   "execution_count": null,
   "metadata": {},
   "outputs": [],
   "source": [
    "farming_token_nonce, farming_token_amount, _ = get_token_details_for_address(proxy_contract.proxy_lp_token, user.address.bech32(), context.network_provider.proxy)\n",
    "farm_token_nonce, farm_token_amount, _ = get_token_details_for_address(proxy_contract.proxy_farm_token, user.address.bech32(), context.network_provider.proxy)\n",
    "if farm_token_nonce == 0:\n",
    "    print(\"No farm tokens\")\n",
    "    exit()\n",
    "event = DexProxyEnterFarmEvent(farm_contract, \n",
    "                               proxy_contract.proxy_lp_token, farming_token_nonce, farming_token_amount,\n",
    "                               proxy_contract.proxy_farm_token, farm_token_nonce, farm_token_amount)\n",
    "txhash = proxy_contract.enter_farm_proxy(user, context.network_provider.proxy, event)"
   ]
  },
  {
   "cell_type": "markdown",
   "metadata": {},
   "source": [
    "exit lp position"
   ]
  },
  {
   "cell_type": "code",
   "execution_count": null,
   "metadata": {},
   "outputs": [],
   "source": [
    "farming_token_nonce, farming_token_amount, _ = get_token_details_for_address(proxy_contract.proxy_lp_token, user.address.bech32(), context.network_provider.proxy)\n",
    "if farm_token_nonce == 0:\n",
    "    print(\"No tokens\")\n",
    "    exit()\n",
    "event = DexProxyRemoveLiquidityEvent(pair_contract, farming_token_amount, farming_token_nonce, 1, 1)\n",
    "txhash = proxy_contract.remove_liquidity_proxy(user, context.network_provider.proxy, event)"
   ]
  },
  {
   "cell_type": "markdown",
   "metadata": {},
   "source": [
    "create lp position"
   ]
  },
  {
   "cell_type": "code",
   "execution_count": null,
   "metadata": {},
   "outputs": [],
   "source": [
    "first_token_nonce, first_token_amount, _ = get_token_details_for_address(pair_contract.firstToken, user.address.bech32(), context.network_provider.proxy)\n",
    "\n",
    "xmex = next(locked_token for locked_token in proxy_contract.locked_tokens if \"XMEX\" in locked_token)\n",
    "xmex_list = get_all_token_nonces_details_for_account(xmex, user.address.bech32(), context.network_provider.proxy)\n",
    "biggest_xmex = {}\n",
    "for xmex_found in xmex_list:\n",
    "    # get the highest amount one in the list\n",
    "    if int(xmex_found['balance']) > int(biggest_xmex.get('balance', 0)):\n",
    "        biggest_xmex = xmex_found\n",
    "second_token_nonce, second_token_amount = biggest_xmex['nonce'], int(biggest_xmex['balance'])\n",
    "\n",
    "if first_token_amount == 0 or second_token_amount == 0:\n",
    "    print(f\"No tokens: first token amount: {first_token_amount}; second token amount {second_token_amount}\")\n",
    "    exit()\n",
    "event = DexProxyAddLiquidityEvent(pair_contract, pair_contract.firstToken, first_token_nonce, first_token_amount, 1,\n",
    "                                  xmex, second_token_nonce, second_token_amount, 1,)\n",
    "txhash = proxy_contract.add_liquidity_proxy(user, context.network_provider.proxy, event)"
   ]
  },
  {
   "cell_type": "markdown",
   "metadata": {},
   "source": [
    "exit position"
   ]
  },
  {
   "cell_type": "code",
   "execution_count": null,
   "metadata": {},
   "outputs": [],
   "source": [
    "farm_token_nonce, farm_token_amount, _ = get_token_details_for_address(proxy_contract.proxy_farm_token, user.address.bech32(), context.network_provider.proxy)\n",
    "if farm_token_nonce == 0:\n",
    "    print(\"No farm tokens\")\n",
    "    exit()\n",
    "event = DexProxyExitFarmEvent(farm_contract, proxy_contract.proxy_farm_token, farm_token_nonce, farm_token_amount)\n",
    "txhash = proxy_contract.exit_farm_proxy(user, context.network_provider.proxy, event)"
   ]
  },
  {
   "cell_type": "markdown",
   "metadata": {},
   "source": [
    "Lock tokens"
   ]
  },
  {
   "cell_type": "code",
   "execution_count": null,
   "metadata": {},
   "outputs": [],
   "source": [
    "_, mex_amount, _ = get_token_details_for_address(proxy_contract.token, user.address.bech32(), context.network_provider.proxy)\n",
    "\n",
    "lockable_tokens = ESDTToken(proxy_contract.token, 0, mex_amount)\n",
    "txhash = energy_contract.lock_tokens(user, context.network_provider.proxy, [[lockable_tokens], 720])"
   ]
  },
  {
   "cell_type": "markdown",
   "metadata": {},
   "source": [
    "create lp position"
   ]
  },
  {
   "cell_type": "code",
   "execution_count": null,
   "metadata": {},
   "outputs": [],
   "source": [
    "first_token_nonce, first_token_amount, _ = get_token_details_for_address(pair_contract.firstToken, user.address.bech32(), context.network_provider.proxy)\n",
    "\n",
    "xmex = next(locked_token for locked_token in proxy_contract.locked_tokens if \"XMEX\" in locked_token)\n",
    "xmex_list = get_all_token_nonces_details_for_account(xmex, user.address.bech32(), context.network_provider.proxy)\n",
    "biggest_xmex = {}\n",
    "for xmex_found in xmex_list:\n",
    "    # get a specific xmex nonce from the list\n",
    "    if int(xmex_found['nonce']) == 17:\n",
    "        biggest_xmex = xmex_found\n",
    "second_token_nonce, second_token_amount = biggest_xmex['nonce'], int(biggest_xmex['balance'])\n",
    "\n",
    "if first_token_amount == 0 or second_token_amount == 0:\n",
    "    print(f\"No tokens: first token amount: {first_token_amount}; second token amount {second_token_amount}\")\n",
    "    exit()\n",
    "event = DexProxyAddLiquidityEvent(pair_contract, pair_contract.firstToken, first_token_nonce, first_token_amount, 1,\n",
    "                                  xmex, second_token_nonce, second_token_amount, 1,)\n",
    "txhash = proxy_contract.add_liquidity_proxy(user, context.network_provider.proxy, event)"
   ]
  },
  {
   "cell_type": "markdown",
   "metadata": {},
   "source": [
    "enter new position"
   ]
  },
  {
   "cell_type": "code",
   "execution_count": null,
   "metadata": {},
   "outputs": [],
   "source": [
    "farming_token_nonce, farming_token_amount, _ = get_token_details_for_address(proxy_contract.proxy_lp_token, user.address.bech32(), context.network_provider.proxy)\n",
    "event = DexProxyEnterFarmEvent(farm_contract, \n",
    "                               proxy_contract.proxy_lp_token, farming_token_nonce, farming_token_amount // 2,\n",
    "                               \"\", 0, 0)\n",
    "txhash = proxy_contract.enter_farm_proxy(user, context.network_provider.proxy, event)"
   ]
  },
  {
   "cell_type": "markdown",
   "metadata": {},
   "source": [
    "merge position"
   ]
  },
  {
   "cell_type": "code",
   "execution_count": null,
   "metadata": {},
   "outputs": [],
   "source": [
    "farming_token_nonce, farming_token_amount, _ = get_token_details_for_address(proxy_contract.proxy_lp_token, user.address.bech32(), context.network_provider.proxy)\n",
    "farm_token_nonce, farm_token_amount, _ = get_token_details_for_address(proxy_contract.proxy_farm_token, user.address.bech32(), context.network_provider.proxy)\n",
    "if farm_token_nonce == 0:\n",
    "    print(\"No farm tokens\")\n",
    "    exit()\n",
    "event = DexProxyEnterFarmEvent(farm_contract, \n",
    "                               proxy_contract.proxy_lp_token, farming_token_nonce, farming_token_amount,\n",
    "                               proxy_contract.proxy_farm_token, farm_token_nonce, farm_token_amount)\n",
    "txhash = proxy_contract.enter_farm_proxy(user, context.network_provider.proxy, event)"
   ]
  },
  {
   "cell_type": "markdown",
   "metadata": {},
   "source": [
    "increase proxy lp energy"
   ]
  },
  {
   "cell_type": "code",
   "execution_count": null,
   "metadata": {},
   "outputs": [],
   "source": [
    "from utils.utils_chain import dec_to_padded_hex\n",
    "epochs_increase = 360\n",
    "\n",
    "farming_token_nonce, farming_token_amount, _ = get_token_details_for_address(proxy_contract.proxy_lp_token, user.address.bech32(), context.network_provider.proxy)\n",
    "if farming_token_nonce == 0:\n",
    "    print(\"No tokens\")\n",
    "    exit()\n",
    "\n",
    "print(f\"User has {farming_token_amount} farming tokens with nonce {dec_to_padded_hex(farming_token_nonce)}\")\n",
    "txhash = proxy_contract.increase_proxy_lp_token_energy(user, context.network_provider.proxy, \n",
    "                                                       [[ESDTToken(proxy_contract.proxy_lp_token, farming_token_nonce, farming_token_amount)],\n",
    "                                                        epochs_increase])"
   ]
  },
  {
   "cell_type": "code",
   "execution_count": null,
   "metadata": {},
   "outputs": [],
   "source": [
    "epochs_increase = 360\n",
    "\n",
    "txhash = proxy_contract.increase_proxy_lp_token_energy(user, context.network_provider.proxy, \n",
    "                                                       [[ESDTToken(\"LKLP-03a2fa\", 625343, 44304399799466962)],\n",
    "                                                        epochs_increase])"
   ]
  },
  {
   "cell_type": "markdown",
   "metadata": {},
   "source": [
    "increase proxy farm energy"
   ]
  },
  {
   "cell_type": "code",
   "execution_count": null,
   "metadata": {},
   "outputs": [],
   "source": [
    "from utils.utils_chain import dec_to_padded_hex\n",
    "epochs_increase = 1440\n",
    "\n",
    "farm_token_nonce, farm_token_amount, _ = get_token_details_for_address(proxy_contract.proxy_farm_token, user.address.bech32(), context.network_provider.proxy)\n",
    "if farm_token_nonce == 0:\n",
    "    print(\"No tokens\")\n",
    "    exit()\n",
    "\n",
    "print(f\"User has {farm_token_amount} tokens with nonce {dec_to_padded_hex(farm_token_nonce)}\")\n",
    "txhash = proxy_contract.increase_proxy_farm_token_energy(user, context.network_provider.proxy, \n",
    "                                                       [[ESDTToken(proxy_contract.proxy_farm_token, farm_token_nonce, farm_token_amount//2)],\n",
    "                                                        epochs_increase])"
   ]
  },
  {
   "cell_type": "markdown",
   "metadata": {},
   "source": [
    "Decode XMEXFARM"
   ]
  },
  {
   "cell_type": "code",
   "execution_count": null,
   "metadata": {},
   "outputs": [],
   "source": [
    "from multiversx_sdk_network_providers import ApiNetworkProvider\n",
    "\n",
    "token_nonce = \"3c92\"\n",
    "\n",
    "mainnet_api = ApiNetworkProvider(\"https://api.multiversx.com\")\n",
    "print(proxy_contract.get_all_decoded_farm_token_attributes_from_network(mainnet_api, int(token_nonce, 16)))"
   ]
  },
  {
   "cell_type": "markdown",
   "metadata": {},
   "source": [
    "Decode XMEXLP"
   ]
  },
  {
   "cell_type": "code",
   "execution_count": null,
   "metadata": {},
   "outputs": [],
   "source": [
    "from multiversx_sdk_network_providers import ApiNetworkProvider\n",
    "\n",
    "token_nonce = \"2173\"\n",
    "\n",
    "mainnet_api = ApiNetworkProvider(\"https://api.multiversx.com\")\n",
    "print(proxy_contract.get_all_decoded_lp_token_attributes_from_network(mainnet_api, int(token_nonce, 16)))"
   ]
  },
  {
   "cell_type": "markdown",
   "metadata": {},
   "source": [
    "XFARM Transaction checker"
   ]
  },
  {
   "cell_type": "code",
   "execution_count": null,
   "metadata": {},
   "outputs": [],
   "source": [
    "from utils.utils_chain import dec_to_padded_hex\n",
    "\n",
    "tx_hash = \"af414491da7f4deefe81cead9936d5cb06b32110d8401867cb7481befa051fd5\"\n",
    "mainnet_api = ApiNetworkProvider(\"https://api.multiversx.com\")\n",
    "used_api = context.network_provider.api\n",
    "\n",
    "# Get the transaction details\n",
    "tx = context.network_provider.api.get_transaction(tx_hash)\n",
    "energy_contract = context.get_contracts(config.SIMPLE_LOCKS_ENERGY)[0]\n",
    "\n",
    "# Get transaction inputs\n",
    "sender = tx.sender.bech32()\n",
    "payment = tx.raw_response['action']['arguments']['transfers'][0]['identifier']\n",
    "payment_value = tx.raw_response['action']['arguments']['transfers'][0]['value']\n",
    "\n",
    "xmexfarm_decode, xmexlp_decode, lktoken_decode = proxy_contract.get_all_decoded_farm_token_attributes_from_network(used_api, \n",
    "                                                                                                                   int(payment.split(\"-\")[2], 16))\n",
    "\n",
    "rated_lp_tokens = int(xmexfarm_decode.get('proxy_token_amount') * (int(payment_value) / xmexfarm_decode.get('farm_token_amount')))\n",
    "rated_loked_tokens = int(xmexlp_decode.get('locked_tokens_amount') * (int(payment_value) / xmexfarm_decode.get('farm_token_amount')) * (xmexfarm_decode.get('proxy_token_amount') / xmexlp_decode.get('lp_token_amount')))\n",
    "\n",
    "expected_ops = [\n",
    "    { # User transfer the farm token to the proxy contract\n",
    "        \"action\": \"transfer\",\n",
    "        \"sender\": sender,\n",
    "        \"receiver\": proxy_contract.address,\n",
    "        \"identifier\": payment,\n",
    "        \"value\": str(payment_value)\n",
    "    },\n",
    "    { # Proxy contract burns the original proxy farm token\n",
    "        \"action\": \"burn\",\n",
    "        \"sender\": proxy_contract.address,\n",
    "        \"receiver\": sender,\n",
    "        \"identifier\": payment,\n",
    "        \"value\": str(payment_value)\n",
    "    },\n",
    "    { # Proxy contract burns the original proxy lp token\n",
    "        \"action\": \"burn\",\n",
    "        \"sender\": proxy_contract.address,\n",
    "        \"receiver\": sender,\n",
    "        \"identifier\": f\"{xmexfarm_decode.get('proxy_token_id')}-{dec_to_padded_hex(xmexfarm_decode.get('proxy_token_nonce'))}\",\n",
    "        \"value\": str(rated_lp_tokens)\n",
    "    },\n",
    "    { # Proxy contract transfers the original xmex to energy contract\n",
    "        \"action\": \"transfer\",\n",
    "        \"sender\": proxy_contract.address,\n",
    "        \"receiver\": energy_contract.address,\n",
    "        \"identifier\": f\"{xmexlp_decode.get('locked_tokens_id')}-{dec_to_padded_hex(xmexlp_decode.get('locked_tokens_nonce'))}\",\n",
    "        \"value\": str(rated_loked_tokens)\n",
    "    },\n",
    "    { # Energy contract burns the original xmex\n",
    "        \"action\": \"burn\",\n",
    "        \"sender\": energy_contract.address,\n",
    "        \"receiver\": sender,\n",
    "        \"identifier\": f\"{xmexlp_decode.get('locked_tokens_id')}-{dec_to_padded_hex(xmexlp_decode.get('locked_tokens_nonce'))}\",\n",
    "        \"value\": str(rated_loked_tokens)\n",
    "    },\n",
    "    { # Energy contract adds new xmex with increased energy\n",
    "        \"action\": \"addQuantity\",\n",
    "        \"sender\": energy_contract.address,\n",
    "        \"receiver\": sender,\n",
    "        \"collection\": xmexlp_decode.get('locked_tokens_id'),\n",
    "        \"value\": str(rated_loked_tokens)\n",
    "    },\n",
    "    { # Energy contract transfers the new xmex to the proxy contract\n",
    "        \"action\": \"transfer\",\n",
    "        \"sender\": energy_contract.address,\n",
    "        \"receiver\": proxy_contract.address,\n",
    "        \"collection\": xmexlp_decode.get('locked_tokens_id'),\n",
    "        \"value\": str(rated_loked_tokens)\n",
    "    },\n",
    "    { # Proxy contract creates new proxy lp token\n",
    "        \"action\": \"create\",\n",
    "        \"sender\": proxy_contract.address,\n",
    "        \"receiver\": sender,\n",
    "        \"collection\": proxy_contract.proxy_lp_token,\n",
    "        \"value\": str(rated_lp_tokens)\n",
    "    },\n",
    "    { # Proxy contract creates the new proxy farm token\n",
    "        \"action\": \"create\",\n",
    "        \"sender\": proxy_contract.address,\n",
    "        \"receiver\": sender,\n",
    "        \"collection\": proxy_contract.proxy_farm_token,\n",
    "        \"value\": str(payment_value)\n",
    "    },\n",
    "    { # Transfer the new proxy farm token to user\n",
    "        \"action\": \"transfer\",\n",
    "        \"sender\": proxy_contract.address,\n",
    "        \"receiver\": sender,\n",
    "        \"collection\": proxy_contract.proxy_farm_token,\n",
    "        \"value\": str(payment_value)\n",
    "    },\n",
    "]\n",
    "\n",
    "# Get and check transaction operations\n",
    "ops = tx.raw_response['operations']\n",
    "\n",
    "assert(len(ops) == len(expected_ops))\n",
    "\n",
    "# Take each operation and match it with the ones in expected ops. Try to match only the fields expected in each expected ops. \n",
    "# Operations are unordered. If all operations match, the transaction is valid.\n",
    "for op in ops:\n",
    "    found = False\n",
    "    matched = True\n",
    "    # print(op)\n",
    "    for expected_op in expected_ops:\n",
    "        # print(f'Matching with {expected_op}')\n",
    "        if all(op.get(key) == expected_op.get(key) for key in expected_op.keys()):\n",
    "            found = True\n",
    "            expected_ops.remove(expected_op)\n",
    "            break\n",
    "    if not found:\n",
    "        print(f\"Operation not matched {op}\")\n",
    "# List remaining operations line by line\n",
    "for op in expected_ops:\n",
    "    print(f\"Remaining operation: {op}\")"
   ]
  }
 ],
 "metadata": {
  "kernelspec": {
   "display_name": "venv-newerdpy",
   "language": "python",
   "name": "python3"
  },
  "language_info": {
   "codemirror_mode": {
    "name": "ipython",
    "version": 3
   },
   "file_extension": ".py",
   "mimetype": "text/x-python",
   "name": "python",
   "nbconvert_exporter": "python",
   "pygments_lexer": "ipython3",
   "version": "3.11.6"
  },
  "orig_nbformat": 4,
  "vscode": {
   "interpreter": {
    "hash": "7ae6ab0abdf10440b34f03794a69a71508ff61341cacd694fe6034a1a71d3b05"
   }
  }
 },
 "nbformat": 4,
 "nbformat_minor": 2
}
