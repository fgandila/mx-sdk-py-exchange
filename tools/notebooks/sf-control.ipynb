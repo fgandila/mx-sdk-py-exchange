{
 "cells": [
  {
   "cell_type": "code",
   "execution_count": 1,
   "metadata": {},
   "outputs": [],
   "source": [
    "import sys\n",
    "from pathlib import Path\n",
    "sys.path.append(str(Path.cwd().parent.parent.absolute()))\n",
    "import config"
   ]
  },
  {
   "cell_type": "code",
   "execution_count": 2,
   "metadata": {},
   "outputs": [
    {
     "name": "stderr",
     "output_type": "stream",
     "text": [
      "\u001b[93m2024-02-21 20:48:05,390 - WARNING - Structure definition for egld_wraps not found in /home/ovi/projects/dex/mx-sdk-py-exchange/deploy/configs-mainnet/deploy_structure.json\u001b[0m\n",
      "\u001b[93m2024-02-21 20:48:05,395 - WARNING - Structure definition for pairs_view not found in /home/ovi/projects/dex/mx-sdk-py-exchange/deploy/configs-mainnet/deploy_structure.json\u001b[0m\n",
      "\u001b[93m2024-02-21 20:48:05,398 - WARNING - Structure definition for stakings_boosted not found in /home/ovi/projects/dex/mx-sdk-py-exchange/deploy/configs-mainnet/deploy_structure.json\u001b[0m\n",
      "\u001b[93m2024-02-21 20:48:05,400 - WARNING - Structure definition for metastakings_boosted not found in /home/ovi/projects/dex/mx-sdk-py-exchange/deploy/configs-mainnet/deploy_structure.json\u001b[0m\n",
      "\u001b[93m2024-02-21 20:48:05,402 - WARNING - Structure definition for position_creator not found in /home/ovi/projects/dex/mx-sdk-py-exchange/deploy/configs-mainnet/deploy_structure.json\u001b[0m\n"
     ]
    },
    {
     "name": "stdout",
     "output_type": "stream",
     "text": [
      "loaded 10 accounts from 1 PEM files.\n"
     ]
    },
    {
     "name": "stderr",
     "output_type": "stream",
     "text": [
      "\u001b[38;20m2024-02-21 20:48:06,744 - DEBUG - Account.sync_nonce() done: 3511\u001b[0m\n",
      "\u001b[38;20m2024-02-21 20:48:07,256 - DEBUG - Account.sync_nonce() done: 3511\u001b[0m\n",
      "\u001b[92m2024-02-21 20:48:07,258 - INFO - Loaded 10 tokens.\u001b[0m\n",
      "\u001b[38;20m2024-02-21 20:48:07,762 - DEBUG - Account.sync_nonce() done: 3511\u001b[0m\n",
      "\u001b[92m2024-02-21 20:48:07,765 - INFO - Loaded 0 egld_wraps.\u001b[0m\n",
      "\u001b[92m2024-02-21 20:48:07,767 - INFO - Loaded 1 locked_assets.\u001b[0m\n",
      "\u001b[92m2024-02-21 20:48:07,768 - INFO - Loaded 1 proxies.\u001b[0m\n",
      "\u001b[92m2024-02-21 20:48:07,769 - INFO - Loaded 0 simple_locks.\u001b[0m\n",
      "\u001b[92m2024-02-21 20:48:07,771 - INFO - Loaded 1 simple_locks_energy.\u001b[0m\n",
      "\u001b[92m2024-02-21 20:48:07,773 - INFO - Loaded 1 fees_collectors.\u001b[0m\n",
      "\u001b[92m2024-02-21 20:48:07,775 - INFO - Loaded 1 unstakers.\u001b[0m\n",
      "\u001b[92m2024-02-21 20:48:07,776 - INFO - Loaded 1 proxies_v2.\u001b[0m\n",
      "\u001b[92m2024-02-21 20:48:07,777 - INFO - Loaded 0 router.\u001b[0m\n",
      "\u001b[92m2024-02-21 20:48:07,779 - INFO - Loaded 1 router_v2.\u001b[0m\n",
      "\u001b[92m2024-02-21 20:48:07,781 - INFO - Loaded 0 pairs.\u001b[0m\n",
      "\u001b[92m2024-02-21 20:48:07,782 - INFO - Loaded 9 pairs_v2.\u001b[0m\n",
      "\u001b[92m2024-02-21 20:48:07,783 - INFO - Loaded 0 pairs_view.\u001b[0m\n",
      "\u001b[92m2024-02-21 20:48:07,785 - INFO - Loaded 0 farms_community.\u001b[0m\n",
      "\u001b[92m2024-02-21 20:48:07,786 - INFO - Loaded 0 farms_unlocked.\u001b[0m\n",
      "\u001b[92m2024-02-21 20:48:07,788 - INFO - Loaded 0 farms_locked.\u001b[0m\n",
      "\u001b[92m2024-02-21 20:48:07,791 - INFO - Loaded 0 proxy_deployers.\u001b[0m\n",
      "\u001b[92m2024-02-21 20:48:07,793 - INFO - Loaded 9 farms_boosted.\u001b[0m\n",
      "\u001b[92m2024-02-21 20:48:07,795 - INFO - Loaded 0 price_discoveries.\u001b[0m\n",
      "\u001b[92m2024-02-21 20:48:07,796 - INFO - Loaded 0 stakings.\u001b[0m\n",
      "\u001b[92m2024-02-21 20:48:07,798 - INFO - Loaded 7 stakings_v2.\u001b[0m\n",
      "\u001b[92m2024-02-21 20:48:07,799 - INFO - Loaded 0 stakings_boosted.\u001b[0m\n",
      "\u001b[92m2024-02-21 20:48:07,800 - INFO - Loaded 0 metastakings.\u001b[0m\n",
      "\u001b[92m2024-02-21 20:48:07,802 - INFO - Loaded 4 metastakings_v2.\u001b[0m\n",
      "\u001b[92m2024-02-21 20:48:07,803 - INFO - Loaded 0 metastakings_boosted.\u001b[0m\n",
      "\u001b[92m2024-02-21 20:48:07,805 - INFO - Loaded 0 position_creator.\u001b[0m\n",
      "\u001b[92m2024-02-21 20:48:07,807 - INFO - Loaded 1 escrows.\u001b[0m\n",
      "\u001b[92m2024-02-21 20:48:07,809 - INFO - Loaded 1 lk_wraps.\u001b[0m\n",
      "\u001b[38;20m2024-02-21 20:48:08,277 - DEBUG - Account.sync_nonce() done: 3511\u001b[0m\n",
      "\u001b[92m2024-02-21 20:48:08,279 - INFO - Deployed contracts below:\u001b[0m\n",
      "\u001b[92m2024-02-21 20:48:08,279 - INFO - egld_wraps:\u001b[0m\n",
      "\u001b[92m2024-02-21 20:48:08,280 - INFO - locked_assets:\u001b[0m\n",
      "\u001b[92m2024-02-21 20:48:08,282 - INFO - Deployed locked asset contract: erd1qqqqqqqqqqqqqpgqjpt0qqgsrdhp2xqygpjtfrpwf76f9nvg2jpsg4q7th\u001b[0m\n",
      "\u001b[92m2024-02-21 20:48:08,283 - INFO -  ├ Unlocked token: MEX-455c57\u001b[0m\n",
      "\u001b[92m2024-02-21 20:48:08,284 - INFO -  ├ Locked token: LKMEX-aab910\u001b[0m\n",
      "\u001b[92m2024-02-21 20:48:08,285 - INFO - proxies:\u001b[0m\n",
      "\u001b[92m2024-02-21 20:48:08,287 - INFO - Deployed proxy contract: erd1qqqqqqqqqqqqqpgqrc4pg2xarca9z34njcxeur622qmfjp8w2jps89fxnl\u001b[0m\n",
      "\u001b[92m2024-02-21 20:48:08,288 - INFO -  ├ Token: MEX-455c57\u001b[0m\n",
      "\u001b[92m2024-02-21 20:48:08,289 - INFO -  ├ Locked tokens: ['LKMEX-aab910']\u001b[0m\n",
      "\u001b[92m2024-02-21 20:48:08,291 - INFO -  ├ Proxy LP token: LKLP-03a2fa\u001b[0m\n",
      "\u001b[92m2024-02-21 20:48:08,293 - INFO -  ├ Proxy Farm token: LKFARM-9d1ea8\u001b[0m\n",
      "\u001b[92m2024-02-21 20:48:08,294 - INFO - simple_locks:\u001b[0m\n",
      "\u001b[92m2024-02-21 20:48:08,294 - INFO - simple_locks_energy:\u001b[0m\n",
      "\u001b[92m2024-02-21 20:48:08,295 - INFO - Deployed simple lock energy contract: erd1qqqqqqqqqqqqqpgq0tajepcazernwt74820t8ef7t28vjfgukp2sw239f3\u001b[0m\n",
      "\u001b[92m2024-02-21 20:48:08,296 - INFO -  ├ Base token: MEX-455c57\u001b[0m\n",
      "\u001b[92m2024-02-21 20:48:08,299 - INFO -  ├ Locked token: XMEX-fda355\u001b[0m\n",
      "\u001b[92m2024-02-21 20:48:08,301 - INFO -  ├ Locked LP token: \u001b[0m\n",
      "\u001b[92m2024-02-21 20:48:08,304 - INFO -  ├ Locked Farm token: \u001b[0m\n",
      "\u001b[92m2024-02-21 20:48:08,307 - INFO - fees_collectors:\u001b[0m\n",
      "\u001b[92m2024-02-21 20:48:08,308 - INFO - Deployed fees collector contract: erd1qqqqqqqqqqqqqpgqjsnxqprks7qxfwkcg2m2v9hxkrchgm9akp2segrswt\u001b[0m\n",
      "\u001b[92m2024-02-21 20:48:08,309 - INFO - unstakers:\u001b[0m\n",
      "\u001b[92m2024-02-21 20:48:08,310 - INFO - Deployed token unstake contract: erd1qqqqqqqqqqqqqpgqxv0y4p6vvszrknaztatycac77yvsxqrrkp2sghd86c\u001b[0m\n",
      "\u001b[92m2024-02-21 20:48:08,311 - INFO - proxies_v2:\u001b[0m\n",
      "\u001b[92m2024-02-21 20:48:08,311 - INFO - Deployed proxy contract: erd1qqqqqqqqqqqqqpgqt6ltx52ukss9d2qag2k67at28a36xc9lkp2sr06394\u001b[0m\n",
      "\u001b[92m2024-02-21 20:48:08,312 - INFO -  ├ Token: MEX-455c57\u001b[0m\n",
      "\u001b[92m2024-02-21 20:48:08,313 - INFO -  ├ Locked tokens: ['LKMEX-aab910', 'XMEX-fda355']\u001b[0m\n",
      "\u001b[92m2024-02-21 20:48:08,313 - INFO -  ├ Proxy LP token: XMEXLP-2cbdce\u001b[0m\n",
      "\u001b[92m2024-02-21 20:48:08,314 - INFO -  ├ Proxy Farm token: XMEXFARM-e0a3dc\u001b[0m\n",
      "\u001b[92m2024-02-21 20:48:08,315 - INFO - router:\u001b[0m\n",
      "\u001b[92m2024-02-21 20:48:08,315 - INFO - router_v2:\u001b[0m\n",
      "\u001b[92m2024-02-21 20:48:08,316 - INFO - Deployed router contract: erd1qqqqqqqqqqqqqpgqq66xk9gfr4esuhem3jru86wg5hvp33a62jps2fy57p\u001b[0m\n",
      "\u001b[92m2024-02-21 20:48:08,317 - INFO - pairs:\u001b[0m\n",
      "\u001b[92m2024-02-21 20:48:08,317 - INFO - pairs_v2:\u001b[0m\n",
      "\u001b[92m2024-02-21 20:48:08,318 - INFO - Deployed pair contract: erd1qqqqqqqqqqqqqpgqa0fsfshnff4n76jhcye6k7uvd7qacsq42jpsp6shh2\u001b[0m\n",
      "\u001b[92m2024-02-21 20:48:08,319 - INFO -  ├ First token: WEGLD-bd4d79\u001b[0m\n",
      "\u001b[92m2024-02-21 20:48:08,319 - INFO -  ├ Second token: MEX-455c57\u001b[0m\n",
      "\u001b[92m2024-02-21 20:48:08,321 - INFO -  ├ LP token: EGLDMEX-0be9e5\u001b[0m\n",
      "\u001b[92m2024-02-21 20:48:08,322 - INFO - Deployed pair contract: erd1qqqqqqqqqqqqqpgqeel2kumf0r8ffyhth7pqdujjat9nx0862jpsg2pqaq\u001b[0m\n",
      "\u001b[92m2024-02-21 20:48:08,324 - INFO -  ├ First token: WEGLD-bd4d79\u001b[0m\n",
      "\u001b[92m2024-02-21 20:48:08,326 - INFO -  ├ Second token: USDC-c76f1f\u001b[0m\n",
      "\u001b[92m2024-02-21 20:48:08,327 - INFO -  ├ LP token: EGLDUSDC-594e5e\u001b[0m\n",
      "\u001b[92m2024-02-21 20:48:08,329 - INFO - Deployed pair contract: erd1qqqqqqqqqqqqqpgqav09xenkuqsdyeyy5evqyhuusvu4gl3t2jpss57g8x\u001b[0m\n",
      "\u001b[92m2024-02-21 20:48:08,331 - INFO -  ├ First token: WEGLD-bd4d79\u001b[0m\n",
      "\u001b[92m2024-02-21 20:48:08,332 - INFO -  ├ Second token: RIDE-7d18e9\u001b[0m\n",
      "\u001b[92m2024-02-21 20:48:08,332 - INFO -  ├ LP token: EGLDRIDE-7bd51a\u001b[0m\n",
      "\u001b[92m2024-02-21 20:48:08,333 - INFO - Deployed pair contract: erd1qqqqqqqqqqqqqpgqpmud7t8uprrxzgu8eq2mtkl08kesflj62jps9j8dyh\u001b[0m\n",
      "\u001b[92m2024-02-21 20:48:08,333 - INFO -  ├ First token: ITHEUM-df6f26\u001b[0m\n",
      "\u001b[92m2024-02-21 20:48:08,333 - INFO -  ├ Second token: WEGLD-bd4d79\u001b[0m\n",
      "\u001b[92m2024-02-21 20:48:08,334 - INFO -  ├ LP token: ITHWEGLD-1adc53\u001b[0m\n",
      "\u001b[92m2024-02-21 20:48:08,334 - INFO - Deployed pair contract: erd1qqqqqqqqqqqqqpgq0lzzvt2faev4upyf586tg38s84d7zsaj2jpsglugga\u001b[0m\n",
      "\u001b[92m2024-02-21 20:48:08,335 - INFO -  ├ First token: UTK-2f80e9\u001b[0m\n",
      "\u001b[92m2024-02-21 20:48:08,335 - INFO -  ├ Second token: WEGLD-bd4d79\u001b[0m\n",
      "\u001b[92m2024-02-21 20:48:08,336 - INFO -  ├ LP token: UTKWEGLD-c960d1\u001b[0m\n",
      "\u001b[92m2024-02-21 20:48:08,336 - INFO - Deployed pair contract: erd1qqqqqqqqqqqqqpgqf57y8m9krsvrceqxujngzm77p82zqc502jpsnnezqs\u001b[0m\n",
      "\u001b[92m2024-02-21 20:48:08,336 - INFO -  ├ First token: CRT-52decf\u001b[0m\n",
      "\u001b[92m2024-02-21 20:48:08,337 - INFO -  ├ Second token: WEGLD-bd4d79\u001b[0m\n",
      "\u001b[92m2024-02-21 20:48:08,338 - INFO -  ├ LP token: CRTWEGLD-1fac3f\u001b[0m\n",
      "\u001b[92m2024-02-21 20:48:08,339 - INFO - Deployed pair contract: erd1qqqqqqqqqqqqqpgqp5d4x3d263x4alnapwafwujch5xqmvyq2jpsk2xhsy\u001b[0m\n",
      "\u001b[92m2024-02-21 20:48:08,340 - INFO -  ├ First token: ASH-a642d1\u001b[0m\n",
      "\u001b[92m2024-02-21 20:48:08,340 - INFO -  ├ Second token: WEGLD-bd4d79\u001b[0m\n",
      "\u001b[92m2024-02-21 20:48:08,341 - INFO -  ├ LP token: ASHWEGLD-38545c\u001b[0m\n",
      "\u001b[92m2024-02-21 20:48:08,342 - INFO - Deployed pair contract: erd1qqqqqqqqqqqqqpgqtjhhs49h0q2ncld64l3thtk7s7yuw47v2jps8emt0v\u001b[0m\n",
      "\u001b[92m2024-02-21 20:48:08,342 - INFO -  ├ First token: ZPAY-247875\u001b[0m\n",
      "\u001b[92m2024-02-21 20:48:08,342 - INFO -  ├ Second token: WEGLD-bd4d79\u001b[0m\n",
      "\u001b[92m2024-02-21 20:48:08,343 - INFO -  ├ LP token: ZPAYWEGLD-34e5c1\u001b[0m\n",
      "\u001b[92m2024-02-21 20:48:08,343 - INFO - Deployed pair contract: erd1qqqqqqqqqqqqqpgqp32ecg03fyxgt2pf2fsxyg4knvhfvtgz2jps6rx6gf\u001b[0m\n",
      "\u001b[92m2024-02-21 20:48:08,344 - INFO -  ├ First token: BHAT-c1fde3\u001b[0m\n",
      "\u001b[92m2024-02-21 20:48:08,344 - INFO -  ├ Second token: WEGLD-bd4d79\u001b[0m\n",
      "\u001b[92m2024-02-21 20:48:08,345 - INFO -  ├ LP token: BHATWEGLD-f45935\u001b[0m\n",
      "\u001b[92m2024-02-21 20:48:08,345 - INFO - pairs_view:\u001b[0m\n",
      "\u001b[92m2024-02-21 20:48:08,346 - INFO - farms_community:\u001b[0m\n",
      "\u001b[92m2024-02-21 20:48:08,347 - INFO - farms_unlocked:\u001b[0m\n",
      "\u001b[92m2024-02-21 20:48:08,348 - INFO - farms_locked:\u001b[0m\n",
      "\u001b[92m2024-02-21 20:48:08,349 - INFO - proxy_deployers:\u001b[0m\n",
      "\u001b[92m2024-02-21 20:48:08,349 - INFO - farms_boosted:\u001b[0m\n",
      "\u001b[92m2024-02-21 20:48:08,351 - INFO - Deployed farm contract: erd1qqqqqqqqqqqqqpgqapxdp9gjxtg60mjwhle3n6h88zch9e7kkp2s8aqhkg\u001b[0m\n",
      "\u001b[92m2024-02-21 20:48:08,351 - INFO -  ├ Farming token: EGLDMEX-0be9e5\u001b[0m\n",
      "\u001b[92m2024-02-21 20:48:08,352 - INFO -  ├ Farmed token: MEX-455c57\u001b[0m\n",
      "\u001b[92m2024-02-21 20:48:08,352 - INFO -  ├ Farm token: EGLDMEXFL-c2521e\u001b[0m\n",
      "\u001b[92m2024-02-21 20:48:08,353 - INFO - Deployed farm contract: erd1qqqqqqqqqqqqqpgqv0pz5z3fkz54nml6pkzzdruuf020gqzykp2sya7kkv\u001b[0m\n",
      "\u001b[92m2024-02-21 20:48:08,354 - INFO -  ├ Farming token: EGLDUSDC-594e5e\u001b[0m\n",
      "\u001b[92m2024-02-21 20:48:08,354 - INFO -  ├ Farmed token: MEX-455c57\u001b[0m\n",
      "\u001b[92m2024-02-21 20:48:08,355 - INFO -  ├ Farm token: EGLDUSDCFL-45109b\u001b[0m\n",
      "\u001b[92m2024-02-21 20:48:08,355 - INFO - Deployed farm contract: erd1qqqqqqqqqqqqqpgqenvn0s3ldc94q2mlkaqx4arj3zfnvnmakp2sxca2h9\u001b[0m\n",
      "\u001b[92m2024-02-21 20:48:08,356 - INFO -  ├ Farming token: EGLDRIDE-7bd51a\u001b[0m\n",
      "\u001b[92m2024-02-21 20:48:08,357 - INFO -  ├ Farmed token: MEX-455c57\u001b[0m\n",
      "\u001b[92m2024-02-21 20:48:08,358 - INFO -  ├ Farm token: EGLDRIDEFL-7aac94\u001b[0m\n",
      "\u001b[92m2024-02-21 20:48:08,359 - INFO - Deployed farm contract: erd1qqqqqqqqqqqqqpgqrdq6zvepdxg36rey8pmluwur43q4hcx3kp2su4yltq\u001b[0m\n",
      "\u001b[92m2024-02-21 20:48:08,359 - INFO -  ├ Farming token: ITHWEGLD-1adc53\u001b[0m\n",
      "\u001b[92m2024-02-21 20:48:08,361 - INFO -  ├ Farmed token: MEX-455c57\u001b[0m\n",
      "\u001b[92m2024-02-21 20:48:08,362 - INFO -  ├ Farm token: ITHWEGLDFL-7d381f\u001b[0m\n",
      "\u001b[92m2024-02-21 20:48:08,363 - INFO - Deployed farm contract: erd1qqqqqqqqqqqqqpgq4acurmluezvmhna8tztgcrnwh0l70a2wkp2sfh6jkp\u001b[0m\n",
      "\u001b[92m2024-02-21 20:48:08,364 - INFO -  ├ Farming token: UTKWEGLD-c960d1\u001b[0m\n",
      "\u001b[92m2024-02-21 20:48:08,365 - INFO -  ├ Farmed token: MEX-455c57\u001b[0m\n",
      "\u001b[92m2024-02-21 20:48:08,366 - INFO -  ├ Farm token: UTKWEGLDFL-ba26d2\u001b[0m\n",
      "\u001b[92m2024-02-21 20:48:08,366 - INFO - Deployed farm contract: erd1qqqqqqqqqqqqqpgquhqfknr9dg5t0xma0zcc55dm8gwv5rpkkp2sq8f40p\u001b[0m\n",
      "\u001b[92m2024-02-21 20:48:08,367 - INFO -  ├ Farming token: CRTWEGLD-1fac3f\u001b[0m\n",
      "\u001b[92m2024-02-21 20:48:08,368 - INFO -  ├ Farmed token: MEX-455c57\u001b[0m\n",
      "\u001b[92m2024-02-21 20:48:08,369 - INFO -  ├ Farm token: CRTWEGLDFL-4fd518\u001b[0m\n",
      "\u001b[92m2024-02-21 20:48:08,370 - INFO - Deployed farm contract: erd1qqqqqqqqqqqqqpgq6v5ta4memvrhjs4x3gqn90c3pujc77takp2sqhxm9j\u001b[0m\n",
      "\u001b[92m2024-02-21 20:48:08,370 - INFO -  ├ Farming token: ASHWEGLD-38545c\u001b[0m\n",
      "\u001b[92m2024-02-21 20:48:08,371 - INFO -  ├ Farmed token: MEX-455c57\u001b[0m\n",
      "\u001b[92m2024-02-21 20:48:08,372 - INFO -  ├ Farm token: ASHWEGLDFL-9612cf\u001b[0m\n",
      "\u001b[92m2024-02-21 20:48:08,372 - INFO - Deployed farm contract: erd1qqqqqqqqqqqqqpgqqqckvlhd3n7ntt5w3vln4xh3tsfpj0hr2jpsxlzgcj\u001b[0m\n",
      "\u001b[92m2024-02-21 20:48:08,373 - INFO -  ├ Farming token: ZPAYWEGLD-34e5c1\u001b[0m\n",
      "\u001b[92m2024-02-21 20:48:08,373 - INFO -  ├ Farmed token: MEX-455c57\u001b[0m\n",
      "\u001b[92m2024-02-21 20:48:08,374 - INFO -  ├ Farm token: ZPAYEGLDFL-4faf85\u001b[0m\n",
      "\u001b[92m2024-02-21 20:48:08,375 - INFO - Deployed farm contract: erd1qqqqqqqqqqqqqpgqcfkmz2j0e8pj0nzuk9j6mzcav0wpthq52jpsg546ch\u001b[0m\n",
      "\u001b[92m2024-02-21 20:48:08,376 - INFO -  ├ Farming token: BHATWEGLD-f45935\u001b[0m\n",
      "\u001b[92m2024-02-21 20:48:08,376 - INFO -  ├ Farmed token: MEX-455c57\u001b[0m\n",
      "\u001b[92m2024-02-21 20:48:08,377 - INFO -  ├ Farm token: BHATEGLDFL-259b84\u001b[0m\n",
      "\u001b[92m2024-02-21 20:48:08,378 - INFO - price_discoveries:\u001b[0m\n",
      "\u001b[92m2024-02-21 20:48:08,379 - INFO - stakings:\u001b[0m\n",
      "\u001b[92m2024-02-21 20:48:08,380 - INFO - stakings_v2:\u001b[0m\n",
      "\u001b[92m2024-02-21 20:48:08,381 - INFO - Deployed staking contract: erd1qqqqqqqqqqqqqpgqmqq78c5htmdnws8hm5u4suvags36eq092jpsaxv3e7\u001b[0m\n",
      "\u001b[92m2024-02-21 20:48:08,382 - INFO -  ├ Staking token: RIDE-7d18e9\u001b[0m\n",
      "\u001b[92m2024-02-21 20:48:08,383 - INFO -  ├ Stake token: SRIDE-4ab1d4\u001b[0m\n",
      "\u001b[92m2024-02-21 20:48:08,383 - INFO - Deployed staking contract: erd1qqqqqqqqqqqqqpgqr7kdhagkqgxvjrsk7s5333l9wwnenr9g2jps8puq33\u001b[0m\n",
      "\u001b[92m2024-02-21 20:48:08,384 - INFO -  ├ Staking token: ZPAY-247875\u001b[0m\n",
      "\u001b[92m2024-02-21 20:48:08,384 - INFO -  ├ Stake token: SZPAY-9f1b39\u001b[0m\n",
      "\u001b[92m2024-02-21 20:48:08,385 - INFO - Deployed staking contract: erd1qqqqqqqqqqqqqpgqzps75vsk97w9nsx2cenv2r2tyxl4fl402jpsx78m9j\u001b[0m\n",
      "\u001b[92m2024-02-21 20:48:08,385 - INFO -  ├ Staking token: ITHEUM-df6f26\u001b[0m\n",
      "\u001b[92m2024-02-21 20:48:08,386 - INFO -  ├ Stake token: SITHEUM-e05083\u001b[0m\n",
      "\u001b[92m2024-02-21 20:48:08,387 - INFO - Deployed staking contract: erd1qqqqqqqqqqqqqpgq45zs77q884ts6y9zj4jyqfn6ydev8ruv2jps3tteqq\u001b[0m\n",
      "\u001b[92m2024-02-21 20:48:08,388 - INFO -  ├ Staking token: BHAT-c1fde3\u001b[0m\n",
      "\u001b[92m2024-02-21 20:48:08,388 - INFO -  ├ Stake token: SBHAT-89efd3\u001b[0m\n",
      "\u001b[92m2024-02-21 20:48:08,389 - INFO - Deployed staking contract: erd1qqqqqqqqqqqqqpgqcedkmj8ezme6mtautj79ngv7fez978le2jps8jtawn\u001b[0m\n",
      "\u001b[92m2024-02-21 20:48:08,390 - INFO -  ├ Staking token: UTK-2f80e9\u001b[0m\n",
      "\u001b[92m2024-02-21 20:48:08,391 - INFO -  ├ Stake token: SUTK-ba35f3\u001b[0m\n",
      "\u001b[92m2024-02-21 20:48:08,392 - INFO - Deployed staking contract: erd1qqqqqqqqqqqqqpgqp2wfzvkhlpkwcdxx25qzznx33345979w2jpsl3gflj\u001b[0m\n",
      "\u001b[92m2024-02-21 20:48:08,392 - INFO -  ├ Staking token: CRT-52decf\u001b[0m\n",
      "\u001b[92m2024-02-21 20:48:08,393 - INFO -  ├ Stake token: SCRT-acbd64\u001b[0m\n",
      "\u001b[92m2024-02-21 20:48:08,394 - INFO - Deployed staking contract: erd1qqqqqqqqqqqqqpgqjdlnu9ggwfc79pygn5fjjgmdm6d7vu5e2jpsw59amp\u001b[0m\n",
      "\u001b[92m2024-02-21 20:48:08,394 - INFO -  ├ Staking token: ASH-a642d1\u001b[0m\n",
      "\u001b[92m2024-02-21 20:48:08,395 - INFO -  ├ Stake token: SASH-3671bd\u001b[0m\n",
      "\u001b[92m2024-02-21 20:48:08,395 - INFO - stakings_boosted:\u001b[0m\n",
      "\u001b[92m2024-02-21 20:48:08,396 - INFO - metastakings:\u001b[0m\n",
      "\u001b[92m2024-02-21 20:48:08,397 - INFO - metastakings_v2:\u001b[0m\n",
      "\u001b[92m2024-02-21 20:48:08,397 - INFO - Deployed metastaking contract: erd1qqqqqqqqqqqqqpgqjvcrk4tun6l438crr0jcz7q3yzp66smwkp2shzmazs\u001b[0m\n",
      "\u001b[92m2024-02-21 20:48:08,398 - INFO -  ├ Staking token: RIDE-7d18e9\u001b[0m\n",
      "\u001b[92m2024-02-21 20:48:08,398 - INFO -  ├ Metastake token: METARIDELK-f0b4bf\u001b[0m\n",
      "\u001b[92m2024-02-21 20:48:08,399 - INFO -  ├ Stake address: erd1qqqqqqqqqqqqqpgqmqq78c5htmdnws8hm5u4suvags36eq092jpsaxv3e7\u001b[0m\n",
      "\u001b[92m2024-02-21 20:48:08,400 - INFO -  ├ Farm address: erd1qqqqqqqqqqqqqpgqenvn0s3ldc94q2mlkaqx4arj3zfnvnmakp2sxca2h9\u001b[0m\n",
      "\u001b[92m2024-02-21 20:48:08,400 - INFO -  ├ LP address: erd1qqqqqqqqqqqqqpgqav09xenkuqsdyeyy5evqyhuusvu4gl3t2jpss57g8x\u001b[0m\n",
      "\u001b[92m2024-02-21 20:48:08,401 - INFO - Deployed metastaking contract: erd1qqqqqqqqqqqqqpgqduftj7u5u5d4ql2znchcmrcet9kcze7ckp2sk4474f\u001b[0m\n",
      "\u001b[92m2024-02-21 20:48:08,402 - INFO -  ├ Staking token: ITHEUM-df6f26\u001b[0m\n",
      "\u001b[92m2024-02-21 20:48:08,402 - INFO -  ├ Metastake token: METAITHLK-4c3f2e\u001b[0m\n",
      "\u001b[92m2024-02-21 20:48:08,403 - INFO -  ├ Stake address: erd1qqqqqqqqqqqqqpgqzps75vsk97w9nsx2cenv2r2tyxl4fl402jpsx78m9j\u001b[0m\n",
      "\u001b[92m2024-02-21 20:48:08,404 - INFO -  ├ Farm address: erd1qqqqqqqqqqqqqpgqrdq6zvepdxg36rey8pmluwur43q4hcx3kp2su4yltq\u001b[0m\n",
      "\u001b[92m2024-02-21 20:48:08,404 - INFO -  ├ LP address: erd1qqqqqqqqqqqqqpgqpmud7t8uprrxzgu8eq2mtkl08kesflj62jps9j8dyh\u001b[0m\n",
      "\u001b[92m2024-02-21 20:48:08,405 - INFO - Deployed metastaking contract: erd1qqqqqqqqqqqqqpgqmgd0eu4z9kzvrputt4l4kw4fqf2wcjsekp2sftan7s\u001b[0m\n",
      "\u001b[92m2024-02-21 20:48:08,405 - INFO -  ├ Staking token: UTK-2f80e9\u001b[0m\n",
      "\u001b[92m2024-02-21 20:48:08,406 - INFO -  ├ Metastake token: METAUTKLK-112f52\u001b[0m\n",
      "\u001b[92m2024-02-21 20:48:08,406 - INFO -  ├ Stake address: erd1qqqqqqqqqqqqqpgqcedkmj8ezme6mtautj79ngv7fez978le2jps8jtawn\u001b[0m\n",
      "\u001b[92m2024-02-21 20:48:08,407 - INFO -  ├ Farm address: erd1qqqqqqqqqqqqqpgq4acurmluezvmhna8tztgcrnwh0l70a2wkp2sfh6jkp\u001b[0m\n",
      "\u001b[92m2024-02-21 20:48:08,407 - INFO -  ├ LP address: erd1qqqqqqqqqqqqqpgq0lzzvt2faev4upyf586tg38s84d7zsaj2jpsglugga\u001b[0m\n",
      "\u001b[92m2024-02-21 20:48:08,408 - INFO - Deployed metastaking contract: erd1qqqqqqqqqqqqqpgqx6zhjfjnwxpzdcj594htl0y6w60aa3a8kp2se2pdms\u001b[0m\n",
      "\u001b[92m2024-02-21 20:48:08,408 - INFO -  ├ Staking token: CRT-52decf\u001b[0m\n",
      "\u001b[92m2024-02-21 20:48:08,409 - INFO -  ├ Metastake token: METACRTLK-39d11c\u001b[0m\n",
      "\u001b[92m2024-02-21 20:48:08,410 - INFO -  ├ Stake address: erd1qqqqqqqqqqqqqpgqp2wfzvkhlpkwcdxx25qzznx33345979w2jpsl3gflj\u001b[0m\n",
      "\u001b[92m2024-02-21 20:48:08,411 - INFO -  ├ Farm address: erd1qqqqqqqqqqqqqpgquhqfknr9dg5t0xma0zcc55dm8gwv5rpkkp2sq8f40p\u001b[0m\n",
      "\u001b[92m2024-02-21 20:48:08,413 - INFO -  ├ LP address: erd1qqqqqqqqqqqqqpgqf57y8m9krsvrceqxujngzm77p82zqc502jpsnnezqs\u001b[0m\n",
      "\u001b[92m2024-02-21 20:48:08,415 - INFO - metastakings_boosted:\u001b[0m\n",
      "\u001b[92m2024-02-21 20:48:08,416 - INFO - position_creator:\u001b[0m\n",
      "\u001b[92m2024-02-21 20:48:08,417 - INFO - escrows:\u001b[0m\n",
      "\u001b[92m2024-02-21 20:48:08,420 - INFO - Deployed escrow contract: erd1qqqqqqqqqqqqqpgqeh4yv09rmyg4xgn5ma03mvm4v5gndu8w2jpsglz3cn\u001b[0m\n",
      "\u001b[92m2024-02-21 20:48:08,421 - INFO - lk_wraps:\u001b[0m\n",
      "\u001b[92m2024-02-21 20:48:08,422 - INFO - Deployed locked token wrapping contract: erd1qqqqqqqqqqqqqpgqu64gygjs5ted4rupaewaszyhaxl9lv7m2jpsw47nzr\u001b[0m\n"
     ]
    },
    {
     "name": "stdout",
     "output_type": "stream",
     "text": [
      "\n",
      "\n",
      "\n",
      "\n",
      "\n",
      "\n",
      "\n",
      "\n",
      "\n",
      "\n",
      "\n",
      "\n",
      "\n",
      "\n",
      "\n",
      "\n",
      "\n",
      "\n",
      "\n",
      "\n",
      "\n",
      "\n",
      "\n",
      "\n",
      "\n",
      "\n",
      "\n",
      "\n"
     ]
    }
   ],
   "source": [
    "from context import Context\n",
    "\n",
    "context = Context()"
   ]
  },
  {
   "cell_type": "code",
   "execution_count": 3,
   "metadata": {},
   "outputs": [],
   "source": [
    "from contracts.builtin_contracts import SFControlContract\n",
    "\n",
    "sf_control_contract = SFControlContract(config.SF_CONTROL_ADDRESS)"
   ]
  },
  {
   "cell_type": "markdown",
   "metadata": {},
   "source": [
    "Start"
   ]
  },
  {
   "cell_type": "markdown",
   "metadata": {},
   "source": [
    "Control epochs one by one"
   ]
  },
  {
   "cell_type": "code",
   "execution_count": 4,
   "metadata": {},
   "outputs": [
    {
     "name": "stdout",
     "output_type": "stream",
     "text": [
      "Current epoch: 1301\n"
     ]
    },
    {
     "name": "stderr",
     "output_type": "stream",
     "text": [
      "\u001b[38;20m2024-02-20 16:39:15,698 - DEBUG - Account.sync_nonce() done: 3512\u001b[0m\n",
      "\u001b[92m2024-02-20 16:39:15,699 - INFO - fast forward epoch\u001b[0m\n",
      "\u001b[92m2024-02-20 16:39:15,700 - INFO - Fast forwarding 1 epochs\u001b[0m\n",
      "\u001b[93m2024-02-20 16:39:15,700 - WARNING - Blocks per epoch is less than 9; defaulting to 9.\u001b[0m\n",
      "\u001b[38;20m2024-02-20 16:39:15,701 - DEBUG - Calling epochsFastForward at erd1qqqqqqqqqqqqqqqpqqqqqqqqqqqqqqqqqqqqqqqqqqqqqqqplllst77y4l\u001b[0m\n",
      "\u001b[38;20m2024-02-20 16:39:15,701 - DEBUG - Args: [1, 9]\u001b[0m\n",
      "\u001b[38;20m2024-02-20 16:39:16,599 - DEBUG - Contract call arguments: [1, 9]\u001b[0m\n",
      "\u001b[92m2024-02-20 16:39:17,845 - INFO - No explorer known for https://proxy-shadowfork-three.elrond.ro. transaction raw path: https://proxy-shadowfork-three.elrond.ro/transaction/c609e375823e3b631a52dd32b1d5f66d86536923b3ac5d69624b77f5ff730c63\u001b[0m\n"
     ]
    },
    {
     "name": "stdout",
     "output_type": "stream",
     "text": [
      "Current epoch: 1302\n",
      "Current epoch: 1302\n"
     ]
    },
    {
     "name": "stderr",
     "output_type": "stream",
     "text": [
      "\u001b[38;20m2024-02-20 16:40:22,786 - DEBUG - Account.sync_nonce() done: 3513\u001b[0m\n",
      "\u001b[92m2024-02-20 16:40:22,787 - INFO - fast forward epoch\u001b[0m\n",
      "\u001b[92m2024-02-20 16:40:22,787 - INFO - Fast forwarding 1 epochs\u001b[0m\n",
      "\u001b[93m2024-02-20 16:40:22,788 - WARNING - Blocks per epoch is less than 9; defaulting to 9.\u001b[0m\n",
      "\u001b[38;20m2024-02-20 16:40:22,788 - DEBUG - Calling epochsFastForward at erd1qqqqqqqqqqqqqqqpqqqqqqqqqqqqqqqqqqqqqqqqqqqqqqqplllst77y4l\u001b[0m\n",
      "\u001b[38;20m2024-02-20 16:40:22,788 - DEBUG - Args: [1, 9]\u001b[0m\n",
      "\u001b[38;20m2024-02-20 16:40:23,907 - DEBUG - Contract call arguments: [1, 9]\u001b[0m\n",
      "\u001b[92m2024-02-20 16:40:27,694 - INFO - No explorer known for https://proxy-shadowfork-three.elrond.ro. transaction raw path: https://proxy-shadowfork-three.elrond.ro/transaction/f585f9b53f4dda1842afa1d33a872363fddafb19b9f1071c47f6ee59a6e0205b\u001b[0m\n"
     ]
    },
    {
     "name": "stdout",
     "output_type": "stream",
     "text": [
      "Current epoch: 1302\n",
      "Current epoch: 1302\n"
     ]
    },
    {
     "name": "stderr",
     "output_type": "stream",
     "text": [
      "\u001b[38;20m2024-02-20 16:41:32,466 - DEBUG - Account.sync_nonce() done: 3514\u001b[0m\n",
      "\u001b[92m2024-02-20 16:41:32,467 - INFO - fast forward epoch\u001b[0m\n",
      "\u001b[92m2024-02-20 16:41:32,467 - INFO - Fast forwarding 1 epochs\u001b[0m\n",
      "\u001b[93m2024-02-20 16:41:32,468 - WARNING - Blocks per epoch is less than 9; defaulting to 9.\u001b[0m\n",
      "\u001b[38;20m2024-02-20 16:41:32,469 - DEBUG - Calling epochsFastForward at erd1qqqqqqqqqqqqqqqpqqqqqqqqqqqqqqqqqqqqqqqqqqqqqqqplllst77y4l\u001b[0m\n",
      "\u001b[38;20m2024-02-20 16:41:32,470 - DEBUG - Args: [1, 9]\u001b[0m\n",
      "\u001b[38;20m2024-02-20 16:41:33,599 - DEBUG - Contract call arguments: [1, 9]\u001b[0m\n",
      "\u001b[92m2024-02-20 16:41:34,299 - INFO - No explorer known for https://proxy-shadowfork-three.elrond.ro. transaction raw path: https://proxy-shadowfork-three.elrond.ro/transaction/0729719326c523eee130f2a5b8c0114b3e51788e7368c50f0d56652b8d6ea85c\u001b[0m\n"
     ]
    },
    {
     "name": "stdout",
     "output_type": "stream",
     "text": [
      "Current epoch: 1303\n",
      "Current epoch: 1303\n"
     ]
    },
    {
     "name": "stderr",
     "output_type": "stream",
     "text": [
      "\u001b[38;20m2024-02-20 16:42:35,641 - DEBUG - Account.sync_nonce() done: 3515\u001b[0m\n",
      "\u001b[92m2024-02-20 16:42:35,642 - INFO - fast forward epoch\u001b[0m\n",
      "\u001b[92m2024-02-20 16:42:35,642 - INFO - Fast forwarding 1 epochs\u001b[0m\n",
      "\u001b[93m2024-02-20 16:42:35,643 - WARNING - Blocks per epoch is less than 9; defaulting to 9.\u001b[0m\n",
      "\u001b[38;20m2024-02-20 16:42:35,644 - DEBUG - Calling epochsFastForward at erd1qqqqqqqqqqqqqqqpqqqqqqqqqqqqqqqqqqqqqqqqqqqqqqqplllst77y4l\u001b[0m\n",
      "\u001b[38;20m2024-02-20 16:42:35,645 - DEBUG - Args: [1, 9]\u001b[0m\n",
      "\u001b[38;20m2024-02-20 16:42:35,794 - DEBUG - Contract call arguments: [1, 9]\u001b[0m\n",
      "\u001b[92m2024-02-20 16:42:35,957 - INFO - No explorer known for https://proxy-shadowfork-three.elrond.ro. transaction raw path: https://proxy-shadowfork-three.elrond.ro/transaction/5a75d6cc352630dc1e80444a5e052d20a0c7108e93951aa343246d6d149c886b\u001b[0m\n"
     ]
    },
    {
     "name": "stdout",
     "output_type": "stream",
     "text": [
      "Current epoch: 1305\n",
      "Current epoch: 1305\n"
     ]
    },
    {
     "name": "stderr",
     "output_type": "stream",
     "text": [
      "\u001b[38;20m2024-02-20 16:43:38,526 - DEBUG - Account.sync_nonce() done: 3516\u001b[0m\n",
      "\u001b[92m2024-02-20 16:43:38,527 - INFO - fast forward epoch\u001b[0m\n",
      "\u001b[92m2024-02-20 16:43:38,528 - INFO - Fast forwarding 1 epochs\u001b[0m\n",
      "\u001b[93m2024-02-20 16:43:38,528 - WARNING - Blocks per epoch is less than 9; defaulting to 9.\u001b[0m\n",
      "\u001b[38;20m2024-02-20 16:43:38,528 - DEBUG - Calling epochsFastForward at erd1qqqqqqqqqqqqqqqpqqqqqqqqqqqqqqqqqqqqqqqqqqqqqqqplllst77y4l\u001b[0m\n",
      "\u001b[38;20m2024-02-20 16:43:38,529 - DEBUG - Args: [1, 9]\u001b[0m\n",
      "\u001b[38;20m2024-02-20 16:43:38,686 - DEBUG - Contract call arguments: [1, 9]\u001b[0m\n",
      "\u001b[92m2024-02-20 16:43:38,856 - INFO - No explorer known for https://proxy-shadowfork-three.elrond.ro. transaction raw path: https://proxy-shadowfork-three.elrond.ro/transaction/c16a9b9663807e468fb2ea1f0d8045be56f71291508111669bdcd93eb1a0d68b\u001b[0m\n"
     ]
    },
    {
     "name": "stdout",
     "output_type": "stream",
     "text": [
      "Current epoch: 1306\n",
      "Current epoch: 1306\n"
     ]
    },
    {
     "name": "stderr",
     "output_type": "stream",
     "text": [
      "\u001b[38;20m2024-02-20 16:44:40,106 - DEBUG - Account.sync_nonce() done: 3517\u001b[0m\n",
      "\u001b[92m2024-02-20 16:44:40,115 - INFO - fast forward epoch\u001b[0m\n",
      "\u001b[92m2024-02-20 16:44:40,116 - INFO - Fast forwarding 1 epochs\u001b[0m\n",
      "\u001b[93m2024-02-20 16:44:40,117 - WARNING - Blocks per epoch is less than 9; defaulting to 9.\u001b[0m\n",
      "\u001b[38;20m2024-02-20 16:44:40,118 - DEBUG - Calling epochsFastForward at erd1qqqqqqqqqqqqqqqpqqqqqqqqqqqqqqqqqqqqqqqqqqqqqqqplllst77y4l\u001b[0m\n",
      "\u001b[38;20m2024-02-20 16:44:40,119 - DEBUG - Args: [1, 9]\u001b[0m\n",
      "\u001b[38;20m2024-02-20 16:44:40,275 - DEBUG - Contract call arguments: [1, 9]\u001b[0m\n",
      "\u001b[92m2024-02-20 16:44:40,442 - INFO - No explorer known for https://proxy-shadowfork-three.elrond.ro. transaction raw path: https://proxy-shadowfork-three.elrond.ro/transaction/0d2031a54147ea35c3900bf6240f0075fa7a19374204bcabd9a54efc86aa9497\u001b[0m\n"
     ]
    },
    {
     "name": "stdout",
     "output_type": "stream",
     "text": [
      "Current epoch: 1307\n",
      "Current epoch: 1307\n"
     ]
    },
    {
     "name": "stderr",
     "output_type": "stream",
     "text": [
      "\u001b[38;20m2024-02-20 16:45:41,654 - DEBUG - Account.sync_nonce() done: 3518\u001b[0m\n",
      "\u001b[92m2024-02-20 16:45:41,654 - INFO - fast forward epoch\u001b[0m\n",
      "\u001b[92m2024-02-20 16:45:41,655 - INFO - Fast forwarding 1 epochs\u001b[0m\n",
      "\u001b[93m2024-02-20 16:45:41,655 - WARNING - Blocks per epoch is less than 9; defaulting to 9.\u001b[0m\n",
      "\u001b[38;20m2024-02-20 16:45:41,656 - DEBUG - Calling epochsFastForward at erd1qqqqqqqqqqqqqqqpqqqqqqqqqqqqqqqqqqqqqqqqqqqqqqqplllst77y4l\u001b[0m\n",
      "\u001b[38;20m2024-02-20 16:45:41,657 - DEBUG - Args: [1, 9]\u001b[0m\n",
      "\u001b[38;20m2024-02-20 16:45:41,810 - DEBUG - Contract call arguments: [1, 9]\u001b[0m\n",
      "\u001b[92m2024-02-20 16:45:41,962 - INFO - No explorer known for https://proxy-shadowfork-three.elrond.ro. transaction raw path: https://proxy-shadowfork-three.elrond.ro/transaction/2735970676ebe8d8965e8c6211b26e20b740b5862c7dba157afdf681d0dd73cb\u001b[0m\n"
     ]
    },
    {
     "name": "stdout",
     "output_type": "stream",
     "text": [
      "Current epoch: 1307\n",
      "Current epoch: 1307\n"
     ]
    },
    {
     "name": "stderr",
     "output_type": "stream",
     "text": [
      "\u001b[38;20m2024-02-20 16:46:44,409 - DEBUG - Account.sync_nonce() done: 3519\u001b[0m\n",
      "\u001b[92m2024-02-20 16:46:44,418 - INFO - fast forward epoch\u001b[0m\n",
      "\u001b[92m2024-02-20 16:46:44,418 - INFO - Fast forwarding 1 epochs\u001b[0m\n",
      "\u001b[93m2024-02-20 16:46:44,419 - WARNING - Blocks per epoch is less than 9; defaulting to 9.\u001b[0m\n",
      "\u001b[38;20m2024-02-20 16:46:44,419 - DEBUG - Calling epochsFastForward at erd1qqqqqqqqqqqqqqqpqqqqqqqqqqqqqqqqqqqqqqqqqqqqqqqplllst77y4l\u001b[0m\n",
      "\u001b[38;20m2024-02-20 16:46:44,420 - DEBUG - Args: [1, 9]\u001b[0m\n",
      "\u001b[38;20m2024-02-20 16:46:44,586 - DEBUG - Contract call arguments: [1, 9]\u001b[0m\n",
      "\u001b[92m2024-02-20 16:46:45,234 - INFO - No explorer known for https://proxy-shadowfork-three.elrond.ro. transaction raw path: https://proxy-shadowfork-three.elrond.ro/transaction/e93ff8d0b1621ac27d3a2e2ffe507a49d3fc872b1f8c3be510c3ec357fc46220\u001b[0m\n"
     ]
    },
    {
     "name": "stdout",
     "output_type": "stream",
     "text": [
      "Current epoch: 1308\n",
      "Current epoch: 1308\n"
     ]
    },
    {
     "name": "stderr",
     "output_type": "stream",
     "text": [
      "\u001b[38;20m2024-02-20 16:47:46,618 - DEBUG - Account.sync_nonce() done: 3520\u001b[0m\n",
      "\u001b[92m2024-02-20 16:47:46,619 - INFO - fast forward epoch\u001b[0m\n",
      "\u001b[92m2024-02-20 16:47:46,620 - INFO - Fast forwarding 1 epochs\u001b[0m\n",
      "\u001b[93m2024-02-20 16:47:46,621 - WARNING - Blocks per epoch is less than 9; defaulting to 9.\u001b[0m\n",
      "\u001b[38;20m2024-02-20 16:47:46,621 - DEBUG - Calling epochsFastForward at erd1qqqqqqqqqqqqqqqpqqqqqqqqqqqqqqqqqqqqqqqqqqqqqqqplllst77y4l\u001b[0m\n",
      "\u001b[38;20m2024-02-20 16:47:46,623 - DEBUG - Args: [1, 9]\u001b[0m\n",
      "\u001b[38;20m2024-02-20 16:47:46,789 - DEBUG - Contract call arguments: [1, 9]\u001b[0m\n",
      "\u001b[92m2024-02-20 16:47:46,933 - INFO - No explorer known for https://proxy-shadowfork-three.elrond.ro. transaction raw path: https://proxy-shadowfork-three.elrond.ro/transaction/58a249916a115e5fb7accf24011146ec943857bf806be931164912dbb00ee7cf\u001b[0m\n"
     ]
    },
    {
     "name": "stdout",
     "output_type": "stream",
     "text": [
      "Current epoch: 1309\n",
      "Current epoch: 1309\n"
     ]
    },
    {
     "name": "stderr",
     "output_type": "stream",
     "text": [
      "\u001b[38;20m2024-02-20 16:48:49,988 - DEBUG - Account.sync_nonce() done: 3521\u001b[0m\n",
      "\u001b[92m2024-02-20 16:48:49,988 - INFO - fast forward epoch\u001b[0m\n",
      "\u001b[92m2024-02-20 16:48:49,989 - INFO - Fast forwarding 1 epochs\u001b[0m\n",
      "\u001b[93m2024-02-20 16:48:49,990 - WARNING - Blocks per epoch is less than 9; defaulting to 9.\u001b[0m\n",
      "\u001b[38;20m2024-02-20 16:48:49,991 - DEBUG - Calling epochsFastForward at erd1qqqqqqqqqqqqqqqpqqqqqqqqqqqqqqqqqqqqqqqqqqqqqqqplllst77y4l\u001b[0m\n",
      "\u001b[38;20m2024-02-20 16:48:49,991 - DEBUG - Args: [1, 9]\u001b[0m\n",
      "\u001b[38;20m2024-02-20 16:48:50,145 - DEBUG - Contract call arguments: [1, 9]\u001b[0m\n",
      "\u001b[92m2024-02-20 16:48:50,301 - INFO - No explorer known for https://proxy-shadowfork-three.elrond.ro. transaction raw path: https://proxy-shadowfork-three.elrond.ro/transaction/a309abffe2966ac9cba48a634729711f8de6f28faf1c3c03c9d53866f237f2c6\u001b[0m\n"
     ]
    },
    {
     "name": "stdout",
     "output_type": "stream",
     "text": [
      "Current epoch: 1311\n",
      "Current epoch: 1311\n"
     ]
    },
    {
     "name": "stderr",
     "output_type": "stream",
     "text": [
      "\u001b[38;20m2024-02-20 16:49:51,260 - DEBUG - Account.sync_nonce() done: 3522\u001b[0m\n",
      "\u001b[92m2024-02-20 16:49:51,261 - INFO - fast forward epoch\u001b[0m\n",
      "\u001b[92m2024-02-20 16:49:51,262 - INFO - Fast forwarding 1 epochs\u001b[0m\n",
      "\u001b[93m2024-02-20 16:49:51,262 - WARNING - Blocks per epoch is less than 9; defaulting to 9.\u001b[0m\n",
      "\u001b[38;20m2024-02-20 16:49:51,263 - DEBUG - Calling epochsFastForward at erd1qqqqqqqqqqqqqqqpqqqqqqqqqqqqqqqqqqqqqqqqqqqqqqqplllst77y4l\u001b[0m\n",
      "\u001b[38;20m2024-02-20 16:49:51,263 - DEBUG - Args: [1, 9]\u001b[0m\n",
      "\u001b[38;20m2024-02-20 16:49:51,413 - DEBUG - Contract call arguments: [1, 9]\u001b[0m\n",
      "\u001b[92m2024-02-20 16:49:51,565 - INFO - No explorer known for https://proxy-shadowfork-three.elrond.ro. transaction raw path: https://proxy-shadowfork-three.elrond.ro/transaction/b6d34e942cc959e5ed7faae33e6e8a1e4265f235de403a24c54a965e3c024250\u001b[0m\n"
     ]
    },
    {
     "name": "stdout",
     "output_type": "stream",
     "text": [
      "Current epoch: 1312\n",
      "Current epoch: 1312\n"
     ]
    },
    {
     "name": "stderr",
     "output_type": "stream",
     "text": [
      "\u001b[38;20m2024-02-20 16:50:53,332 - DEBUG - Account.sync_nonce() done: 3523\u001b[0m\n",
      "\u001b[92m2024-02-20 16:50:53,333 - INFO - fast forward epoch\u001b[0m\n",
      "\u001b[92m2024-02-20 16:50:53,334 - INFO - Fast forwarding 1 epochs\u001b[0m\n",
      "\u001b[93m2024-02-20 16:50:53,335 - WARNING - Blocks per epoch is less than 9; defaulting to 9.\u001b[0m\n",
      "\u001b[38;20m2024-02-20 16:50:53,336 - DEBUG - Calling epochsFastForward at erd1qqqqqqqqqqqqqqqpqqqqqqqqqqqqqqqqqqqqqqqqqqqqqqqplllst77y4l\u001b[0m\n",
      "\u001b[38;20m2024-02-20 16:50:53,336 - DEBUG - Args: [1, 9]\u001b[0m\n",
      "\u001b[38;20m2024-02-20 16:50:53,540 - DEBUG - Contract call arguments: [1, 9]\u001b[0m\n",
      "\u001b[92m2024-02-20 16:50:54,012 - INFO - No explorer known for https://proxy-shadowfork-three.elrond.ro. transaction raw path: https://proxy-shadowfork-three.elrond.ro/transaction/f8e2c6d0a282df12bc48dba774bb16a6109930772cb4b490ab6c0616607525d4\u001b[0m\n"
     ]
    },
    {
     "name": "stdout",
     "output_type": "stream",
     "text": [
      "Current epoch: 1313\n",
      "Current epoch: 1313\n"
     ]
    },
    {
     "name": "stderr",
     "output_type": "stream",
     "text": [
      "\u001b[38;20m2024-02-20 16:51:56,127 - DEBUG - Account.sync_nonce() done: 3524\u001b[0m\n",
      "\u001b[92m2024-02-20 16:51:56,128 - INFO - fast forward epoch\u001b[0m\n",
      "\u001b[92m2024-02-20 16:51:56,128 - INFO - Fast forwarding 1 epochs\u001b[0m\n",
      "\u001b[93m2024-02-20 16:51:56,129 - WARNING - Blocks per epoch is less than 9; defaulting to 9.\u001b[0m\n",
      "\u001b[38;20m2024-02-20 16:51:56,129 - DEBUG - Calling epochsFastForward at erd1qqqqqqqqqqqqqqqpqqqqqqqqqqqqqqqqqqqqqqqqqqqqqqqplllst77y4l\u001b[0m\n",
      "\u001b[38;20m2024-02-20 16:51:56,130 - DEBUG - Args: [1, 9]\u001b[0m\n",
      "\u001b[38;20m2024-02-20 16:51:56,282 - DEBUG - Contract call arguments: [1, 9]\u001b[0m\n",
      "\u001b[92m2024-02-20 16:51:56,431 - INFO - No explorer known for https://proxy-shadowfork-three.elrond.ro. transaction raw path: https://proxy-shadowfork-three.elrond.ro/transaction/caf154529b4e2d83b41bf2143315832bb9bfde626ca73d3c22c8c312cccc060e\u001b[0m\n"
     ]
    },
    {
     "name": "stdout",
     "output_type": "stream",
     "text": [
      "Current epoch: 1314\n",
      "Current epoch: 1314\n"
     ]
    },
    {
     "name": "stderr",
     "output_type": "stream",
     "text": [
      "\u001b[38;20m2024-02-20 16:53:00,923 - DEBUG - Account.sync_nonce() done: 3525\u001b[0m\n",
      "\u001b[92m2024-02-20 16:53:00,924 - INFO - fast forward epoch\u001b[0m\n",
      "\u001b[92m2024-02-20 16:53:00,925 - INFO - Fast forwarding 1 epochs\u001b[0m\n",
      "\u001b[93m2024-02-20 16:53:00,926 - WARNING - Blocks per epoch is less than 9; defaulting to 9.\u001b[0m\n",
      "\u001b[38;20m2024-02-20 16:53:00,926 - DEBUG - Calling epochsFastForward at erd1qqqqqqqqqqqqqqqpqqqqqqqqqqqqqqqqqqqqqqqqqqqqqqqplllst77y4l\u001b[0m\n",
      "\u001b[38;20m2024-02-20 16:53:00,927 - DEBUG - Args: [1, 9]\u001b[0m\n",
      "\u001b[38;20m2024-02-20 16:53:01,078 - DEBUG - Contract call arguments: [1, 9]\u001b[0m\n",
      "\u001b[92m2024-02-20 16:53:03,737 - INFO - No explorer known for https://proxy-shadowfork-three.elrond.ro. transaction raw path: https://proxy-shadowfork-three.elrond.ro/transaction/8f1b219b79ed4c3d8ad2a2776433a7c7b576dcff409c282bd878ca47ae3fca87\u001b[0m\n"
     ]
    },
    {
     "name": "stdout",
     "output_type": "stream",
     "text": [
      "Current epoch: 1314\n",
      "Current epoch: 1314\n"
     ]
    },
    {
     "name": "stderr",
     "output_type": "stream",
     "text": [
      "\u001b[38;20m2024-02-20 16:54:06,792 - DEBUG - Account.sync_nonce() done: 3526\u001b[0m\n",
      "\u001b[92m2024-02-20 16:54:06,793 - INFO - fast forward epoch\u001b[0m\n",
      "\u001b[92m2024-02-20 16:54:06,793 - INFO - Fast forwarding 1 epochs\u001b[0m\n",
      "\u001b[93m2024-02-20 16:54:06,794 - WARNING - Blocks per epoch is less than 9; defaulting to 9.\u001b[0m\n",
      "\u001b[38;20m2024-02-20 16:54:06,794 - DEBUG - Calling epochsFastForward at erd1qqqqqqqqqqqqqqqpqqqqqqqqqqqqqqqqqqqqqqqqqqqqqqqplllst77y4l\u001b[0m\n",
      "\u001b[38;20m2024-02-20 16:54:06,795 - DEBUG - Args: [1, 9]\u001b[0m\n",
      "\u001b[38;20m2024-02-20 16:54:06,966 - DEBUG - Contract call arguments: [1, 9]\u001b[0m\n",
      "\u001b[92m2024-02-20 16:54:09,456 - INFO - No explorer known for https://proxy-shadowfork-three.elrond.ro. transaction raw path: https://proxy-shadowfork-three.elrond.ro/transaction/67b4ec2614a2cf06f1a3f99db9f1a090ecccf4edc32a2ad8fae0ea81856d798f\u001b[0m\n"
     ]
    },
    {
     "name": "stdout",
     "output_type": "stream",
     "text": [
      "Current epoch: 1315\n",
      "Current epoch: 1315\n"
     ]
    },
    {
     "name": "stderr",
     "output_type": "stream",
     "text": [
      "\u001b[38;20m2024-02-20 16:55:13,151 - DEBUG - Account.sync_nonce() done: 3527\u001b[0m\n",
      "\u001b[92m2024-02-20 16:55:13,152 - INFO - fast forward epoch\u001b[0m\n",
      "\u001b[92m2024-02-20 16:55:13,153 - INFO - Fast forwarding 1 epochs\u001b[0m\n",
      "\u001b[93m2024-02-20 16:55:13,153 - WARNING - Blocks per epoch is less than 9; defaulting to 9.\u001b[0m\n",
      "\u001b[38;20m2024-02-20 16:55:13,153 - DEBUG - Calling epochsFastForward at erd1qqqqqqqqqqqqqqqpqqqqqqqqqqqqqqqqqqqqqqqqqqqqqqqplllst77y4l\u001b[0m\n",
      "\u001b[38;20m2024-02-20 16:55:13,154 - DEBUG - Args: [1, 9]\u001b[0m\n",
      "\u001b[38;20m2024-02-20 16:55:13,312 - DEBUG - Contract call arguments: [1, 9]\u001b[0m\n",
      "\u001b[92m2024-02-20 16:55:13,525 - INFO - No explorer known for https://proxy-shadowfork-three.elrond.ro. transaction raw path: https://proxy-shadowfork-three.elrond.ro/transaction/dfb785959813239bbab316038ffed9324a15cfb34d3a516211cb80a98e156ea1\u001b[0m\n"
     ]
    },
    {
     "name": "stdout",
     "output_type": "stream",
     "text": [
      "Current epoch: 1317\n",
      "Current epoch: 1317\n"
     ]
    },
    {
     "name": "stderr",
     "output_type": "stream",
     "text": [
      "\u001b[38;20m2024-02-20 16:56:15,553 - DEBUG - Account.sync_nonce() done: 3528\u001b[0m\n",
      "\u001b[92m2024-02-20 16:56:15,553 - INFO - fast forward epoch\u001b[0m\n",
      "\u001b[92m2024-02-20 16:56:15,555 - INFO - Fast forwarding 1 epochs\u001b[0m\n",
      "\u001b[93m2024-02-20 16:56:15,556 - WARNING - Blocks per epoch is less than 9; defaulting to 9.\u001b[0m\n",
      "\u001b[38;20m2024-02-20 16:56:15,557 - DEBUG - Calling epochsFastForward at erd1qqqqqqqqqqqqqqqpqqqqqqqqqqqqqqqqqqqqqqqqqqqqqqqplllst77y4l\u001b[0m\n",
      "\u001b[38;20m2024-02-20 16:56:15,558 - DEBUG - Args: [1, 9]\u001b[0m\n",
      "\u001b[38;20m2024-02-20 16:56:15,709 - DEBUG - Contract call arguments: [1, 9]\u001b[0m\n",
      "\u001b[92m2024-02-20 16:56:15,895 - INFO - No explorer known for https://proxy-shadowfork-three.elrond.ro. transaction raw path: https://proxy-shadowfork-three.elrond.ro/transaction/6f26c00b2a7e52840161951e013cfc480295c950ca27f47423a09bbdc2f61ec0\u001b[0m\n"
     ]
    },
    {
     "name": "stdout",
     "output_type": "stream",
     "text": [
      "Current epoch: 1318\n",
      "Current epoch: 1318\n"
     ]
    },
    {
     "name": "stderr",
     "output_type": "stream",
     "text": [
      "\u001b[38;20m2024-02-20 16:57:21,898 - DEBUG - Account.sync_nonce() done: 3529\u001b[0m\n",
      "\u001b[92m2024-02-20 16:57:21,899 - INFO - fast forward epoch\u001b[0m\n",
      "\u001b[92m2024-02-20 16:57:21,900 - INFO - Fast forwarding 1 epochs\u001b[0m\n",
      "\u001b[93m2024-02-20 16:57:21,901 - WARNING - Blocks per epoch is less than 9; defaulting to 9.\u001b[0m\n",
      "\u001b[38;20m2024-02-20 16:57:21,902 - DEBUG - Calling epochsFastForward at erd1qqqqqqqqqqqqqqqpqqqqqqqqqqqqqqqqqqqqqqqqqqqqqqqplllst77y4l\u001b[0m\n",
      "\u001b[38;20m2024-02-20 16:57:21,903 - DEBUG - Args: [1, 9]\u001b[0m\n",
      "\u001b[38;20m2024-02-20 16:57:22,161 - DEBUG - Contract call arguments: [1, 9]\u001b[0m\n",
      "\u001b[92m2024-02-20 16:57:22,320 - INFO - No explorer known for https://proxy-shadowfork-three.elrond.ro. transaction raw path: https://proxy-shadowfork-three.elrond.ro/transaction/8c1bd16fa437126cd3e39de31b3a70a4cee7e845da01fe327e62b424f4c31d3d\u001b[0m\n"
     ]
    },
    {
     "name": "stdout",
     "output_type": "stream",
     "text": [
      "Current epoch: 1319\n",
      "Current epoch: 1319\n"
     ]
    },
    {
     "name": "stderr",
     "output_type": "stream",
     "text": [
      "\u001b[38;20m2024-02-20 16:58:27,693 - DEBUG - Account.sync_nonce() done: 3530\u001b[0m\n",
      "\u001b[92m2024-02-20 16:58:27,693 - INFO - fast forward epoch\u001b[0m\n",
      "\u001b[92m2024-02-20 16:58:27,694 - INFO - Fast forwarding 1 epochs\u001b[0m\n",
      "\u001b[93m2024-02-20 16:58:27,695 - WARNING - Blocks per epoch is less than 9; defaulting to 9.\u001b[0m\n",
      "\u001b[38;20m2024-02-20 16:58:27,695 - DEBUG - Calling epochsFastForward at erd1qqqqqqqqqqqqqqqpqqqqqqqqqqqqqqqqqqqqqqqqqqqqqqqplllst77y4l\u001b[0m\n",
      "\u001b[38;20m2024-02-20 16:58:27,696 - DEBUG - Args: [1, 9]\u001b[0m\n",
      "\u001b[38;20m2024-02-20 16:58:27,904 - DEBUG - Contract call arguments: [1, 9]\u001b[0m\n",
      "\u001b[92m2024-02-20 16:58:30,809 - INFO - No explorer known for https://proxy-shadowfork-three.elrond.ro. transaction raw path: https://proxy-shadowfork-three.elrond.ro/transaction/2886066e2efc80ca429441cbde40e155c22b7f8e173c52d53e409ba12bc35b2e\u001b[0m\n"
     ]
    },
    {
     "name": "stdout",
     "output_type": "stream",
     "text": [
      "Current epoch: 1319\n",
      "Current epoch: 1319\n"
     ]
    },
    {
     "name": "stderr",
     "output_type": "stream",
     "text": [
      "\u001b[38;20m2024-02-20 16:59:35,558 - DEBUG - Account.sync_nonce() done: 3531\u001b[0m\n",
      "\u001b[92m2024-02-20 16:59:35,558 - INFO - fast forward epoch\u001b[0m\n",
      "\u001b[92m2024-02-20 16:59:35,559 - INFO - Fast forwarding 1 epochs\u001b[0m\n",
      "\u001b[93m2024-02-20 16:59:35,560 - WARNING - Blocks per epoch is less than 9; defaulting to 9.\u001b[0m\n",
      "\u001b[38;20m2024-02-20 16:59:35,561 - DEBUG - Calling epochsFastForward at erd1qqqqqqqqqqqqqqqpqqqqqqqqqqqqqqqqqqqqqqqqqqqqqqqplllst77y4l\u001b[0m\n",
      "\u001b[38;20m2024-02-20 16:59:35,561 - DEBUG - Args: [1, 9]\u001b[0m\n",
      "\u001b[38;20m2024-02-20 16:59:35,711 - DEBUG - Contract call arguments: [1, 9]\u001b[0m\n",
      "\u001b[92m2024-02-20 16:59:35,895 - INFO - No explorer known for https://proxy-shadowfork-three.elrond.ro. transaction raw path: https://proxy-shadowfork-three.elrond.ro/transaction/9503c2a4b30e7e60a87d6d2cb356032c01f84e3f9961a7d4c2d7c9fbf242c4b4\u001b[0m\n"
     ]
    },
    {
     "name": "stdout",
     "output_type": "stream",
     "text": [
      "Current epoch: 1320\n"
     ]
    }
   ],
   "source": [
    "from time import sleep\n",
    "epocs_to_advance = 5\n",
    "for i in range(epocs_to_advance):\n",
    "    current_epoch = context.network_provider.proxy.get_network_status(1).epoch_number\n",
    "    print(f'Current epoch: {current_epoch}')\n",
    "    context.admin_account.sync_nonce(context.network_provider.proxy)\n",
    "    sf_control_contract.epochs_fast_forward(context.admin_account, context.network_provider.proxy, 1, 5)\n",
    "    sleep(60)\n",
    "    current_epoch = context.network_provider.proxy.get_network_status(1).epoch_number\n",
    "    print(f'Current epoch: {current_epoch}')"
   ]
  },
  {
   "cell_type": "markdown",
   "metadata": {},
   "source": [
    "Control epochs in batch"
   ]
  },
  {
   "cell_type": "code",
   "execution_count": 4,
   "metadata": {},
   "outputs": [
    {
     "name": "stdout",
     "output_type": "stream",
     "text": [
      "Current epoch: 1301\n"
     ]
    },
    {
     "name": "stderr",
     "output_type": "stream",
     "text": [
      "\u001b[38;20m2024-02-21 20:48:32,781 - DEBUG - Account.sync_nonce() done: 3511\u001b[0m\n",
      "\u001b[92m2024-02-21 20:48:32,782 - INFO - fast forward epoch\u001b[0m\n",
      "\u001b[92m2024-02-21 20:48:32,783 - INFO - Fast forwarding 22 epochs\u001b[0m\n",
      "\u001b[38;20m2024-02-21 20:48:32,785 - DEBUG - Calling epochsFastForward at erd1qqqqqqqqqqqqqqqpqqqqqqqqqqqqqqqqqqqqqqqqqqqqqqqplllst77y4l\u001b[0m\n",
      "\u001b[38;20m2024-02-21 20:48:32,786 - DEBUG - Args: [22, 9]\u001b[0m\n",
      "\u001b[38;20m2024-02-21 20:48:33,402 - DEBUG - Contract call arguments: [22, 9]\u001b[0m\n",
      "\u001b[92m2024-02-21 20:48:33,814 - INFO - No explorer known for https://proxy-shadowfork-three.elrond.ro. transaction raw path: https://proxy-shadowfork-three.elrond.ro/transaction/e4b0eee0dd967c0b52de1891ab97208f1c98e022cdccd09aadb7a8dc51542ecb\u001b[0m\n"
     ]
    },
    {
     "data": {
      "text/plain": [
       "'e4b0eee0dd967c0b52de1891ab97208f1c98e022cdccd09aadb7a8dc51542ecb'"
      ]
     },
     "execution_count": 4,
     "metadata": {},
     "output_type": "execute_result"
    }
   ],
   "source": [
    "from time import sleep\n",
    "epocs_to_advance = 22\n",
    "current_epoch = context.network_provider.proxy.get_network_status(1).epoch_number\n",
    "print(f'Current epoch: {current_epoch}')\n",
    "context.admin_account.sync_nonce(context.network_provider.proxy)\n",
    "sf_control_contract.epochs_fast_forward(context.deployer_account, context.network_provider.proxy, epocs_to_advance, 9)"
   ]
  },
  {
   "cell_type": "code",
   "execution_count": 7,
   "metadata": {},
   "outputs": [
    {
     "name": "stdout",
     "output_type": "stream",
     "text": [
      "Current epoch: 1317\n",
      "Current epoch: 1317\n",
      "Current epoch: 1317\n",
      "Current epoch: 1317\n"
     ]
    },
    {
     "ename": "KeyboardInterrupt",
     "evalue": "",
     "output_type": "error",
     "traceback": [
      "\u001b[0;31m---------------------------------------------------------------------------\u001b[0m",
      "\u001b[0;31mKeyboardInterrupt\u001b[0m                         Traceback (most recent call last)",
      "Cell \u001b[0;32mIn[7], line 7\u001b[0m\n\u001b[1;32m      5\u001b[0m     current_epoch \u001b[38;5;241m=\u001b[39m context\u001b[38;5;241m.\u001b[39mnetwork_provider\u001b[38;5;241m.\u001b[39mproxy\u001b[38;5;241m.\u001b[39mget_network_status(\u001b[38;5;241m1\u001b[39m)\u001b[38;5;241m.\u001b[39mepoch_number\n\u001b[1;32m      6\u001b[0m     \u001b[38;5;28mprint\u001b[39m(\u001b[38;5;124mf\u001b[39m\u001b[38;5;124m'\u001b[39m\u001b[38;5;124mCurrent epoch: \u001b[39m\u001b[38;5;132;01m{\u001b[39;00mcurrent_epoch\u001b[38;5;132;01m}\u001b[39;00m\u001b[38;5;124m'\u001b[39m)\n\u001b[0;32m----> 7\u001b[0m     \u001b[43msleep\u001b[49m\u001b[43m(\u001b[49m\u001b[38;5;241;43m10\u001b[39;49m\u001b[43m)\u001b[49m\n\u001b[1;32m      8\u001b[0m \u001b[38;5;28mprint\u001b[39m(\u001b[38;5;124m'\u001b[39m\u001b[38;5;124mReached target epoch!\u001b[39m\u001b[38;5;124m'\u001b[39m)\n",
      "\u001b[0;31mKeyboardInterrupt\u001b[0m: "
     ]
    }
   ],
   "source": [
    "from time import sleep\n",
    "\n",
    "target_epoch = current_epoch + epocs_to_advance\n",
    "while current_epoch < target_epoch:\n",
    "    current_epoch = context.network_provider.proxy.get_network_status(1).epoch_number\n",
    "    print(f'Current epoch: {current_epoch}')\n",
    "    sleep(10)\n",
    "print('Reached target epoch!')"
   ]
  },
  {
   "cell_type": "markdown",
   "metadata": {},
   "source": [
    "Transfer eGLD"
   ]
  },
  {
   "cell_type": "code",
   "execution_count": null,
   "metadata": {},
   "outputs": [],
   "source": [
    "from utils.utils_chain import Account, WrapperAddress, nominated_amount\n",
    "from utils.utils_tx import endpoint_call\n",
    "\n",
    "sender = Account(pem_file=config.DEFAULT_ADMIN)\n",
    "receiver = WrapperAddress(\"\")\n",
    "amount = nominated_amount(1)\n",
    "\n",
    "sender.sync_nonce(context.network_provider.proxy)\n",
    "endpoint_call(context.network_provider.proxy, 100000, sender, receiver, \"cado\", [], amount)"
   ]
  },
  {
   "cell_type": "markdown",
   "metadata": {},
   "source": [
    "Transfer ESDTs"
   ]
  },
  {
   "cell_type": "code",
   "execution_count": null,
   "metadata": {},
   "outputs": [],
   "source": [
    "from utils.utils_chain import Account, WrapperAddress\n",
    "from utils.utils_tx import ESDTToken, multi_esdt_transfer\n",
    "\n",
    "sender = Account(pem_file=config.DEFAULT_ADMIN)\n",
    "\n",
    "sender.address = WrapperAddress('')\n",
    "receiver = WrapperAddress('')\n",
    "\n",
    "tokens = [\n",
    "    ESDTToken('TSLA-4C9', 0, 1000000000000000000),\n",
    "]\n",
    "\n",
    "sender.sync_nonce(context.network_provider.proxy)\n",
    "multi_esdt_transfer(context.network_provider.proxy, 1000000, sender, receiver, tokens)"
   ]
  }
 ],
 "metadata": {
  "kernelspec": {
   "display_name": "venv-newerdpy",
   "language": "python",
   "name": "python3"
  },
  "language_info": {
   "codemirror_mode": {
    "name": "ipython",
    "version": 3
   },
   "file_extension": ".py",
   "mimetype": "text/x-python",
   "name": "python",
   "nbconvert_exporter": "python",
   "pygments_lexer": "ipython3",
   "version": "3.11.6"
  },
  "orig_nbformat": 4,
  "vscode": {
   "interpreter": {
    "hash": "7ae6ab0abdf10440b34f03794a69a71508ff61341cacd694fe6034a1a71d3b05"
   }
  }
 },
 "nbformat": 4,
 "nbformat_minor": 2
}
