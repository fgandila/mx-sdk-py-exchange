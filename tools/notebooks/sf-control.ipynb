{
 "cells": [
  {
   "cell_type": "code",
   "execution_count": null,
   "metadata": {},
   "outputs": [],
   "source": [
    "import sys\n",
    "from pathlib import Path\n",
    "sys.path.append(str(Path.cwd().parent.parent.absolute()))\n",
    "import config"
   ]
  },
  {
   "cell_type": "code",
   "execution_count": null,
   "metadata": {},
   "outputs": [],
   "source": [
    "from context import Context\n",
    "\n",
    "context = Context()"
   ]
  },
  {
   "cell_type": "code",
   "execution_count": null,
   "metadata": {},
   "outputs": [],
   "source": [
    "from contracts.builtin_contracts import SFControlContract\n",
    "\n",
    "sf_control_contract = SFControlContract(config.SF_CONTROL_ADDRESS)"
   ]
  },
  {
   "cell_type": "markdown",
   "metadata": {},
   "source": [
    "Start"
   ]
  },
  {
   "cell_type": "markdown",
   "metadata": {},
   "source": [
    "Control epochs one by one"
   ]
  },
  {
   "cell_type": "code",
   "execution_count": null,
   "metadata": {},
   "outputs": [],
   "source": [
    "from time import sleep\n",
    "epocs_to_advance = 5\n",
    "for i in range(epocs_to_advance):\n",
    "    current_epoch = context.network_provider.proxy.get_network_status(1).epoch_number\n",
    "    print(f'Current epoch: {current_epoch}')\n",
    "    context.admin_account.sync_nonce(context.network_provider.proxy)\n",
    "    sf_control_contract.epochs_fast_forward(context.admin_account, context.network_provider.proxy, 1, 5)\n",
    "    sleep(60)\n",
    "    current_epoch = context.network_provider.proxy.get_network_status(1).epoch_number\n",
    "    print(f'Current epoch: {current_epoch}')"
   ]
  },
  {
   "cell_type": "markdown",
   "metadata": {},
   "source": [
    "Control epochs in batch"
   ]
  },
  {
   "cell_type": "code",
   "execution_count": null,
   "metadata": {},
   "outputs": [],
   "source": [
    "from time import sleep\n",
    "epocs_to_advance = 22\n",
    "current_epoch = context.network_provider.proxy.get_network_status(1).epoch_number\n",
    "print(f'Current epoch: {current_epoch}')\n",
    "context.admin_account.sync_nonce(context.network_provider.proxy)\n",
    "sf_control_contract.epochs_fast_forward(context.deployer_account, context.network_provider.proxy, epocs_to_advance, 9)"
   ]
  },
  {
   "cell_type": "code",
   "execution_count": null,
   "metadata": {},
   "outputs": [],
   "source": [
    "from time import sleep\n",
    "\n",
    "target_epoch = current_epoch + epocs_to_advance\n",
    "while current_epoch < target_epoch:\n",
    "    current_epoch = context.network_provider.proxy.get_network_status(1).epoch_number\n",
    "    print(f'Current epoch: {current_epoch}')\n",
    "    sleep(10)\n",
    "print('Reached target epoch!')"
   ]
  },
  {
   "cell_type": "markdown",
   "metadata": {},
   "source": [
    "Transfer eGLD"
   ]
  },
  {
   "cell_type": "code",
   "execution_count": null,
   "metadata": {},
   "outputs": [],
   "source": [
    "from utils.utils_chain import Account, WrapperAddress, nominated_amount\n",
    "from utils.utils_tx import endpoint_call\n",
    "\n",
    "sender = Account(pem_file=config.DEFAULT_ADMIN)\n",
    "receiver = WrapperAddress(\"\")\n",
    "amount = nominated_amount(1)\n",
    "\n",
    "sender.sync_nonce(context.network_provider.proxy)\n",
    "endpoint_call(context.network_provider.proxy, 100000, sender, receiver, \"cado\", [], amount)"
   ]
  },
  {
   "cell_type": "markdown",
   "metadata": {},
   "source": [
    "Transfer ESDTs"
   ]
  },
  {
   "cell_type": "code",
   "execution_count": null,
   "metadata": {},
   "outputs": [],
   "source": [
    "from utils.utils_chain import Account, WrapperAddress\n",
    "from utils.utils_tx import ESDTToken, multi_esdt_transfer\n",
    "\n",
    "sender = Account(pem_file=config.DEFAULT_ADMIN)\n",
    "\n",
    "sender.address = WrapperAddress('')\n",
    "receiver = WrapperAddress('')\n",
    "\n",
    "tokens = [\n",
    "    ESDTToken('TSLA-4C9', 0, 1000000000000000000),\n",
    "]\n",
    "\n",
    "sender.sync_nonce(context.network_provider.proxy)\n",
    "multi_esdt_transfer(context.network_provider.proxy, 1000000, sender, receiver, tokens)"
   ]
  },
  {
   "cell_type": "markdown",
   "metadata": {},
   "source": [
    "XMEX Token searcher"
   ]
  },
  {
   "cell_type": "code",
   "execution_count": null,
   "metadata": {},
   "outputs": [],
   "source": [
    "from utils.decoding_structures import XMEX_ATTRIBUTES\n",
    "from utils.utils_chain import decode_merged_attributes\n",
    "from utils.utils_chain import base64_to_hex\n",
    "from multiversx_sdk_network_providers import ApiNetworkProvider\n",
    "\n",
    "searched_offset = 30\n",
    "\n",
    "energy_contract = context.get_contracts(config.SIMPLE_LOCKS_ENERGY)[0]\n",
    "locked_token = energy_contract.locked_token\n",
    "\n",
    "# get current epoch\n",
    "main_api = ApiNetworkProvider(\"https://api.multiversx.com\")\n",
    "current_epoch = context.network_provider.proxy.get_network_status(1).epoch_number\n",
    "print(f'Current epoch: {current_epoch}')\n",
    "\n",
    "for i in range(1, 10000):\n",
    "    result = main_api.get_non_fungible_token(locked_token, i)\n",
    "    if result:\n",
    "        decoded_data = decode_merged_attributes(base64_to_hex(result.attributes), XMEX_ATTRIBUTES)\n",
    "        print(i, decoded_data)\n",
    "        if current_epoch < decoded_data['unlock_epoch'] < current_epoch + searched_offset:\n",
    "            print(i)\n",
    "        if decoded_data['unlock_epoch'] < current_epoch:\n",
    "            print(i)\n",
    "            break\n",
    "    "
   ]
  },
  {
   "cell_type": "markdown",
   "metadata": {},
   "source": [
    "XMEXFARM Token searcher"
   ]
  },
  {
   "cell_type": "code",
   "execution_count": null,
   "metadata": {},
   "outputs": [],
   "source": [
    "from utils.decoding_structures import XMEX_ATTRIBUTES\n",
    "from utils.utils_chain import decode_merged_attributes\n",
    "from utils.utils_chain import base64_to_hex\n",
    "from multiversx_sdk_network_providers import ApiNetworkProvider\n",
    "from utils.decoding_structures import XMEXFARM_ATTRIBUTES, XMEXLP_ATTRIBUTES, XMEX_ATTRIBUTES, LKMEX_ATTRIBUTES\n",
    "from utils.utils_chain import decode_merged_attributes, base64_to_hex, dec_to_padded_hex\n",
    "from multiversx_sdk_network_providers import ApiNetworkProvider\n",
    "# Get token details for a given farm token\n",
    "\n",
    "searched_offset = 360*3\n",
    "\n",
    "energy_contract = context.get_contracts(config.SIMPLE_LOCKS_ENERGY)[0]\n",
    "locked_token = energy_contract.locked_token\n",
    "proxy_contract = context.get_contracts(config.PROXIES_V2)[0]\n",
    "\n",
    "# get current epoch\n",
    "main_api = ApiNetworkProvider('https://api.multiversx.com')\n",
    "used_api = main_api\n",
    "current_epoch = context.network_provider.proxy.get_network_status(1).epoch_number\n",
    "print(f'Current epoch: {current_epoch}')\n",
    "\n",
    "current_nonce = int('0472a0', 16)\n",
    "\n",
    "for i in range(1, 10000):\n",
    "    token_nonce = current_nonce - i\n",
    "    print(f\"Checking token {token_nonce} {dec_to_padded_hex(token_nonce)}\")\n",
    "    \n",
    "    try:\n",
    "        farm_token_on_network = used_api.get_non_fungible_token(proxy_contract.proxy_farm_token, token_nonce)\n",
    "    except Exception as e:\n",
    "        print(f\"Failed to get token {proxy_contract.proxy_farm_token} with nonce {token_nonce}\")\n",
    "        continue\n",
    "\n",
    "    # Decode the farm token attributes\n",
    "    decoded_xmex_farm_attributes = decode_merged_attributes(base64_to_hex(farm_token_on_network.attributes), XMEXFARM_ATTRIBUTES)\n",
    "    # print(decoded_xmex_farm_attributes)\n",
    "\n",
    "    # Decode the LP token attributes\n",
    "    xmex_lp_token_id = decoded_xmex_farm_attributes.get('proxy_token_id')\n",
    "    if xmex_lp_token_id != proxy_contract.proxy_lp_token:\n",
    "        print(f\"FAIL!!! Wrong token contained by XMEXFARM token: {xmex_lp_token_id} expected {proxy_contract.proxy_lp_token}\")\n",
    "\n",
    "    try:\n",
    "        lp_token_on_network = used_api.get_non_fungible_token(xmex_lp_token_id, decoded_xmex_farm_attributes.get('proxy_token_nonce'))\n",
    "    except Exception as e:\n",
    "        print(f\"Failed to get token {xmex_lp_token_id} with nonce {decoded_xmex_farm_attributes.get('proxy_token_nonce')}\")\n",
    "        continue\n",
    "\n",
    "    decoded_xmex_lp_attributes = decode_merged_attributes(base64_to_hex(lp_token_on_network.attributes), XMEXLP_ATTRIBUTES)\n",
    "    # print(decoded_xmex_lp_attributes)\n",
    "\n",
    "    # Decode the XMEX token attributes\n",
    "    xmex_token_id = decoded_xmex_lp_attributes.get('locked_tokens_id')\n",
    "\n",
    "    xmex_token_on_network = used_api.get_non_fungible_token(xmex_token_id, decoded_xmex_lp_attributes.get('locked_tokens_nonce'))\n",
    "\n",
    "    if \"XMEX\" in xmex_token_id:\n",
    "        decoded_attributes = decode_merged_attributes(base64_to_hex(xmex_token_on_network.attributes), XMEX_ATTRIBUTES)\n",
    "    if \"LKMEX\" in xmex_token_id:\n",
    "        decoded_attributes = decode_merged_attributes(base64_to_hex(xmex_token_on_network.attributes), LKMEX_ATTRIBUTES)\n",
    "        print(decoded_attributes)\n",
    "\n",
    "    # if decoded_attributes.get('unlock_epoch', 10000000000) < current_epoch + searched_offset:\n",
    "    #     print(f\"Found token {token_nonce} : {dec_to_padded_hex(token_nonce)} with unlock epoch: {decoded_attributes.get('unlock_epoch')}\")\n",
    "    #     continue\n",
    "    "
   ]
  }
 ],
 "metadata": {
  "kernelspec": {
   "display_name": "venv-newerdpy",
   "language": "python",
   "name": "python3"
  },
  "language_info": {
   "codemirror_mode": {
    "name": "ipython",
    "version": 3
   },
   "file_extension": ".py",
   "mimetype": "text/x-python",
   "name": "python",
   "nbconvert_exporter": "python",
   "pygments_lexer": "ipython3",
   "version": "3.11.6"
  },
  "orig_nbformat": 4,
  "vscode": {
   "interpreter": {
    "hash": "7ae6ab0abdf10440b34f03794a69a71508ff61341cacd694fe6034a1a71d3b05"
   }
  }
 },
 "nbformat": 4,
 "nbformat_minor": 2
}
