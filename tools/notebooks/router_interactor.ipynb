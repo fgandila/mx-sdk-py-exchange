{
 "cells": [
  {
   "cell_type": "code",
   "execution_count": null,
   "metadata": {},
   "outputs": [],
   "source": [
    "import sys\n",
    "from pathlib import Path\n",
    "sys.path.append(str(Path.cwd().parent.parent.absolute()))\n",
    "import config\n",
    "from contracts.router_contract import RouterContract, RouterContractVersion\n",
    "from utils.utils_chain import Account, WrapperAddress as Address\n",
    "from tools.account_state import get_account_keys_online, report_key_files_compare\n",
    "from multiversx_sdk_network_providers import ProxyNetworkProvider\n",
    "ROUTER_ADDRESS=\"erd1qqqqqqqqqqqqqpgqq66xk9gfr4esuhem3jru86wg5hvp33a62jps2fy57p\""
   ]
  },
  {
   "attachments": {},
   "cell_type": "markdown",
   "metadata": {},
   "source": [
    "Pair creation enable"
   ]
  },
  {
   "cell_type": "code",
   "execution_count": null,
   "metadata": {},
   "outputs": [],
   "source": [
    "account = Account(pem_file=config.DEFAULT_OWNER)\n",
    "proxy = ProxyNetworkProvider(config.DEFAULT_PROXY)\n",
    "account.sync_nonce(proxy)\n",
    "router_contract = RouterContract(RouterContractVersion.V2, ROUTER_ADDRESS)\n",
    "tx = router_contract.set_pair_creation_enabled(account, proxy, [0])"
   ]
  },
  {
   "attachments": {},
   "cell_type": "markdown",
   "metadata": {},
   "source": [
    "Upgrade existing router contract"
   ]
  },
  {
   "cell_type": "code",
   "execution_count": null,
   "metadata": {},
   "outputs": [],
   "source": [
    "account = Account(pem_file=config.DEFAULT_OWNER)\n",
    "account.address = Address(\"erd1ss6u80ruas2phpmr82r42xnkd6rxy40g9jl69frppl4qez9w2jpsqj8x97\")\n",
    "proxy = ProxyNetworkProvider(config.DEFAULT_PROXY)\n",
    "account.sync_nonce(proxy)\n",
    "router_contract = RouterContract(RouterContractVersion.V2, ROUTER_ADDRESS)\n",
    "\n",
    "get_account_keys_online(router_contract.address, proxy.url, 0, \"state_dump/pre_upgrade_router.json\")\n",
    "tx = router_contract.contract_upgrade(account, proxy, config.ROUTER_V2_BYTECODE_PATH, [\"erd1qqqqqqqqqqqqqpgqj7yq0qysvn2xye0ywzkl0qn95wz8ttcr2jpscpfazv\"])\n",
    "get_account_keys_online(router_contract.address, proxy.url, 0, \"state_dump/post_upgrade_router.json\")\n",
    "report_key_files_compare(\"state_dump\", \"pre\", \"post\", True)"
   ]
  },
  {
   "attachments": {},
   "cell_type": "markdown",
   "metadata": {},
   "source": [
    "Add common tokens for swap enable"
   ]
  },
  {
   "cell_type": "code",
   "execution_count": null,
   "metadata": {},
   "outputs": [],
   "source": [
    "account = Account(pem_file=config.DEFAULT_OWNER)\n",
    "proxy = ProxyNetworkProvider(config.DEFAULT_PROXY)\n",
    "account.sync_nonce(proxy)\n",
    "router_contract = RouterContract(RouterContractVersion.V2, ROUTER_ADDRESS)\n",
    "tx = router_contract.add_common_tokens_for_user_pairs(account, proxy, \"USDC-c76f1f\", \"WEGLD-bd4d79\")"
   ]
  },
  {
   "attachments": {},
   "cell_type": "markdown",
   "metadata": {},
   "source": [
    "Add config for common token"
   ]
  },
  {
   "cell_type": "code",
   "execution_count": null,
   "metadata": {},
   "outputs": [],
   "source": [
    "account = Account(pem_file=config.DEFAULT_OWNER)\n",
    "proxy = ProxyNetworkProvider(config.DEFAULT_PROXY)\n",
    "account.sync_nonce(proxy)\n",
    "router_contract = RouterContract(RouterContractVersion.V2, ROUTER_ADDRESS)\n",
    "tx = router_contract.config_enable_by_user_parameters(account, proxy, common_token_id=\"USDC-c76f1f\", locked_token_id=\"LKESDT-fc19ba\", min_locked_token_value=495000000, min_lock_period_epochs=30)"
   ]
  },
  {
   "cell_type": "code",
   "execution_count": null,
   "metadata": {},
   "outputs": [],
   "source": [
    "account = Account(pem_file=config.DEFAULT_OWNER)\n",
    "proxy = ProxyNetworkProvider(config.DEFAULT_PROXY)\n",
    "account.sync_nonce(proxy)\n",
    "router_contract = RouterContract(RouterContractVersion.V2, ROUTER_ADDRESS)\n",
    "tx = router_contract.config_enable_by_user_parameters(account, proxy, common_token_id=\"WEGLD-bd4d79\", locked_token_id=\"LKESDT-fc19ba\", min_locked_token_value=9900000000000000000, min_lock_period_epochs=30)"
   ]
  }
 ],
 "metadata": {
  "kernelspec": {
   "display_name": ".venv",
   "language": "python",
   "name": "python3"
  },
  "language_info": {
   "codemirror_mode": {
    "name": "ipython",
    "version": 3
   },
   "file_extension": ".py",
   "mimetype": "text/x-python",
   "name": "python",
   "nbconvert_exporter": "python",
   "pygments_lexer": "ipython3",
   "version": "3.8.10"
  },
  "orig_nbformat": 4
 },
 "nbformat": 4,
 "nbformat_minor": 2
}
