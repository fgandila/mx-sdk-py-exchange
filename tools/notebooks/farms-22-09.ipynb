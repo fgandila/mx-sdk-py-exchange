{
 "cells": [
  {
   "cell_type": "code",
   "execution_count": null,
   "metadata": {},
   "outputs": [],
   "source": [
    "import sys\n",
    "from pathlib import Path\n",
    "sys.path.append(str(Path.cwd().parent.parent.absolute()))\n",
    "import config\n",
    "from utils.utils_chain import WrapperAddress as Address, Account, hex_to_string\n",
    "from utils.utils_chain import nominated_amount\n",
    "from utils.utils_tx import NetworkProviders\n",
    "from contracts.farm_contract import FarmContract\n",
    "from utils.contract_retrievers import retrieve_farm_by_address\n",
    "\n",
    "network_provider = NetworkProviders(config.DEFAULT_API, config.DEFAULT_PROXY)\n",
    "owner = Account(pem_file=config.DEFAULT_OWNER)\n",
    "owner.sync_nonce(network_provider.proxy)"
   ]
  },
  {
   "attachments": {},
   "cell_type": "markdown",
   "metadata": {},
   "source": [
    "set new rewards per block"
   ]
  },
  {
   "cell_type": "code",
   "execution_count": null,
   "metadata": {},
   "outputs": [],
   "source": [
    "farm_contract: FarmContract = retrieve_farm_by_address(\"erd1qqqqqqqqqqqqqpgqapxdp9gjxtg60mjwhle3n6h88zch9e7kkp2s8aqhkg\") # EGLDMEXFL\n",
    "print(f\"Farm token: {farm_contract.farmToken}\")\n",
    "farm_contract.set_rewards_per_block(owner, network_provider.proxy, nominated_amount(189000))"
   ]
  },
  {
   "cell_type": "code",
   "execution_count": null,
   "metadata": {},
   "outputs": [],
   "source": [
    "farm_contract: FarmContract = retrieve_farm_by_address(\"erd1qqqqqqqqqqqqqpgqv0pz5z3fkz54nml6pkzzdruuf020gqzykp2sya7kkv\") # EGLDUSDCFL\n",
    "print(f\"Farm token: {farm_contract.farmToken}\")\n",
    "farm_contract.set_rewards_per_block(owner, network_provider.proxy, nominated_amount(34600))"
   ]
  },
  {
   "cell_type": "code",
   "execution_count": null,
   "metadata": {},
   "outputs": [],
   "source": [
    "# not needed\n",
    "farm_contract: FarmContract = retrieve_farm_by_address(\"erd1qqqqqqqqqqqqqpgqenvn0s3ldc94q2mlkaqx4arj3zfnvnmakp2sxca2h9\") # EGLDRIDEFL\n",
    "print(f\"Farm token: {farm_contract.farmToken}\")\n",
    "farm_contract.set_rewards_per_block(owner, network_provider.proxy, nominated_amount(20500))"
   ]
  },
  {
   "cell_type": "code",
   "execution_count": null,
   "metadata": {},
   "outputs": [],
   "source": [
    "# not needed\n",
    "farm_contract: FarmContract = retrieve_farm_by_address(\"erd1qqqqqqqqqqqqqpgqrdq6zvepdxg36rey8pmluwur43q4hcx3kp2su4yltq\") # ITHWEGLDFL\n",
    "print(f\"Farm token: {farm_contract.farmToken}\")\n",
    "farm_contract.set_rewards_per_block(owner, network_provider.proxy, nominated_amount(13800))"
   ]
  },
  {
   "cell_type": "code",
   "execution_count": null,
   "metadata": {},
   "outputs": [],
   "source": [
    "# not needed\n",
    "farm_contract: FarmContract = retrieve_farm_by_address(\"erd1qqqqqqqqqqqqqpgq4acurmluezvmhna8tztgcrnwh0l70a2wkp2sfh6jkp\") # UTKWEGLDFL\n",
    "print(f\"Farm token: {farm_contract.farmToken}\")\n",
    "farm_contract.set_rewards_per_block(owner, network_provider.proxy, nominated_amount(13800))"
   ]
  },
  {
   "cell_type": "code",
   "execution_count": null,
   "metadata": {},
   "outputs": [],
   "source": [
    "# not needed\n",
    "farm_contract: FarmContract = retrieve_farm_by_address(\"erd1qqqqqqqqqqqqqpgquhqfknr9dg5t0xma0zcc55dm8gwv5rpkkp2sq8f40p\") # CRTWEGLDFL\n",
    "print(f\"Farm token: {farm_contract.farmToken}\")\n",
    "farm_contract.set_rewards_per_block(owner, network_provider.proxy, nominated_amount(9900))"
   ]
  },
  {
   "cell_type": "code",
   "execution_count": null,
   "metadata": {},
   "outputs": [],
   "source": [
    "# not needed\n",
    "farm_contract: FarmContract = retrieve_farm_by_address(\"erd1qqqqqqqqqqqqqpgq6v5ta4memvrhjs4x3gqn90c3pujc77takp2sqhxm9j\") # ASHWEGLDFL\n",
    "print(f\"Farm token: {farm_contract.farmToken}\")\n",
    "farm_contract.set_rewards_per_block(owner, network_provider.proxy, nominated_amount(9900))"
   ]
  },
  {
   "cell_type": "code",
   "execution_count": null,
   "metadata": {},
   "outputs": [],
   "source": [
    "farm_contract: FarmContract = retrieve_farm_by_address(\"erd1qqqqqqqqqqqqqpgqqqckvlhd3n7ntt5w3vln4xh3tsfpj0hr2jpsxlzgcj\") # ZPAYEGLDFL\n",
    "print(f\"Farm token: {farm_contract.farmToken}\")\n",
    "farm_contract.set_rewards_per_block(owner, network_provider.proxy, nominated_amount(5000))"
   ]
  },
  {
   "cell_type": "code",
   "execution_count": null,
   "metadata": {},
   "outputs": [],
   "source": [
    "farm_contract: FarmContract = retrieve_farm_by_address(\"erd1qqqqqqqqqqqqqpgqcfkmz2j0e8pj0nzuk9j6mzcav0wpthq52jpsg546ch\") # BHATEGLDFL\n",
    "print(f\"Farm token: {farm_contract.farmToken}\")\n",
    "farm_contract.set_rewards_per_block(owner, network_provider.proxy, nominated_amount(4500))"
   ]
  },
  {
   "cell_type": "code",
   "execution_count": null,
   "metadata": {},
   "outputs": [],
   "source": [
    "farm_contract: FarmContract = retrieve_farm_by_address(\"erd1qqqqqqqqqqqqqpgqr9gx79xls33tnzt0a94uvnkf452fz26q2jpsau4ulw\") # HTMEGLDFL\n",
    "print(f\"Farm token: {farm_contract.farmToken}\")\n",
    "farm_contract.set_rewards_per_block(owner, network_provider.proxy, nominated_amount(20000))"
   ]
  },
  {
   "cell_type": "code",
   "execution_count": null,
   "metadata": {},
   "outputs": [],
   "source": [
    "# not needed\n",
    "farm_contract: FarmContract = retrieve_farm_by_address(\"erd1qqqqqqqqqqqqqpgqwcdc3ve8ww6psam9hhu5nqqjlt22nagw2jpspt9rev\") # USDTEGLDFL\n",
    "print(f\"Farm token: {farm_contract.farmToken}\")\n",
    "farm_contract.set_rewards_per_block(owner, network_provider.proxy, nominated_amount(1000))"
   ]
  },
  {
   "cell_type": "code",
   "execution_count": null,
   "metadata": {},
   "outputs": [],
   "source": [
    "# not needed\n",
    "farm_contract: FarmContract = retrieve_farm_by_address(\"erd1qqqqqqqqqqqqqpgqmvzrwmwkrrzug50e64kk7xerufncp47d2jpsf9m8rx\") # WBTCEGLDFL\n",
    "print(f\"Farm token: {farm_contract.farmToken}\")\n",
    "farm_contract.set_rewards_per_block(owner, network_provider.proxy, nominated_amount(1000))"
   ]
  },
  {
   "cell_type": "code",
   "execution_count": null,
   "metadata": {},
   "outputs": [],
   "source": [
    "# not needed\n",
    "farm_contract: FarmContract = retrieve_farm_by_address(\"erd1qqqqqqqqqqqqqpgqc6fyckfxvehlwr2zvfl34dycwgtm988g2jpsrnyazn\") # WETHEGLDFL\n",
    "print(f\"Farm token: {farm_contract.farmToken}\")\n",
    "farm_contract.set_rewards_per_block(owner, network_provider.proxy, nominated_amount(500))"
   ]
  },
  {
   "cell_type": "code",
   "execution_count": null,
   "metadata": {},
   "outputs": [],
   "source": [
    "# not needed\n",
    "farm_contract: FarmContract = retrieve_farm_by_address(\"erd1qqqqqqqqqqqqqpgqm78a0zmuqlm7z5qw9nseg6ecdszafljp2jpsxkm4rp\") # QWTEGLDFL\n",
    "print(f\"Farm token: {farm_contract.farmToken}\")\n",
    "farm_contract.set_rewards_per_block(owner, network_provider.proxy, nominated_amount(4500))"
   ]
  },
  {
   "cell_type": "code",
   "execution_count": null,
   "metadata": {},
   "outputs": [],
   "source": [
    "# not needed\n",
    "farm_contract: FarmContract = retrieve_farm_by_address(\"erd1qqqqqqqqqqqqqpgqk5xplswklltypmazcxx5mhn3jdvaxuf92jpsudss7r\") # CYBEEGLDFL\n",
    "print(f\"Farm token: {farm_contract.farmToken}\")\n",
    "farm_contract.set_rewards_per_block(owner, network_provider.proxy, nominated_amount(4500))"
   ]
  },
  {
   "attachments": {},
   "cell_type": "markdown",
   "metadata": {},
   "source": [
    "start contracts"
   ]
  },
  {
   "cell_type": "code",
   "execution_count": null,
   "metadata": {},
   "outputs": [],
   "source": [
    "farm_contract: FarmContract = retrieve_farm_by_address(\"erd1qqqqqqqqqqqqqpgqwcdc3ve8ww6psam9hhu5nqqjlt22nagw2jpspt9rev\") # USDTEGLDFL\n",
    "print(f\"Farm token: {farm_contract.farmToken}\")\n",
    "farm_contract.resume(owner, network_provider.proxy)"
   ]
  },
  {
   "cell_type": "code",
   "execution_count": null,
   "metadata": {},
   "outputs": [],
   "source": [
    "farm_contract: FarmContract = retrieve_farm_by_address(\"erd1qqqqqqqqqqqqqpgqmvzrwmwkrrzug50e64kk7xerufncp47d2jpsf9m8rx\") # WBTCEGLDFL\n",
    "print(f\"Farm token: {farm_contract.farmToken}\")\n",
    "farm_contract.resume(owner, network_provider.proxy)"
   ]
  },
  {
   "cell_type": "code",
   "execution_count": null,
   "metadata": {},
   "outputs": [],
   "source": [
    "farm_contract: FarmContract = retrieve_farm_by_address(\"erd1qqqqqqqqqqqqqpgqc6fyckfxvehlwr2zvfl34dycwgtm988g2jpsrnyazn\") # WETHEGLDFL\n",
    "print(f\"Farm token: {farm_contract.farmToken}\")\n",
    "farm_contract.resume(owner, network_provider.proxy)"
   ]
  },
  {
   "cell_type": "code",
   "execution_count": null,
   "metadata": {},
   "outputs": [],
   "source": [
    "farm_contract: FarmContract = retrieve_farm_by_address(\"erd1qqqqqqqqqqqqqpgqm78a0zmuqlm7z5qw9nseg6ecdszafljp2jpsxkm4rp\") # QWTEGLDFL\n",
    "print(f\"Farm token: {farm_contract.farmToken}\")\n",
    "farm_contract.resume(owner, network_provider.proxy)"
   ]
  },
  {
   "cell_type": "code",
   "execution_count": null,
   "metadata": {},
   "outputs": [],
   "source": [
    "farm_contract: FarmContract = retrieve_farm_by_address(\"erd1qqqqqqqqqqqqqpgqk5xplswklltypmazcxx5mhn3jdvaxuf92jpsudss7r\") # CYBEEGLDFL\n",
    "print(f\"Farm token: {farm_contract.farmToken}\")\n",
    "farm_contract.resume(owner, network_provider.proxy)"
   ]
  },
  {
   "attachments": {},
   "cell_type": "markdown",
   "metadata": {},
   "source": [
    "produce rewards"
   ]
  },
  {
   "cell_type": "code",
   "execution_count": null,
   "metadata": {},
   "outputs": [],
   "source": [
    "farm_contract: FarmContract = retrieve_farm_by_address(\"erd1qqqqqqqqqqqqqpgqwcdc3ve8ww6psam9hhu5nqqjlt22nagw2jpspt9rev\") # USDTEGLDFL\n",
    "print(f\"Farm token: {farm_contract.farmToken}\")\n",
    "farm_contract.start_produce_rewards(owner, network_provider.proxy)"
   ]
  },
  {
   "cell_type": "code",
   "execution_count": null,
   "metadata": {},
   "outputs": [],
   "source": [
    "farm_contract: FarmContract = retrieve_farm_by_address(\"erd1qqqqqqqqqqqqqpgqmvzrwmwkrrzug50e64kk7xerufncp47d2jpsf9m8rx\") # WBTCEGLDFL\n",
    "print(f\"Farm token: {farm_contract.farmToken}\")\n",
    "farm_contract.start_produce_rewards(owner, network_provider.proxy)"
   ]
  },
  {
   "cell_type": "code",
   "execution_count": null,
   "metadata": {},
   "outputs": [],
   "source": [
    "farm_contract: FarmContract = retrieve_farm_by_address(\"erd1qqqqqqqqqqqqqpgqc6fyckfxvehlwr2zvfl34dycwgtm988g2jpsrnyazn\") # WETHEGLDFL\n",
    "print(f\"Farm token: {farm_contract.farmToken}\")\n",
    "farm_contract.start_produce_rewards(owner, network_provider.proxy)"
   ]
  },
  {
   "cell_type": "code",
   "execution_count": null,
   "metadata": {},
   "outputs": [],
   "source": [
    "farm_contract: FarmContract = retrieve_farm_by_address(\"erd1qqqqqqqqqqqqqpgqm78a0zmuqlm7z5qw9nseg6ecdszafljp2jpsxkm4rp\") # QWTEGLDFL\n",
    "print(f\"Farm token: {farm_contract.farmToken}\")\n",
    "farm_contract.start_produce_rewards(owner, network_provider.proxy)"
   ]
  },
  {
   "cell_type": "code",
   "execution_count": null,
   "metadata": {},
   "outputs": [],
   "source": [
    "farm_contract: FarmContract = retrieve_farm_by_address(\"erd1qqqqqqqqqqqqqpgqk5xplswklltypmazcxx5mhn3jdvaxuf92jpsudss7r\") # CYBEEGLDFL\n",
    "print(f\"Farm token: {farm_contract.farmToken}\")\n",
    "farm_contract.start_produce_rewards(owner, network_provider.proxy)"
   ]
  }
 ],
 "metadata": {
  "kernelspec": {
   "display_name": "venv-newerdpy",
   "language": "python",
   "name": "python3"
  },
  "language_info": {
   "codemirror_mode": {
    "name": "ipython",
    "version": 3
   },
   "file_extension": ".py",
   "mimetype": "text/x-python",
   "name": "python",
   "nbconvert_exporter": "python",
   "pygments_lexer": "ipython3",
   "version": "3.11.4"
  },
  "orig_nbformat": 4,
  "vscode": {
   "interpreter": {
    "hash": "7ae6ab0abdf10440b34f03794a69a71508ff61341cacd694fe6034a1a71d3b05"
   }
  }
 },
 "nbformat": 4,
 "nbformat_minor": 2
}
