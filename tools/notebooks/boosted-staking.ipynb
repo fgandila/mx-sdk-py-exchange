{
 "cells": [
  {
   "cell_type": "code",
   "execution_count": 1,
   "metadata": {},
   "outputs": [],
   "source": [
    "import sys\n",
    "from pathlib import Path\n",
    "sys.path.append(str(Path.cwd().parent.parent.absolute()))\n",
    "import config"
   ]
  },
  {
   "cell_type": "code",
   "execution_count": 2,
   "metadata": {},
   "outputs": [
    {
     "name": "stderr",
     "output_type": "stream",
     "text": [
      "\u001b[93m2024-01-08 15:13:35,580 - WARNING - Structure definition for stakings_boosted not found in /home/ovi/projects/dex/mx-sdk-py-exchange/deploy/configs-testnet/deploy_structure.json\u001b[0m\n",
      "\u001b[93m2024-01-08 15:13:35,581 - WARNING - Structure definition for metastakings_boosted not found in /home/ovi/projects/dex/mx-sdk-py-exchange/deploy/configs-testnet/deploy_structure.json\u001b[0m\n",
      "\u001b[93m2024-01-08 15:13:35,582 - WARNING - Structure definition for position_creator not found in /home/ovi/projects/dex/mx-sdk-py-exchange/deploy/configs-testnet/deploy_structure.json\u001b[0m\n"
     ]
    },
    {
     "name": "stdout",
     "output_type": "stream",
     "text": [
      "loaded 10 accounts from 1 PEM files.\n"
     ]
    },
    {
     "name": "stderr",
     "output_type": "stream",
     "text": [
      "\u001b[38;20m2024-01-08 15:13:36,517 - DEBUG - Account.sync_nonce() done: 332\u001b[0m\n",
      "\u001b[38;20m2024-01-08 15:13:36,899 - DEBUG - Account.sync_nonce() done: 3\u001b[0m\n",
      "\u001b[92m2024-01-08 15:13:36,908 - INFO - Loaded 5 tokens.\u001b[0m\n",
      "\u001b[38;20m2024-01-08 15:13:37,774 - DEBUG - Account.sync_nonce() done: 332\u001b[0m\n",
      "\u001b[92m2024-01-08 15:13:37,782 - INFO - Loaded 3 egld_wraps.\u001b[0m\n",
      "\u001b[92m2024-01-08 15:13:37,783 - INFO - Loaded 1 locked_assets.\u001b[0m\n",
      "\u001b[92m2024-01-08 15:13:37,784 - INFO - Loaded 1 proxies.\u001b[0m\n",
      "\u001b[92m2024-01-08 15:13:37,785 - INFO - Loaded 1 simple_locks.\u001b[0m\n",
      "\u001b[92m2024-01-08 15:13:37,787 - INFO - Loaded 1 simple_locks_energy.\u001b[0m\n",
      "\u001b[92m2024-01-08 15:13:37,788 - INFO - Loaded 1 fees_collectors.\u001b[0m\n",
      "\u001b[92m2024-01-08 15:13:37,789 - INFO - Loaded 1 unstakers.\u001b[0m\n",
      "\u001b[92m2024-01-08 15:13:37,790 - INFO - Loaded 1 proxies_v2.\u001b[0m\n",
      "\u001b[92m2024-01-08 15:13:37,790 - INFO - Loaded 0 router.\u001b[0m\n",
      "\u001b[92m2024-01-08 15:13:37,791 - INFO - Loaded 1 router_v2.\u001b[0m\n",
      "\u001b[92m2024-01-08 15:13:37,792 - INFO - Loaded 0 pairs.\u001b[0m\n",
      "\u001b[92m2024-01-08 15:13:37,792 - INFO - Loaded 4 pairs_v2.\u001b[0m\n",
      "\u001b[92m2024-01-08 15:13:37,793 - INFO - Loaded 1 pairs_view.\u001b[0m\n",
      "\u001b[92m2024-01-08 15:13:37,794 - INFO - Loaded 0 farms_community.\u001b[0m\n",
      "\u001b[92m2024-01-08 15:13:37,794 - INFO - Loaded 0 farms_unlocked.\u001b[0m\n",
      "\u001b[92m2024-01-08 15:13:37,795 - INFO - Loaded 0 farms_locked.\u001b[0m\n",
      "\u001b[92m2024-01-08 15:13:37,795 - INFO - Loaded 0 proxy_deployers.\u001b[0m\n",
      "\u001b[92m2024-01-08 15:13:37,797 - INFO - Loaded 4 farms_boosted.\u001b[0m\n",
      "\u001b[92m2024-01-08 15:13:37,798 - INFO - Loaded 0 price_discoveries.\u001b[0m\n",
      "\u001b[92m2024-01-08 15:13:37,799 - INFO - Loaded 0 stakings.\u001b[0m\n",
      "\u001b[92m2024-01-08 15:13:37,800 - INFO - Loaded 2 stakings_v2.\u001b[0m\n",
      "\u001b[92m2024-01-08 15:13:37,801 - INFO - Loaded 0 stakings_boosted.\u001b[0m\n",
      "\u001b[92m2024-01-08 15:13:37,801 - INFO - Loaded 0 metastakings.\u001b[0m\n",
      "\u001b[92m2024-01-08 15:13:37,802 - INFO - Loaded 1 metastakings_v2.\u001b[0m\n",
      "\u001b[92m2024-01-08 15:13:37,803 - INFO - Loaded 0 metastakings_boosted.\u001b[0m\n",
      "\u001b[92m2024-01-08 15:13:37,803 - INFO - Loaded 0 position_creator.\u001b[0m\n",
      "\u001b[38;20m2024-01-08 15:13:37,934 - DEBUG - Account.sync_nonce() done: 332\u001b[0m\n",
      "\u001b[92m2024-01-08 15:13:37,934 - INFO - Deployed contracts below:\u001b[0m\n",
      "\u001b[92m2024-01-08 15:13:37,935 - INFO - egld_wraps:\u001b[0m\n",
      "\u001b[92m2024-01-08 15:13:37,936 - INFO - Deployed egld wrapper contract: erd1qqqqqqqqqqqqqpgqqkwzsxkjc83vlfex9dmznwm7tjvxlqqkpauqx0n782\u001b[0m\n",
      "\u001b[92m2024-01-08 15:13:37,937 - INFO - Deployed egld wrapper contract: erd1qqqqqqqqqqqqqpgqhpmz3gh6jnwuyw4qxnksfh74tv8kdf6gexksrputsf\u001b[0m\n",
      "\u001b[92m2024-01-08 15:13:37,937 - INFO - Deployed egld wrapper contract: erd1qqqqqqqqqqqqqpgqvn9ew0wwn7a3pk053ezex98497hd4exqdg0q8v2e0c\u001b[0m\n",
      "\u001b[92m2024-01-08 15:13:37,938 - INFO - locked_assets:\u001b[0m\n",
      "\u001b[92m2024-01-08 15:13:37,939 - INFO - Deployed locked asset contract: erd1qqqqqqqqqqqqqpgq68yyplpvzs40urda5y7ce8xgn6kj3sarexkslzm02u\u001b[0m\n",
      "\u001b[92m2024-01-08 15:13:37,939 - INFO -  ├ Unlocked token: MEX-708726\u001b[0m\n",
      "\u001b[92m2024-01-08 15:13:37,939 - INFO -  ├ Locked token: LKMEX-828c89\u001b[0m\n",
      "\u001b[92m2024-01-08 15:13:37,940 - INFO - proxies:\u001b[0m\n",
      "\u001b[92m2024-01-08 15:13:37,940 - INFO - Deployed proxy contract: erd1qqqqqqqqqqqqqpgqyxu6kgfxmw22zx5atyal4vtpwkc62v86exkshygpfx\u001b[0m\n",
      "\u001b[92m2024-01-08 15:13:37,941 - INFO -  ├ Token: MEX-708726\u001b[0m\n",
      "\u001b[92m2024-01-08 15:13:37,941 - INFO -  ├ Locked tokens: ['LKMEX-828c89']\u001b[0m\n",
      "\u001b[92m2024-01-08 15:13:37,941 - INFO -  ├ Proxy LP token: LKLP-035d67\u001b[0m\n",
      "\u001b[92m2024-01-08 15:13:37,942 - INFO -  ├ Proxy Farm token: LKFARM-72faa3\u001b[0m\n",
      "\u001b[92m2024-01-08 15:13:37,942 - INFO - simple_locks:\u001b[0m\n",
      "\u001b[92m2024-01-08 15:13:37,942 - INFO - Deployed simple lock contract: erd1qqqqqqqqqqqqqpgq5fszwql529edaggetu7vkauc07dzed9zexksqdewxw\u001b[0m\n",
      "\u001b[92m2024-01-08 15:13:37,943 - INFO -  ├ Locked token: LKTK-c7a296\u001b[0m\n",
      "\u001b[92m2024-01-08 15:13:37,943 - INFO -  ├ Locked LP token: LKFTK-37335f\u001b[0m\n",
      "\u001b[92m2024-01-08 15:13:37,944 - INFO - simple_locks_energy:\u001b[0m\n",
      "\u001b[92m2024-01-08 15:13:37,944 - INFO - Deployed simple lock energy contract: erd1qqqqqqqqqqqqqpgqgcd4wquv46u5u9gvvz4x3avuwmjqwfstexksk37nf4\u001b[0m\n",
      "\u001b[92m2024-01-08 15:13:37,944 - INFO -  ├ Base token: MEX-708726\u001b[0m\n",
      "\u001b[92m2024-01-08 15:13:37,944 - INFO -  ├ Locked token: XMEX-e42221\u001b[0m\n",
      "\u001b[92m2024-01-08 15:13:37,945 - INFO -  ├ Locked LP token: \u001b[0m\n",
      "\u001b[92m2024-01-08 15:13:37,945 - INFO -  ├ Locked Farm token: \u001b[0m\n",
      "\u001b[92m2024-01-08 15:13:37,946 - INFO - fees_collectors:\u001b[0m\n",
      "\u001b[92m2024-01-08 15:13:37,946 - INFO - Deployed fees collector contract: erd1qqqqqqqqqqqqqpgqt5mtw8hjy5n8vkap5ea3nmd4qd9rwyzvexksw07tns\u001b[0m\n",
      "\u001b[92m2024-01-08 15:13:37,947 - INFO - unstakers:\u001b[0m\n",
      "\u001b[92m2024-01-08 15:13:37,948 - INFO - Deployed token unstake contract: erd1qqqqqqqqqqqqqpgqyxus98ytge6yt2ptesjxa5dzjfuz60dgexks3zee0k\u001b[0m\n",
      "\u001b[92m2024-01-08 15:13:37,949 - INFO - proxies_v2:\u001b[0m\n",
      "\u001b[92m2024-01-08 15:13:37,950 - INFO - Deployed proxy contract: erd1qqqqqqqqqqqqqpgqkh74aapaz5cahf4rf8fzyxvqkh6ca86yexksjtmmnm\u001b[0m\n",
      "\u001b[92m2024-01-08 15:13:37,951 - INFO -  ├ Token: MEX-708726\u001b[0m\n",
      "\u001b[92m2024-01-08 15:13:37,952 - INFO -  ├ Locked tokens: ['LKMEX-828c89', 'XMEX-e42221']\u001b[0m\n",
      "\u001b[92m2024-01-08 15:13:37,953 - INFO -  ├ Proxy LP token: XMEXLP-c175bb\u001b[0m\n",
      "\u001b[92m2024-01-08 15:13:37,953 - INFO -  ├ Proxy Farm token: XMEXFARM-2caeda\u001b[0m\n",
      "\u001b[92m2024-01-08 15:13:37,954 - INFO - router:\u001b[0m\n",
      "\u001b[92m2024-01-08 15:13:37,955 - INFO - router_v2:\u001b[0m\n",
      "\u001b[92m2024-01-08 15:13:37,956 - INFO - Deployed router contract: erd1qqqqqqqqqqqqqpgqfd2apcqxxmvngsnhmq4xfq22pfnq7gctexksm0gudw\u001b[0m\n",
      "\u001b[92m2024-01-08 15:13:37,956 - INFO - pairs:\u001b[0m\n",
      "\u001b[92m2024-01-08 15:13:37,957 - INFO - pairs_v2:\u001b[0m\n",
      "\u001b[92m2024-01-08 15:13:37,959 - INFO - Deployed pair contract: erd1qqqqqqqqqqqqqpgqzjstzefzeastekqpxz6ysh3d0k9eap9aexkscvsdqn\u001b[0m\n",
      "\u001b[92m2024-01-08 15:13:37,961 - INFO -  ├ First token: WEGLD-dd8471\u001b[0m\n",
      "\u001b[92m2024-01-08 15:13:37,962 - INFO -  ├ Second token: MEX-708726\u001b[0m\n",
      "\u001b[92m2024-01-08 15:13:37,963 - INFO -  ├ LP token: EGLDMEX-f63683\u001b[0m\n",
      "\u001b[92m2024-01-08 15:13:37,964 - INFO - Deployed pair contract: erd1qqqqqqqqqqqqqpgqfsfcrxnlym0fjlnuvus2dmlz6ju9cpsfexks8wq4d4\u001b[0m\n",
      "\u001b[92m2024-01-08 15:13:37,965 - INFO -  ├ First token: WEGLD-dd8471\u001b[0m\n",
      "\u001b[92m2024-01-08 15:13:37,967 - INFO -  ├ Second token: USDC-5bee92\u001b[0m\n",
      "\u001b[92m2024-01-08 15:13:37,968 - INFO -  ├ LP token: EGLDUSDC-ea9998\u001b[0m\n",
      "\u001b[92m2024-01-08 15:13:37,969 - INFO - Deployed pair contract: erd1qqqqqqqqqqqqqpgqzt7clww7329ajkq07x295h7hvl2hgnsaexks5m7sen\u001b[0m\n",
      "\u001b[92m2024-01-08 15:13:37,970 - INFO -  ├ First token: WEGLD-dd8471\u001b[0m\n",
      "\u001b[92m2024-01-08 15:13:37,971 - INFO -  ├ Second token: RIDE-d3a377\u001b[0m\n",
      "\u001b[92m2024-01-08 15:13:37,972 - INFO -  ├ LP token: EGLDRIDE-42736d\u001b[0m\n",
      "\u001b[92m2024-01-08 15:13:37,973 - INFO - Deployed pair contract: erd1qqqqqqqqqqqqqpgqluxegqj5fymplf8vj3qen6ryh03dukhxexks43z5kc\u001b[0m\n",
      "\u001b[92m2024-01-08 15:13:37,974 - INFO -  ├ First token: UTK-f4e83f\u001b[0m\n",
      "\u001b[92m2024-01-08 15:13:37,975 - INFO -  ├ Second token: WEGLD-dd8471\u001b[0m\n",
      "\u001b[92m2024-01-08 15:13:37,977 - INFO -  ├ LP token: UTKWEGLD-dd657e\u001b[0m\n",
      "\u001b[92m2024-01-08 15:13:37,978 - INFO - pairs_view:\u001b[0m\n",
      "\u001b[92m2024-01-08 15:13:37,979 - INFO - Deployed pair contract: erd1qqqqqqqqqqqqqpgqmdfdr9xp5glax4fcyxcf6j3wthufdrtrexkscfgj4p\u001b[0m\n",
      "\u001b[92m2024-01-08 15:13:37,980 - INFO -  ├ First token: \u001b[0m\n",
      "\u001b[92m2024-01-08 15:13:37,981 - INFO -  ├ Second token: \u001b[0m\n",
      "\u001b[92m2024-01-08 15:13:37,982 - INFO -  ├ LP token: \u001b[0m\n",
      "\u001b[92m2024-01-08 15:13:37,984 - INFO - farms_community:\u001b[0m\n",
      "\u001b[92m2024-01-08 15:13:37,985 - INFO - farms_unlocked:\u001b[0m\n",
      "\u001b[92m2024-01-08 15:13:37,987 - INFO - farms_locked:\u001b[0m\n",
      "\u001b[92m2024-01-08 15:13:37,988 - INFO - proxy_deployers:\u001b[0m\n",
      "\u001b[92m2024-01-08 15:13:37,989 - INFO - farms_boosted:\u001b[0m\n",
      "\u001b[92m2024-01-08 15:13:37,991 - INFO - Deployed farm contract: erd1qqqqqqqqqqqqqpgqk232ukl7944vmjq44krjns0yturh6ms9exksgmr2sc\u001b[0m\n",
      "\u001b[92m2024-01-08 15:13:37,992 - INFO -  ├ Farming token: EGLDMEX-f63683\u001b[0m\n",
      "\u001b[92m2024-01-08 15:13:37,993 - INFO -  ├ Farmed token: MEX-708726\u001b[0m\n",
      "\u001b[92m2024-01-08 15:13:37,994 - INFO -  ├ Farm token: EGLDMEXFL-6a8961\u001b[0m\n",
      "\u001b[92m2024-01-08 15:13:37,994 - INFO - Deployed farm contract: erd1qqqqqqqqqqqqqpgq3qw8j5kd6295y8ud4kwc7k3qyhdcvu6fexksas5lm6\u001b[0m\n",
      "\u001b[92m2024-01-08 15:13:37,995 - INFO -  ├ Farming token: EGLDUSDC-ea9998\u001b[0m\n",
      "\u001b[92m2024-01-08 15:13:37,996 - INFO -  ├ Farmed token: MEX-708726\u001b[0m\n",
      "\u001b[92m2024-01-08 15:13:37,996 - INFO -  ├ Farm token: EGLDUSDCFL-07eaa8\u001b[0m\n",
      "\u001b[92m2024-01-08 15:13:37,997 - INFO - Deployed farm contract: erd1qqqqqqqqqqqqqpgqzqlavpqgwkrnslzrl05aqms2au2327asexksc4u3qg\u001b[0m\n",
      "\u001b[92m2024-01-08 15:13:37,997 - INFO -  ├ Farming token: EGLDRIDE-42736d\u001b[0m\n",
      "\u001b[92m2024-01-08 15:13:37,998 - INFO -  ├ Farmed token: MEX-708726\u001b[0m\n",
      "\u001b[92m2024-01-08 15:13:37,999 - INFO -  ├ Farm token: EGLDRIDEFL-8f0a0a\u001b[0m\n",
      "\u001b[92m2024-01-08 15:13:38,000 - INFO - Deployed farm contract: erd1qqqqqqqqqqqqqpgqv2w0j3wveyv09mclcnnulcn0d5vwuhe8exksu2n3rz\u001b[0m\n",
      "\u001b[92m2024-01-08 15:13:38,001 - INFO -  ├ Farming token: UTKWEGLD-dd657e\u001b[0m\n",
      "\u001b[92m2024-01-08 15:13:38,002 - INFO -  ├ Farmed token: MEX-708726\u001b[0m\n",
      "\u001b[92m2024-01-08 15:13:38,003 - INFO -  ├ Farm token: UTKWEGLDFL-258770\u001b[0m\n",
      "\u001b[92m2024-01-08 15:13:38,004 - INFO - price_discoveries:\u001b[0m\n",
      "\u001b[92m2024-01-08 15:13:38,005 - INFO - stakings:\u001b[0m\n",
      "\u001b[92m2024-01-08 15:13:38,005 - INFO - stakings_v2:\u001b[0m\n",
      "\u001b[92m2024-01-08 15:13:38,006 - INFO - Deployed staking contract: erd1qqqqqqqqqqqqqpgqsaryrfe84lqez2nvlv837krxnmp7zzgtexksjnynn3\u001b[0m\n",
      "\u001b[92m2024-01-08 15:13:38,007 - INFO -  ├ Staking token: RIDE-d3a377\u001b[0m\n",
      "\u001b[92m2024-01-08 15:13:38,008 - INFO -  ├ Stake token: SRIDE-81c226\u001b[0m\n",
      "\u001b[92m2024-01-08 15:13:38,008 - INFO - Deployed staking contract: erd1qqqqqqqqqqqqqpgqjmlxhn5njuw6g4vd6zdnhce74vxvejnaexks4wv4x6\u001b[0m\n",
      "\u001b[92m2024-01-08 15:13:38,009 - INFO -  ├ Staking token: UTK-f4e83f\u001b[0m\n",
      "\u001b[92m2024-01-08 15:13:38,010 - INFO -  ├ Stake token: SUTK-591932\u001b[0m\n",
      "\u001b[92m2024-01-08 15:13:38,010 - INFO - stakings_boosted:\u001b[0m\n",
      "\u001b[92m2024-01-08 15:13:38,011 - INFO - metastakings:\u001b[0m\n",
      "\u001b[92m2024-01-08 15:13:38,012 - INFO - metastakings_v2:\u001b[0m\n",
      "\u001b[92m2024-01-08 15:13:38,013 - INFO - Deployed metastaking contract: erd1qqqqqqqqqqqqqpgqhtuarsv8v2g6wn5z85e3r7nntr3990frexksj4devm\u001b[0m\n",
      "\u001b[92m2024-01-08 15:13:38,014 - INFO -  ├ Staking token: RIDE-d3a377\u001b[0m\n",
      "\u001b[92m2024-01-08 15:13:38,015 - INFO -  ├ Metastake token: METARIDELK-c172cb\u001b[0m\n",
      "\u001b[92m2024-01-08 15:13:38,016 - INFO -  ├ Stake address: erd1qqqqqqqqqqqqqpgqsaryrfe84lqez2nvlv837krxnmp7zzgtexksjnynn3\u001b[0m\n",
      "\u001b[92m2024-01-08 15:13:38,017 - INFO -  ├ Farm address: erd1qqqqqqqqqqqqqpgqzqlavpqgwkrnslzrl05aqms2au2327asexksc4u3qg\u001b[0m\n",
      "\u001b[92m2024-01-08 15:13:38,018 - INFO -  ├ LP address: erd1qqqqqqqqqqqqqpgqzt7clww7329ajkq07x295h7hvl2hgnsaexks5m7sen\u001b[0m\n",
      "\u001b[92m2024-01-08 15:13:38,019 - INFO - metastakings_boosted:\u001b[0m\n",
      "\u001b[92m2024-01-08 15:13:38,020 - INFO - position_creator:\u001b[0m\n"
     ]
    },
    {
     "name": "stdout",
     "output_type": "stream",
     "text": [
      "\n",
      "\n",
      "\n",
      "\n",
      "\n",
      "\n",
      "\n",
      "\n",
      "\n",
      "\n",
      "\n",
      "\n",
      "\n",
      "\n",
      "\n",
      "\n",
      "\n",
      "\n",
      "\n",
      "\n",
      "\n",
      "\n",
      "\n",
      "\n",
      "\n",
      "\n"
     ]
    }
   ],
   "source": [
    "from context import Context\n",
    "from utils.utils_chain import WrapperAddress as Address, Account, hex_to_string\n",
    "from tools.notebooks import env\n",
    "\n",
    "context = Context()"
   ]
  },
  {
   "cell_type": "code",
   "execution_count": 3,
   "metadata": {},
   "outputs": [],
   "source": [
    "from contracts.staking_contract import StakingContract, EnterFarmEvent, ExitFarmEvent, ClaimRewardsFarmEvent\n",
    "from utils.contract_data_fetchers import StakingContractDataFetcher\n",
    "staking_contract: StakingContract\n",
    "staking_contract = context.get_contracts(config.STAKINGS_V2)[0]"
   ]
  },
  {
   "cell_type": "code",
   "execution_count": 4,
   "metadata": {},
   "outputs": [
    {
     "ename": "ErrBadPubkeyLength",
     "evalue": "Bad pubkey length: actual = 62, expected = 32",
     "output_type": "error",
     "traceback": [
      "\u001b[0;31m---------------------------------------------------------------------------\u001b[0m",
      "\u001b[0;31mErrBadPubkeyLength\u001b[0m                        Traceback (most recent call last)",
      "\u001b[1;32m/home/ovi/projects/dex/mx-sdk-py-exchange/tools/notebooks/boosted-staking.ipynb Cell 4\u001b[0m line \u001b[0;36m3\n\u001b[1;32m      <a href='vscode-notebook-cell:/home/ovi/projects/dex/mx-sdk-py-exchange/tools/notebooks/boosted-staking.ipynb#W3sZmlsZQ%3D%3D?line=0'>1</a>\u001b[0m \u001b[39mfrom\u001b[39;00m \u001b[39mtrackers\u001b[39;00m\u001b[39m.\u001b[39;00m\u001b[39mstaking_economics_tracking\u001b[39;00m \u001b[39mimport\u001b[39;00m StakingEconomics\n\u001b[0;32m----> <a href='vscode-notebook-cell:/home/ovi/projects/dex/mx-sdk-py-exchange/tools/notebooks/boosted-staking.ipynb#W3sZmlsZQ%3D%3D?line=2'>3</a>\u001b[0m staking_tracker \u001b[39m=\u001b[39m StakingEconomics(staking_contract\u001b[39m.\u001b[39;49maddress, context\u001b[39m.\u001b[39;49mnetwork_provider)\n",
      "File \u001b[0;32m~/projects/dex/mx-sdk-py-exchange/trackers/staking_economics_tracking.py:12\u001b[0m, in \u001b[0;36mStakingEconomics.__init__\u001b[0;34m(self, address, network_provider)\u001b[0m\n\u001b[1;32m     11\u001b[0m \u001b[39mdef\u001b[39;00m \u001b[39m__init__\u001b[39m(\u001b[39mself\u001b[39m, address: \u001b[39mstr\u001b[39m, network_provider: NetworkProviders):\n\u001b[0;32m---> 12\u001b[0m     \u001b[39mself\u001b[39m\u001b[39m.\u001b[39mcontract_address \u001b[39m=\u001b[39m Address(address, \u001b[39m\"\u001b[39;49m\u001b[39merd\u001b[39;49m\u001b[39m\"\u001b[39;49m)\n\u001b[1;32m     13\u001b[0m     \u001b[39mself\u001b[39m\u001b[39m.\u001b[39mnetwork_provider \u001b[39m=\u001b[39m network_provider\n\u001b[1;32m     14\u001b[0m     \u001b[39mself\u001b[39m\u001b[39m.\u001b[39mdata_fetcher \u001b[39m=\u001b[39m StakingContractDataFetcher(\u001b[39mself\u001b[39m\u001b[39m.\u001b[39mcontract_address, \u001b[39mself\u001b[39m\u001b[39m.\u001b[39mnetwork_provider\u001b[39m.\u001b[39mproxy\u001b[39m.\u001b[39murl)\n",
      "File \u001b[0;32m~/projects/dex/mx-sdk-py-exchange/venv/lib/python3.11/site-packages/multiversx_sdk_core/address.py:19\u001b[0m, in \u001b[0;36mAddress.__init__\u001b[0;34m(self, pubkey, hrp)\u001b[0m\n\u001b[1;32m     17\u001b[0m \u001b[39mdef\u001b[39;00m \u001b[39m__init__\u001b[39m(\u001b[39mself\u001b[39m, pubkey: \u001b[39mbytes\u001b[39m, hrp: \u001b[39mstr\u001b[39m):\n\u001b[1;32m     18\u001b[0m     \u001b[39mif\u001b[39;00m \u001b[39mlen\u001b[39m(pubkey) \u001b[39m!=\u001b[39m PUBKEY_LENGTH:\n\u001b[0;32m---> 19\u001b[0m         \u001b[39mraise\u001b[39;00m ErrBadPubkeyLength(\u001b[39mlen\u001b[39m(pubkey), PUBKEY_LENGTH)\n\u001b[1;32m     21\u001b[0m     \u001b[39mself\u001b[39m\u001b[39m.\u001b[39mpubkey \u001b[39m=\u001b[39m \u001b[39mbytes\u001b[39m(pubkey)\n\u001b[1;32m     22\u001b[0m     \u001b[39mself\u001b[39m\u001b[39m.\u001b[39mhrp \u001b[39m=\u001b[39m hrp\n",
      "\u001b[0;31mErrBadPubkeyLength\u001b[0m: Bad pubkey length: actual = 62, expected = 32"
     ]
    }
   ],
   "source": [
    "from trackers.staking_economics_tracking import StakingEconomics\n",
    "\n",
    "staking_tracker = StakingEconomics(staking_contract.address, context.network_provider)"
   ]
  },
  {
   "cell_type": "code",
   "execution_count": null,
   "metadata": {},
   "outputs": [],
   "source": [
    "from contracts.metastaking_contract import MetaStakingContract, EnterMetastakeEvent, ExitMetastakeEvent, ClaimRewardsMetastakeEvent\n",
    "from utils.contract_data_fetchers import MetaStakingContractDataFetcher\n",
    "metastaking_contract: MetaStakingContract\n",
    "metastaking_contract = context.get_contracts(config.METASTAKINGS_BOOSTED)[0]"
   ]
  },
  {
   "cell_type": "code",
   "execution_count": null,
   "metadata": {},
   "outputs": [],
   "source": [
    "ride_purse = Address('')\n",
    "depositer = Account(pem_file=env.USER1_PEM)\n",
    "depositer.address = ride_purse\n",
    "depositer.sync_nonce(context.network_provider.proxy)"
   ]
  },
  {
   "cell_type": "markdown",
   "metadata": {},
   "source": [
    "upgrade"
   ]
  },
  {
   "cell_type": "code",
   "execution_count": 4,
   "metadata": {},
   "outputs": [
    {
     "name": "stderr",
     "output_type": "stream",
     "text": [
      "\u001b[38;20m2024-01-08 15:15:14,605 - DEBUG - Account.sync_nonce() done: 332\u001b[0m\n",
      "\u001b[92m2024-01-08 15:15:14,605 - INFO - Upgrade staking contract\u001b[0m\n",
      "\u001b[38;20m2024-01-08 15:15:14,606 - DEBUG - Upgrade StakingContract contract\u001b[0m\n",
      "\u001b[38;20m2024-01-08 15:15:14,824 - DEBUG - Upgrade arguments: []\u001b[0m\n",
      "\u001b[92m2024-01-08 15:15:15,570 - INFO - View this transaction in the MultiversX Testnet Explorer: https://testnet-explorer.multiversx.com/transactions/c0e145f8e648e029c9c85f345b5384d07bf0fffc5928e9d2e70a2e7910174896\u001b[0m\n",
      "\u001b[38;20m2024-01-08 15:15:15,571 - DEBUG - Waiting for transaction c0e145f8e648e029c9c85f345b5384d07bf0fffc5928e9d2e70a2e7910174896 to be executed...\u001b[0m\n",
      "\u001b[38;20m2024-01-08 15:15:22,236 - DEBUG - Transaction c0e145f8e648e029c9c85f345b5384d07bf0fffc5928e9d2e70a2e7910174896 status: success\u001b[0m\n",
      "\u001b[38;20m2024-01-08 15:15:22,236 - DEBUG - TX status most likely false success, making sure...\u001b[0m\n",
      "\u001b[38;20m2024-01-08 15:15:28,805 - DEBUG - Making sure tx status is not false success...\u001b[0m\n",
      "\u001b[38;20m2024-01-08 15:15:35,132 - DEBUG - Transaction c0e145f8e648e029c9c85f345b5384d07bf0fffc5928e9d2e70a2e7910174896 status: success\u001b[0m\n",
      "\u001b[92m2024-01-08 15:15:35,133 - INFO - Upgrade staking contract\u001b[0m\n",
      "\u001b[38;20m2024-01-08 15:15:35,133 - DEBUG - Upgrade StakingContract contract\u001b[0m\n",
      "\u001b[38;20m2024-01-08 15:15:35,343 - DEBUG - Upgrade arguments: []\u001b[0m\n",
      "\u001b[92m2024-01-08 15:15:36,063 - INFO - View this transaction in the MultiversX Testnet Explorer: https://testnet-explorer.multiversx.com/transactions/5703ae5c31b4f3481d0bdbb118c17c0d5a1358a8e4d869e6923874095332d8b5\u001b[0m\n",
      "\u001b[38;20m2024-01-08 15:15:36,064 - DEBUG - Waiting for transaction 5703ae5c31b4f3481d0bdbb118c17c0d5a1358a8e4d869e6923874095332d8b5 to be executed...\u001b[0m\n",
      "\u001b[38;20m2024-01-08 15:15:43,603 - DEBUG - Transaction 5703ae5c31b4f3481d0bdbb118c17c0d5a1358a8e4d869e6923874095332d8b5 status: success\u001b[0m\n",
      "\u001b[38;20m2024-01-08 15:15:43,604 - DEBUG - TX status most likely false success, making sure...\u001b[0m\n",
      "\u001b[38;20m2024-01-08 15:15:49,872 - DEBUG - Making sure tx status is not false success...\u001b[0m\n",
      "\u001b[38;20m2024-01-08 15:15:56,151 - DEBUG - Transaction 5703ae5c31b4f3481d0bdbb118c17c0d5a1358a8e4d869e6923874095332d8b5 status: success\u001b[0m\n"
     ]
    }
   ],
   "source": [
    "from contracts.staking_contract import StakingContractVersion\n",
    "# upgrade all farms\n",
    "context.deployer_account.sync_nonce(context.network_provider.proxy)\n",
    "contracts : list[StakingContract] = context.get_contracts(config.STAKINGS_V2)\n",
    "for contract in contracts:\n",
    "    contract.version = StakingContractVersion.V2\n",
    "    tx_hash = contract.contract_upgrade(context.deployer_account, context.network_provider.proxy, \n",
    "                                         config.STAKING_V3_BYTECODE_PATH, [], no_init=True)\n",
    "    context.network_provider.check_complex_tx_status(tx_hash, \"staking upgrade\")"
   ]
  },
  {
   "cell_type": "code",
   "execution_count": 5,
   "metadata": {},
   "outputs": [
    {
     "name": "stderr",
     "output_type": "stream",
     "text": [
      "\u001b[38;20m2024-01-08 15:16:21,074 - DEBUG - Account.sync_nonce() done: 334\u001b[0m\n",
      "\u001b[92m2024-01-08 15:16:21,075 - INFO - Resume stake contract\u001b[0m\n",
      "\u001b[38;20m2024-01-08 15:16:21,076 - DEBUG - Calling resume at erd1qqqqqqqqqqqqqpgqsaryrfe84lqez2nvlv837krxnmp7zzgtexksjnynn3\u001b[0m\n",
      "\u001b[38;20m2024-01-08 15:16:21,076 - DEBUG - Args: []\u001b[0m\n",
      "\u001b[38;20m2024-01-08 15:16:21,465 - DEBUG - Contract call arguments: []\u001b[0m\n",
      "\u001b[92m2024-01-08 15:16:21,645 - INFO - View this transaction in the MultiversX Testnet Explorer: https://testnet-explorer.multiversx.com/transactions/a6081a21e4bea5927643b09b65f1e1e1c7b78e68705a5da946856bd7df03a61e\u001b[0m\n",
      "\u001b[92m2024-01-08 15:16:21,646 - INFO - Resume stake contract\u001b[0m\n",
      "\u001b[38;20m2024-01-08 15:16:21,646 - DEBUG - Calling resume at erd1qqqqqqqqqqqqqpgqjmlxhn5njuw6g4vd6zdnhce74vxvejnaexks4wv4x6\u001b[0m\n",
      "\u001b[38;20m2024-01-08 15:16:21,647 - DEBUG - Args: []\u001b[0m\n",
      "\u001b[38;20m2024-01-08 15:16:21,857 - DEBUG - Contract call arguments: []\u001b[0m\n",
      "\u001b[92m2024-01-08 15:16:22,083 - INFO - View this transaction in the MultiversX Testnet Explorer: https://testnet-explorer.multiversx.com/transactions/9329eac7146b9b35ea6536b545355b39dd8714763fa1f80d433a4d799780eb72\u001b[0m\n"
     ]
    }
   ],
   "source": [
    "# resume all farms\n",
    "context.deployer_account.sync_nonce(context.network_provider.proxy)\n",
    "contracts : list[StakingContract] = context.get_contracts(config.STAKINGS_V2)\n",
    "for contract in contracts:\n",
    "    tx_hash = contract.resume(context.deployer_account, context.network_provider.proxy)"
   ]
  },
  {
   "attachments": {},
   "cell_type": "markdown",
   "metadata": {},
   "source": [
    "contract config"
   ]
  },
  {
   "cell_type": "code",
   "execution_count": 4,
   "metadata": {},
   "outputs": [
    {
     "name": "stderr",
     "output_type": "stream",
     "text": [
      "\u001b[38;20m2023-12-19 12:56:40,763 - DEBUG - Account.sync_nonce() done: 3503\u001b[0m\n",
      "\u001b[92m2023-12-19 12:56:40,764 - INFO - Set boosted yield rewards percentage\u001b[0m\n",
      "\u001b[38;20m2023-12-19 12:56:40,765 - DEBUG - Arguments: [6000]\u001b[0m\n",
      "\u001b[38;20m2023-12-19 12:56:40,765 - DEBUG - Calling setBoostedYieldsRewardsPercentage at erd1qqqqqqqqqqqqqpgqmqq78c5htmdnws8hm5u4suvags36eq092jpsaxv3e7\u001b[0m\n",
      "\u001b[38;20m2023-12-19 12:56:40,766 - DEBUG - Args: [6000]\u001b[0m\n",
      "\u001b[38;20m2023-12-19 12:56:41,774 - DEBUG - Contract call arguments: [6000]\u001b[0m\n",
      "\u001b[92m2023-12-19 12:56:42,670 - INFO - No explorer known for https://proxy-shadowfork-one.elrond.ro. transaction raw path: transactions/eddf04ff80bd80f7ce5f612d5cd5dea8aebc033fe6c2084d20ce9b69701b599c\u001b[0m\n",
      "\u001b[92m2023-12-19 12:56:42,671 - INFO - Set boosted yield factors\u001b[0m\n",
      "\u001b[38;20m2023-12-19 12:56:42,672 - DEBUG - Arguments: [2, 1, 0, 1, 1]\u001b[0m\n",
      "\u001b[38;20m2023-12-19 12:56:42,673 - DEBUG - Calling setBoostedYieldsFactors at erd1qqqqqqqqqqqqqpgqmqq78c5htmdnws8hm5u4suvags36eq092jpsaxv3e7\u001b[0m\n",
      "\u001b[38;20m2023-12-19 12:56:42,673 - DEBUG - Args: [2, 1, 0, 1, 1]\u001b[0m\n",
      "\u001b[38;20m2023-12-19 12:56:44,654 - DEBUG - Contract call arguments: [2, 1, 0, 1, 1]\u001b[0m\n",
      "\u001b[92m2023-12-19 12:56:45,882 - INFO - No explorer known for https://proxy-shadowfork-one.elrond.ro. transaction raw path: transactions/654f6f687d14ea5aab638204983c2259cbaf4be7652abdeb7a0562f96d205a0a\u001b[0m\n",
      "\u001b[92m2023-12-19 12:56:45,883 - INFO - Set energy factory address in stake contract\u001b[0m\n",
      "\u001b[38;20m2023-12-19 12:56:45,883 - DEBUG - Calling setEnergyFactoryAddress at erd1qqqqqqqqqqqqqpgqmqq78c5htmdnws8hm5u4suvags36eq092jpsaxv3e7\u001b[0m\n",
      "\u001b[38;20m2023-12-19 12:56:45,884 - DEBUG - Args: ['erd1qqqqqqqqqqqqqpgq0tajepcazernwt74820t8ef7t28vjfgukp2sw239f3']\u001b[0m\n",
      "\u001b[38;20m2023-12-19 12:56:46,802 - DEBUG - Contract call arguments: [erd1qqqqqqqqqqqqqpgq0tajepcazernwt74820t8ef7t28vjfgukp2sw239f3]\u001b[0m\n",
      "\u001b[92m2023-12-19 12:56:48,145 - INFO - No explorer known for https://proxy-shadowfork-one.elrond.ro. transaction raw path: transactions/dceb36ea6df464747142a19ebd7843c41c9cd460828d96a23c5ab0ee6e12aef4\u001b[0m\n",
      "\u001b[92m2023-12-19 12:56:48,146 - INFO - Add SC to Whitelist in simple lock energy contract\u001b[0m\n",
      "\u001b[38;20m2023-12-19 12:56:48,146 - DEBUG - Calling addSCAddressToWhitelist at erd1qqqqqqqqqqqqqpgq0tajepcazernwt74820t8ef7t28vjfgukp2sw239f3\u001b[0m\n",
      "\u001b[38;20m2023-12-19 12:56:48,147 - DEBUG - Args: [erd1qqqqqqqqqqqqqpgqmqq78c5htmdnws8hm5u4suvags36eq092jpsaxv3e7]\u001b[0m\n",
      "\u001b[38;20m2023-12-19 12:56:49,511 - DEBUG - Contract call arguments: [erd1qqqqqqqqqqqqqpgqmqq78c5htmdnws8hm5u4suvags36eq092jpsaxv3e7]\u001b[0m\n",
      "\u001b[92m2023-12-19 12:56:49,780 - INFO - No explorer known for https://proxy-shadowfork-one.elrond.ro. transaction raw path: transactions/0e834a8074243548edaa461b5622a7c5764e30c247fa291dca0a674543c8edfd\u001b[0m\n",
      "\u001b[92m2023-12-19 12:56:51,780 - INFO - Set boosted yield rewards percentage\u001b[0m\n",
      "\u001b[38;20m2023-12-19 12:56:51,781 - DEBUG - Arguments: [6000]\u001b[0m\n",
      "\u001b[38;20m2023-12-19 12:56:51,782 - DEBUG - Calling setBoostedYieldsRewardsPercentage at erd1qqqqqqqqqqqqqpgqr7kdhagkqgxvjrsk7s5333l9wwnenr9g2jps8puq33\u001b[0m\n",
      "\u001b[38;20m2023-12-19 12:56:51,782 - DEBUG - Args: [6000]\u001b[0m\n",
      "\u001b[38;20m2023-12-19 12:56:51,988 - DEBUG - Contract call arguments: [6000]\u001b[0m\n",
      "\u001b[92m2023-12-19 12:56:52,215 - INFO - No explorer known for https://proxy-shadowfork-one.elrond.ro. transaction raw path: transactions/7a76d525ec08158e13dec8181fa589941a523167576c652d194e81320caea140\u001b[0m\n",
      "\u001b[92m2023-12-19 12:56:52,215 - INFO - Set boosted yield factors\u001b[0m\n",
      "\u001b[38;20m2023-12-19 12:56:52,216 - DEBUG - Arguments: [2, 1, 0, 1, 1]\u001b[0m\n",
      "\u001b[38;20m2023-12-19 12:56:52,216 - DEBUG - Calling setBoostedYieldsFactors at erd1qqqqqqqqqqqqqpgqr7kdhagkqgxvjrsk7s5333l9wwnenr9g2jps8puq33\u001b[0m\n",
      "\u001b[38;20m2023-12-19 12:56:52,217 - DEBUG - Args: [2, 1, 0, 1, 1]\u001b[0m\n",
      "\u001b[38;20m2023-12-19 12:56:52,407 - DEBUG - Contract call arguments: [2, 1, 0, 1, 1]\u001b[0m\n",
      "\u001b[92m2023-12-19 12:56:52,581 - INFO - No explorer known for https://proxy-shadowfork-one.elrond.ro. transaction raw path: transactions/2d2f503dcd67d8d3e4f302e9760bf40d357c71ca8d014dba6d0870750258fa7e\u001b[0m\n",
      "\u001b[92m2023-12-19 12:56:52,582 - INFO - Set energy factory address in stake contract\u001b[0m\n",
      "\u001b[38;20m2023-12-19 12:56:52,583 - DEBUG - Calling setEnergyFactoryAddress at erd1qqqqqqqqqqqqqpgqr7kdhagkqgxvjrsk7s5333l9wwnenr9g2jps8puq33\u001b[0m\n",
      "\u001b[38;20m2023-12-19 12:56:52,584 - DEBUG - Args: ['erd1qqqqqqqqqqqqqpgq0tajepcazernwt74820t8ef7t28vjfgukp2sw239f3']\u001b[0m\n",
      "\u001b[38;20m2023-12-19 12:56:52,822 - DEBUG - Contract call arguments: [erd1qqqqqqqqqqqqqpgq0tajepcazernwt74820t8ef7t28vjfgukp2sw239f3]\u001b[0m\n",
      "\u001b[92m2023-12-19 12:56:53,008 - INFO - No explorer known for https://proxy-shadowfork-one.elrond.ro. transaction raw path: transactions/72a0b76af8820c3c17e85d052726c320d47a1f60719b50b31267eff0d7bb2315\u001b[0m\n",
      "\u001b[92m2023-12-19 12:56:53,009 - INFO - Add SC to Whitelist in simple lock energy contract\u001b[0m\n",
      "\u001b[38;20m2023-12-19 12:56:53,010 - DEBUG - Calling addSCAddressToWhitelist at erd1qqqqqqqqqqqqqpgq0tajepcazernwt74820t8ef7t28vjfgukp2sw239f3\u001b[0m\n",
      "\u001b[38;20m2023-12-19 12:56:53,011 - DEBUG - Args: [erd1qqqqqqqqqqqqqpgqr7kdhagkqgxvjrsk7s5333l9wwnenr9g2jps8puq33]\u001b[0m\n",
      "\u001b[38;20m2023-12-19 12:56:53,189 - DEBUG - Contract call arguments: [erd1qqqqqqqqqqqqqpgqr7kdhagkqgxvjrsk7s5333l9wwnenr9g2jps8puq33]\u001b[0m\n",
      "\u001b[92m2023-12-19 12:56:53,381 - INFO - No explorer known for https://proxy-shadowfork-one.elrond.ro. transaction raw path: transactions/7281278d49dce6ee1e6631e0c59dae48acc875d3e840444f0b93da43ea59ac97\u001b[0m\n",
      "\u001b[92m2023-12-19 12:56:55,382 - INFO - Set boosted yield rewards percentage\u001b[0m\n",
      "\u001b[38;20m2023-12-19 12:56:55,382 - DEBUG - Arguments: [6000]\u001b[0m\n",
      "\u001b[38;20m2023-12-19 12:56:55,383 - DEBUG - Calling setBoostedYieldsRewardsPercentage at erd1qqqqqqqqqqqqqpgqzps75vsk97w9nsx2cenv2r2tyxl4fl402jpsx78m9j\u001b[0m\n",
      "\u001b[38;20m2023-12-19 12:56:55,383 - DEBUG - Args: [6000]\u001b[0m\n",
      "\u001b[38;20m2023-12-19 12:56:55,578 - DEBUG - Contract call arguments: [6000]\u001b[0m\n",
      "\u001b[92m2023-12-19 12:56:55,800 - INFO - No explorer known for https://proxy-shadowfork-one.elrond.ro. transaction raw path: transactions/4bec3f4ea5d94c85eb18462d0ab96634dbaf84fddf66ac4aff999f74750a0c10\u001b[0m\n",
      "\u001b[92m2023-12-19 12:56:55,801 - INFO - Set boosted yield factors\u001b[0m\n",
      "\u001b[38;20m2023-12-19 12:56:55,801 - DEBUG - Arguments: [2, 1, 0, 1, 1]\u001b[0m\n",
      "\u001b[38;20m2023-12-19 12:56:55,802 - DEBUG - Calling setBoostedYieldsFactors at erd1qqqqqqqqqqqqqpgqzps75vsk97w9nsx2cenv2r2tyxl4fl402jpsx78m9j\u001b[0m\n",
      "\u001b[38;20m2023-12-19 12:56:55,803 - DEBUG - Args: [2, 1, 0, 1, 1]\u001b[0m\n",
      "\u001b[38;20m2023-12-19 12:56:56,231 - DEBUG - Contract call arguments: [2, 1, 0, 1, 1]\u001b[0m\n",
      "\u001b[92m2023-12-19 12:56:56,418 - INFO - No explorer known for https://proxy-shadowfork-one.elrond.ro. transaction raw path: transactions/2d0825cb33ba8d63d37417446c6fa06af7948fe434f4ce713d6b30a04e03b539\u001b[0m\n",
      "\u001b[92m2023-12-19 12:56:56,419 - INFO - Set energy factory address in stake contract\u001b[0m\n",
      "\u001b[38;20m2023-12-19 12:56:56,419 - DEBUG - Calling setEnergyFactoryAddress at erd1qqqqqqqqqqqqqpgqzps75vsk97w9nsx2cenv2r2tyxl4fl402jpsx78m9j\u001b[0m\n",
      "\u001b[38;20m2023-12-19 12:56:56,420 - DEBUG - Args: ['erd1qqqqqqqqqqqqqpgq0tajepcazernwt74820t8ef7t28vjfgukp2sw239f3']\u001b[0m\n",
      "\u001b[38;20m2023-12-19 12:56:56,586 - DEBUG - Contract call arguments: [erd1qqqqqqqqqqqqqpgq0tajepcazernwt74820t8ef7t28vjfgukp2sw239f3]\u001b[0m\n",
      "\u001b[92m2023-12-19 12:56:56,757 - INFO - No explorer known for https://proxy-shadowfork-one.elrond.ro. transaction raw path: transactions/37fd1fa46a4ec74de25691c50abaf6e3aaf0e4f54bd21557d5b7a1ce07aa09fd\u001b[0m\n",
      "\u001b[92m2023-12-19 12:56:56,758 - INFO - Add SC to Whitelist in simple lock energy contract\u001b[0m\n",
      "\u001b[38;20m2023-12-19 12:56:56,758 - DEBUG - Calling addSCAddressToWhitelist at erd1qqqqqqqqqqqqqpgq0tajepcazernwt74820t8ef7t28vjfgukp2sw239f3\u001b[0m\n",
      "\u001b[38;20m2023-12-19 12:56:56,759 - DEBUG - Args: [erd1qqqqqqqqqqqqqpgqzps75vsk97w9nsx2cenv2r2tyxl4fl402jpsx78m9j]\u001b[0m\n",
      "\u001b[38;20m2023-12-19 12:56:56,930 - DEBUG - Contract call arguments: [erd1qqqqqqqqqqqqqpgqzps75vsk97w9nsx2cenv2r2tyxl4fl402jpsx78m9j]\u001b[0m\n",
      "\u001b[92m2023-12-19 12:56:57,112 - INFO - No explorer known for https://proxy-shadowfork-one.elrond.ro. transaction raw path: transactions/3ea72bc8f9cd3425678031bd953caa51104d6efb6dedc0456654bf49c2a28b4f\u001b[0m\n",
      "\u001b[92m2023-12-19 12:56:59,113 - INFO - Set boosted yield rewards percentage\u001b[0m\n",
      "\u001b[38;20m2023-12-19 12:56:59,114 - DEBUG - Arguments: [6000]\u001b[0m\n",
      "\u001b[38;20m2023-12-19 12:56:59,115 - DEBUG - Calling setBoostedYieldsRewardsPercentage at erd1qqqqqqqqqqqqqpgq45zs77q884ts6y9zj4jyqfn6ydev8ruv2jps3tteqq\u001b[0m\n",
      "\u001b[38;20m2023-12-19 12:56:59,115 - DEBUG - Args: [6000]\u001b[0m\n",
      "\u001b[38;20m2023-12-19 12:56:59,297 - DEBUG - Contract call arguments: [6000]\u001b[0m\n",
      "\u001b[92m2023-12-19 12:56:59,486 - INFO - No explorer known for https://proxy-shadowfork-one.elrond.ro. transaction raw path: transactions/e56c8bae47938236671c8cd93cd5b87f01bc0c8e15ba0e41bcba1f63de82fc43\u001b[0m\n",
      "\u001b[92m2023-12-19 12:56:59,486 - INFO - Set boosted yield factors\u001b[0m\n",
      "\u001b[38;20m2023-12-19 12:56:59,487 - DEBUG - Arguments: [2, 1, 0, 1, 1]\u001b[0m\n",
      "\u001b[38;20m2023-12-19 12:56:59,487 - DEBUG - Calling setBoostedYieldsFactors at erd1qqqqqqqqqqqqqpgq45zs77q884ts6y9zj4jyqfn6ydev8ruv2jps3tteqq\u001b[0m\n",
      "\u001b[38;20m2023-12-19 12:56:59,488 - DEBUG - Args: [2, 1, 0, 1, 1]\u001b[0m\n",
      "\u001b[38;20m2023-12-19 12:56:59,661 - DEBUG - Contract call arguments: [2, 1, 0, 1, 1]\u001b[0m\n",
      "\u001b[92m2023-12-19 12:56:59,840 - INFO - No explorer known for https://proxy-shadowfork-one.elrond.ro. transaction raw path: transactions/f3f2ce4539ca316ccb392fc7a33300a01ec37739dfe1ef6db69ed0424e4679a4\u001b[0m\n",
      "\u001b[92m2023-12-19 12:56:59,841 - INFO - Set energy factory address in stake contract\u001b[0m\n",
      "\u001b[38;20m2023-12-19 12:56:59,842 - DEBUG - Calling setEnergyFactoryAddress at erd1qqqqqqqqqqqqqpgq45zs77q884ts6y9zj4jyqfn6ydev8ruv2jps3tteqq\u001b[0m\n",
      "\u001b[38;20m2023-12-19 12:56:59,843 - DEBUG - Args: ['erd1qqqqqqqqqqqqqpgq0tajepcazernwt74820t8ef7t28vjfgukp2sw239f3']\u001b[0m\n",
      "\u001b[38;20m2023-12-19 12:56:59,999 - DEBUG - Contract call arguments: [erd1qqqqqqqqqqqqqpgq0tajepcazernwt74820t8ef7t28vjfgukp2sw239f3]\u001b[0m\n",
      "\u001b[92m2023-12-19 12:57:00,189 - INFO - No explorer known for https://proxy-shadowfork-one.elrond.ro. transaction raw path: transactions/d885e9c2d2c04f5d22e2b7b95d3b7181995860c6a8ceb607fca9afe56e1354f1\u001b[0m\n",
      "\u001b[92m2023-12-19 12:57:00,190 - INFO - Add SC to Whitelist in simple lock energy contract\u001b[0m\n",
      "\u001b[38;20m2023-12-19 12:57:00,191 - DEBUG - Calling addSCAddressToWhitelist at erd1qqqqqqqqqqqqqpgq0tajepcazernwt74820t8ef7t28vjfgukp2sw239f3\u001b[0m\n",
      "\u001b[38;20m2023-12-19 12:57:00,192 - DEBUG - Args: [erd1qqqqqqqqqqqqqpgq45zs77q884ts6y9zj4jyqfn6ydev8ruv2jps3tteqq]\u001b[0m\n",
      "\u001b[38;20m2023-12-19 12:57:00,368 - DEBUG - Contract call arguments: [erd1qqqqqqqqqqqqqpgq45zs77q884ts6y9zj4jyqfn6ydev8ruv2jps3tteqq]\u001b[0m\n",
      "\u001b[92m2023-12-19 12:57:00,560 - INFO - No explorer known for https://proxy-shadowfork-one.elrond.ro. transaction raw path: transactions/cf455b989e97707adf227a1ba01609e286b3f4f6a8f7f07e81ee2be410a554c5\u001b[0m\n",
      "\u001b[92m2023-12-19 12:57:02,561 - INFO - Set boosted yield rewards percentage\u001b[0m\n",
      "\u001b[38;20m2023-12-19 12:57:02,561 - DEBUG - Arguments: [6000]\u001b[0m\n",
      "\u001b[38;20m2023-12-19 12:57:02,563 - DEBUG - Calling setBoostedYieldsRewardsPercentage at erd1qqqqqqqqqqqqqpgqcedkmj8ezme6mtautj79ngv7fez978le2jps8jtawn\u001b[0m\n",
      "\u001b[38;20m2023-12-19 12:57:02,563 - DEBUG - Args: [6000]\u001b[0m\n",
      "\u001b[38;20m2023-12-19 12:57:02,757 - DEBUG - Contract call arguments: [6000]\u001b[0m\n",
      "\u001b[92m2023-12-19 12:57:02,932 - INFO - No explorer known for https://proxy-shadowfork-one.elrond.ro. transaction raw path: transactions/3f0a6e8dfcd912931e8a9dc95db8d19c6c56b4fc7e71da1f122b3caa6dbea56f\u001b[0m\n",
      "\u001b[92m2023-12-19 12:57:02,933 - INFO - Set boosted yield factors\u001b[0m\n",
      "\u001b[38;20m2023-12-19 12:57:02,934 - DEBUG - Arguments: [2, 1, 0, 1, 1]\u001b[0m\n",
      "\u001b[38;20m2023-12-19 12:57:02,935 - DEBUG - Calling setBoostedYieldsFactors at erd1qqqqqqqqqqqqqpgqcedkmj8ezme6mtautj79ngv7fez978le2jps8jtawn\u001b[0m\n",
      "\u001b[38;20m2023-12-19 12:57:02,936 - DEBUG - Args: [2, 1, 0, 1, 1]\u001b[0m\n",
      "\u001b[38;20m2023-12-19 12:57:03,127 - DEBUG - Contract call arguments: [2, 1, 0, 1, 1]\u001b[0m\n",
      "\u001b[92m2023-12-19 12:57:03,292 - INFO - No explorer known for https://proxy-shadowfork-one.elrond.ro. transaction raw path: transactions/31fedb772764c7d9c9f49eeb5102aea66ef12991d76f6f52bb3a139c8db7b0cf\u001b[0m\n",
      "\u001b[92m2023-12-19 12:57:03,293 - INFO - Set energy factory address in stake contract\u001b[0m\n",
      "\u001b[38;20m2023-12-19 12:57:03,294 - DEBUG - Calling setEnergyFactoryAddress at erd1qqqqqqqqqqqqqpgqcedkmj8ezme6mtautj79ngv7fez978le2jps8jtawn\u001b[0m\n",
      "\u001b[38;20m2023-12-19 12:57:03,295 - DEBUG - Args: ['erd1qqqqqqqqqqqqqpgq0tajepcazernwt74820t8ef7t28vjfgukp2sw239f3']\u001b[0m\n",
      "\u001b[38;20m2023-12-19 12:57:03,545 - DEBUG - Contract call arguments: [erd1qqqqqqqqqqqqqpgq0tajepcazernwt74820t8ef7t28vjfgukp2sw239f3]\u001b[0m\n",
      "\u001b[92m2023-12-19 12:57:03,806 - INFO - No explorer known for https://proxy-shadowfork-one.elrond.ro. transaction raw path: transactions/5bce062cf8038bfd6f24ac22997c28d329f83586aa093c79c7cc687b8d5c39fa\u001b[0m\n",
      "\u001b[92m2023-12-19 12:57:03,807 - INFO - Add SC to Whitelist in simple lock energy contract\u001b[0m\n",
      "\u001b[38;20m2023-12-19 12:57:03,807 - DEBUG - Calling addSCAddressToWhitelist at erd1qqqqqqqqqqqqqpgq0tajepcazernwt74820t8ef7t28vjfgukp2sw239f3\u001b[0m\n",
      "\u001b[38;20m2023-12-19 12:57:03,808 - DEBUG - Args: [erd1qqqqqqqqqqqqqpgqcedkmj8ezme6mtautj79ngv7fez978le2jps8jtawn]\u001b[0m\n",
      "\u001b[38;20m2023-12-19 12:57:04,112 - DEBUG - Contract call arguments: [erd1qqqqqqqqqqqqqpgqcedkmj8ezme6mtautj79ngv7fez978le2jps8jtawn]\u001b[0m\n",
      "\u001b[92m2023-12-19 12:57:04,313 - INFO - No explorer known for https://proxy-shadowfork-one.elrond.ro. transaction raw path: transactions/7be4cf0b812f3f3c5478fa1f15fef7b78d0bddf72eed4f504e8544a5b232bb1a\u001b[0m\n",
      "\u001b[92m2023-12-19 12:57:06,313 - INFO - Set boosted yield rewards percentage\u001b[0m\n",
      "\u001b[38;20m2023-12-19 12:57:06,315 - DEBUG - Arguments: [6000]\u001b[0m\n",
      "\u001b[38;20m2023-12-19 12:57:06,316 - DEBUG - Calling setBoostedYieldsRewardsPercentage at erd1qqqqqqqqqqqqqpgqp2wfzvkhlpkwcdxx25qzznx33345979w2jpsl3gflj\u001b[0m\n",
      "\u001b[38;20m2023-12-19 12:57:06,316 - DEBUG - Args: [6000]\u001b[0m\n",
      "\u001b[38;20m2023-12-19 12:57:07,630 - DEBUG - Contract call arguments: [6000]\u001b[0m\n",
      "\u001b[92m2023-12-19 12:57:07,943 - INFO - No explorer known for https://proxy-shadowfork-one.elrond.ro. transaction raw path: transactions/5fb10603e4f1a234a4dd6f4e41f0b1dc8f17131c2aaf68b5c78aa6151f8e82f6\u001b[0m\n",
      "\u001b[92m2023-12-19 12:57:07,944 - INFO - Set boosted yield factors\u001b[0m\n",
      "\u001b[38;20m2023-12-19 12:57:07,945 - DEBUG - Arguments: [2, 1, 0, 1, 1]\u001b[0m\n",
      "\u001b[38;20m2023-12-19 12:57:07,945 - DEBUG - Calling setBoostedYieldsFactors at erd1qqqqqqqqqqqqqpgqp2wfzvkhlpkwcdxx25qzznx33345979w2jpsl3gflj\u001b[0m\n",
      "\u001b[38;20m2023-12-19 12:57:07,946 - DEBUG - Args: [2, 1, 0, 1, 1]\u001b[0m\n",
      "\u001b[38;20m2023-12-19 12:57:09,164 - DEBUG - Contract call arguments: [2, 1, 0, 1, 1]\u001b[0m\n",
      "\u001b[92m2023-12-19 12:57:09,853 - INFO - No explorer known for https://proxy-shadowfork-one.elrond.ro. transaction raw path: transactions/c4c944ca428d9a9454576201a52108a8d2601f81f9cedbc54d357745a744f768\u001b[0m\n",
      "\u001b[92m2023-12-19 12:57:09,854 - INFO - Set energy factory address in stake contract\u001b[0m\n",
      "\u001b[38;20m2023-12-19 12:57:09,855 - DEBUG - Calling setEnergyFactoryAddress at erd1qqqqqqqqqqqqqpgqp2wfzvkhlpkwcdxx25qzznx33345979w2jpsl3gflj\u001b[0m\n",
      "\u001b[38;20m2023-12-19 12:57:09,855 - DEBUG - Args: ['erd1qqqqqqqqqqqqqpgq0tajepcazernwt74820t8ef7t28vjfgukp2sw239f3']\u001b[0m\n",
      "\u001b[38;20m2023-12-19 12:57:10,031 - DEBUG - Contract call arguments: [erd1qqqqqqqqqqqqqpgq0tajepcazernwt74820t8ef7t28vjfgukp2sw239f3]\u001b[0m\n",
      "\u001b[92m2023-12-19 12:57:10,200 - INFO - No explorer known for https://proxy-shadowfork-one.elrond.ro. transaction raw path: transactions/882870df36981ede809b6227a4a805e2ce157f8f3f185dfefce5c3eb5a5a22d6\u001b[0m\n",
      "\u001b[92m2023-12-19 12:57:10,201 - INFO - Add SC to Whitelist in simple lock energy contract\u001b[0m\n",
      "\u001b[38;20m2023-12-19 12:57:10,203 - DEBUG - Calling addSCAddressToWhitelist at erd1qqqqqqqqqqqqqpgq0tajepcazernwt74820t8ef7t28vjfgukp2sw239f3\u001b[0m\n",
      "\u001b[38;20m2023-12-19 12:57:10,204 - DEBUG - Args: [erd1qqqqqqqqqqqqqpgqp2wfzvkhlpkwcdxx25qzznx33345979w2jpsl3gflj]\u001b[0m\n",
      "\u001b[38;20m2023-12-19 12:57:10,379 - DEBUG - Contract call arguments: [erd1qqqqqqqqqqqqqpgqp2wfzvkhlpkwcdxx25qzznx33345979w2jpsl3gflj]\u001b[0m\n",
      "\u001b[92m2023-12-19 12:57:10,610 - INFO - No explorer known for https://proxy-shadowfork-one.elrond.ro. transaction raw path: transactions/4576812e5261276319cd4cb6ecd7c6363e89839d432788d2a49954f52cba1f52\u001b[0m\n",
      "\u001b[92m2023-12-19 12:57:12,612 - INFO - Set boosted yield rewards percentage\u001b[0m\n",
      "\u001b[38;20m2023-12-19 12:57:12,613 - DEBUG - Arguments: [6000]\u001b[0m\n",
      "\u001b[38;20m2023-12-19 12:57:12,614 - DEBUG - Calling setBoostedYieldsRewardsPercentage at erd1qqqqqqqqqqqqqpgqjdlnu9ggwfc79pygn5fjjgmdm6d7vu5e2jpsw59amp\u001b[0m\n",
      "\u001b[38;20m2023-12-19 12:57:12,615 - DEBUG - Args: [6000]\u001b[0m\n",
      "\u001b[38;20m2023-12-19 12:57:12,788 - DEBUG - Contract call arguments: [6000]\u001b[0m\n",
      "\u001b[92m2023-12-19 12:57:13,080 - INFO - No explorer known for https://proxy-shadowfork-one.elrond.ro. transaction raw path: transactions/58b28cd96a19ec256e61fddbfff54b6bfae49eb162037637a7b6b76cabdd8c4d\u001b[0m\n",
      "\u001b[92m2023-12-19 12:57:13,081 - INFO - Set boosted yield factors\u001b[0m\n",
      "\u001b[38;20m2023-12-19 12:57:13,081 - DEBUG - Arguments: [2, 1, 0, 1, 1]\u001b[0m\n",
      "\u001b[38;20m2023-12-19 12:57:13,082 - DEBUG - Calling setBoostedYieldsFactors at erd1qqqqqqqqqqqqqpgqjdlnu9ggwfc79pygn5fjjgmdm6d7vu5e2jpsw59amp\u001b[0m\n",
      "\u001b[38;20m2023-12-19 12:57:13,083 - DEBUG - Args: [2, 1, 0, 1, 1]\u001b[0m\n",
      "\u001b[38;20m2023-12-19 12:57:13,626 - DEBUG - Contract call arguments: [2, 1, 0, 1, 1]\u001b[0m\n",
      "\u001b[92m2023-12-19 12:57:14,339 - INFO - No explorer known for https://proxy-shadowfork-one.elrond.ro. transaction raw path: transactions/61733871795274223359c8c008bd45748345ff42672b5718fd241a1249e54804\u001b[0m\n",
      "\u001b[92m2023-12-19 12:57:14,339 - INFO - Set energy factory address in stake contract\u001b[0m\n",
      "\u001b[38;20m2023-12-19 12:57:14,340 - DEBUG - Calling setEnergyFactoryAddress at erd1qqqqqqqqqqqqqpgqjdlnu9ggwfc79pygn5fjjgmdm6d7vu5e2jpsw59amp\u001b[0m\n",
      "\u001b[38;20m2023-12-19 12:57:14,340 - DEBUG - Args: ['erd1qqqqqqqqqqqqqpgq0tajepcazernwt74820t8ef7t28vjfgukp2sw239f3']\u001b[0m\n",
      "\u001b[38;20m2023-12-19 12:57:14,831 - DEBUG - Contract call arguments: [erd1qqqqqqqqqqqqqpgq0tajepcazernwt74820t8ef7t28vjfgukp2sw239f3]\u001b[0m\n",
      "\u001b[92m2023-12-19 12:57:15,390 - INFO - No explorer known for https://proxy-shadowfork-one.elrond.ro. transaction raw path: transactions/84375d86b01ce621e4149161e832ff30351ab40a1c1a38428c745179279de013\u001b[0m\n",
      "\u001b[92m2023-12-19 12:57:15,391 - INFO - Add SC to Whitelist in simple lock energy contract\u001b[0m\n",
      "\u001b[38;20m2023-12-19 12:57:15,392 - DEBUG - Calling addSCAddressToWhitelist at erd1qqqqqqqqqqqqqpgq0tajepcazernwt74820t8ef7t28vjfgukp2sw239f3\u001b[0m\n",
      "\u001b[38;20m2023-12-19 12:57:15,393 - DEBUG - Args: [erd1qqqqqqqqqqqqqpgqjdlnu9ggwfc79pygn5fjjgmdm6d7vu5e2jpsw59amp]\u001b[0m\n",
      "\u001b[38;20m2023-12-19 12:57:15,878 - DEBUG - Contract call arguments: [erd1qqqqqqqqqqqqqpgqjdlnu9ggwfc79pygn5fjjgmdm6d7vu5e2jpsw59amp]\u001b[0m\n",
      "\u001b[92m2023-12-19 12:57:16,331 - INFO - No explorer known for https://proxy-shadowfork-one.elrond.ro. transaction raw path: transactions/b676e1645e92df658d5591861f04788552e305c8c30e3065b746e9dcf3e7054e\u001b[0m\n"
     ]
    }
   ],
   "source": [
    "from time import sleep\n",
    "from contracts.simple_lock_energy_contract import SimpleLockEnergyContract\n",
    "context.deployer_account.sync_nonce(context.network_provider.proxy)\n",
    "contracts : list[StakingContract] = context.get_contracts(config.STAKINGS_V2)\n",
    "simple_lock_energy_contract: SimpleLockEnergyContract = context.get_contracts(config.SIMPLE_LOCKS_ENERGY)[0]\n",
    "for contract in contracts:\n",
    "    tx_hash = contract.set_boosted_yields_rewards_percentage(context.deployer_account, context.network_provider.proxy, 6000)\n",
    "    tx_hash = contract.set_boosted_yields_factors(context.deployer_account, context.network_provider.proxy, \n",
    "                                                  [2, 1, 0, 1, 1])\n",
    "    tx_hash = contract.set_energy_factory_address(context.deployer_account, context.network_provider.proxy, context.get_contracts(config.SIMPLE_LOCKS_ENERGY)[0].address)\n",
    "    tx_hash = simple_lock_energy_contract.add_sc_to_whitelist(context.deployer_account, context.network_provider.proxy, contract.address)\n",
    "    sleep(2)"
   ]
  },
  {
   "cell_type": "markdown",
   "metadata": {},
   "source": [
    "transfer tokens and prepare accounts"
   ]
  },
  {
   "cell_type": "code",
   "execution_count": null,
   "metadata": {},
   "outputs": [],
   "source": [
    "staking_contract.set_rewards_per_block(context.deployer_account, context.network_provider.proxy, 1000000000)"
   ]
  },
  {
   "cell_type": "code",
   "execution_count": null,
   "metadata": {},
   "outputs": [],
   "source": [
    "staking_contract.add_admin(context.deployer_account, context.network_provider.proxy, depositer.address.bech32())\n",
    "staking_contract.topup_rewards(depositer, context.network_provider.proxy, 10000000000000000000)"
   ]
  },
  {
   "cell_type": "code",
   "execution_count": null,
   "metadata": {},
   "outputs": [],
   "source": [
    "staking_contract.set_max_apr(context.deployer_account, context.network_provider.proxy, 10000)"
   ]
  },
  {
   "cell_type": "code",
   "execution_count": null,
   "metadata": {},
   "outputs": [],
   "source": [
    "staking_contract.start_produce_rewards(context.deployer_account, context.network_provider.proxy)"
   ]
  },
  {
   "cell_type": "code",
   "execution_count": null,
   "metadata": {},
   "outputs": [],
   "source": [
    "txhash = staking_contract.register_farm_token(context.deployer_account, context.network_provider.proxy, [\"STKTST\", \"STKTST\"])\n",
    "status = context.network_provider.check_simple_tx_status(txhash, \"set register farm token\")"
   ]
  },
  {
   "cell_type": "code",
   "execution_count": null,
   "metadata": {},
   "outputs": [],
   "source": [
    "status = context.network_provider.check_simple_tx_status(\"5f5e3b111bc5ca2f59e4f8bb8faf3aa7e7827bc0247808b53eb7bd58e9db19e4\", \"set boosted yields factors in farm\")"
   ]
  },
  {
   "cell_type": "code",
   "execution_count": null,
   "metadata": {},
   "outputs": [],
   "source": [
    "farm_token_hex = MetaStakingContractDataFetcher(Address(metastaking_contract.address), context.network_provider.proxy.url).get_data(\"getDualYieldTokenId\")\n",
    "print(hex_to_string(farm_token_hex))"
   ]
  },
  {
   "attachments": {},
   "cell_type": "markdown",
   "metadata": {},
   "source": [
    "enter stake"
   ]
  },
  {
   "cell_type": "code",
   "execution_count": null,
   "metadata": {},
   "outputs": [],
   "source": [
    "event = EnterFarmEvent(staking_contract.farming_token, 0, 1000000000000000000, \"\", 0, 0)\n",
    "txhash = staking_contract.stake_farm(context.network_provider, depositer, event, True)"
   ]
  },
  {
   "attachments": {},
   "cell_type": "markdown",
   "metadata": {},
   "source": [
    "claim stake"
   ]
  },
  {
   "cell_type": "code",
   "execution_count": null,
   "metadata": {},
   "outputs": [],
   "source": [
    "event = ClaimRewardsFarmEvent(100000000000000000, 10, \"\")\n",
    "txhash = staking_contract.claim_rewards(context.network_provider, depositer, event)"
   ]
  },
  {
   "cell_type": "code",
   "execution_count": null,
   "metadata": {},
   "outputs": [],
   "source": [
    "from utils.utils_chain import get_token_details_for_address\n",
    "\n",
    "farm_token_nonce, farm_token_amount, _ = get_token_details_for_address(staking_contract.farm_token, depositer.address.bech32(), context.network_provider.proxy)\n",
    "event = ClaimRewardsFarmEvent(farm_token_amount, farm_token_nonce, \"\")\n",
    "txhash = staking_contract.claim_rewards(context.network_provider, depositer, event)"
   ]
  },
  {
   "attachments": {},
   "cell_type": "markdown",
   "metadata": {},
   "source": [
    "exit stake"
   ]
  },
  {
   "cell_type": "code",
   "execution_count": null,
   "metadata": {},
   "outputs": [],
   "source": [
    "event = ExitFarmEvent(staking_contract.farm_token, 1000000, 9, \"\", 1000000)\n",
    "txhash = staking_contract.unstake_farm(context.network_provider, depositer, event)"
   ]
  },
  {
   "cell_type": "code",
   "execution_count": null,
   "metadata": {},
   "outputs": [],
   "source": [
    "from utils.utils_chain import get_token_details_for_address\n",
    "\n",
    "farm_token_nonce, farm_token_amount, _ = get_token_details_for_address(staking_contract.farm_token, depositer.address.bech32(), context.network_provider)\n",
    "event = ClaimRewardsFarmEvent(farm_token_amount, farm_token_nonce, \"\")\n",
    "txhash = staking_contract.claim_rewards(context.network_provider, depositer, event)"
   ]
  },
  {
   "attachments": {},
   "cell_type": "markdown",
   "metadata": {},
   "source": [
    "report contract data"
   ]
  },
  {
   "cell_type": "code",
   "execution_count": null,
   "metadata": {},
   "outputs": [],
   "source": [
    "staking_tracker.update_data()\n",
    "staking_tracker.report_current_tracking_data()"
   ]
  },
  {
   "attachments": {},
   "cell_type": "markdown",
   "metadata": {},
   "source": [
    "Shadowfork control"
   ]
  },
  {
   "cell_type": "code",
   "execution_count": null,
   "metadata": {},
   "outputs": [],
   "source": [
    "from contracts.builtin_contracts import SFControlContract\n",
    "\n",
    "sf_control_contract = SFControlContract(config.SF_CONTROL_ADDRESS)\n",
    "sf_control_contract.epoch_fast_forward(context.deployer_account, context.network_provider.proxy, 16, 20)"
   ]
  }
 ],
 "metadata": {
  "kernelspec": {
   "display_name": "venv-newerdpy",
   "language": "python",
   "name": "python3"
  },
  "language_info": {
   "codemirror_mode": {
    "name": "ipython",
    "version": 3
   },
   "file_extension": ".py",
   "mimetype": "text/x-python",
   "name": "python",
   "nbconvert_exporter": "python",
   "pygments_lexer": "ipython3",
   "version": "3.11.6"
  },
  "orig_nbformat": 4,
  "vscode": {
   "interpreter": {
    "hash": "7ae6ab0abdf10440b34f03794a69a71508ff61341cacd694fe6034a1a71d3b05"
   }
  }
 },
 "nbformat": 4,
 "nbformat_minor": 2
}
