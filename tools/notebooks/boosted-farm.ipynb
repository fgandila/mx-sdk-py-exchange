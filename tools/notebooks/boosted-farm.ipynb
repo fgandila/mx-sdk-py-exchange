{
 "cells": [
  {
   "cell_type": "code",
   "execution_count": 1,
   "metadata": {},
   "outputs": [],
   "source": [
    "import sys\n",
    "from pathlib import Path\n",
    "sys.path.append(str(Path.cwd().parent.parent.absolute()))\n",
    "import config"
   ]
  },
  {
   "cell_type": "code",
   "execution_count": 2,
   "metadata": {},
   "outputs": [
    {
     "name": "stderr",
     "output_type": "stream",
     "text": [
      "\u001b[93m2024-01-08 14:46:30,169 - WARNING - Structure definition for stakings_boosted not found in /home/ovi/projects/dex/mx-sdk-py-exchange/deploy/configs-testnet/deploy_structure.json\u001b[0m\n",
      "\u001b[93m2024-01-08 14:46:30,170 - WARNING - Structure definition for metastakings_boosted not found in /home/ovi/projects/dex/mx-sdk-py-exchange/deploy/configs-testnet/deploy_structure.json\u001b[0m\n",
      "\u001b[93m2024-01-08 14:46:30,170 - WARNING - Structure definition for position_creator not found in /home/ovi/projects/dex/mx-sdk-py-exchange/deploy/configs-testnet/deploy_structure.json\u001b[0m\n"
     ]
    },
    {
     "name": "stdout",
     "output_type": "stream",
     "text": [
      "loaded 10 accounts from 1 PEM files.\n"
     ]
    },
    {
     "name": "stderr",
     "output_type": "stream",
     "text": [
      "\u001b[38;20m2024-01-08 14:46:30,691 - DEBUG - Account.sync_nonce() done: 324\u001b[0m\n",
      "\u001b[38;20m2024-01-08 14:46:31,611 - DEBUG - Account.sync_nonce() done: 3\u001b[0m\n",
      "\u001b[92m2024-01-08 14:46:31,620 - INFO - Loaded 5 tokens.\u001b[0m\n",
      "\u001b[38;20m2024-01-08 14:46:32,598 - DEBUG - Account.sync_nonce() done: 324\u001b[0m\n",
      "\u001b[92m2024-01-08 14:46:32,600 - INFO - Loaded 3 egld_wraps.\u001b[0m\n",
      "\u001b[92m2024-01-08 14:46:32,602 - INFO - Loaded 1 locked_assets.\u001b[0m\n",
      "\u001b[92m2024-01-08 14:46:32,603 - INFO - Loaded 1 proxies.\u001b[0m\n",
      "\u001b[92m2024-01-08 14:46:32,606 - INFO - Loaded 1 simple_locks.\u001b[0m\n",
      "\u001b[92m2024-01-08 14:46:32,607 - INFO - Loaded 1 simple_locks_energy.\u001b[0m\n",
      "\u001b[92m2024-01-08 14:46:32,608 - INFO - Loaded 1 fees_collectors.\u001b[0m\n",
      "\u001b[92m2024-01-08 14:46:32,609 - INFO - Loaded 1 unstakers.\u001b[0m\n",
      "\u001b[92m2024-01-08 14:46:32,610 - INFO - Loaded 1 proxies_v2.\u001b[0m\n",
      "\u001b[92m2024-01-08 14:46:32,612 - INFO - Loaded 0 router.\u001b[0m\n",
      "\u001b[92m2024-01-08 14:46:32,614 - INFO - Loaded 1 router_v2.\u001b[0m\n",
      "\u001b[92m2024-01-08 14:46:32,616 - INFO - Loaded 0 pairs.\u001b[0m\n",
      "\u001b[92m2024-01-08 14:46:32,618 - INFO - Loaded 4 pairs_v2.\u001b[0m\n",
      "\u001b[92m2024-01-08 14:46:32,620 - INFO - Loaded 1 pairs_view.\u001b[0m\n",
      "\u001b[92m2024-01-08 14:46:32,621 - INFO - Loaded 0 farms_community.\u001b[0m\n",
      "\u001b[92m2024-01-08 14:46:32,622 - INFO - Loaded 0 farms_unlocked.\u001b[0m\n",
      "\u001b[92m2024-01-08 14:46:32,623 - INFO - Loaded 0 farms_locked.\u001b[0m\n",
      "\u001b[92m2024-01-08 14:46:32,625 - INFO - Loaded 0 proxy_deployers.\u001b[0m\n",
      "\u001b[92m2024-01-08 14:46:32,626 - INFO - Loaded 4 farms_boosted.\u001b[0m\n",
      "\u001b[92m2024-01-08 14:46:32,628 - INFO - Loaded 0 price_discoveries.\u001b[0m\n",
      "\u001b[92m2024-01-08 14:46:32,629 - INFO - Loaded 0 stakings.\u001b[0m\n",
      "\u001b[92m2024-01-08 14:46:32,630 - INFO - Loaded 2 stakings_v2.\u001b[0m\n",
      "\u001b[92m2024-01-08 14:46:32,632 - INFO - Loaded 0 stakings_boosted.\u001b[0m\n",
      "\u001b[92m2024-01-08 14:46:32,633 - INFO - Loaded 0 metastakings.\u001b[0m\n",
      "\u001b[92m2024-01-08 14:46:32,635 - INFO - Loaded 1 metastakings_v2.\u001b[0m\n",
      "\u001b[92m2024-01-08 14:46:32,637 - INFO - Loaded 0 metastakings_boosted.\u001b[0m\n",
      "\u001b[92m2024-01-08 14:46:32,638 - INFO - Loaded 0 position_creator.\u001b[0m\n",
      "\u001b[38;20m2024-01-08 14:46:33,153 - DEBUG - Account.sync_nonce() done: 324\u001b[0m\n",
      "\u001b[92m2024-01-08 14:46:33,154 - INFO - Deployed contracts below:\u001b[0m\n",
      "\u001b[92m2024-01-08 14:46:33,155 - INFO - egld_wraps:\u001b[0m\n",
      "\u001b[92m2024-01-08 14:46:33,156 - INFO - Deployed egld wrapper contract: erd1qqqqqqqqqqqqqpgqqkwzsxkjc83vlfex9dmznwm7tjvxlqqkpauqx0n782\u001b[0m\n",
      "\u001b[92m2024-01-08 14:46:33,156 - INFO - Deployed egld wrapper contract: erd1qqqqqqqqqqqqqpgqhpmz3gh6jnwuyw4qxnksfh74tv8kdf6gexksrputsf\u001b[0m\n",
      "\u001b[92m2024-01-08 14:46:33,157 - INFO - Deployed egld wrapper contract: erd1qqqqqqqqqqqqqpgqvn9ew0wwn7a3pk053ezex98497hd4exqdg0q8v2e0c\u001b[0m\n",
      "\u001b[92m2024-01-08 14:46:33,157 - INFO - locked_assets:\u001b[0m\n",
      "\u001b[92m2024-01-08 14:46:33,158 - INFO - Deployed locked asset contract: erd1qqqqqqqqqqqqqpgq68yyplpvzs40urda5y7ce8xgn6kj3sarexkslzm02u\u001b[0m\n",
      "\u001b[92m2024-01-08 14:46:33,159 - INFO -  ├ Unlocked token: MEX-708726\u001b[0m\n",
      "\u001b[92m2024-01-08 14:46:33,159 - INFO -  ├ Locked token: LKMEX-828c89\u001b[0m\n",
      "\u001b[92m2024-01-08 14:46:33,160 - INFO - proxies:\u001b[0m\n",
      "\u001b[92m2024-01-08 14:46:33,161 - INFO - Deployed proxy contract: erd1qqqqqqqqqqqqqpgqyxu6kgfxmw22zx5atyal4vtpwkc62v86exkshygpfx\u001b[0m\n",
      "\u001b[92m2024-01-08 14:46:33,161 - INFO -  ├ Token: MEX-708726\u001b[0m\n",
      "\u001b[92m2024-01-08 14:46:33,162 - INFO -  ├ Locked tokens: ['LKMEX-828c89']\u001b[0m\n",
      "\u001b[92m2024-01-08 14:46:33,163 - INFO -  ├ Proxy LP token: LKLP-035d67\u001b[0m\n",
      "\u001b[92m2024-01-08 14:46:33,164 - INFO -  ├ Proxy Farm token: LKFARM-72faa3\u001b[0m\n",
      "\u001b[92m2024-01-08 14:46:33,164 - INFO - simple_locks:\u001b[0m\n",
      "\u001b[92m2024-01-08 14:46:33,165 - INFO - Deployed simple lock contract: erd1qqqqqqqqqqqqqpgq5fszwql529edaggetu7vkauc07dzed9zexksqdewxw\u001b[0m\n",
      "\u001b[92m2024-01-08 14:46:33,166 - INFO -  ├ Locked token: LKTK-c7a296\u001b[0m\n",
      "\u001b[92m2024-01-08 14:46:33,166 - INFO -  ├ Locked LP token: LKFTK-37335f\u001b[0m\n",
      "\u001b[92m2024-01-08 14:46:33,167 - INFO - simple_locks_energy:\u001b[0m\n",
      "\u001b[92m2024-01-08 14:46:33,168 - INFO - Deployed simple lock energy contract: erd1qqqqqqqqqqqqqpgqgcd4wquv46u5u9gvvz4x3avuwmjqwfstexksk37nf4\u001b[0m\n",
      "\u001b[92m2024-01-08 14:46:33,169 - INFO -  ├ Base token: MEX-708726\u001b[0m\n",
      "\u001b[92m2024-01-08 14:46:33,169 - INFO -  ├ Locked token: XMEX-e42221\u001b[0m\n",
      "\u001b[92m2024-01-08 14:46:33,170 - INFO -  ├ Locked LP token: \u001b[0m\n",
      "\u001b[92m2024-01-08 14:46:33,170 - INFO -  ├ Locked Farm token: \u001b[0m\n",
      "\u001b[92m2024-01-08 14:46:33,171 - INFO - fees_collectors:\u001b[0m\n",
      "\u001b[92m2024-01-08 14:46:33,172 - INFO - Deployed fees collector contract: erd1qqqqqqqqqqqqqpgqt5mtw8hjy5n8vkap5ea3nmd4qd9rwyzvexksw07tns\u001b[0m\n",
      "\u001b[92m2024-01-08 14:46:33,172 - INFO - unstakers:\u001b[0m\n",
      "\u001b[92m2024-01-08 14:46:33,173 - INFO - Deployed token unstake contract: erd1qqqqqqqqqqqqqpgqyxus98ytge6yt2ptesjxa5dzjfuz60dgexks3zee0k\u001b[0m\n",
      "\u001b[92m2024-01-08 14:46:33,174 - INFO - proxies_v2:\u001b[0m\n",
      "\u001b[92m2024-01-08 14:46:33,174 - INFO - Deployed proxy contract: erd1qqqqqqqqqqqqqpgqkh74aapaz5cahf4rf8fzyxvqkh6ca86yexksjtmmnm\u001b[0m\n",
      "\u001b[92m2024-01-08 14:46:33,175 - INFO -  ├ Token: MEX-708726\u001b[0m\n",
      "\u001b[92m2024-01-08 14:46:33,179 - INFO -  ├ Locked tokens: ['LKMEX-828c89', 'XMEX-e42221']\u001b[0m\n",
      "\u001b[92m2024-01-08 14:46:33,181 - INFO -  ├ Proxy LP token: XMEXLP-c175bb\u001b[0m\n",
      "\u001b[92m2024-01-08 14:46:33,183 - INFO -  ├ Proxy Farm token: XMEXFARM-2caeda\u001b[0m\n",
      "\u001b[92m2024-01-08 14:46:33,184 - INFO - router:\u001b[0m\n",
      "\u001b[92m2024-01-08 14:46:33,186 - INFO - router_v2:\u001b[0m\n",
      "\u001b[92m2024-01-08 14:46:33,187 - INFO - Deployed router contract: erd1qqqqqqqqqqqqqpgqfd2apcqxxmvngsnhmq4xfq22pfnq7gctexksm0gudw\u001b[0m\n",
      "\u001b[92m2024-01-08 14:46:33,190 - INFO - pairs:\u001b[0m\n",
      "\u001b[92m2024-01-08 14:46:33,191 - INFO - pairs_v2:\u001b[0m\n",
      "\u001b[92m2024-01-08 14:46:33,192 - INFO - Deployed pair contract: erd1qqqqqqqqqqqqqpgqzjstzefzeastekqpxz6ysh3d0k9eap9aexkscvsdqn\u001b[0m\n",
      "\u001b[92m2024-01-08 14:46:33,193 - INFO -  ├ First token: WEGLD-dd8471\u001b[0m\n",
      "\u001b[92m2024-01-08 14:46:33,195 - INFO -  ├ Second token: MEX-708726\u001b[0m\n",
      "\u001b[92m2024-01-08 14:46:33,197 - INFO -  ├ LP token: EGLDMEX-f63683\u001b[0m\n",
      "\u001b[92m2024-01-08 14:46:33,198 - INFO - Deployed pair contract: erd1qqqqqqqqqqqqqpgqfsfcrxnlym0fjlnuvus2dmlz6ju9cpsfexks8wq4d4\u001b[0m\n",
      "\u001b[92m2024-01-08 14:46:33,199 - INFO -  ├ First token: WEGLD-dd8471\u001b[0m\n",
      "\u001b[92m2024-01-08 14:46:33,200 - INFO -  ├ Second token: USDC-5bee92\u001b[0m\n",
      "\u001b[92m2024-01-08 14:46:33,201 - INFO -  ├ LP token: EGLDUSDC-ea9998\u001b[0m\n",
      "\u001b[92m2024-01-08 14:46:33,203 - INFO - Deployed pair contract: erd1qqqqqqqqqqqqqpgqzt7clww7329ajkq07x295h7hvl2hgnsaexks5m7sen\u001b[0m\n",
      "\u001b[92m2024-01-08 14:46:33,204 - INFO -  ├ First token: WEGLD-dd8471\u001b[0m\n",
      "\u001b[92m2024-01-08 14:46:33,205 - INFO -  ├ Second token: RIDE-d3a377\u001b[0m\n",
      "\u001b[92m2024-01-08 14:46:33,206 - INFO -  ├ LP token: EGLDRIDE-42736d\u001b[0m\n",
      "\u001b[92m2024-01-08 14:46:33,207 - INFO - Deployed pair contract: erd1qqqqqqqqqqqqqpgqluxegqj5fymplf8vj3qen6ryh03dukhxexks43z5kc\u001b[0m\n",
      "\u001b[92m2024-01-08 14:46:33,208 - INFO -  ├ First token: UTK-f4e83f\u001b[0m\n",
      "\u001b[92m2024-01-08 14:46:33,209 - INFO -  ├ Second token: WEGLD-dd8471\u001b[0m\n",
      "\u001b[92m2024-01-08 14:46:33,209 - INFO -  ├ LP token: UTKWEGLD-dd657e\u001b[0m\n",
      "\u001b[92m2024-01-08 14:46:33,210 - INFO - pairs_view:\u001b[0m\n",
      "\u001b[92m2024-01-08 14:46:33,211 - INFO - Deployed pair contract: erd1qqqqqqqqqqqqqpgqmdfdr9xp5glax4fcyxcf6j3wthufdrtrexkscfgj4p\u001b[0m\n",
      "\u001b[92m2024-01-08 14:46:33,212 - INFO -  ├ First token: \u001b[0m\n",
      "\u001b[92m2024-01-08 14:46:33,213 - INFO -  ├ Second token: \u001b[0m\n",
      "\u001b[92m2024-01-08 14:46:33,213 - INFO -  ├ LP token: \u001b[0m\n",
      "\u001b[92m2024-01-08 14:46:33,214 - INFO - farms_community:\u001b[0m\n",
      "\u001b[92m2024-01-08 14:46:33,216 - INFO - farms_unlocked:\u001b[0m\n",
      "\u001b[92m2024-01-08 14:46:33,217 - INFO - farms_locked:\u001b[0m\n",
      "\u001b[92m2024-01-08 14:46:33,217 - INFO - proxy_deployers:\u001b[0m\n",
      "\u001b[92m2024-01-08 14:46:33,218 - INFO - farms_boosted:\u001b[0m\n",
      "\u001b[92m2024-01-08 14:46:33,219 - INFO - Deployed farm contract: erd1qqqqqqqqqqqqqpgqk232ukl7944vmjq44krjns0yturh6ms9exksgmr2sc\u001b[0m\n",
      "\u001b[92m2024-01-08 14:46:33,219 - INFO -  ├ Farming token: EGLDMEX-f63683\u001b[0m\n",
      "\u001b[92m2024-01-08 14:46:33,220 - INFO -  ├ Farmed token: MEX-708726\u001b[0m\n",
      "\u001b[92m2024-01-08 14:46:33,221 - INFO -  ├ Farm token: EGLDMEXFL-6a8961\u001b[0m\n",
      "\u001b[92m2024-01-08 14:46:33,222 - INFO - Deployed farm contract: erd1qqqqqqqqqqqqqpgq3qw8j5kd6295y8ud4kwc7k3qyhdcvu6fexksas5lm6\u001b[0m\n",
      "\u001b[92m2024-01-08 14:46:33,223 - INFO -  ├ Farming token: EGLDUSDC-ea9998\u001b[0m\n",
      "\u001b[92m2024-01-08 14:46:33,223 - INFO -  ├ Farmed token: MEX-708726\u001b[0m\n",
      "\u001b[92m2024-01-08 14:46:33,224 - INFO -  ├ Farm token: EGLDUSDCFL-07eaa8\u001b[0m\n",
      "\u001b[92m2024-01-08 14:46:33,224 - INFO - Deployed farm contract: erd1qqqqqqqqqqqqqpgqzqlavpqgwkrnslzrl05aqms2au2327asexksc4u3qg\u001b[0m\n",
      "\u001b[92m2024-01-08 14:46:33,225 - INFO -  ├ Farming token: EGLDRIDE-42736d\u001b[0m\n",
      "\u001b[92m2024-01-08 14:46:33,226 - INFO -  ├ Farmed token: MEX-708726\u001b[0m\n",
      "\u001b[92m2024-01-08 14:46:33,226 - INFO -  ├ Farm token: EGLDRIDEFL-8f0a0a\u001b[0m\n",
      "\u001b[92m2024-01-08 14:46:33,227 - INFO - Deployed farm contract: erd1qqqqqqqqqqqqqpgqv2w0j3wveyv09mclcnnulcn0d5vwuhe8exksu2n3rz\u001b[0m\n",
      "\u001b[92m2024-01-08 14:46:33,227 - INFO -  ├ Farming token: UTKWEGLD-dd657e\u001b[0m\n",
      "\u001b[92m2024-01-08 14:46:33,228 - INFO -  ├ Farmed token: MEX-708726\u001b[0m\n",
      "\u001b[92m2024-01-08 14:46:33,229 - INFO -  ├ Farm token: UTKWEGLDFL-258770\u001b[0m\n",
      "\u001b[92m2024-01-08 14:46:33,230 - INFO - price_discoveries:\u001b[0m\n",
      "\u001b[92m2024-01-08 14:46:33,230 - INFO - stakings:\u001b[0m\n",
      "\u001b[92m2024-01-08 14:46:33,231 - INFO - stakings_v2:\u001b[0m\n",
      "\u001b[92m2024-01-08 14:46:33,232 - INFO - Deployed staking contract: erd1qqqqqqqqqqqqqpgqsaryrfe84lqez2nvlv837krxnmp7zzgtexksjnynn3\u001b[0m\n",
      "\u001b[92m2024-01-08 14:46:33,233 - INFO -  ├ Staking token: RIDE-d3a377\u001b[0m\n",
      "\u001b[92m2024-01-08 14:46:33,233 - INFO -  ├ Stake token: SRIDE-81c226\u001b[0m\n",
      "\u001b[92m2024-01-08 14:46:33,234 - INFO - Deployed staking contract: erd1qqqqqqqqqqqqqpgqjmlxhn5njuw6g4vd6zdnhce74vxvejnaexks4wv4x6\u001b[0m\n",
      "\u001b[92m2024-01-08 14:46:33,235 - INFO -  ├ Staking token: UTK-f4e83f\u001b[0m\n",
      "\u001b[92m2024-01-08 14:46:33,236 - INFO -  ├ Stake token: SUTK-591932\u001b[0m\n",
      "\u001b[92m2024-01-08 14:46:33,237 - INFO - stakings_boosted:\u001b[0m\n",
      "\u001b[92m2024-01-08 14:46:33,238 - INFO - metastakings:\u001b[0m\n",
      "\u001b[92m2024-01-08 14:46:33,238 - INFO - metastakings_v2:\u001b[0m\n",
      "\u001b[92m2024-01-08 14:46:33,239 - INFO - Deployed metastaking contract: erd1qqqqqqqqqqqqqpgqhtuarsv8v2g6wn5z85e3r7nntr3990frexksj4devm\u001b[0m\n",
      "\u001b[92m2024-01-08 14:46:33,240 - INFO -  ├ Staking token: RIDE-d3a377\u001b[0m\n",
      "\u001b[92m2024-01-08 14:46:33,241 - INFO -  ├ Metastake token: METARIDELK-c172cb\u001b[0m\n",
      "\u001b[92m2024-01-08 14:46:33,242 - INFO -  ├ Stake address: erd1qqqqqqqqqqqqqpgqsaryrfe84lqez2nvlv837krxnmp7zzgtexksjnynn3\u001b[0m\n",
      "\u001b[92m2024-01-08 14:46:33,243 - INFO -  ├ Farm address: erd1qqqqqqqqqqqqqpgqzqlavpqgwkrnslzrl05aqms2au2327asexksc4u3qg\u001b[0m\n",
      "\u001b[92m2024-01-08 14:46:33,244 - INFO -  ├ LP address: erd1qqqqqqqqqqqqqpgqzt7clww7329ajkq07x295h7hvl2hgnsaexks5m7sen\u001b[0m\n",
      "\u001b[92m2024-01-08 14:46:33,244 - INFO - metastakings_boosted:\u001b[0m\n",
      "\u001b[92m2024-01-08 14:46:33,245 - INFO - position_creator:\u001b[0m\n"
     ]
    },
    {
     "name": "stdout",
     "output_type": "stream",
     "text": [
      "\n",
      "\n",
      "\n",
      "\n",
      "\n",
      "\n",
      "\n",
      "\n",
      "\n",
      "\n",
      "\n",
      "\n",
      "\n",
      "\n",
      "\n",
      "\n",
      "\n",
      "\n",
      "\n",
      "\n",
      "\n",
      "\n",
      "\n",
      "\n",
      "\n",
      "\n"
     ]
    }
   ],
   "source": [
    "from context import Context\n",
    "from utils.utils_chain import WrapperAddress as Address, Account, hex_to_string\n",
    "from utils.utils_chain import nominated_amount\n",
    "\n",
    "context = Context()"
   ]
  },
  {
   "cell_type": "code",
   "execution_count": 4,
   "metadata": {},
   "outputs": [],
   "source": [
    "from contracts.farm_contract import FarmContract\n",
    "from utils.contract_retrievers import retrieve_farm_by_address\n",
    "# farm_contracts = context.get_contracts(config.FARMS_V2)"
   ]
  },
  {
   "cell_type": "code",
   "execution_count": 4,
   "metadata": {},
   "outputs": [],
   "source": [
    "farm_contract: FarmContract = context.deploy_structure.get_deployed_contract_by_index(config.FARMS_V2, 2)"
   ]
  },
  {
   "cell_type": "code",
   "execution_count": null,
   "metadata": {},
   "outputs": [],
   "source": [
    "farm_contract: FarmContract = retrieve_farm_by_address(\"\")"
   ]
  },
  {
   "attachments": {},
   "cell_type": "markdown",
   "metadata": {},
   "source": [
    "set new rewards per block"
   ]
  },
  {
   "cell_type": "code",
   "execution_count": null,
   "metadata": {},
   "outputs": [],
   "source": [
    "farm_contract.set_rewards_per_block(context.deployer_account, context.network_provider.proxy, nominated_amount(14000))"
   ]
  },
  {
   "attachments": {},
   "cell_type": "markdown",
   "metadata": {},
   "source": [
    "start contracts"
   ]
  },
  {
   "cell_type": "code",
   "execution_count": null,
   "metadata": {},
   "outputs": [],
   "source": [
    "farm_contract.resume(context.deployer_account, context.network_provider.proxy)"
   ]
  },
  {
   "attachments": {},
   "cell_type": "markdown",
   "metadata": {},
   "source": [
    "produce rewards"
   ]
  },
  {
   "cell_type": "code",
   "execution_count": null,
   "metadata": {},
   "outputs": [],
   "source": [
    "farm_contract.start_produce_rewards(context.deployer_account, context.network_provider.proxy)"
   ]
  },
  {
   "cell_type": "markdown",
   "metadata": {},
   "source": [
    "upgrade contract"
   ]
  },
  {
   "cell_type": "code",
   "execution_count": 5,
   "metadata": {},
   "outputs": [
    {
     "name": "stderr",
     "output_type": "stream",
     "text": [
      "\u001b[92m2023-12-05 16:42:21,742 - INFO - upgrade FarmContract contract\u001b[0m\n",
      "\u001b[38;20m2023-12-05 16:42:21,744 - DEBUG - Arguments: ['MEX-455c57', 'EGLDRIDE-7bd51a', 1000000000000, erd1qqqqqqqqqqqqqpgqav09xenkuqsdyeyy5evqyhuusvu4gl3t2jpss57g8x, erd1ss6u80ruas2phpmr82r42xnkd6rxy40g9jl69frppl4qez9w2jpsqj8x97, erd1ss6u80ruas2phpmr82r42xnkd6rxy40g9jl69frppl4qez9w2jpsqj8x97]\u001b[0m\n",
      "\u001b[38;20m2023-12-05 16:42:21,744 - DEBUG - Upgrade FarmContract contract\u001b[0m\n",
      "\u001b[38;20m2023-12-05 16:42:22,610 - DEBUG - Upgrade arguments: ['MEX-455c57', 'EGLDRIDE-7bd51a', 1000000000000, erd1qqqqqqqqqqqqqpgqav09xenkuqsdyeyy5evqyhuusvu4gl3t2jpss57g8x, erd1ss6u80ruas2phpmr82r42xnkd6rxy40g9jl69frppl4qez9w2jpsqj8x97, erd1ss6u80ruas2phpmr82r42xnkd6rxy40g9jl69frppl4qez9w2jpsqj8x97]\u001b[0m\n",
      "\u001b[92m2023-12-05 16:42:23,253 - INFO - No explorer known for https://proxy-shadowfork-four.elrond.ro. transaction raw path: transactions/0d2d5f1a6aef2cdc18fc785ef400ddcc9296f18eed03d4bfcdf11f08daeb8d8a\u001b[0m\n"
     ]
    }
   ],
   "source": [
    "pair_address = farm_contract.get_lp_address(context.network_provider.proxy)\n",
    "tx_hash = farm_contract.contract_upgrade(context.deployer_account, context.network_provider.proxy, \n",
    "                                         config.FARM_V2_BYTECODE_PATH, [pair_address, context.deployer_account.address.bech32()])"
   ]
  },
  {
   "cell_type": "code",
   "execution_count": 5,
   "metadata": {},
   "outputs": [
    {
     "name": "stderr",
     "output_type": "stream",
     "text": [
      "\u001b[38;20m2024-01-08 15:11:26,326 - DEBUG - Account.sync_nonce() done: 324\u001b[0m\n",
      "\u001b[92m2024-01-08 15:11:27,613 - INFO - upgrade FarmContract contract\u001b[0m\n",
      "\u001b[38;20m2024-01-08 15:11:27,614 - DEBUG - Arguments: []\u001b[0m\n",
      "\u001b[38;20m2024-01-08 15:11:27,615 - DEBUG - Upgrade FarmContract contract\u001b[0m\n",
      "\u001b[38;20m2024-01-08 15:11:28,075 - DEBUG - Upgrade arguments: []\u001b[0m\n",
      "\u001b[92m2024-01-08 15:11:29,221 - INFO - View this transaction in the MultiversX Testnet Explorer: https://testnet-explorer.multiversx.com/transactions/dedf3c561ccff5c71e644e1bfcd609ddc785f404c60d7015d5a18a8b686351cd\u001b[0m\n",
      "\u001b[38;20m2024-01-08 15:11:29,222 - DEBUG - Waiting for transaction dedf3c561ccff5c71e644e1bfcd609ddc785f404c60d7015d5a18a8b686351cd to be executed...\u001b[0m\n",
      "\u001b[38;20m2024-01-08 15:11:35,520 - DEBUG - Transaction dedf3c561ccff5c71e644e1bfcd609ddc785f404c60d7015d5a18a8b686351cd status: success\u001b[0m\n",
      "\u001b[38;20m2024-01-08 15:11:35,521 - DEBUG - TX status most likely false success, making sure...\u001b[0m\n",
      "\u001b[38;20m2024-01-08 15:11:42,149 - DEBUG - Making sure tx status is not false success...\u001b[0m\n",
      "\u001b[38;20m2024-01-08 15:11:48,402 - DEBUG - Transaction dedf3c561ccff5c71e644e1bfcd609ddc785f404c60d7015d5a18a8b686351cd status: success\u001b[0m\n",
      "\u001b[92m2024-01-08 15:11:48,586 - INFO - upgrade FarmContract contract\u001b[0m\n",
      "\u001b[38;20m2024-01-08 15:11:48,586 - DEBUG - Arguments: []\u001b[0m\n",
      "\u001b[38;20m2024-01-08 15:11:48,587 - DEBUG - Upgrade FarmContract contract\u001b[0m\n",
      "\u001b[38;20m2024-01-08 15:11:48,995 - DEBUG - Upgrade arguments: []\u001b[0m\n",
      "\u001b[92m2024-01-08 15:11:50,046 - INFO - View this transaction in the MultiversX Testnet Explorer: https://testnet-explorer.multiversx.com/transactions/bba6e6a3f67a2a92b4471eb918c9ba1f38f836df3458928e235a40272ed4d0a9\u001b[0m\n",
      "\u001b[38;20m2024-01-08 15:11:50,046 - DEBUG - Waiting for transaction bba6e6a3f67a2a92b4471eb918c9ba1f38f836df3458928e235a40272ed4d0a9 to be executed...\u001b[0m\n",
      "\u001b[38;20m2024-01-08 15:11:56,347 - DEBUG - Transaction bba6e6a3f67a2a92b4471eb918c9ba1f38f836df3458928e235a40272ed4d0a9 status: success\u001b[0m\n",
      "\u001b[38;20m2024-01-08 15:11:56,348 - DEBUG - TX status most likely false success, making sure...\u001b[0m\n",
      "\u001b[38;20m2024-01-08 15:12:02,854 - DEBUG - Making sure tx status is not false success...\u001b[0m\n",
      "\u001b[38;20m2024-01-08 15:12:09,113 - DEBUG - Transaction bba6e6a3f67a2a92b4471eb918c9ba1f38f836df3458928e235a40272ed4d0a9 status: success\u001b[0m\n",
      "\u001b[92m2024-01-08 15:12:09,312 - INFO - upgrade FarmContract contract\u001b[0m\n",
      "\u001b[38;20m2024-01-08 15:12:09,313 - DEBUG - Arguments: []\u001b[0m\n",
      "\u001b[38;20m2024-01-08 15:12:09,314 - DEBUG - Upgrade FarmContract contract\u001b[0m\n",
      "\u001b[38;20m2024-01-08 15:12:09,523 - DEBUG - Upgrade arguments: []\u001b[0m\n",
      "\u001b[92m2024-01-08 15:12:09,959 - INFO - View this transaction in the MultiversX Testnet Explorer: https://testnet-explorer.multiversx.com/transactions/38a7aaca2614658d86af302170f0201679db224426f6132a1c82e696a818265a\u001b[0m\n",
      "\u001b[38;20m2024-01-08 15:12:09,960 - DEBUG - Waiting for transaction 38a7aaca2614658d86af302170f0201679db224426f6132a1c82e696a818265a to be executed...\u001b[0m\n",
      "\u001b[38;20m2024-01-08 15:12:16,244 - DEBUG - Transaction 38a7aaca2614658d86af302170f0201679db224426f6132a1c82e696a818265a status: success\u001b[0m\n",
      "\u001b[38;20m2024-01-08 15:12:16,245 - DEBUG - TX status most likely false success, making sure...\u001b[0m\n",
      "\u001b[38;20m2024-01-08 15:12:22,519 - DEBUG - Making sure tx status is not false success...\u001b[0m\n",
      "\u001b[38;20m2024-01-08 15:12:28,837 - DEBUG - Transaction 38a7aaca2614658d86af302170f0201679db224426f6132a1c82e696a818265a status: success\u001b[0m\n",
      "\u001b[92m2024-01-08 15:12:29,164 - INFO - upgrade FarmContract contract\u001b[0m\n",
      "\u001b[38;20m2024-01-08 15:12:29,165 - DEBUG - Arguments: []\u001b[0m\n",
      "\u001b[38;20m2024-01-08 15:12:29,166 - DEBUG - Upgrade FarmContract contract\u001b[0m\n",
      "\u001b[38;20m2024-01-08 15:12:29,996 - DEBUG - Upgrade arguments: []\u001b[0m\n",
      "\u001b[92m2024-01-08 15:12:30,706 - INFO - View this transaction in the MultiversX Testnet Explorer: https://testnet-explorer.multiversx.com/transactions/96adde2abd7a7515c4739c9bd8f65087c190e3021d99dff31d1f607034a51c5b\u001b[0m\n",
      "\u001b[38;20m2024-01-08 15:12:30,707 - DEBUG - Waiting for transaction 96adde2abd7a7515c4739c9bd8f65087c190e3021d99dff31d1f607034a51c5b to be executed...\u001b[0m\n",
      "\u001b[38;20m2024-01-08 15:12:37,206 - DEBUG - Transaction 96adde2abd7a7515c4739c9bd8f65087c190e3021d99dff31d1f607034a51c5b status: success\u001b[0m\n",
      "\u001b[38;20m2024-01-08 15:12:37,207 - DEBUG - TX status most likely false success, making sure...\u001b[0m\n",
      "\u001b[38;20m2024-01-08 15:12:43,603 - DEBUG - Making sure tx status is not false success...\u001b[0m\n",
      "\u001b[38;20m2024-01-08 15:12:49,847 - DEBUG - Transaction 96adde2abd7a7515c4739c9bd8f65087c190e3021d99dff31d1f607034a51c5b status: success\u001b[0m\n"
     ]
    }
   ],
   "source": [
    "from contracts.farm_contract import FarmContractVersion\n",
    "context.deployer_account.sync_nonce(context.network_provider.proxy)\n",
    "# upgrade all farms\n",
    "farms : list[FarmContract] = context.get_contracts(config.FARMS_V2)\n",
    "for farm in farms:\n",
    "    farm.version = FarmContractVersion.V2Boosted\n",
    "    pair = farm.get_lp_address(context.network_provider.proxy)\n",
    "    tx_hash = farm.contract_upgrade(context.deployer_account, context.network_provider.proxy, \n",
    "                                         config.FARM_V3_BYTECODE_PATH, [], no_init=True)\n",
    "    context.network_provider.check_complex_tx_status(tx_hash, \"farm upgrade\")"
   ]
  },
  {
   "cell_type": "code",
   "execution_count": 6,
   "metadata": {},
   "outputs": [
    {
     "name": "stderr",
     "output_type": "stream",
     "text": [
      "\u001b[38;20m2024-01-08 15:13:02,284 - DEBUG - Account.sync_nonce() done: 328\u001b[0m\n",
      "\u001b[92m2024-01-08 15:13:02,285 - INFO - Resume farm contract\u001b[0m\n",
      "\u001b[38;20m2024-01-08 15:13:02,286 - DEBUG - Calling resume at erd1qqqqqqqqqqqqqpgqk232ukl7944vmjq44krjns0yturh6ms9exksgmr2sc\u001b[0m\n",
      "\u001b[38;20m2024-01-08 15:13:02,287 - DEBUG - Args: []\u001b[0m\n",
      "\u001b[38;20m2024-01-08 15:13:02,607 - DEBUG - Contract call arguments: []\u001b[0m\n",
      "\u001b[92m2024-01-08 15:13:03,382 - INFO - View this transaction in the MultiversX Testnet Explorer: https://testnet-explorer.multiversx.com/transactions/ab7f19e77e0fa73e37bc2de8ccdee51a2a01d291e39e588402b106a8d16850af\u001b[0m\n",
      "\u001b[92m2024-01-08 15:13:03,383 - INFO - Resume farm contract\u001b[0m\n",
      "\u001b[38;20m2024-01-08 15:13:03,384 - DEBUG - Calling resume at erd1qqqqqqqqqqqqqpgq3qw8j5kd6295y8ud4kwc7k3qyhdcvu6fexksas5lm6\u001b[0m\n",
      "\u001b[38;20m2024-01-08 15:13:03,385 - DEBUG - Args: []\u001b[0m\n",
      "\u001b[38;20m2024-01-08 15:13:03,669 - DEBUG - Contract call arguments: []\u001b[0m\n",
      "\u001b[92m2024-01-08 15:13:03,829 - INFO - View this transaction in the MultiversX Testnet Explorer: https://testnet-explorer.multiversx.com/transactions/42231a356431ceadc3a37df37956bdd484a4d54221cc94ed8096a97770ddefea\u001b[0m\n",
      "\u001b[92m2024-01-08 15:13:03,830 - INFO - Resume farm contract\u001b[0m\n",
      "\u001b[38;20m2024-01-08 15:13:03,831 - DEBUG - Calling resume at erd1qqqqqqqqqqqqqpgqzqlavpqgwkrnslzrl05aqms2au2327asexksc4u3qg\u001b[0m\n",
      "\u001b[38;20m2024-01-08 15:13:03,831 - DEBUG - Args: []\u001b[0m\n",
      "\u001b[38;20m2024-01-08 15:13:04,033 - DEBUG - Contract call arguments: []\u001b[0m\n",
      "\u001b[92m2024-01-08 15:13:04,262 - INFO - View this transaction in the MultiversX Testnet Explorer: https://testnet-explorer.multiversx.com/transactions/a83be605beadec9adea26a9da14420f2d0bab0a3da0b1e77705a06f14e5dfc06\u001b[0m\n",
      "\u001b[92m2024-01-08 15:13:04,263 - INFO - Resume farm contract\u001b[0m\n",
      "\u001b[38;20m2024-01-08 15:13:04,263 - DEBUG - Calling resume at erd1qqqqqqqqqqqqqpgqv2w0j3wveyv09mclcnnulcn0d5vwuhe8exksu2n3rz\u001b[0m\n",
      "\u001b[38;20m2024-01-08 15:13:04,264 - DEBUG - Args: []\u001b[0m\n",
      "\u001b[38;20m2024-01-08 15:13:04,458 - DEBUG - Contract call arguments: []\u001b[0m\n",
      "\u001b[92m2024-01-08 15:13:04,673 - INFO - View this transaction in the MultiversX Testnet Explorer: https://testnet-explorer.multiversx.com/transactions/79f733021aa250d2c349a2051bbc877701755db26c9f0cdefaff60f5f2564212\u001b[0m\n"
     ]
    }
   ],
   "source": [
    "# resume all farms\n",
    "context.deployer_account.sync_nonce(context.network_provider.proxy)\n",
    "contracts : list[FarmContract] = context.get_contracts(config.FARMS_V2)\n",
    "for contract in contracts:\n",
    "    tx_hash = contract.resume(context.deployer_account, context.network_provider.proxy)"
   ]
  },
  {
   "cell_type": "markdown",
   "metadata": {},
   "source": [
    "change owner"
   ]
  },
  {
   "cell_type": "code",
   "execution_count": null,
   "metadata": {},
   "outputs": [],
   "source": [
    "tx_hash = farm_contract.update_owner_or_admin(context.deployer_account, context.network_provider.proxy, \"erd19uysnnzwnzm3klq8qzv7zprw2d3yj38hx0ac9cuqvl0j2jr5kp2sflvmyv\")"
   ]
  },
  {
   "cell_type": "markdown",
   "metadata": {},
   "source": [
    "resume contract"
   ]
  },
  {
   "cell_type": "code",
   "execution_count": 6,
   "metadata": {},
   "outputs": [
    {
     "name": "stderr",
     "output_type": "stream",
     "text": [
      "\u001b[92m2023-12-05 18:19:06,601 - INFO - Resume farm contract\u001b[0m\n",
      "\u001b[38;20m2023-12-05 18:19:06,604 - DEBUG - Calling resume at erd1qqqqqqqqqqqqqpgqenvn0s3ldc94q2mlkaqx4arj3zfnvnmakp2sxca2h9\u001b[0m\n",
      "\u001b[38;20m2023-12-05 18:19:06,605 - DEBUG - Args: []\u001b[0m\n",
      "\u001b[38;20m2023-12-05 18:19:07,668 - DEBUG - Contract call arguments: []\u001b[0m\n",
      "\u001b[92m2023-12-05 18:19:08,587 - INFO - No explorer known for https://proxy-shadowfork-four.elrond.ro. transaction raw path: transactions/1d2612897558bccd14e6f93012b03e86826dc692f555e4a7e0dbfbe64f4dea83\u001b[0m\n"
     ]
    },
    {
     "data": {
      "text/plain": [
       "'1d2612897558bccd14e6f93012b03e86826dc692f555e4a7e0dbfbe64f4dea83'"
      ]
     },
     "execution_count": 6,
     "metadata": {},
     "output_type": "execute_result"
    }
   ],
   "source": [
    "farm_contract.resume(context.deployer_account, context.network_provider.proxy)"
   ]
  },
  {
   "cell_type": "markdown",
   "metadata": {},
   "source": [
    "Collect user accounts"
   ]
  },
  {
   "cell_type": "code",
   "execution_count": 7,
   "metadata": {},
   "outputs": [
    {
     "name": "stderr",
     "output_type": "stream",
     "text": [
      "\u001b[92m2024-01-04 16:59:53,993 - INFO - Collecting users from farm contract erd1qqqqqqqqqqqqqpgqenvn0s3ldc94q2mlkaqx4arj3zfnvnmakp2sxca2h9 ...\u001b[0m\n",
      "\u001b[38;20m2024-01-04 16:59:55,275 - DEBUG - Processing user erd177ns4nd8n2xj76nzq69kk3rdrm0nm6ayw5zd8x77p4c3ulyje4cqznkywy ...\u001b[0m\n",
      "\u001b[38;20m2024-01-04 16:59:55,276 - DEBUG - Processing user erd1vup5z3jqag039xl8xasv7m7wplnu0kvnzdfxywf4jls50s0stzls3htgsk ...\u001b[0m\n",
      "\u001b[38;20m2024-01-04 16:59:55,281 - DEBUG - Processing user erd1r5hsrz5z3kv9fyk64xn685g4u9kq2a5tjqe76tagrmast09r8fxqsdvmul ...\u001b[0m\n",
      "\u001b[38;20m2024-01-04 16:59:55,282 - DEBUG - Processing user erd1jp0s6rngshhzvyrhxr5hra9pwgyspa2g2unfwjwppxdus36ydgfqtftae4 ...\u001b[0m\n",
      "\u001b[38;20m2024-01-04 16:59:55,283 - DEBUG - Processing user erd1xyff74cpvv5jumsu6sps8fksjay03ls4lcz05mhx3awq4uuje4tqrqy6zk ...\u001b[0m\n",
      "\u001b[38;20m2024-01-04 16:59:55,285 - DEBUG - Processing user erd1jc0wf7hn7pg8yxwealrhn0wzpcfhys6azvuemgxkvxmkjf07sqhsppehs4 ...\u001b[0m\n",
      "\u001b[38;20m2024-01-04 16:59:55,286 - DEBUG - Processing user erd1v5rrgarnx72wjp8cfgwlfa77460a6td0qhcvhu4jkv25tnls5amseek0j2 ...\u001b[0m\n",
      "\u001b[38;20m2024-01-04 16:59:55,288 - DEBUG - Processing user erd16tjzzh0g5pwzwtfaz2wzkf3ufygvzzwmjvwdx7g9yrrp85984hfq48jq7m ...\u001b[0m\n",
      "\u001b[38;20m2024-01-04 16:59:55,291 - DEBUG - Processing user erd1shlx7d7caszle35r9ldgtlx7mktf5uunugg5kf4jeuu3x6dlfs8qgtl5n0 ...\u001b[0m\n",
      "\u001b[38;20m2024-01-04 16:59:55,293 - DEBUG - Processing user erd1j94475xkfg9qkeg9zfjlwr9ncr0240z2ne5dn2pcarsjg4yh3egsr35zcr ...\u001b[0m\n",
      "\u001b[38;20m2024-01-04 16:59:57,933 - DEBUG - Processing user erd1upury22nddzckpsn8y93tm69rtjmkd9pjaqdn6wdrycdv4ktu9hqr4z3ce ...\u001b[0m\n",
      "\u001b[38;20m2024-01-04 16:59:57,937 - DEBUG - Processing user erd1egvd9grg9a4p72fcq9e300v6lympspvklkt8alhjx9jd8auu5wnqe4m7v6 ...\u001b[0m\n",
      "\u001b[38;20m2024-01-04 16:59:57,957 - DEBUG - Processing user erd1gzc9ajv89v4gerg8e28y74lp0lunlratjczq0rfep8yrvnwg5lgq00dk2m ...\u001b[0m\n",
      "\u001b[38;20m2024-01-04 16:59:57,964 - DEBUG - Processing user erd1zk3qcyy7zsnk9ew7xs60v8cfxhyycnm4h44xayxpm3jtzesmwadq446xh6 ...\u001b[0m\n",
      "\u001b[38;20m2024-01-04 16:59:57,965 - DEBUG - Processing user erd1ssfka4syw476r062pq65vel39qppvqlsxrzqnzmvplp260knw7sq6q2shz ...\u001b[0m\n",
      "\u001b[38;20m2024-01-04 16:59:57,967 - DEBUG - Processing user erd1l45j0k9hvpctq0rcs2rzj47dwtde6jyyvv5lmkyfen56hhy8qwdq74svum ...\u001b[0m\n",
      "\u001b[38;20m2024-01-04 16:59:58,246 - DEBUG - Processing user erd1r0ae7tqh78cwlneh2dzgdqextng9tpwvchrdu0edp234zemkgq8svf5hfh ...\u001b[0m\n",
      "\u001b[38;20m2024-01-04 16:59:58,247 - DEBUG - Processing user erd1jmvzxgvu3tlvlcyfhklfhjcvue79ur9al6t5grmxux3v3y6qgygqqkv7vt ...\u001b[0m\n",
      "\u001b[38;20m2024-01-04 16:59:58,250 - DEBUG - Processing user erd1e88e47fjx72j55mck3f9gstxq9vgahh4gy7w7lnqv8t3kl9ee5vqfv6xg9 ...\u001b[0m\n",
      "\u001b[38;20m2024-01-04 16:59:58,537 - DEBUG - Processing user erd1vqrx0vwrt8x5mx7ps7vhaxl4j6qedlry2pp7f364zuuwvlhcscpq3zyv5z ...\u001b[0m\n",
      "\u001b[38;20m2024-01-04 17:00:00,337 - DEBUG - Processing user erd1wqrhd8jn8v7hh3n3svn38hddzyzyqpcw69l3pca74rze9erwa8psucqctv ...\u001b[0m\n",
      "\u001b[38;20m2024-01-04 17:00:00,352 - DEBUG - Processing user erd1pz8jkcmsx8nvzqjk460cxszgzw8mqvs0y2apd4nwmqpf4ryjgusqv6rsar ...\u001b[0m\n",
      "\u001b[38;20m2024-01-04 17:00:00,363 - DEBUG - Processing user erd1ad5fq35qx7z5adl5kwy2utprz7hzh2zr8g7el6ypa90ysy0llyeq7aqf6c ...\u001b[0m\n",
      "\u001b[38;20m2024-01-04 17:00:00,364 - DEBUG - Processing user erd14vpwwmftl56gzcp0ay35egc4d4lsv3sff3948cphnqwaemswlkxsr3aelk ...\u001b[0m\n",
      "\u001b[38;20m2024-01-04 17:00:00,369 - DEBUG - Processing user erd1w6ztzhls2ex33j50y87la4duntc2m5nmfeeyrvj7lwgu6ez9f9eq05wuvu ...\u001b[0m\n",
      "\u001b[38;20m2024-01-04 17:00:00,372 - DEBUG - Processing user erd1k4hzavw2382gkf50l75asfge4069r6yv63cfc35jkjd3vwjx0w9ss9awgz ...\u001b[0m\n",
      "\u001b[38;20m2024-01-04 17:00:00,571 - DEBUG - Processing user erd1su22ddec96ud78kwjucte9y4g6sklps4ky8kqputrdzj2z0za7mqkk2748 ...\u001b[0m\n",
      "\u001b[38;20m2024-01-04 17:00:00,602 - DEBUG - Processing user erd1sakkqus7ycx7tsm4scuf7f446ldnjr94pt8pdq480f7j53mtnzusrxyj4y ...\u001b[0m\n",
      "\u001b[38;20m2024-01-04 17:00:00,639 - DEBUG - Processing user erd1qm79xlfe5gw0pf6haye43ujd90ux3cq07u0y44r0jvzm9etm285q20lvsd ...\u001b[0m\n",
      "\u001b[38;20m2024-01-04 17:00:00,969 - DEBUG - Processing user erd1y03faeeqdhfjcs8tgxpemnqldua6qjtxdtvvpu4hpc4lzzwg5hrqt5eckf ...\u001b[0m\n",
      "\u001b[38;20m2024-01-04 17:00:02,654 - DEBUG - Processing user erd1gkn2z2d9m3f6usl3g0jrkm63pxj4ynpn90kl8vtgyxflfz4zhj0quadzd3 ...\u001b[0m\n",
      "\u001b[38;20m2024-01-04 17:00:02,730 - DEBUG - Processing user erd1zsttpzvr7u4tkvm9e8jesycu9ltg4rutsttgs0s7ndv308jmwvtskff37e ...\u001b[0m\n",
      "\u001b[38;20m2024-01-04 17:00:02,745 - DEBUG - Processing user erd13u2tnqvhcs202yk8ejj4etqsn8w6zzzgzaphna5yz9vkmn305qxsys5d7h ...\u001b[0m\n",
      "\u001b[38;20m2024-01-04 17:00:02,746 - DEBUG - Processing user erd1d68dz9y36c604ex44cqsks3j8g8t0wdrmcypsf0889ptl4zs9dxqzaefp9 ...\u001b[0m\n",
      "\u001b[38;20m2024-01-04 17:00:02,754 - DEBUG - Processing user erd1tjxvvmr3kz7kpzpuawk7vl3ucqcczz76wqq20qhv0czs0w59u7vsytv0fq ...\u001b[0m\n",
      "\u001b[38;20m2024-01-04 17:00:02,781 - DEBUG - Processing user erd1gxy7n8tk944lfstfhrdnmc5nncw42hld69357sngqpekkacya6cqzvjl7j ...\u001b[0m\n",
      "\u001b[38;20m2024-01-04 17:00:02,932 - DEBUG - Processing user erd187nq7wdmfctlpmyezn252a4n66vus3rs9qkrs2zwtpyz8tfy3mwq0kuscj ...\u001b[0m\n",
      "\u001b[38;20m2024-01-04 17:00:02,946 - DEBUG - Processing user erd14chhz7ynumqz3640z4pckvaczzptj0lv2k9w29t32a06229t5u8sr8hhx7 ...\u001b[0m\n",
      "\u001b[38;20m2024-01-04 17:00:02,970 - DEBUG - Processing user erd1c3jpx9448js2j6szyvj373gxddzckje3d8vpwd6kkvax58v76eyq5yjc87 ...\u001b[0m\n",
      "\u001b[38;20m2024-01-04 17:00:03,347 - DEBUG - Processing user erd1rgq4ghd53ggmtcz2d3lv2n8y5g3rmmjw85pwfpyk6pnztk6v4q9syptv7p ...\u001b[0m\n",
      "\u001b[38;20m2024-01-04 17:00:05,061 - DEBUG - Processing user erd13j2r7la2le8cyg4k7x8579s4zm5pa03f4rdsr227w90vlnjnwm3qew4a7d ...\u001b[0m\n",
      "\u001b[38;20m2024-01-04 17:00:05,104 - DEBUG - Processing user erd1zsx5s9gtpu86qh3dda8msww089gdqrucehj0k0dcggxprfa8rkss3e93kp ...\u001b[0m\n",
      "\u001b[38;20m2024-01-04 17:00:05,106 - DEBUG - Processing user erd10lyvr485d8vpuzkg0kfkfd2c8c7rl46aa0waa6qg85lan56f0nhsv73hvt ...\u001b[0m\n",
      "\u001b[38;20m2024-01-04 17:00:05,128 - DEBUG - Processing user erd1tjzapq53e7qx4pc77qm0rzpcf70ck9dn9994vnw3h2vvwvq9jmlsvmgtyp ...\u001b[0m\n",
      "\u001b[38;20m2024-01-04 17:00:05,134 - DEBUG - Processing user erd12hq60dmcqr64xjp2yhu5y4cqe505nc8h3xxzzym9vk8vz4xxpdass4xgk7 ...\u001b[0m\n",
      "\u001b[38;20m2024-01-04 17:00:05,141 - DEBUG - Processing user erd1fe5hh8ggn2v238k9g5r9yy88hzdsqkr4ujs0w5lyytxwdkjlh8xs9tzrtc ...\u001b[0m\n",
      "\u001b[38;20m2024-01-04 17:00:05,241 - DEBUG - Processing user erd1mj3c9zmuxeytjp7ha0fw59dvjvkweslqgkkw732tje4g4ld9s3fs2fg7xg ...\u001b[0m\n",
      "\u001b[38;20m2024-01-04 17:00:05,339 - DEBUG - Processing user erd1hrpt8flnzqvatr75pkeemmf2l7l08mj538und5fztgc4dhj5aces5kx8nx ...\u001b[0m\n",
      "\u001b[38;20m2024-01-04 17:00:05,401 - DEBUG - Processing user erd1zz6hl926fdt52tz5rdqdr4ldqzmy485plrtewzeunsflx4yv0z0sxwgh6j ...\u001b[0m\n",
      "\u001b[38;20m2024-01-04 17:00:05,739 - DEBUG - Processing user erd1huprt2cgl0d362lr9y8m9028k97tcaqsmjesdnuwjmr7tg5r48wq6vnp8a ...\u001b[0m\n",
      "\u001b[38;20m2024-01-04 17:00:07,348 - DEBUG - Processing user erd1q9dyp30h8t4atne2qlwc4vz9q8mejpctff3un59nfayw6cuywr2sqesuu6 ...\u001b[0m\n",
      "\u001b[38;20m2024-01-04 17:00:07,416 - DEBUG - Processing user erd17wgp95zwer9l247mejtwumq7yd0v77kekecujdjvdk5683h6fpdq8ty78l ...\u001b[0m\n",
      "\u001b[38;20m2024-01-04 17:00:07,491 - DEBUG - Processing user erd1ahkzhjt7tz5vjwwlk4edxu9qqrx0k8d7p5cej6v26kcw8kpknm0qwmtn8f ...\u001b[0m\n",
      "\u001b[38;20m2024-01-04 17:00:07,535 - DEBUG - Processing user erd19f87p28942rrf07d4nfyfyrn4grdzxy8xllghkayhrzzsasmd9wsevvw02 ...\u001b[0m\n",
      "\u001b[38;20m2024-01-04 17:00:07,536 - DEBUG - Processing user erd1f0rq5eljxr6tzuar3g7lrsl6mekl5tlcfhgnahnmd2d8308vgufshlyjew ...\u001b[0m\n",
      "\u001b[38;20m2024-01-04 17:00:07,541 - DEBUG - Processing user erd1vs339yfntu3hy67fy9l4ecl8fckuve9jvzt83adlh6l8wg4apd2senu27f ...\u001b[0m\n",
      "\u001b[38;20m2024-01-04 17:00:07,616 - DEBUG - Processing user erd1fgmx97unwf2mq82zcdttqan76cedc8c7m9gshathdvx8z9pklx7q6m7sgn ...\u001b[0m\n",
      "\u001b[38;20m2024-01-04 17:00:07,693 - DEBUG - Processing user erd17anfzdxycxkca24d9k7lw4042zreexx6upma9vqjgl2tenvxqxysj97tc5 ...\u001b[0m\n",
      "\u001b[38;20m2024-01-04 17:00:07,727 - DEBUG - Processing user erd1gaatx8cca6rkcfaecj3y5ey7w94nva3htveds4ccdtwy2rs9wg2q2gvg0k ...\u001b[0m\n",
      "\u001b[38;20m2024-01-04 17:00:08,102 - DEBUG - Processing user erd1xu4597ngyx34ksyl5gtkqh3v2hs95rzaz5ean3fy7lc2vmfq8sasnnhmwa ...\u001b[0m\n",
      "\u001b[38;20m2024-01-04 17:00:09,660 - DEBUG - Processing user erd126z90zvvck33nk9uudzwjttl2rxxyta63xtxeakfsdjs9z0yz8esd0dcnm ...\u001b[0m\n",
      "\u001b[38;20m2024-01-04 17:00:09,724 - DEBUG - Processing user erd1qy36pdtuz7s9smxvz9dychwaqq70szs42ffdsxx62ej7232u65xqq0ljfh ...\u001b[0m\n",
      "\u001b[38;20m2024-01-04 17:00:09,854 - DEBUG - Processing user erd1u2snuppwuqzfcdkyvh5stfyeqjcp4j9xjj3llwen5tmzpayyzz6qy3l029 ...\u001b[0m\n",
      "\u001b[38;20m2024-01-04 17:00:09,879 - DEBUG - Processing user erd1u68qpeq5hg9gv4th5zt00qs3v03prq2jza2jgw9he2q6rwdvr6kq6zumx5 ...\u001b[0m\n",
      "\u001b[38;20m2024-01-04 17:00:09,885 - DEBUG - Processing user erd186k5dwgrg6a4fd5whtsvegjq2ang6maw9w8chq7m4l0lfavlsgnq0nfyrz ...\u001b[0m\n",
      "\u001b[38;20m2024-01-04 17:00:09,987 - DEBUG - Processing user erd13j7wjlasnm4z994u8ef8phara7wgmmhl4y5qjxuqtkdupsnqhfwq8znv5p ...\u001b[0m\n",
      "\u001b[38;20m2024-01-04 17:00:09,988 - DEBUG - Processing user erd15wcra8gfun6ja8wlzmd0ujfz4c70s4tkl7nr7lzjfumz7xglf94qp847cg ...\u001b[0m\n",
      "\u001b[38;20m2024-01-04 17:00:09,998 - DEBUG - Processing user erd1w7qvumkd3upxdgjr598h6flvel3ezd868g8tl6006ghge4ea43dsqkmwsv ...\u001b[0m\n",
      "\u001b[38;20m2024-01-04 17:00:10,083 - DEBUG - Processing user erd1t9x2grh7semq3h93dla5fte9mqsvjqmy2ny4y3jy05yaak4xpwvssd5sx5 ...\u001b[0m\n",
      "\u001b[38;20m2024-01-04 17:00:10,516 - DEBUG - Processing user erd1yhnyewgnfy0e3sqvs05zh0frq9eazpf74a92gepx5u9esxh8a8lsg5cxa5 ...\u001b[0m\n",
      "\u001b[38;20m2024-01-04 17:00:12,053 - DEBUG - Processing user erd1p6l6nx7ty2dh9ref8jqtjjcx9m7h5n2jw54x7v36r4xru656lwnslevn5w ...\u001b[0m\n",
      "\u001b[38;20m2024-01-04 17:00:12,121 - DEBUG - Processing user erd14q94dpg7jzwduxg2muj2t653gtpvsnnqpudezhlqpqxp2v0djpsqc48s3l ...\u001b[0m\n",
      "\u001b[38;20m2024-01-04 17:00:12,247 - DEBUG - Processing user erd1594n73z0auw2h2a50f7fd36p2ce76u96762kd4jg9fke8hvem9zq4rz6zt ...\u001b[0m\n",
      "\u001b[38;20m2024-01-04 17:00:12,252 - DEBUG - Processing user erd1a5ntx53clkgcwpa43u2h70na7w56mzf7xpv8ky2rt8jqzh5sat4qtqrj2s ...\u001b[0m\n",
      "\u001b[38;20m2024-01-04 17:00:12,345 - DEBUG - Processing user erd12pu75q6upay5c6z2e4u7dftg273tanhd72umh4ujus2qg2kr09hqzl3s4j ...\u001b[0m\n",
      "\u001b[38;20m2024-01-04 17:00:12,366 - DEBUG - Processing user erd1sd77c3mr74u0tjjy460uf56p5a66l9hp6h86f8rgphvs9sdhlhns26cf4a ...\u001b[0m\n",
      "\u001b[38;20m2024-01-04 17:00:12,378 - DEBUG - Processing user erd1yfu6le6qsjn5q852nd27ygn9tdd398udglqwhett005zr709j6hsh893ds ...\u001b[0m\n",
      "\u001b[38;20m2024-01-04 17:00:12,398 - DEBUG - Processing user erd1arm76qcc2cnw2prqnnws32nlpwvxtvhsmuevrvmnvdlk343kfrfsgmvps0 ...\u001b[0m\n",
      "\u001b[38;20m2024-01-04 17:00:12,436 - DEBUG - Processing user erd1y7slkrypwacz3v2d2knuhtqcs5s07tkfguqejxjkc4wke4eauj4ql0x22s ...\u001b[0m\n",
      "\u001b[38;20m2024-01-04 17:00:12,922 - DEBUG - Processing user erd1ukyecg00lhaamh0luylsrez7fa93dhfd7gjdesgryltgc94yfs4shd6668 ...\u001b[0m\n",
      "\u001b[38;20m2024-01-04 17:00:14,430 - DEBUG - Processing user erd149yk6f8vxwzs7er6574ucv7g2urt8uh5g026xl4tntrvy8uqm66qa353hp ...\u001b[0m\n",
      "\u001b[38;20m2024-01-04 17:00:14,501 - DEBUG - Processing user erd188l9ztpyfjk8336cuj3vht956hqekhfhprg3vm2uyjr4tlrrvypqahyk3d ...\u001b[0m\n",
      "\u001b[38;20m2024-01-04 17:00:14,593 - DEBUG - Processing user erd17am3xwtck6urre84d4srtm0acqra2duq2zp3uhdsqe8ts28cgvesggq2dx ...\u001b[0m\n",
      "\u001b[38;20m2024-01-04 17:00:14,627 - DEBUG - Processing user erd1vtfmnr4l8nc5fnxq0tzctxw7jlmys7satvnyj7ks5u2us0zkfywqdln8um ...\u001b[0m\n",
      "\u001b[38;20m2024-01-04 17:00:14,694 - DEBUG - Processing user erd1a532x2xqzj9574n7qckxnem8mxwlr686sw29yqlcflvylhn8eavqz73h4c ...\u001b[0m\n",
      "\u001b[38;20m2024-01-04 17:00:14,749 - DEBUG - Processing user erd1jk9fsfy22ekgtlqq0v36ddvhe3z5pcpflf0p3utv4mx0q93s9t6q5sqeg0 ...\u001b[0m\n",
      "\u001b[38;20m2024-01-04 17:00:14,766 - DEBUG - Processing user erd182vuulm0mpj40s74pl8xj4a929ng8fq7jc7a52ynmr5va9430rrs67muje ...\u001b[0m\n",
      "\u001b[38;20m2024-01-04 17:00:16,802 - DEBUG - Processing user erd13qflv99zjdqxq67lc0tgw6ajw7a7yldrykszkdl8t0pqr8ceaspq73rv8x ...\u001b[0m\n",
      "\u001b[38;20m2024-01-04 17:00:16,922 - DEBUG - Processing user erd1hlq8lvafne0fdydempzeduhz2qkk2hxa44qw8jprndnxu8qehllqz66ft7 ...\u001b[0m\n",
      "\u001b[38;20m2024-01-04 17:00:16,941 - DEBUG - Processing user erd1r0j6n8yu45vm98crwnn99fusnvx42jw33p4klda06ury7w85kytqsxwt8u ...\u001b[0m\n",
      "\u001b[38;20m2024-01-04 17:00:19,300 - DEBUG - Processing user erd1c262kkcucpkjlf9fw2v5aulkr339eqsygguxck09qyyfc320tt3qwd00ga ...\u001b[0m\n",
      "\u001b[92m2024-01-04 17:00:21,680 - INFO - Number of users fetched: 84\u001b[0m\n",
      "\u001b[92m2024-01-04 17:00:21,681 - INFO - Number of users with farming tokens: 4\u001b[0m\n",
      "\u001b[92m2024-01-04 17:00:21,682 - INFO - Number of users with farm tokens: 83\u001b[0m\n",
      "\u001b[92m2024-01-04 17:00:21,683 - INFO - Number of users with both farming and farm tokens: 3\u001b[0m\n"
     ]
    }
   ],
   "source": [
    "from utils.utils_scenarios import collect_farm_contract_users\n",
    "from multiversx_sdk_network_providers import ApiNetworkProvider\n",
    "\n",
    "mainnet_api = ApiNetworkProvider(\"https://api.multiversx.com\")\n",
    "fetched_users = collect_farm_contract_users(100, farm_contract.address, farm_contract.farmingToken, farm_contract.farmToken,\n",
    "                                            mainnet_api, context.network_provider.proxy)"
   ]
  },
  {
   "cell_type": "markdown",
   "metadata": {},
   "source": [
    "Used users"
   ]
  },
  {
   "cell_type": "code",
   "execution_count": 7,
   "metadata": {},
   "outputs": [
    {
     "name": "stdout",
     "output_type": "stream",
     "text": [
      "Account: erd124tqyjf5035vcyjzr467qkezcmkus84f8hhxrj20wxy23m8xm88qklcdfc\n",
      "Farming Tokens in account:\n",
      "Farm Tokens in account:\n",
      "\t{'attributes': 'AAAACAgN9EUft74AAAAAAAAAA4AAAAAAAAAACAHK6zqFwTNNVVYCSTR8aMwSQh114Fsixu3IHqk97mHJT3GIqOzm2c4=', 'balance': '129174175918142285', 'creator': 'erd1qqqqqqqqqqqqqpgqenvn0s3ldc94q2mlkaqx4arj3zfnvnmakp2sxca2h9', 'nonce': 54951, 'royalties': '0', 'tokenIdentifier': 'EGLDRIDEFL-7aac94-d6a7', 'uris': ['']}\n",
      "\t\t{'reward_per_share': 580388504722718208, 'entering_epoch': 896, 'compounded_reward': 0, 'current_farm_amount': 129174175918142285, 'original_owner': 'erd124tqyjf5035vcyjzr467qkezcmkus84f8hhxrj20wxy23m8xm88qklcdfc'}\n"
     ]
    }
   ],
   "source": [
    "from utils.decoding_structures import FARM_TOKEN_ATTRIBUTES\n",
    "from utils.utils_chain import decode_merged_attributes, base64_to_hex, get_all_token_nonces_details_for_account\n",
    "from utils.utils_scenarios import FetchedUser\n",
    "\n",
    "index = 0\n",
    "users: List[FetchedUser] = fetched_users.get_users_with_farm_tokens()\n",
    "if not users:\n",
    "    raise Exception('No users found for the given criteria')\n",
    "\n",
    "user = users[index].address\n",
    "tokens_in_account = get_all_token_nonces_details_for_account(farm_contract.farmingToken, user.bech32(), context.network_provider.proxy)\n",
    "print(f'Account: {user.bech32()}')\n",
    "print(f'Farming Tokens in account:')\n",
    "for token in tokens_in_account:\n",
    "    print(f'\\t{token}')\n",
    "tokens_in_account = get_all_token_nonces_details_for_account(farm_contract.farmToken, user.bech32(), context.network_provider.proxy)\n",
    "print(f'Farm Tokens in account:')\n",
    "for token in tokens_in_account:\n",
    "    print(f'\\t{token}')\n",
    "    print(f'\\t\\t{decode_merged_attributes(base64_to_hex(token[\"attributes\"]), FARM_TOKEN_ATTRIBUTES)}')"
   ]
  },
  {
   "cell_type": "code",
   "execution_count": 8,
   "metadata": {},
   "outputs": [
    {
     "name": "stdout",
     "output_type": "stream",
     "text": [
      "Account: erd1c2tt2z8lflwgp63zy9zmpyqkgg95yq6hl6v9eax45ymn35c40g2qe0unq3\n",
      "Farming Tokens in account:\n",
      "Farm Tokens in account:\n",
      "\t{'attributes': 'AAAACAMq3AD5NNVWAAAAAAAAA4sAAAAAAAAACA47ylNDzD3Iwpa1CP9P3IDqIiFFsJAWQgtCA1f+mFz01aE3ONMVehQ=', 'balance': '1025635799125474760', 'creator': 'erd1qqqqqqqqqqqqqpgqenvn0s3ldc94q2mlkaqx4arj3zfnvnmakp2sxca2h9', 'nonce': 24263, 'royalties': '0', 'tokenIdentifier': 'EGLDRIDEFL-7aac94-5ec7', 'uris': ['']}\n",
      "\t\t{'reward_per_share': 228236627874731350, 'entering_epoch': 907, 'compounded_reward': 0, 'current_farm_amount': 1025635799125474760, 'original_owner': 'erd1c2tt2z8lflwgp63zy9zmpyqkgg95yq6hl6v9eax45ymn35c40g2qe0unq3'}\n"
     ]
    }
   ],
   "source": [
    "from utils.decoding_structures import FARM_TOKEN_ATTRIBUTES\n",
    "from utils.utils_chain import decode_merged_attributes, base64_to_hex\n",
    "index = 1\n",
    "users: List[FetchedUser] = fetched_users.get_users_with_farm_tokens()\n",
    "if not users:\n",
    "    raise Exception('No users found for the given criteria')\n",
    "\n",
    "user2 = users[index].address\n",
    "tokens_in_account = get_all_token_nonces_details_for_account(farm_contract.farmingToken, user2.bech32(), context.network_provider.proxy)\n",
    "print(f'Account: {user2.bech32()}')\n",
    "print(f'Farming Tokens in account:')\n",
    "for token in tokens_in_account:\n",
    "    print(f'\\t{token}')\n",
    "tokens_in_account = get_all_token_nonces_details_for_account(farm_contract.farmToken, user2.bech32(), context.network_provider.proxy)\n",
    "print(f'Farm Tokens in account:')\n",
    "for token in tokens_in_account:\n",
    "    print(f'\\t{token}')\n",
    "    print(f'\\t\\t{decode_merged_attributes(base64_to_hex(token[\"attributes\"]), FARM_TOKEN_ATTRIBUTES)}')"
   ]
  },
  {
   "cell_type": "markdown",
   "metadata": {},
   "source": [
    "Transfer position"
   ]
  },
  {
   "cell_type": "code",
   "execution_count": null,
   "metadata": {},
   "outputs": [],
   "source": [
    "from utils.utils_tx import multi_esdt_transfer, ESDTToken\n",
    "from utils.utils_chain import Account\n",
    "fetched_user = users[0]\n",
    "user_account = Account(pem_file=\"~/Documents/sh1.pem\")\n",
    "user_account.address = fetched_user.address\n",
    "user_account.sync_nonce(context.network_provider.proxy)\n",
    "\n",
    "full_token_id = fetched_user.farm_tokens[0].get('tokenIdentifier')\n",
    "token_id = '-'.join(full_token_id.split('-')[:-1])\n",
    "token = ESDTToken(token_id, fetched_user.farm_tokens[0].get('nonce'), int(fetched_user.farm_tokens[0].get('balance'))//2)\n",
    "print(f'Sending: {token.get_token_data()} from {fetched_user.address.bech32()}')\n",
    "multi_esdt_transfer(context.network_provider.proxy, 1000000, user_account, users[1].address, [token])"
   ]
  },
  {
   "cell_type": "markdown",
   "metadata": {},
   "source": [
    "Enter farm"
   ]
  },
  {
   "cell_type": "code",
   "execution_count": null,
   "metadata": {},
   "outputs": [],
   "source": [
    "from utils.utils_chain import Account, WrapperAddress as Address, get_all_token_nonces_details_for_account\n",
    "from contracts.farm_contract import EnterFarmEvent\n",
    "\n",
    "# user = fetched_users[randint(0, len(fetched_users.get_users_with_farming_tokens()) - 1)].address\n",
    "# user = fetched_users.get_users_with_both_tokens()[0].address\n",
    "user_account = Account(pem_file=\"~/Documents/sh1.pem\")\n",
    "user_account.address = user\n",
    "user_account.sync_nonce(context.network_provider.proxy)\n",
    "\n",
    "farming_tk_balance = 0\n",
    "tokens_in_account = get_all_token_nonces_details_for_account(farm_contract.farmingToken, user_account.address.bech32(), context.network_provider.proxy)\n",
    "print(f'Found {len(tokens_in_account)} farming tokens in account')\n",
    "for token in tokens_in_account:\n",
    "    if int(token['balance']) > 0:\n",
    "        farming_tk_balance = int(token['balance'])\n",
    "        break\n",
    "\n",
    "if not farming_tk_balance:\n",
    "    raise Exception(\"Not enough farming token balance\")\n",
    "\n",
    "farm_tk_balance, farm_tk_nonce = 0, 0\n",
    "tokens_in_account = get_all_token_nonces_details_for_account(farm_contract.farmToken, user_account.address.bech32(), context.network_provider.proxy)\n",
    "print(f'Found {len(tokens_in_account)} farm tokens in account')\n",
    "for token in tokens_in_account:\n",
    "    if int(token['balance']) > farm_tk_balance:\n",
    "        farm_tk_balance = int(token['balance'])\n",
    "        farm_tk_nonce = token['nonce']\n",
    "        break\n",
    "\n",
    "# use only 10% of the balance\n",
    "event = EnterFarmEvent(farm_contract.farmingToken, 0, farming_tk_balance // 10,\n",
    "                       farm_contract.farmToken, farm_tk_nonce, farm_tk_balance)\n",
    "\n",
    "initial_enter: bool = False if farm_tk_nonce else True\n",
    "tx_hash = farm_contract.enterFarm(context.network_provider, user_account, event, initial=initial_enter)"
   ]
  },
  {
   "cell_type": "markdown",
   "metadata": {},
   "source": [
    "Claim rewards"
   ]
  },
  {
   "cell_type": "code",
   "execution_count": 19,
   "metadata": {},
   "outputs": [
    {
     "name": "stderr",
     "output_type": "stream",
     "text": [
      "\u001b[38;20m2023-12-07 14:45:16,888 - DEBUG - Account.sync_nonce() done: 148\u001b[0m\n",
      "\u001b[92m2023-12-07 14:45:19,924 - INFO - claimRewards\u001b[0m\n",
      "\u001b[38;20m2023-12-07 14:45:19,926 - DEBUG - Account: erd124tqyjf5035vcyjzr467qkezcmkus84f8hhxrj20wxy23m8xm88qklcdfc\u001b[0m\n",
      "\u001b[38;20m2023-12-07 14:45:19,927 - DEBUG - claimRewards\u001b[0m\n"
     ]
    },
    {
     "name": "stdout",
     "output_type": "stream",
     "text": [
      "Found 1 positions of EGLDRIDEFL-7aac94 in account\n"
     ]
    },
    {
     "name": "stderr",
     "output_type": "stream",
     "text": [
      "\u001b[38;20m2023-12-07 14:45:22,290 - DEBUG - Contract call arguments: []\u001b[0m\n",
      "\u001b[92m2023-12-07 14:45:24,664 - INFO - No explorer known for https://proxy-shadowfork-four.elrond.ro. transaction raw path: transactions/4125f0f2d6cba22c7bdceac5fd80326cf6fa8a99b8e241d9889afffcebd26216\u001b[0m\n"
     ]
    }
   ],
   "source": [
    "from utils.utils_chain import Account, WrapperAddress as Address, get_all_token_nonces_details_for_account\n",
    "from contracts.farm_contract import ClaimRewardsFarmEvent\n",
    "\n",
    "# user = fetched_users[randint(0, len(fetched_users.get_users_with_farming_tokens()) - 1)].address\n",
    "# user = fetched_users.get_users_with_both_tokens()[0].address\n",
    "user_account = Account(pem_file=\"~/Documents/sh1.pem\")\n",
    "user_account.address = user\n",
    "user_account.sync_nonce(context.network_provider.proxy)\n",
    "\n",
    "farm_tk_balance, farm_tk_nonce = 0, 0\n",
    "tokens_in_account = get_all_token_nonces_details_for_account(farm_contract.farmToken, user_account.address.bech32(), context.network_provider.proxy)\n",
    "print(f'Found {len(tokens_in_account)} positions of {farm_contract.farmToken} in account')\n",
    "for token in tokens_in_account:\n",
    "    if int(token['balance']) > farm_tk_balance:\n",
    "        farm_tk_balance = int(token['balance'])\n",
    "        farm_tk_nonce = token['nonce']\n",
    "        break\n",
    "\n",
    "if not farm_tk_nonce:\n",
    "    raise Exception(\"Not enough farm token balance\")\n",
    "\n",
    "event = ClaimRewardsFarmEvent(1000000000, farm_tk_nonce, '')\n",
    "\n",
    "tx_hash = farm_contract.claimRewards(context.network_provider, user_account, event)"
   ]
  },
  {
   "cell_type": "code",
   "execution_count": 18,
   "metadata": {},
   "outputs": [
    {
     "name": "stderr",
     "output_type": "stream",
     "text": [
      "\u001b[38;20m2023-12-06 15:38:15,120 - DEBUG - Account.sync_nonce() done: 1247\u001b[0m\n",
      "\u001b[92m2023-12-06 15:38:15,121 - INFO - claimBoostedRewards\u001b[0m\n",
      "\u001b[38;20m2023-12-06 15:38:15,122 - DEBUG - Account: erd195g7t6xwdfcnu6tvye4ks3r09sluzfxhaa7wrd9edqcfu9r645eq8x53v6 claiming for erd195g7t6xwdfcnu6tvye4ks3r09sluzfxhaa7wrd9edqcfu9r645eq8x53v6\u001b[0m\n",
      "\u001b[38;20m2023-12-06 15:38:15,123 - DEBUG - Calling claimBoostedRewards at erd1qqqqqqqqqqqqqpgqenvn0s3ldc94q2mlkaqx4arj3zfnvnmakp2sxca2h9\u001b[0m\n",
      "\u001b[38;20m2023-12-06 15:38:15,124 - DEBUG - Args: [erd195g7t6xwdfcnu6tvye4ks3r09sluzfxhaa7wrd9edqcfu9r645eq8x53v6]\u001b[0m\n",
      "\u001b[38;20m2023-12-06 15:38:15,702 - DEBUG - Contract call arguments: [erd195g7t6xwdfcnu6tvye4ks3r09sluzfxhaa7wrd9edqcfu9r645eq8x53v6]\u001b[0m\n",
      "\u001b[92m2023-12-06 15:38:15,906 - INFO - No explorer known for https://proxy-shadowfork-four.elrond.ro. transaction raw path: transactions/49a5a729a3e742ec73f9bed2e92971b82daaaec4e03b18659ab4576595c6adec\u001b[0m\n"
     ]
    }
   ],
   "source": [
    "from utils.utils_chain import Account, WrapperAddress as Address, get_all_token_nonces_details_for_account\n",
    "from contracts.farm_contract import ClaimRewardsFarmEvent\n",
    "\n",
    "user_account = Account(pem_file=\"~/Documents/sh1.pem\")\n",
    "user_account.address = user\n",
    "user_account.sync_nonce(context.network_provider.proxy)\n",
    "\n",
    "event = ClaimRewardsFarmEvent(1000000000, farm_tk_nonce, '', user_account.address.bech32())\n",
    "\n",
    "tx_hash = farm_contract.claim_boosted_rewards(context.network_provider, user_account, event)"
   ]
  },
  {
   "cell_type": "markdown",
   "metadata": {},
   "source": [
    "Get user farm position"
   ]
  },
  {
   "cell_type": "code",
   "execution_count": 16,
   "metadata": {},
   "outputs": [
    {
     "name": "stdout",
     "output_type": "stream",
     "text": [
      "erd195g7t6xwdfcnu6tvye4ks3r09sluzfxhaa7wrd9edqcfu9r645eq8x53v6\n"
     ]
    },
    {
     "data": {
      "text/plain": [
       "{'total_farm_position': 1000000000, 'allow_external_claim': 0}"
      ]
     },
     "execution_count": 16,
     "metadata": {},
     "output_type": "execute_result"
    }
   ],
   "source": [
    "# user_address = fetched_users.get_users_with_both_tokens()[0].address.bech32()\n",
    "user_address = user.bech32()\n",
    "print(user_address)\n",
    "farm_contract.get_user_total_farm_position(user_address, context.network_provider.proxy)"
   ]
  },
  {
   "cell_type": "markdown",
   "metadata": {},
   "source": [
    "Exit rewards"
   ]
  },
  {
   "cell_type": "code",
   "execution_count": null,
   "metadata": {},
   "outputs": [],
   "source": [
    "from utils.utils_chain import Account, WrapperAddress as Address, get_all_token_nonces_details_for_account\n",
    "from contracts.farm_contract import ExitFarmEvent\n",
    "\n",
    "# user = fetched_users[randint(0, len(fetched_users.get_users_with_farming_tokens()) - 1)].address\n",
    "# user = fetched_users.get_users_with_both_tokens()[0].address\n",
    "user_account = Account(pem_file=\"~/Documents/sh1.pem\")\n",
    "user_account.address = user\n",
    "user_account.sync_nonce(context.network_provider.proxy)\n",
    "\n",
    "farm_tk_balance, farm_tk_nonce = 0, 0\n",
    "tokens_in_account = get_all_token_nonces_details_for_account(farm_contract.farmToken, user_account.address.bech32(), context.network_provider.proxy)\n",
    "print(f'Found {len(tokens_in_account)} positions of {farm_contract.farmToken} in account')\n",
    "for token in tokens_in_account:\n",
    "    if int(token['balance']) > farm_tk_balance:\n",
    "        farm_tk_balance = int(token['balance'])\n",
    "        farm_tk_nonce = token['nonce']\n",
    "        break\n",
    "\n",
    "if not farm_tk_nonce:\n",
    "    raise Exception(\"Not enough farm token balance\")\n",
    "\n",
    "event = ExitFarmEvent(farm_contract.farmToken, farm_tk_balance, farm_tk_nonce, '')\n",
    "\n",
    "tx_hash = farm_contract.exitFarm(context.network_provider, user_account, event)"
   ]
  },
  {
   "cell_type": "markdown",
   "metadata": {},
   "source": [
    "Get user farm position"
   ]
  },
  {
   "cell_type": "code",
   "execution_count": null,
   "metadata": {},
   "outputs": [],
   "source": [
    "# user_address = fetched_users.get_users_with_both_tokens()[0].address.bech32()\n",
    "user_address = user_account.address.bech32()\n",
    "print(user_address)\n",
    "farm_contract.get_user_total_farm_position(user_address, context.network_provider.proxy)"
   ]
  },
  {
   "cell_type": "markdown",
   "metadata": {},
   "source": [
    "SHADOWFORK CONTROL"
   ]
  },
  {
   "cell_type": "code",
   "execution_count": 14,
   "metadata": {},
   "outputs": [
    {
     "name": "stdout",
     "output_type": "stream",
     "text": [
      "Current epoch: 1223\n"
     ]
    },
    {
     "name": "stderr",
     "output_type": "stream",
     "text": [
      "\u001b[38;20m2023-12-06 15:29:34,353 - DEBUG - Account.sync_nonce() done: 3429\u001b[0m\n",
      "\u001b[92m2023-12-06 15:29:34,362 - INFO - fast forward epoch\u001b[0m\n",
      "\u001b[92m2023-12-06 15:29:34,363 - INFO - Fast forwarding 7 epochs\u001b[0m\n",
      "\u001b[38;20m2023-12-06 15:29:34,363 - DEBUG - Calling epochsFastForward at erd1qqqqqqqqqqqqqqqpqqqqqqqqqqqqqqqqqqqqqqqqqqqqqqqplllst77y4l\u001b[0m\n",
      "\u001b[38;20m2023-12-06 15:29:34,364 - DEBUG - Args: [7, 9]\u001b[0m\n",
      "\u001b[38;20m2023-12-06 15:29:35,815 - DEBUG - Contract call arguments: [7, 9]\u001b[0m\n",
      "\u001b[92m2023-12-06 15:29:36,600 - INFO - No explorer known for https://proxy-shadowfork-four.elrond.ro. transaction raw path: transactions/012283b2cdb8f8e4404add51a65b580ac6be3fb373b36e98cc50d6f022b3ac34\u001b[0m\n"
     ]
    },
    {
     "data": {
      "text/plain": [
       "'012283b2cdb8f8e4404add51a65b580ac6be3fb373b36e98cc50d6f022b3ac34'"
      ]
     },
     "execution_count": 14,
     "metadata": {},
     "output_type": "execute_result"
    }
   ],
   "source": [
    "from contracts.builtin_contracts import SFControlContract\n",
    "\n",
    "epocs_to_advance = 7\n",
    "\n",
    "sf_control_contract = SFControlContract(config.SF_CONTROL_ADDRESS)\n",
    "current_epoch = context.network_provider.proxy.get_network_status(1).epoch_number\n",
    "print(f'Current epoch: {current_epoch}')\n",
    "context.deployer_account.sync_nonce(context.network_provider.proxy)\n",
    "sf_control_contract.epochs_fast_forward(context.deployer_account, context.network_provider.proxy, epocs_to_advance, 9)"
   ]
  },
  {
   "cell_type": "markdown",
   "metadata": {},
   "source": [
    "wait for epoch fast forward"
   ]
  },
  {
   "cell_type": "code",
   "execution_count": 15,
   "metadata": {},
   "outputs": [
    {
     "name": "stdout",
     "output_type": "stream",
     "text": [
      "Current epoch: 1223\n",
      "Current epoch: 1223\n",
      "Current epoch: 1223\n",
      "Current epoch: 1223\n",
      "Current epoch: 1223\n",
      "Current epoch: 1224\n",
      "Current epoch: 1224\n",
      "Current epoch: 1224\n",
      "Current epoch: 1224\n",
      "Current epoch: 1224\n",
      "Current epoch: 1225\n",
      "Current epoch: 1225\n",
      "Current epoch: 1225\n",
      "Current epoch: 1225\n",
      "Current epoch: 1225\n",
      "Current epoch: 1226\n",
      "Current epoch: 1226\n",
      "Current epoch: 1226\n",
      "Current epoch: 1226\n",
      "Current epoch: 1226\n",
      "Current epoch: 1227\n",
      "Current epoch: 1227\n",
      "Current epoch: 1227\n",
      "Current epoch: 1227\n",
      "Current epoch: 1227\n",
      "Current epoch: 1228\n",
      "Current epoch: 1228\n",
      "Current epoch: 1228\n",
      "Current epoch: 1228\n",
      "Current epoch: 1228\n",
      "Current epoch: 1229\n",
      "Current epoch: 1229\n",
      "Current epoch: 1229\n",
      "Current epoch: 1229\n",
      "Current epoch: 1229\n",
      "Current epoch: 1230\n",
      "Reached target epoch!\n"
     ]
    }
   ],
   "source": [
    "from time import sleep\n",
    "\n",
    "target_epoch = current_epoch + epocs_to_advance\n",
    "while current_epoch < target_epoch:\n",
    "    current_epoch = context.network_provider.proxy.get_network_status(1).epoch_number\n",
    "    print(f'Current epoch: {current_epoch}')\n",
    "    sleep(10)\n",
    "print('Reached target epoch!')"
   ]
  },
  {
   "cell_type": "markdown",
   "metadata": {},
   "source": [
    "Trackers"
   ]
  },
  {
   "cell_type": "code",
   "execution_count": null,
   "metadata": {},
   "outputs": [],
   "source": [
    "from trackers.farm_economics_tracking import FarmEconomics\n",
    "from contracts.farm_contract import FarmContractVersion\n",
    "\n",
    "farm_tracker = FarmEconomics(farm_contract.address, FarmContractVersion.V2Boosted, context.network_provider)"
   ]
  },
  {
   "cell_type": "code",
   "execution_count": null,
   "metadata": {},
   "outputs": [],
   "source": [
    "farm_tracker.update_tracking_data()\n",
    "farm_tracker.report_current_tracking_data()"
   ]
  },
  {
   "cell_type": "code",
   "execution_count": null,
   "metadata": {},
   "outputs": [],
   "source": [
    "farm_tracker.update_tracking_data()\n",
    "farm_tracker.report_current_tracking_data()"
   ]
  },
  {
   "cell_type": "markdown",
   "metadata": {},
   "source": [
    "State"
   ]
  },
  {
   "cell_type": "code",
   "execution_count": 11,
   "metadata": {},
   "outputs": [
    {
     "name": "stdout",
     "output_type": "stream",
     "text": [
      "53\n"
     ]
    }
   ],
   "source": [
    "current_week = farm_contract.get_current_week(context.network_provider.proxy)\n",
    "print(current_week)"
   ]
  },
  {
   "cell_type": "code",
   "execution_count": 25,
   "metadata": {},
   "outputs": [
    {
     "name": "stderr",
     "output_type": "stream",
     "text": [
      "\u001b[31;20m2023-12-07 14:50:55,550 - ERROR - Exception encountered on view name getUserEnergyForWeek: list index out of range\u001b[0m\n",
      "Traceback (most recent call last):\n",
      "  File \"/home/ovi/projects/dex/mx-sdk-py-exchange/utils/contract_data_fetchers.py\", line 63, in _get_hex_view\n",
      "    return base64_to_hex(result.return_data[0])\n",
      "                         ~~~~~~~~~~~~~~~~~~^^^\n",
      "IndexError: list index out of range\n",
      "\u001b[38;20m2023-12-07 14:50:55,551 - DEBUG - Response content: {'returnData': [], 'returnCode': 'ok', 'returnMessage': '', 'gasUsed': 18446744072212001909}\u001b[0m\n"
     ]
    },
    {
     "name": "stdout",
     "output_type": "stream",
     "text": [
      "{}\n"
     ]
    }
   ],
   "source": [
    "energy_for_user_in_week = farm_contract.get_user_energy_for_week(user.bech32(), proxy=context.network_provider.proxy, week=current_week)\n",
    "print(energy_for_user_in_week)"
   ]
  },
  {
   "cell_type": "code",
   "execution_count": 26,
   "metadata": {},
   "outputs": [
    {
     "name": "stderr",
     "output_type": "stream",
     "text": [
      "\u001b[31;20m2023-12-07 14:51:12,818 - ERROR - Exception encountered on view name getCurrentClaimProgress: list index out of range\u001b[0m\n",
      "Traceback (most recent call last):\n",
      "  File \"/home/ovi/projects/dex/mx-sdk-py-exchange/utils/contract_data_fetchers.py\", line 63, in _get_hex_view\n",
      "    return base64_to_hex(result.return_data[0])\n",
      "                         ~~~~~~~~~~~~~~~~~~^^^\n",
      "IndexError: list index out of range\n",
      "\u001b[38;20m2023-12-07 14:51:12,819 - DEBUG - Response content: {'returnData': [], 'returnCode': 'user error', 'returnMessage': 'storage decode error: input too short', 'gasUsed': 18446744073709551615}\u001b[0m\n"
     ]
    },
    {
     "name": "stdout",
     "output_type": "stream",
     "text": [
      "{}\n"
     ]
    }
   ],
   "source": [
    "user_progress = farm_contract.get_current_claim_progress_for_user(user.bech32(), context.network_provider.proxy)\n",
    "print(user_progress)"
   ]
  },
  {
   "cell_type": "code",
   "execution_count": 27,
   "metadata": {},
   "outputs": [
    {
     "name": "stdout",
     "output_type": "stream",
     "text": [
      "0\n"
     ]
    }
   ],
   "source": [
    "last_week = farm_contract.get_last_active_week_for_user(user.bech32(), context.network_provider.proxy)\n",
    "print(last_week)"
   ]
  }
 ],
 "metadata": {
  "kernelspec": {
   "display_name": "venv-newerdpy",
   "language": "python",
   "name": "python3"
  },
  "language_info": {
   "codemirror_mode": {
    "name": "ipython",
    "version": 3
   },
   "file_extension": ".py",
   "mimetype": "text/x-python",
   "name": "python",
   "nbconvert_exporter": "python",
   "pygments_lexer": "ipython3",
   "version": "3.11.6"
  },
  "orig_nbformat": 4,
  "vscode": {
   "interpreter": {
    "hash": "7ae6ab0abdf10440b34f03794a69a71508ff61341cacd694fe6034a1a71d3b05"
   }
  }
 },
 "nbformat": 4,
 "nbformat_minor": 2
}
