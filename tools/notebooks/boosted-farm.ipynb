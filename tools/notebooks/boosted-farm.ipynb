{
 "cells": [
  {
   "cell_type": "code",
   "execution_count": 1,
   "metadata": {},
   "outputs": [],
   "source": [
    "import sys\n",
    "from pathlib import Path\n",
    "sys.path.append(str(Path.cwd().parent.parent.absolute()))\n",
    "import config"
   ]
  },
  {
   "cell_type": "code",
   "execution_count": 2,
   "metadata": {},
   "outputs": [
    {
     "name": "stderr",
     "output_type": "stream",
     "text": [
      "\u001b[93m2023-11-15 18:41:19,079 - WARNING - Structure definition for egld_wraps not found in /home/ovi/projects/dex/mx-sdk-py-exchange/deploy/configs-mainnet/deploy_structure.json\u001b[0m\n",
      "\u001b[93m2023-11-15 18:41:19,081 - WARNING - Structure definition for pairs_view not found in /home/ovi/projects/dex/mx-sdk-py-exchange/deploy/configs-mainnet/deploy_structure.json\u001b[0m\n",
      "\u001b[93m2023-11-15 18:41:19,082 - WARNING - Structure definition for stakings_boosted not found in /home/ovi/projects/dex/mx-sdk-py-exchange/deploy/configs-mainnet/deploy_structure.json\u001b[0m\n",
      "\u001b[93m2023-11-15 18:41:19,084 - WARNING - Structure definition for metastakings_boosted not found in /home/ovi/projects/dex/mx-sdk-py-exchange/deploy/configs-mainnet/deploy_structure.json\u001b[0m\n"
     ]
    },
    {
     "name": "stdout",
     "output_type": "stream",
     "text": [
      "loaded 10 accounts from 1 PEM files.\n"
     ]
    },
    {
     "name": "stderr",
     "output_type": "stream",
     "text": [
      "\u001b[38;20m2023-11-15 18:41:20,910 - DEBUG - Account.sync_nonce() done: 3425\u001b[0m\n",
      "\u001b[38;20m2023-11-15 18:41:21,768 - DEBUG - Account.sync_nonce() done: 3425\u001b[0m\n",
      "\u001b[92m2023-11-15 18:41:21,770 - INFO - Loaded 10 tokens.\u001b[0m\n",
      "\u001b[38;20m2023-11-15 18:41:22,462 - DEBUG - Account.sync_nonce() done: 3425\u001b[0m\n",
      "\u001b[92m2023-11-15 18:41:22,464 - INFO - Loaded 0 egld_wraps.\u001b[0m\n",
      "\u001b[92m2023-11-15 18:41:22,465 - INFO - Loaded 1 locked_assets.\u001b[0m\n",
      "\u001b[92m2023-11-15 18:41:22,466 - INFO - Loaded 1 proxies.\u001b[0m\n",
      "\u001b[92m2023-11-15 18:41:22,467 - INFO - Loaded 0 simple_locks.\u001b[0m\n",
      "\u001b[92m2023-11-15 18:41:22,468 - INFO - Loaded 1 simple_locks_energy.\u001b[0m\n",
      "\u001b[92m2023-11-15 18:41:22,469 - INFO - Loaded 1 fees_collectors.\u001b[0m\n",
      "\u001b[92m2023-11-15 18:41:22,469 - INFO - Loaded 1 unstakers.\u001b[0m\n",
      "\u001b[92m2023-11-15 18:41:22,471 - INFO - Loaded 1 proxies_v2.\u001b[0m\n",
      "\u001b[92m2023-11-15 18:41:22,472 - INFO - Loaded 0 router.\u001b[0m\n",
      "\u001b[92m2023-11-15 18:41:22,473 - INFO - Loaded 1 router_v2.\u001b[0m\n",
      "\u001b[92m2023-11-15 18:41:22,474 - INFO - Loaded 0 pairs.\u001b[0m\n",
      "\u001b[92m2023-11-15 18:41:22,476 - INFO - Loaded 9 pairs_v2.\u001b[0m\n",
      "\u001b[92m2023-11-15 18:41:22,477 - INFO - Loaded 0 pairs_view.\u001b[0m\n",
      "\u001b[92m2023-11-15 18:41:22,479 - INFO - Loaded 0 farms_community.\u001b[0m\n",
      "\u001b[92m2023-11-15 18:41:22,480 - INFO - Loaded 0 farms_unlocked.\u001b[0m\n",
      "\u001b[92m2023-11-15 18:41:22,482 - INFO - Loaded 0 farms_locked.\u001b[0m\n",
      "\u001b[92m2023-11-15 18:41:22,483 - INFO - Loaded 0 proxy_deployers.\u001b[0m\n",
      "\u001b[92m2023-11-15 18:41:22,485 - INFO - Loaded 9 farms_boosted.\u001b[0m\n",
      "\u001b[92m2023-11-15 18:41:22,486 - INFO - Loaded 0 price_discoveries.\u001b[0m\n",
      "\u001b[92m2023-11-15 18:41:22,487 - INFO - Loaded 0 stakings.\u001b[0m\n",
      "\u001b[92m2023-11-15 18:41:22,489 - INFO - Loaded 7 stakings_v2.\u001b[0m\n",
      "\u001b[92m2023-11-15 18:41:22,490 - INFO - Loaded 0 stakings_boosted.\u001b[0m\n",
      "\u001b[92m2023-11-15 18:41:22,491 - INFO - Loaded 0 metastakings.\u001b[0m\n",
      "\u001b[92m2023-11-15 18:41:22,492 - INFO - Loaded 4 metastakings_v2.\u001b[0m\n",
      "\u001b[92m2023-11-15 18:41:22,493 - INFO - Loaded 0 metastakings_boosted.\u001b[0m\n",
      "\u001b[38;20m2023-11-15 18:41:24,112 - DEBUG - Account.sync_nonce() done: 3425\u001b[0m\n",
      "\u001b[92m2023-11-15 18:41:24,114 - INFO - Deployed contracts below:\u001b[0m\n",
      "\u001b[92m2023-11-15 18:41:24,114 - INFO - egld_wraps:\u001b[0m\n",
      "\u001b[92m2023-11-15 18:41:24,115 - INFO - locked_assets:\u001b[0m\n",
      "\u001b[92m2023-11-15 18:41:24,116 - INFO - Deployed locked asset contract: erd1qqqqqqqqqqqqqpgqjpt0qqgsrdhp2xqygpjtfrpwf76f9nvg2jpsg4q7th\u001b[0m\n",
      "\u001b[92m2023-11-15 18:41:24,116 - INFO -  ├ Unlocked token: MEX-455c57\u001b[0m\n",
      "\u001b[92m2023-11-15 18:41:24,117 - INFO -  ├ Locked token: LKMEX-aab910\u001b[0m\n",
      "\u001b[92m2023-11-15 18:41:24,118 - INFO - proxies:\u001b[0m\n",
      "\u001b[92m2023-11-15 18:41:24,118 - INFO - Deployed proxy contract: erd1qqqqqqqqqqqqqpgqrc4pg2xarca9z34njcxeur622qmfjp8w2jps89fxnl\u001b[0m\n",
      "\u001b[92m2023-11-15 18:41:24,119 - INFO -  ├ Token: MEX-455c57\u001b[0m\n",
      "\u001b[92m2023-11-15 18:41:24,120 - INFO -  ├ Locked tokens: ['LKMEX-aab910']\u001b[0m\n",
      "\u001b[92m2023-11-15 18:41:24,120 - INFO -  ├ Proxy LP token: LKLP-03a2fa\u001b[0m\n",
      "\u001b[92m2023-11-15 18:41:24,121 - INFO -  ├ Proxy Farm token: LKFARM-9d1ea8\u001b[0m\n",
      "\u001b[92m2023-11-15 18:41:24,123 - INFO - simple_locks:\u001b[0m\n",
      "\u001b[92m2023-11-15 18:41:24,124 - INFO - simple_locks_energy:\u001b[0m\n",
      "\u001b[92m2023-11-15 18:41:24,125 - INFO - Deployed simple lock energy contract: erd1qqqqqqqqqqqqqpgq0tajepcazernwt74820t8ef7t28vjfgukp2sw239f3\u001b[0m\n",
      "\u001b[92m2023-11-15 18:41:24,125 - INFO -  ├ Base token: MEX-455c57\u001b[0m\n",
      "\u001b[92m2023-11-15 18:41:24,126 - INFO -  ├ Locked token: XMEX-fda355\u001b[0m\n",
      "\u001b[92m2023-11-15 18:41:24,127 - INFO -  ├ Locked LP token: \u001b[0m\n",
      "\u001b[92m2023-11-15 18:41:24,129 - INFO -  ├ Locked Farm token: \u001b[0m\n",
      "\u001b[92m2023-11-15 18:41:24,130 - INFO - fees_collectors:\u001b[0m\n",
      "\u001b[92m2023-11-15 18:41:24,131 - INFO - Deployed fees collector contract: erd1qqqqqqqqqqqqqpgqjsnxqprks7qxfwkcg2m2v9hxkrchgm9akp2segrswt\u001b[0m\n",
      "\u001b[92m2023-11-15 18:41:24,131 - INFO - unstakers:\u001b[0m\n",
      "\u001b[92m2023-11-15 18:41:24,132 - INFO - Deployed token unstake contract: erd1qqqqqqqqqqqqqpgqxv0y4p6vvszrknaztatycac77yvsxqrrkp2sghd86c\u001b[0m\n",
      "\u001b[92m2023-11-15 18:41:24,133 - INFO - proxies_v2:\u001b[0m\n",
      "\u001b[92m2023-11-15 18:41:24,133 - INFO - Deployed proxy contract: erd1qqqqqqqqqqqqqpgqt6ltx52ukss9d2qag2k67at28a36xc9lkp2sr06394\u001b[0m\n",
      "\u001b[92m2023-11-15 18:41:24,134 - INFO -  ├ Token: MEX-455c57\u001b[0m\n",
      "\u001b[92m2023-11-15 18:41:24,135 - INFO -  ├ Locked tokens: ['LKMEX-aab910', 'XMEX-fda355']\u001b[0m\n",
      "\u001b[92m2023-11-15 18:41:24,135 - INFO -  ├ Proxy LP token: XMEXLP-2cbdce\u001b[0m\n",
      "\u001b[92m2023-11-15 18:41:24,136 - INFO -  ├ Proxy Farm token: XMEXFARM-e0a3dc\u001b[0m\n",
      "\u001b[92m2023-11-15 18:41:24,137 - INFO - router:\u001b[0m\n",
      "\u001b[92m2023-11-15 18:41:24,138 - INFO - router_v2:\u001b[0m\n",
      "\u001b[92m2023-11-15 18:41:24,139 - INFO - Deployed router contract: erd1qqqqqqqqqqqqqpgqq66xk9gfr4esuhem3jru86wg5hvp33a62jps2fy57p\u001b[0m\n",
      "\u001b[92m2023-11-15 18:41:24,139 - INFO - pairs:\u001b[0m\n",
      "\u001b[92m2023-11-15 18:41:24,140 - INFO - pairs_v2:\u001b[0m\n",
      "\u001b[92m2023-11-15 18:41:24,141 - INFO - Deployed pair contract: erd1qqqqqqqqqqqqqpgqa0fsfshnff4n76jhcye6k7uvd7qacsq42jpsp6shh2\u001b[0m\n",
      "\u001b[92m2023-11-15 18:41:24,142 - INFO -  ├ First token: WEGLD-bd4d79\u001b[0m\n",
      "\u001b[92m2023-11-15 18:41:24,143 - INFO -  ├ Second token: MEX-455c57\u001b[0m\n",
      "\u001b[92m2023-11-15 18:41:24,143 - INFO -  ├ LP token: EGLDMEX-0be9e5\u001b[0m\n",
      "\u001b[92m2023-11-15 18:41:24,144 - INFO - Deployed pair contract: erd1qqqqqqqqqqqqqpgqeel2kumf0r8ffyhth7pqdujjat9nx0862jpsg2pqaq\u001b[0m\n",
      "\u001b[92m2023-11-15 18:41:24,147 - INFO -  ├ First token: WEGLD-bd4d79\u001b[0m\n",
      "\u001b[92m2023-11-15 18:41:24,148 - INFO -  ├ Second token: USDC-c76f1f\u001b[0m\n",
      "\u001b[92m2023-11-15 18:41:24,150 - INFO -  ├ LP token: EGLDUSDC-594e5e\u001b[0m\n",
      "\u001b[92m2023-11-15 18:41:24,151 - INFO - Deployed pair contract: erd1qqqqqqqqqqqqqpgqav09xenkuqsdyeyy5evqyhuusvu4gl3t2jpss57g8x\u001b[0m\n",
      "\u001b[92m2023-11-15 18:41:24,152 - INFO -  ├ First token: WEGLD-bd4d79\u001b[0m\n",
      "\u001b[92m2023-11-15 18:41:24,153 - INFO -  ├ Second token: RIDE-7d18e9\u001b[0m\n",
      "\u001b[92m2023-11-15 18:41:24,154 - INFO -  ├ LP token: EGLDRIDE-7bd51a\u001b[0m\n",
      "\u001b[92m2023-11-15 18:41:24,155 - INFO - Deployed pair contract: erd1qqqqqqqqqqqqqpgqpmud7t8uprrxzgu8eq2mtkl08kesflj62jps9j8dyh\u001b[0m\n",
      "\u001b[92m2023-11-15 18:41:24,156 - INFO -  ├ First token: ITHEUM-df6f26\u001b[0m\n",
      "\u001b[92m2023-11-15 18:41:24,157 - INFO -  ├ Second token: WEGLD-bd4d79\u001b[0m\n",
      "\u001b[92m2023-11-15 18:41:24,158 - INFO -  ├ LP token: ITHWEGLD-1adc53\u001b[0m\n",
      "\u001b[92m2023-11-15 18:41:24,159 - INFO - Deployed pair contract: erd1qqqqqqqqqqqqqpgq0lzzvt2faev4upyf586tg38s84d7zsaj2jpsglugga\u001b[0m\n",
      "\u001b[92m2023-11-15 18:41:24,160 - INFO -  ├ First token: UTK-2f80e9\u001b[0m\n",
      "\u001b[92m2023-11-15 18:41:24,161 - INFO -  ├ Second token: WEGLD-bd4d79\u001b[0m\n",
      "\u001b[92m2023-11-15 18:41:24,161 - INFO -  ├ LP token: UTKWEGLD-c960d1\u001b[0m\n",
      "\u001b[92m2023-11-15 18:41:24,162 - INFO - Deployed pair contract: erd1qqqqqqqqqqqqqpgqf57y8m9krsvrceqxujngzm77p82zqc502jpsnnezqs\u001b[0m\n",
      "\u001b[92m2023-11-15 18:41:24,164 - INFO -  ├ First token: CRT-52decf\u001b[0m\n",
      "\u001b[92m2023-11-15 18:41:24,165 - INFO -  ├ Second token: WEGLD-bd4d79\u001b[0m\n",
      "\u001b[92m2023-11-15 18:41:24,165 - INFO -  ├ LP token: CRTWEGLD-1fac3f\u001b[0m\n",
      "\u001b[92m2023-11-15 18:41:24,166 - INFO - Deployed pair contract: erd1qqqqqqqqqqqqqpgqp5d4x3d263x4alnapwafwujch5xqmvyq2jpsk2xhsy\u001b[0m\n",
      "\u001b[92m2023-11-15 18:41:24,167 - INFO -  ├ First token: ASH-a642d1\u001b[0m\n",
      "\u001b[92m2023-11-15 18:41:24,168 - INFO -  ├ Second token: WEGLD-bd4d79\u001b[0m\n",
      "\u001b[92m2023-11-15 18:41:24,169 - INFO -  ├ LP token: ASHWEGLD-38545c\u001b[0m\n",
      "\u001b[92m2023-11-15 18:41:24,170 - INFO - Deployed pair contract: erd1qqqqqqqqqqqqqpgqtjhhs49h0q2ncld64l3thtk7s7yuw47v2jps8emt0v\u001b[0m\n",
      "\u001b[92m2023-11-15 18:41:24,171 - INFO -  ├ First token: ZPAY-247875\u001b[0m\n",
      "\u001b[92m2023-11-15 18:41:24,172 - INFO -  ├ Second token: WEGLD-bd4d79\u001b[0m\n",
      "\u001b[92m2023-11-15 18:41:24,173 - INFO -  ├ LP token: ZPAYWEGLD-34e5c1\u001b[0m\n",
      "\u001b[92m2023-11-15 18:41:24,175 - INFO - Deployed pair contract: erd1qqqqqqqqqqqqqpgqp32ecg03fyxgt2pf2fsxyg4knvhfvtgz2jps6rx6gf\u001b[0m\n",
      "\u001b[92m2023-11-15 18:41:24,176 - INFO -  ├ First token: BHAT-c1fde3\u001b[0m\n",
      "\u001b[92m2023-11-15 18:41:24,176 - INFO -  ├ Second token: WEGLD-bd4d79\u001b[0m\n",
      "\u001b[92m2023-11-15 18:41:24,177 - INFO -  ├ LP token: BHATWEGLD-f45935\u001b[0m\n",
      "\u001b[92m2023-11-15 18:41:24,178 - INFO - pairs_view:\u001b[0m\n",
      "\u001b[92m2023-11-15 18:41:24,179 - INFO - farms_community:\u001b[0m\n",
      "\u001b[92m2023-11-15 18:41:24,180 - INFO - farms_unlocked:\u001b[0m\n",
      "\u001b[92m2023-11-15 18:41:24,181 - INFO - farms_locked:\u001b[0m\n",
      "\u001b[92m2023-11-15 18:41:24,181 - INFO - proxy_deployers:\u001b[0m\n",
      "\u001b[92m2023-11-15 18:41:24,182 - INFO - farms_boosted:\u001b[0m\n",
      "\u001b[92m2023-11-15 18:41:24,183 - INFO - Deployed farm contract: erd1qqqqqqqqqqqqqpgqapxdp9gjxtg60mjwhle3n6h88zch9e7kkp2s8aqhkg\u001b[0m\n",
      "\u001b[92m2023-11-15 18:41:24,184 - INFO -  ├ Farming token: EGLDMEX-0be9e5\u001b[0m\n",
      "\u001b[92m2023-11-15 18:41:24,185 - INFO -  ├ Farmed token: MEX-455c57\u001b[0m\n",
      "\u001b[92m2023-11-15 18:41:24,186 - INFO -  ├ Farm token: EGLDMEXFL-c2521e\u001b[0m\n",
      "\u001b[92m2023-11-15 18:41:24,187 - INFO - Deployed farm contract: erd1qqqqqqqqqqqqqpgqv0pz5z3fkz54nml6pkzzdruuf020gqzykp2sya7kkv\u001b[0m\n",
      "\u001b[92m2023-11-15 18:41:24,188 - INFO -  ├ Farming token: EGLDUSDC-594e5e\u001b[0m\n",
      "\u001b[92m2023-11-15 18:41:24,189 - INFO -  ├ Farmed token: MEX-455c57\u001b[0m\n",
      "\u001b[92m2023-11-15 18:41:24,190 - INFO -  ├ Farm token: EGLDUSDCFL-45109b\u001b[0m\n",
      "\u001b[92m2023-11-15 18:41:24,191 - INFO - Deployed farm contract: erd1qqqqqqqqqqqqqpgqenvn0s3ldc94q2mlkaqx4arj3zfnvnmakp2sxca2h9\u001b[0m\n",
      "\u001b[92m2023-11-15 18:41:24,192 - INFO -  ├ Farming token: EGLDRIDE-7bd51a\u001b[0m\n",
      "\u001b[92m2023-11-15 18:41:24,193 - INFO -  ├ Farmed token: MEX-455c57\u001b[0m\n",
      "\u001b[92m2023-11-15 18:41:24,194 - INFO -  ├ Farm token: EGLDRIDEFL-7aac94\u001b[0m\n",
      "\u001b[92m2023-11-15 18:41:24,194 - INFO - Deployed farm contract: erd1qqqqqqqqqqqqqpgqrdq6zvepdxg36rey8pmluwur43q4hcx3kp2su4yltq\u001b[0m\n",
      "\u001b[92m2023-11-15 18:41:24,195 - INFO -  ├ Farming token: ITHWEGLD-1adc53\u001b[0m\n",
      "\u001b[92m2023-11-15 18:41:24,196 - INFO -  ├ Farmed token: MEX-455c57\u001b[0m\n",
      "\u001b[92m2023-11-15 18:41:24,197 - INFO -  ├ Farm token: ITHWEGLDFL-7d381f\u001b[0m\n",
      "\u001b[92m2023-11-15 18:41:24,197 - INFO - Deployed farm contract: erd1qqqqqqqqqqqqqpgq4acurmluezvmhna8tztgcrnwh0l70a2wkp2sfh6jkp\u001b[0m\n",
      "\u001b[92m2023-11-15 18:41:24,198 - INFO -  ├ Farming token: UTKWEGLD-c960d1\u001b[0m\n",
      "\u001b[92m2023-11-15 18:41:24,198 - INFO -  ├ Farmed token: MEX-455c57\u001b[0m\n",
      "\u001b[92m2023-11-15 18:41:24,199 - INFO -  ├ Farm token: UTKWEGLDFL-ba26d2\u001b[0m\n",
      "\u001b[92m2023-11-15 18:41:24,199 - INFO - Deployed farm contract: erd1qqqqqqqqqqqqqpgquhqfknr9dg5t0xma0zcc55dm8gwv5rpkkp2sq8f40p\u001b[0m\n",
      "\u001b[92m2023-11-15 18:41:24,200 - INFO -  ├ Farming token: CRTWEGLD-1fac3f\u001b[0m\n",
      "\u001b[92m2023-11-15 18:41:24,200 - INFO -  ├ Farmed token: MEX-455c57\u001b[0m\n",
      "\u001b[92m2023-11-15 18:41:24,201 - INFO -  ├ Farm token: CRTWEGLDFL-4fd518\u001b[0m\n",
      "\u001b[92m2023-11-15 18:41:24,201 - INFO - Deployed farm contract: erd1qqqqqqqqqqqqqpgq6v5ta4memvrhjs4x3gqn90c3pujc77takp2sqhxm9j\u001b[0m\n",
      "\u001b[92m2023-11-15 18:41:24,201 - INFO -  ├ Farming token: ASHWEGLD-38545c\u001b[0m\n",
      "\u001b[92m2023-11-15 18:41:24,201 - INFO -  ├ Farmed token: MEX-455c57\u001b[0m\n",
      "\u001b[92m2023-11-15 18:41:24,202 - INFO -  ├ Farm token: ASHWEGLDFL-9612cf\u001b[0m\n",
      "\u001b[92m2023-11-15 18:41:24,202 - INFO - Deployed farm contract: erd1qqqqqqqqqqqqqpgqqqckvlhd3n7ntt5w3vln4xh3tsfpj0hr2jpsxlzgcj\u001b[0m\n",
      "\u001b[92m2023-11-15 18:41:24,202 - INFO -  ├ Farming token: ZPAYWEGLD-34e5c1\u001b[0m\n",
      "\u001b[92m2023-11-15 18:41:24,203 - INFO -  ├ Farmed token: MEX-455c57\u001b[0m\n",
      "\u001b[92m2023-11-15 18:41:24,203 - INFO -  ├ Farm token: ZPAYEGLDFL-4faf85\u001b[0m\n",
      "\u001b[92m2023-11-15 18:41:24,203 - INFO - Deployed farm contract: erd1qqqqqqqqqqqqqpgqcfkmz2j0e8pj0nzuk9j6mzcav0wpthq52jpsg546ch\u001b[0m\n",
      "\u001b[92m2023-11-15 18:41:24,204 - INFO -  ├ Farming token: BHATWEGLD-f45935\u001b[0m\n",
      "\u001b[92m2023-11-15 18:41:24,205 - INFO -  ├ Farmed token: MEX-455c57\u001b[0m\n",
      "\u001b[92m2023-11-15 18:41:24,206 - INFO -  ├ Farm token: BHATEGLDFL-259b84\u001b[0m\n",
      "\u001b[92m2023-11-15 18:41:24,207 - INFO - price_discoveries:\u001b[0m\n",
      "\u001b[92m2023-11-15 18:41:24,208 - INFO - stakings:\u001b[0m\n",
      "\u001b[92m2023-11-15 18:41:24,208 - INFO - stakings_v2:\u001b[0m\n",
      "\u001b[92m2023-11-15 18:41:24,210 - INFO - Deployed staking contract: erd1qqqqqqqqqqqqqpgqmqq78c5htmdnws8hm5u4suvags36eq092jpsaxv3e7\u001b[0m\n",
      "\u001b[92m2023-11-15 18:41:24,211 - INFO -  ├ Staking token: RIDE-7d18e9\u001b[0m\n",
      "\u001b[92m2023-11-15 18:41:24,212 - INFO -  ├ Stake token: SRIDE-4ab1d4\u001b[0m\n",
      "\u001b[92m2023-11-15 18:41:24,212 - INFO - Deployed staking contract: erd1qqqqqqqqqqqqqpgqr7kdhagkqgxvjrsk7s5333l9wwnenr9g2jps8puq33\u001b[0m\n",
      "\u001b[92m2023-11-15 18:41:24,213 - INFO -  ├ Staking token: ZPAY-247875\u001b[0m\n",
      "\u001b[92m2023-11-15 18:41:24,214 - INFO -  ├ Stake token: SZPAY-9f1b39\u001b[0m\n",
      "\u001b[92m2023-11-15 18:41:24,214 - INFO - Deployed staking contract: erd1qqqqqqqqqqqqqpgqzps75vsk97w9nsx2cenv2r2tyxl4fl402jpsx78m9j\u001b[0m\n",
      "\u001b[92m2023-11-15 18:41:24,215 - INFO -  ├ Staking token: ITHEUM-df6f26\u001b[0m\n",
      "\u001b[92m2023-11-15 18:41:24,216 - INFO -  ├ Stake token: SITHEUM-e05083\u001b[0m\n",
      "\u001b[92m2023-11-15 18:41:24,216 - INFO - Deployed staking contract: erd1qqqqqqqqqqqqqpgq45zs77q884ts6y9zj4jyqfn6ydev8ruv2jps3tteqq\u001b[0m\n",
      "\u001b[92m2023-11-15 18:41:24,217 - INFO -  ├ Staking token: BHAT-c1fde3\u001b[0m\n",
      "\u001b[92m2023-11-15 18:41:24,218 - INFO -  ├ Stake token: SBHAT-89efd3\u001b[0m\n",
      "\u001b[92m2023-11-15 18:41:24,218 - INFO - Deployed staking contract: erd1qqqqqqqqqqqqqpgqcedkmj8ezme6mtautj79ngv7fez978le2jps8jtawn\u001b[0m\n",
      "\u001b[92m2023-11-15 18:41:24,218 - INFO -  ├ Staking token: UTK-2f80e9\u001b[0m\n",
      "\u001b[92m2023-11-15 18:41:24,219 - INFO -  ├ Stake token: SUTK-ba35f3\u001b[0m\n",
      "\u001b[92m2023-11-15 18:41:24,220 - INFO - Deployed staking contract: erd1qqqqqqqqqqqqqpgqp2wfzvkhlpkwcdxx25qzznx33345979w2jpsl3gflj\u001b[0m\n",
      "\u001b[92m2023-11-15 18:41:24,221 - INFO -  ├ Staking token: CRT-52decf\u001b[0m\n",
      "\u001b[92m2023-11-15 18:41:24,222 - INFO -  ├ Stake token: SCRT-acbd64\u001b[0m\n",
      "\u001b[92m2023-11-15 18:41:24,222 - INFO - Deployed staking contract: erd1qqqqqqqqqqqqqpgqjdlnu9ggwfc79pygn5fjjgmdm6d7vu5e2jpsw59amp\u001b[0m\n",
      "\u001b[92m2023-11-15 18:41:24,223 - INFO -  ├ Staking token: ASH-a642d1\u001b[0m\n",
      "\u001b[92m2023-11-15 18:41:24,224 - INFO -  ├ Stake token: SASH-3671bd\u001b[0m\n",
      "\u001b[92m2023-11-15 18:41:24,225 - INFO - stakings_boosted:\u001b[0m\n",
      "\u001b[92m2023-11-15 18:41:24,225 - INFO - metastakings:\u001b[0m\n",
      "\u001b[92m2023-11-15 18:41:24,226 - INFO - metastakings_v2:\u001b[0m\n",
      "\u001b[92m2023-11-15 18:41:24,226 - INFO - Deployed metastaking contract: erd1qqqqqqqqqqqqqpgqjvcrk4tun6l438crr0jcz7q3yzp66smwkp2shzmazs\u001b[0m\n",
      "\u001b[92m2023-11-15 18:41:24,226 - INFO -  ├ Staking token: RIDE-7d18e9\u001b[0m\n",
      "\u001b[92m2023-11-15 18:41:24,227 - INFO -  ├ Metastake token: METARIDELK-f0b4bf\u001b[0m\n",
      "\u001b[92m2023-11-15 18:41:24,227 - INFO -  ├ Stake address: erd1qqqqqqqqqqqqqpgqmqq78c5htmdnws8hm5u4suvags36eq092jpsaxv3e7\u001b[0m\n",
      "\u001b[92m2023-11-15 18:41:24,228 - INFO -  ├ Farm address: erd1qqqqqqqqqqqqqpgqenvn0s3ldc94q2mlkaqx4arj3zfnvnmakp2sxca2h9\u001b[0m\n",
      "\u001b[92m2023-11-15 18:41:24,228 - INFO -  ├ LP address: erd1qqqqqqqqqqqqqpgqav09xenkuqsdyeyy5evqyhuusvu4gl3t2jpss57g8x\u001b[0m\n",
      "\u001b[92m2023-11-15 18:41:24,228 - INFO - Deployed metastaking contract: erd1qqqqqqqqqqqqqpgqduftj7u5u5d4ql2znchcmrcet9kcze7ckp2sk4474f\u001b[0m\n",
      "\u001b[92m2023-11-15 18:41:24,229 - INFO -  ├ Staking token: ITHEUM-df6f26\u001b[0m\n",
      "\u001b[92m2023-11-15 18:41:24,229 - INFO -  ├ Metastake token: METAITHLK-4c3f2e\u001b[0m\n",
      "\u001b[92m2023-11-15 18:41:24,230 - INFO -  ├ Stake address: erd1qqqqqqqqqqqqqpgqzps75vsk97w9nsx2cenv2r2tyxl4fl402jpsx78m9j\u001b[0m\n",
      "\u001b[92m2023-11-15 18:41:24,230 - INFO -  ├ Farm address: erd1qqqqqqqqqqqqqpgqrdq6zvepdxg36rey8pmluwur43q4hcx3kp2su4yltq\u001b[0m\n",
      "\u001b[92m2023-11-15 18:41:24,230 - INFO -  ├ LP address: erd1qqqqqqqqqqqqqpgqpmud7t8uprrxzgu8eq2mtkl08kesflj62jps9j8dyh\u001b[0m\n",
      "\u001b[92m2023-11-15 18:41:24,230 - INFO - Deployed metastaking contract: erd1qqqqqqqqqqqqqpgqmgd0eu4z9kzvrputt4l4kw4fqf2wcjsekp2sftan7s\u001b[0m\n",
      "\u001b[92m2023-11-15 18:41:24,231 - INFO -  ├ Staking token: UTK-2f80e9\u001b[0m\n",
      "\u001b[92m2023-11-15 18:41:24,231 - INFO -  ├ Metastake token: METAUTKLK-112f52\u001b[0m\n",
      "\u001b[92m2023-11-15 18:41:24,231 - INFO -  ├ Stake address: erd1qqqqqqqqqqqqqpgqcedkmj8ezme6mtautj79ngv7fez978le2jps8jtawn\u001b[0m\n",
      "\u001b[92m2023-11-15 18:41:24,232 - INFO -  ├ Farm address: erd1qqqqqqqqqqqqqpgq4acurmluezvmhna8tztgcrnwh0l70a2wkp2sfh6jkp\u001b[0m\n",
      "\u001b[92m2023-11-15 18:41:24,233 - INFO -  ├ LP address: erd1qqqqqqqqqqqqqpgq0lzzvt2faev4upyf586tg38s84d7zsaj2jpsglugga\u001b[0m\n",
      "\u001b[92m2023-11-15 18:41:24,233 - INFO - Deployed metastaking contract: erd1qqqqqqqqqqqqqpgqx6zhjfjnwxpzdcj594htl0y6w60aa3a8kp2se2pdms\u001b[0m\n",
      "\u001b[92m2023-11-15 18:41:24,233 - INFO -  ├ Staking token: CRT-52decf\u001b[0m\n",
      "\u001b[92m2023-11-15 18:41:24,234 - INFO -  ├ Metastake token: METACRTLK-39d11c\u001b[0m\n",
      "\u001b[92m2023-11-15 18:41:24,234 - INFO -  ├ Stake address: erd1qqqqqqqqqqqqqpgqp2wfzvkhlpkwcdxx25qzznx33345979w2jpsl3gflj\u001b[0m\n",
      "\u001b[92m2023-11-15 18:41:24,234 - INFO -  ├ Farm address: erd1qqqqqqqqqqqqqpgquhqfknr9dg5t0xma0zcc55dm8gwv5rpkkp2sq8f40p\u001b[0m\n",
      "\u001b[92m2023-11-15 18:41:24,235 - INFO -  ├ LP address: erd1qqqqqqqqqqqqqpgqf57y8m9krsvrceqxujngzm77p82zqc502jpsnnezqs\u001b[0m\n",
      "\u001b[92m2023-11-15 18:41:24,235 - INFO - metastakings_boosted:\u001b[0m\n"
     ]
    },
    {
     "name": "stdout",
     "output_type": "stream",
     "text": [
      "\n",
      "\n",
      "\n",
      "\n",
      "\n",
      "\n",
      "\n",
      "\n",
      "\n",
      "\n",
      "\n",
      "\n",
      "\n",
      "\n",
      "\n",
      "\n",
      "\n",
      "\n",
      "\n",
      "\n",
      "\n",
      "\n",
      "\n",
      "\n",
      "\n"
     ]
    }
   ],
   "source": [
    "from context import Context\n",
    "from utils.utils_chain import WrapperAddress as Address, Account, hex_to_string\n",
    "from utils.utils_chain import nominated_amount\n",
    "\n",
    "context = Context()"
   ]
  },
  {
   "cell_type": "code",
   "execution_count": 3,
   "metadata": {},
   "outputs": [],
   "source": [
    "from contracts.farm_contract import FarmContract\n",
    "from utils.contract_retrievers import retrieve_farm_by_address\n",
    "# farm_contracts = context.get_contracts(config.FARMS_V2)"
   ]
  },
  {
   "cell_type": "code",
   "execution_count": 4,
   "metadata": {},
   "outputs": [],
   "source": [
    "farm_contract: FarmContract = context.deploy_structure.get_deployed_contract_by_index(config.FARMS_V2, 0)"
   ]
  },
  {
   "cell_type": "code",
   "execution_count": null,
   "metadata": {},
   "outputs": [],
   "source": [
    "farm_contract: FarmContract = retrieve_farm_by_address(\"\")"
   ]
  },
  {
   "attachments": {},
   "cell_type": "markdown",
   "metadata": {},
   "source": [
    "set new rewards per block"
   ]
  },
  {
   "cell_type": "code",
   "execution_count": null,
   "metadata": {},
   "outputs": [],
   "source": [
    "farm_contract.set_rewards_per_block(context.deployer_account, context.network_provider.proxy, nominated_amount(14000))"
   ]
  },
  {
   "attachments": {},
   "cell_type": "markdown",
   "metadata": {},
   "source": [
    "start contracts"
   ]
  },
  {
   "cell_type": "code",
   "execution_count": null,
   "metadata": {},
   "outputs": [],
   "source": [
    "farm_contract.resume(context.deployer_account, context.network_provider.proxy)"
   ]
  },
  {
   "attachments": {},
   "cell_type": "markdown",
   "metadata": {},
   "source": [
    "produce rewards"
   ]
  },
  {
   "cell_type": "code",
   "execution_count": null,
   "metadata": {},
   "outputs": [],
   "source": [
    "farm_contract.start_produce_rewards(context.deployer_account, context.network_provider.proxy)"
   ]
  },
  {
   "cell_type": "markdown",
   "metadata": {},
   "source": [
    "upgrade contract"
   ]
  },
  {
   "cell_type": "code",
   "execution_count": 6,
   "metadata": {},
   "outputs": [
    {
     "name": "stderr",
     "output_type": "stream",
     "text": [
      "\u001b[92m2023-11-14 19:11:55,990 - INFO - upgrade FarmContract contract\u001b[0m\n",
      "\u001b[38;20m2023-11-14 19:11:55,992 - DEBUG - Arguments: ['MEX-455c57', 'EGLDMEX-0be9e5', 1000000000000, erd1qqqqqqqqqqqqqpgqa0fsfshnff4n76jhcye6k7uvd7qacsq42jpsp6shh2, erd1ss6u80ruas2phpmr82r42xnkd6rxy40g9jl69frppl4qez9w2jpsqj8x97, erd1ss6u80ruas2phpmr82r42xnkd6rxy40g9jl69frppl4qez9w2jpsqj8x97]\u001b[0m\n",
      "\u001b[38;20m2023-11-14 19:11:55,993 - DEBUG - Upgrade FarmContract contract\u001b[0m\n",
      "\u001b[38;20m2023-11-14 19:11:56,687 - DEBUG - Upgrade arguments: ['MEX-455c57', 'EGLDMEX-0be9e5', 1000000000000, erd1qqqqqqqqqqqqqpgqa0fsfshnff4n76jhcye6k7uvd7qacsq42jpsp6shh2, erd1ss6u80ruas2phpmr82r42xnkd6rxy40g9jl69frppl4qez9w2jpsqj8x97, erd1ss6u80ruas2phpmr82r42xnkd6rxy40g9jl69frppl4qez9w2jpsqj8x97]\u001b[0m\n",
      "\u001b[92m2023-11-14 19:11:58,760 - INFO - No explorer known for https://proxy-shadowfork-four.elrond.ro. transaction raw path: transactions/d085e9029170f2eefff4e07490b7993e3b6329c0f9d8dfbf25e6b0839f0d96bc\u001b[0m\n"
     ]
    }
   ],
   "source": [
    "pair_address = farm_contract.get_lp_address(context.network_provider.proxy)\n",
    "tx_hash = farm_contract.contract_upgrade(context.deployer_account, context.network_provider.proxy, \n",
    "                                         config.FARM_V2_BYTECODE_PATH, [pair_address, context.deployer_account.address.bech32()])"
   ]
  },
  {
   "cell_type": "markdown",
   "metadata": {},
   "source": [
    "change owner"
   ]
  },
  {
   "cell_type": "code",
   "execution_count": null,
   "metadata": {},
   "outputs": [
    {
     "name": "stderr",
     "output_type": "stream",
     "text": [
      "\u001b[92m2023-08-14 17:04:04,350 - INFO - Update owner or admin\u001b[0m\n",
      "\u001b[38;20m2023-08-14 17:04:04,353 - DEBUG - Arguments: ['erd19uysnnzwnzm3klq8qzv7zprw2d3yj38hx0ac9cuqvl0j2jr5kp2sflvmyv']\u001b[0m\n",
      "\u001b[38;20m2023-08-14 17:04:04,354 - DEBUG - Calling updateOwnerOrAdmin at erd1qqqqqqqqqqqqqpgqapxdp9gjxtg60mjwhle3n6h88zch9e7kkp2s8aqhkg\u001b[0m\n",
      "\u001b[38;20m2023-08-14 17:04:04,354 - DEBUG - Args: ['erd19uysnnzwnzm3klq8qzv7zprw2d3yj38hx0ac9cuqvl0j2jr5kp2sflvmyv']\u001b[0m\n",
      "\u001b[38;20m2023-08-14 17:04:05,044 - DEBUG - Contract call arguments: [erd19uysnnzwnzm3klq8qzv7zprw2d3yj38hx0ac9cuqvl0j2jr5kp2sflvmyv]\u001b[0m\n",
      "\u001b[92m2023-08-14 17:04:05,761 - INFO - No explorer known for https://proxy-shadowfork-one.elrond.ro. transaction raw path: transactions/d80aed23b6f44fb0129f5b258d4bf9da4c929ecef88e561f3429c8ccd7fa7a26\u001b[0m\n"
     ]
    }
   ],
   "source": [
    "tx_hash = farm_contract.update_owner_or_admin(context.deployer_account, context.network_provider.proxy, \"erd19uysnnzwnzm3klq8qzv7zprw2d3yj38hx0ac9cuqvl0j2jr5kp2sflvmyv\")"
   ]
  },
  {
   "cell_type": "markdown",
   "metadata": {},
   "source": [
    "resume contract"
   ]
  },
  {
   "cell_type": "code",
   "execution_count": 11,
   "metadata": {},
   "outputs": [
    {
     "name": "stderr",
     "output_type": "stream",
     "text": [
      "\u001b[92m2023-11-15 11:38:42,077 - INFO - Resume farm contract\u001b[0m\n",
      "\u001b[38;20m2023-11-15 11:38:42,080 - DEBUG - Calling resume at erd1qqqqqqqqqqqqqpgqapxdp9gjxtg60mjwhle3n6h88zch9e7kkp2s8aqhkg\u001b[0m\n",
      "\u001b[38;20m2023-11-15 11:38:42,081 - DEBUG - Args: []\u001b[0m\n",
      "\u001b[38;20m2023-11-15 11:38:42,603 - DEBUG - Contract call arguments: []\u001b[0m\n",
      "\u001b[92m2023-11-15 11:38:43,107 - INFO - No explorer known for https://proxy-shadowfork-four.elrond.ro. transaction raw path: transactions/a2de591a6cd216e35a8fc463f35c80b9c28630274e6101583e2a1d52cd98c846\u001b[0m\n"
     ]
    },
    {
     "data": {
      "text/plain": [
       "'a2de591a6cd216e35a8fc463f35c80b9c28630274e6101583e2a1d52cd98c846'"
      ]
     },
     "execution_count": 11,
     "metadata": {},
     "output_type": "execute_result"
    }
   ],
   "source": [
    "farm_contract.resume(context.deployer_account, context.network_provider.proxy)"
   ]
  },
  {
   "cell_type": "markdown",
   "metadata": {},
   "source": [
    "Collect user accounts"
   ]
  },
  {
   "cell_type": "code",
   "execution_count": 5,
   "metadata": {},
   "outputs": [
    {
     "name": "stdout",
     "output_type": "stream",
     "text": [
      "Processing user erd1j83wjsd8m5scvk24q4dydfuw5jdp62f029kskqqt9q3chm26zrgq6vragm ...Processing user erd13vdhwwka2389pmg4xpqnvztgxnyff83kegxlydj8zjkrhmfa4tzssvz3sw ...\n",
      "\n",
      "Processing user erd1lglt9wkmndz4rm8pxy2p0gg4duyvg4546h32wkmjgmfr9tkt6ezqn2ptag ...\n",
      "Processing user erd1ww6t6a46jgqq58687krlr5rh9vfc70npjh0e9qt76ansxzwan8yqudrzv3 ...\n",
      "Processing user erd1vcfv98u9938u7kud6qh50ztqndv8h69kkagt79u9zu68af6wp5ssxnuam6 ...\n",
      "Processing user erd14rsaktwtezkryyg99rur2y6glrfh5kf053jhe8tumg2df5ltvjuq052c3s ...\n",
      "Processing user erd14uaewch3yxs88tnfw9gpdaar74d9fmzy3j25s30lsf96ug3g4rdstveju2 ...\n",
      "Processing user erd173ww3z3eqjxxdhh577vj0cpnjky55gfj5ft4rqvkeddluqjtcnrqqxpe6j ...\n",
      "Processing user erd15zv60wuh44np27fkvtm8fuj7nap0pa4yul7a76unmxhj9tsaprgsgyjv2e ...\n",
      "Processing user erd1nfwfmkxl5mk4fxluljmj58gchu2jrdl7wwj8q6vaz4vs6qpnsnhsmzy7qk ...\n",
      "Processing user erd175pagzz6uggrkrsmmrh8vktns9l9jjw4puedd8d5z9k3zt2cll7quxetpv ...\n",
      "Processing user erd14hpyh7cxyqqvf2dzum5lmxfjfhlwlqfafhwh6jyyau95mga6ncys52t3f0 ...\n",
      "Processing user erd1ehx2ym20m4fyqavuvtpqphcyeskrv2xt72ys9l7r9lvl2t2qqxvqzd84jq ...\n",
      "Processing user erd12ssrw3g3ffv7n4aphvwnfk82jmjdd7ck2gmcra3ad9ysdu9sw3jsh2a6eh ...\n",
      "Processing user erd1hn2hk5rc2sphnu4hxmm8axeq3lmac5j4c967rkcwyxl0kvv9x7gqt4tpwd ...\n",
      "Processing user erd1mjd93r8yvqh89t06zqkyr652dl9c6uzy6ydrxw3rg8h4z84cfwcqj2268q ...\n",
      "Processing user erd1qpv634rtnn36q0hnmt899szcpyttr9wkmu8fdcntj8gjlvakdldqrahvxq ...\n",
      "Processing user erd1vguvakukq0qfdnqc9szsv7pjk4lt22vx6nnc08ae2vkm9uyhcj6q0yta9l ...\n",
      "Processing user erd1uuaj8vxr0aadu8rglvdgjz8nw6aznkp3fez7ukh37v0cv62lldfshrw3t2 ...\n",
      "Processing user erd18gk5f3lqswmkrw9spwq6etzf0jangxs4gv6qpvum2anz3hc55w8srlllrx ...\n",
      "Processing user erd1m3qjrdhunjxe9l73mt6mczks6kc3gltwz4pw7s29ahyrjgynmwuquznduk ...\n",
      "Processing user erd1yrglwv2adywqk7x0m3zhkuquavwqlrhc47psf6js89q0gurdyhas28vcks ...\n",
      "Processing user erd17uh6fft0qqfeq72v5lsls2s5ngq7j9vljyeg7dpsrh7kdud73xhq79uga4 ...\n",
      "Processing user erd15s93aqx7datdxqrpsas6yk9lse2vvk0hf7hmn7sh3rzq6m4247qqn6wff7 ...\n",
      "Processing user erd1qufahd80ayzaxc5s6svek0l2qmdqmepcqmnw94fkd2y89kuvs6xqtamac8 ...\n",
      "Processing user erd1lzy4xa3e4665mgrxg6x0wkcrk9jzf9vxjzw4pgf8v0ch2a90arms25ytnk ...\n",
      "Processing user erd14nlh2xndmsj6q0n6wj453v5hg37x0pcc5zkdqg4d5q0nghlqv9zsvnap72 ...\n",
      "Processing user erd16p8dgvdlnx9gmdvwdgdahtc4jm0um7t2rgtcwuzxsfjrrrpwl60swxqxf4 ...\n",
      "Processing user erd1uuaj8vxr0aadu8rglvdgjz8nw6aznkp3fez7ukh37v0cv62lldfshrw3t2 ...\n",
      "Processing user erd1srrr3j99ve9sayq3zg4w29z9ay29tmkw3een3gn9ugak572d2nuqkqeahl ...\n",
      "Processing user erd1vcfv98u9938u7kud6qh50ztqndv8h69kkagt79u9zu68af6wp5ssxnuam6 ...\n",
      "Processing user erd1prxgyule99qxrn7dpjsmdl6pz2jv5vkk97cv6j9wd4v7hrmlhc9s23kf5f ...\n",
      "Processing user erd1yrglwv2adywqk7x0m3zhkuquavwqlrhc47psf6js89q0gurdyhas28vcks ...\n",
      "Processing user erd1l6efyjyfssy9rnh3nag8xuu5hq0uuc5t8prq606xjpml4wsjrd2qmwawzf ...\n",
      "Processing user erd1eztpws42fas8xeewd65su2pdul9c220w5gue3t45pgkq422spy6q0d05lk ...\n",
      "Processing user erd1k490r22d7a4gs3hc3xvf828wnlv0y6mlur5ekyd9u2a5alshc8ssdkmvg3 ...\n",
      "Processing user erd1ykw3d5nmj0ptts8v3tzkhdvwwlkzfr7cjw26ssw4pe39rnq4cpxshfa8gd ...\n",
      "Processing user erd15s93aqx7datdxqrpsas6yk9lse2vvk0hf7hmn7sh3rzq6m4247qqn6wff7 ...\n",
      "Processing user erd1cfjhfns986fln23728mevx23tqfydg8uymjrwgfxhq72ndedug5qrndl7h ...\n",
      "Processing user erd1pn3dlytt3t4veyzazg9s2qjxqvf9ghmwntss0vyrs9lflkajpquq099xa3 ...\n",
      "Processing user erd1cssh6tmfau87wslhfeypfz9s0d0m36jaz5lq8thq5x48pqrnlt8s9v6npc ...\n",
      "Processing user erd1j4hrm46xzvyh4v4alsfg065wzxg2245jezyersm8ef3lrpjqy2yqrjtqx3 ...\n",
      "Processing user erd1dfrfzjrkwe4vrcd6m3pulw74w89zv802lnujna6smag5yewu5qasvgq5d3 ...\n",
      "Processing user erd1l4z0z68eqykndwp3e0zf8srymvlheg2rgwuzdupwkmaxc023855sedm42v ...\n",
      "Processing user erd1nfwfmkxl5mk4fxluljmj58gchu2jrdl7wwj8q6vaz4vs6qpnsnhsmzy7qk ...\n",
      "Processing user erd145nupsd3rtqh7qghqds3ranq67fawrxa39xsuptl8cet3almnynqw3syus ...\n",
      "Processing user erd1ykw3d5nmj0ptts8v3tzkhdvwwlkzfr7cjw26ssw4pe39rnq4cpxshfa8gd ...\n",
      "Processing user erd19atpctya0j5c80r67mxk5cnem70fneuawqvcnznk44prshacjvjqvynw58 ...\n",
      "Processing user erd1cfjhfns986fln23728mevx23tqfydg8uymjrwgfxhq72ndedug5qrndl7h ...\n",
      "Processing user erd1c5fk8a0xnka8kwuv9q0drqm2srzwjfyfqhgj5st3l8f2nzwzag6qvzxq86 ...\n",
      "Processing user erd13pm93fv8qnrcgafd4kyh3xu3eytqzlhdjwvmrnmssk62kvshk57suzfx63 ...\n",
      "Processing user erd1ggel66hk577wl0kw8muy8mfavcc7pwedvdre9pcrcwpzuk6ztkns6gfstq ...\n",
      "Processing user erd1gc6phe8j46a2fgqf3e69r7ee2puuj35tahjmn2uw4metdrm8tsmqen673d ...\n",
      "Processing user erd1ejz2v73rja700zswepdw7ney6wg3smxc9ka0lfy5vx2eymjf62nszdnqqg ...\n",
      "Processing user erd1ejz2v73rja700zswepdw7ney6wg3smxc9ka0lfy5vx2eymjf62nszdnqqg ...\n",
      "Processing user erd1g2w7rys7n5z2lv3vx94upag9csecrhcmw2fx0cn3csv5vcyjvfdqc34jvc ...\n",
      "Processing user erd1485su4kr2xjk0y7mmwdzny220ec8ka34dasym8h8rn27w5yvhtks9gdw9l ...\n",
      "Processing user erd1rcz2kvm4tpmc4fr59nevr7mg8x343eytsudl493evmfw8h88grcsc8kpp4 ...\n",
      "Processing user erd1ylk94x66arcuwta3yxcy7egw7srrnzva3k04ufnylks25vufs5mslhe56r ...\n",
      "Processing user erd1kj0u2w28rjc9wq5sc8ppeus7uf6xlkwe40dhn0rcqszukmvhz98sxqc72g ...\n",
      "Processing user erd1evyxcw77lqynfa4mvu7p3dn686nl376w2ppx3d620qhpqz26ppxqqt75jf ...\n",
      "Processing user erd1evyxcw77lqynfa4mvu7p3dn686nl376w2ppx3d620qhpqz26ppxqqt75jf ...\n",
      "Processing user erd1tfg6ylm8dlxmjras6c65xxgqwx4t309nv30wfkwgyegrfhqqu46suy4se3 ...\n",
      "Processing user erd1ejz2v73rja700zswepdw7ney6wg3smxc9ka0lfy5vx2eymjf62nszdnqqg ...\n",
      "Processing user erd19pfz22a2vdzd459ep3g0wmxprwxhd35wmn7ekdkce04a86j9jadsy8nh7g ...\n",
      "Processing user erd1jk2cac35frauanrpum9pzs78009rksh9ruq7pwmadchyykn9fzrsd2hk5a ...\n",
      "Processing user erd1yqhjz6de43j0s0nthcypq3latd3vudf9pk2vhty0s7d3vcxv6cgspghgus ...\n",
      "Processing user erd1w6xvjt3clsdujxresrsd7j2cr3pkellyfcfznns8aklupshlaf7s0h7473 ...\n",
      "Processing user erd16qfr08697vzvtcdn55unyte0fd4l8asuc0x0af2prxy0flc4sfzqnrgw7u ...\n",
      "Processing user erd1u48fvyzm242d6ae8r3xdsf686f79800uvfu777ydu2jnvd8ad7pqxzw4g4 ...\n",
      "Processing user erd1mujpt4v58sqtmw3ndv7pw2n3z6zrsupeyd5x0nsul2ecejaklzlssxw24q ...\n",
      "Processing user erd1uy6u3kscn2n6nesgdz8lwz7e4g3g87deq525lwvjpj25hf0srw3sm7qwhm ...\n",
      "Processing user erd1qyv462zy3etlxawkfjz5twegd5hr9pn6gsunuyrfswl4tecedcmqqguwm2 ...\n",
      "Processing user erd1pxgdtj8la2p46plex2gqxp32nv8wf3tsl8267jgvvsjssf6fpp6s0sgz8z ...\n",
      "Processing user erd1uh9s868w0vswsev7sygr373ww2xktd8da5589q5xu9rxlpurmy3sjcv2up ...\n",
      "Processing user erd17f4dg5wrdnr0qxvnj58tccayfvu5gs2uyy40mp2xy4550llkr25qd5t4cu ...\n",
      "Processing user erd1ejz2v73rja700zswepdw7ney6wg3smxc9ka0lfy5vx2eymjf62nszdnqqg ...\n",
      "Processing user erd12gmz0dxqdecqag7ajwyn9y52rmgwvnf22n2k3wvwdgr7gzfchw8q3fg3y5 ...\n",
      "Processing user erd1fxzyh6wj28ewhaaw3uud6uqgkmya7zy0sa9qzw2zxdqrqjh2as3qe7d3qv ...\n",
      "Processing user erd1jupdtk6yuhkqs9qgncavakz7yc0l4s9st2fpsn6qqvh4fwr5tsaq6q9lfh ...\n",
      "Processing user erd1wkf2f0dtalj79462xd5jg2a0jxn669vd5auemq9yq2c25npvjxgqt5uku5 ...\n",
      "Processing user erd1svc7u4lme0uj3fnlwc4vxfzhl7yqwuf4qnxnunydt6636eazej8ssp4yes ...\n",
      "Processing user erd14lh3ujw76z8m4tdumjn6cqmaztmncz5ljxt952ehxd0gse9ayglsd76lr8 ...\n",
      "Processing user erd1yc302zg98v67rh8zytu9tgqajydk5graqncrr8pkgygd3d9aa3js5ys523 ...\n",
      "Processing user erd1dx3a4r3hd7du5z2m6gdu0almd8ujun9czfdm2lu5ypfsfr63pj7q59640x ...\n",
      "Processing user erd10mmp4wwh6h5zd4dqwmmz8muuhar40rz2a9n5cqy4e93v0mkcs5vq38qe9a ...\n",
      "Processing user erd1x3uag0e2mqa8zq9jy2alsdjyjdw4l95yqvv3wl3vvq4t964v42vqhvrp0n ...\n",
      "Processing user erd1j0m4rkn22f7whlznwuyg3ws5ajskgfnmjew9ce2k3plecqdkkuss7hpgg6 ...\n",
      "Processing user erd1rsxepz5crpd8649khg60dgnndplhkrhhse8tdd9d9tylpwd2wq3q2y0w0y ...\n",
      "Processing user erd13uk04w24pccpy0caulqnd6hgxfvkl56ctgxkue3qzmk07pwa32jq4mrnwp ...\n",
      "Processing user erd19f84xnnv9hqufl2t5vk8slwuu7e8p5gkfyjlaslazvcjgxr4mdss05jqyj ...\n",
      "Processing user erd1svc7u4lme0uj3fnlwc4vxfzhl7yqwuf4qnxnunydt6636eazej8ssp4yes ...\n",
      "Processing user erd16fagfmrcjmfe7pw8qay70d7au7fkt80nkyv0s4ylqevjh70l797smr28xp ...\n",
      "Processing user erd1w3zvqhls3g7ztex6kxevs4lfcmjzsu7u9j02q6nr40fzvz8smh7q7dy5yf ...\n",
      "Processing user erd1dnlcltcl0qp0p5nq4ylckyszpytt7wh263v855gmq3ngsjncv22qcz0teu ...\n",
      "Processing user erd13e95xdv9wyd32cqs6l3thmgs4rlv9jqgs9v39a0c0n797djcr4jqsg0l0u ...\n",
      "Processing user erd1k7qvhnq7pn3y8a0rkfamu4jnp9alk0ly4ygt3up0kyfddegk9skqcm9eel ...\n",
      "Processing user erd1ejz2v73rja700zswepdw7ney6wg3smxc9ka0lfy5vx2eymjf62nszdnqqg ...\n",
      "Processing user erd1zt7hfe0gtmpvxp97335kcxczp7vxxpgzty8u7hmxfygqyhcm8j9snm6e34 ...\n",
      "Processing user erd1gnehk9rmgffmdj6mxe04hkfl3uvg4datnxu4wayn606un3uftpzq05whle ...\n",
      "Processing user erd17nrknwhn0n4877ljc3s7s9qsqqtl68yv3xezmvqfrues34hz0jqqyzhnjh ...\n",
      "Processing user erd15ce5l2vh346fgtjnesvt8k7dhvyft6vk4slqj25ycnum77w2duss5cfssn ...\n",
      "Processing user erd1lxwxqfnn3tqk8qg44gatz8th4nr90pc9kzh9u0wzhfrj0zg7ptdskl2ss0 ...\n",
      "Processing user erd1mu032tpvlrsvquft9whj2fjezc3rek33jx377u4tenmun9xfsfds6g4pxv ...\n",
      "Processing user erd1m0p2drvaaclnupvztqd09u7c563hc49r9p45d0h0h3wxumf5gf9qw620zt ...\n",
      "Processing user erd1c87p934u2q6ce8a024cnuelj039jtaul8nhamwxtlckgv4fcmulsrhhe9u ...\n",
      "Processing user erd1cx0pyk483827tlqzv5735qhqjrcxnsmcrz0c84f7vpgrg5n65dsqve6hzk ...\n",
      "Processing user erd1p7gxjlms9mtj994ls6elttufuya898l0kmkx25l7hmmerj34n7zqxk3ean ...\n",
      "Processing user erd16xplr86fy9wml66x0zyz5m4476l3m0n4fh7fy42h0mpyyxjruu3ql229sp ...\n",
      "Processing user erd1fwg8alqntj4dvk89qpwuf7dsnqsx5tw0md80mg0e3w03l75jlahqyqtqgk ...\n",
      "Processing user erd19cenh2evnu6y7t349vkjdxyc9jywst3mavhzjf8dqyrqkvdm4emqja9xux ...\n",
      "Processing user erd1lmthu924xa725c3kc3m6u3y7ytfgzd45tgt8hqw27pcxp0y73zmq8ckcwt ...\n",
      "Processing user erd168jyvdcfsrvwymkv2dn7d692xw2ct8qrn3mvtyme8c6xxq4w2jpqm63uj8 ...\n",
      "Processing user erd1qy0pfxh37q3p0tg0ctwgp66a80g4g339qhx5xky4tqfa0hm8m7vqdu5vyy ...\n",
      "Processing user erd1namew3s6pxd29lx9shggpkc7m7pvkcz7c0ssv39x6mffsyt8k4gqagzvx6 ...\n",
      "Processing user erd16vkr88r0486zgzsd959ytvmgpf5qzpyvs95s76qytz5h8499rp5qq5sagj ...\n",
      "Processing user erd19xz7jntt7wwfmdtqrm8z8tzned82tntnvgpgs2w25nw65r6u98qqpyjx0u ...\n",
      "Processing user erd1jr56py4u2j0xvga2fwh0k250nlc65mwn9q5vnavmx3cs8kj2vweqqcl7lz ...\n",
      "Processing user erd17xv5pvgamhuh32np0kfttcz6erux80u46njk3lhzcrm37azltdtqtx8k8v ...\n",
      "Processing user erd1ekt8mahgudk976u3ucsxz9de5fmklztyfcpu47pcupxnx6lrxh7s3k6p37 ...\n",
      "Processing user erd1vnq6xswj3nph9uturd9ukur7dh6md28ctp6z04nl8rq4njqaxcsq5f6h7m ...\n",
      "Processing user erd1qfyxty5epyagzddwshuflcr722pyglu2x2mw3gdrhtsv2kyfsmksftq733 ...\n",
      "Processing user erd167sfqk6vj93l4ecde3npez2y58jl779tmupjp4vf23jqgmue4aqqjj7a3z ...\n",
      "Processing user erd13259e9275nvsda4vyxt5lnhctkfy737xjg2cwnfecy7x8qlv322s3f50xd ...\n",
      "Processing user erd1m6499kkyh8ct9n3qkatx4d0dgu5pn3kvasa5avsfs0g4wj3nja9sp4fll6 ...\n",
      "Processing user erd189a7r922wl7mqcncwpmp66cp2s4uqkqz7pqzq0vpyzf2a8lyr06qfazgcu ...\n",
      "Processing user erd1umqmnuc0s490gvcmrgh69d4e4gwm38w7p86v054pclkrkc5nqkrqdqldp5 ...\n",
      "Processing user erd1afs4msrsepk9qx9w0j8hyqa2cg0vsc9qwzaykx5s4cgykqwnxkcqsax60l ...\n",
      "Processing user erd1l2t3u2wpaykmwn2pmq599swn9h7vtdv6dupglunkz76av48tvnwshkpg07 ...\n",
      "Processing user erd1t8ehxgzfzwygx7up66pk59yyl4xjn3z4s5jcjsl86x6m24hhrsrq9et2p3 ...\n",
      "Processing user erd1qjkz6fwpdx80yctu44fxe28kc9yuhvxnjfuvdjmlqhw9strw34cs00vmmv ...\n",
      "Processing user erd1qfyxty5epyagzddwshuflcr722pyglu2x2mw3gdrhtsv2kyfsmksftq733 ...\n",
      "Processing user erd1wkna0tnfyz8nrcr5f5zxkc6xhrl4ptnjmyg2satwrwxf8j6kmh6se8kkq3 ...\n",
      "Processing user erd1qy0pfxh37q3p0tg0ctwgp66a80g4g339qhx5xky4tqfa0hm8m7vqdu5vyy ...\n",
      "Processing user erd1m08sxetvjg5qjv5s5m43w23f5rgk223jen43z9w89p5xq3ghacjqsat66g ...\n",
      "Processing user erd1se2ktllmv2nws9mrww3qmaaa0zhhzge6c45fguugjdstmktjmlrspw6n37 ...\n",
      "Processing user erd1d7lma7dzm89kry2qzgyjgth7ujv7rhuwcjfu7ecxlgelqyfyf5cqz0ckkm ...\n",
      "Processing user erd1l2t3u2wpaykmwn2pmq599swn9h7vtdv6dupglunkz76av48tvnwshkpg07 ...\n",
      "Processing user erd194r8senm5eaafsme6jyk5t2nuqvt0r3d4ervltpgvtyvh974k5gsuj2v8j ...\n",
      "Processing user erd15ce5l2vh346fgtjnesvt8k7dhvyft6vk4slqj25ycnum77w2duss5cfssn ...\n",
      "Processing user erd15ld4yyaz7580anj7sd2pyw4y6tmr38kfwfvlvt0whwwsglyg5xxsjy0ka7 ...\n",
      "Processing user erd13a4n7cy0jqgq3jk6nxdte98vmyhvwxzq7jva532eg0rpcmx6trps8damqu ...\n",
      "Processing user erd17zdz6pwusrp062wwa7cmqnfhws6rjepasc24tsrpj26er9ffaxwq4cq5zq ...\n",
      "Processing user erd1a4l2lx3ga0hmrterpfv5vzk9eta3hy3xpldst6ajfwcg22aunczsncdt2l ...\n",
      "Processing user erd10efakf0fk3kyw8rlpgrvj3uq4rmxekcmfcfxz2pqndhm2up0z0hsp05az3 ...\n",
      "Processing user erd1tczhcw8qkzh2s84d4q83y9u2luj4547rdsrg427jjhm2tj88szgsdlkzwl ...\n",
      "Processing user erd1y2c4d08eghy7q6xlptq7pmkd2ak94sdlgc50t4wnfkc0vmm78dwq3w4j9m ...\n",
      "Processing user erd149xzn5hh25e5w2l022g53z5za3fv6damnf303k9v0zzsm23kqfds6d6xff ...\n",
      "Processing user erd19ldu9m6efkpv8p92zdyky8w4xynw2ljle70xxlf7m8qcjj87qe9qhr8y0p ...\n",
      "Processing user erd1d65s6a9l82fmjm9yxcsfcrvmgyr4sc4y6w34crqygv2qanqepzvs9m0yvp ...\n",
      "Processing user erd1ry67cj0nuztp88yz4m4hcaz30z9u0y5szcnlhl5dgwellfamtkpszz3e3w ...\n",
      "Processing user erd1n63p78mva3zg4ss6ku8daxytmppm4enh2a048sdajhkl3y8lmyfsyvtmy4 ...\n",
      "Processing user erd1w9ah0fhm08rymrngqhpj394rwza52x2cu57nwznslwmz8swwu9kszqmdkn ...\n",
      "Processing user erd1dvtfdzhpe4x089n29hk3eqxkwatjkf8490tmmx6puz0qkkcwg0qs0pg8ep ...\n",
      "Processing user erd1q74p3esfjnzhuyuntv0cjnxxgpuyjn7k5my0j2zyy3vx0esla79s9rfk6y ...\n",
      "Processing user erd1ra6lwvq828w0vrwzh8lzyst430x67wm58a9vhmvkgx72vm2yv5lqljf3ff ...\n",
      "Processing user erd1rranjmjj5gs6760pxfhun2t4swx3a0cevncxrremhftlwsk9mp3q0tgs25 ...\n",
      "Processing user erd1zplu5tr5crsjj3n96ja2kqlv2785frwtlcl4xz48ze7s9whaar9qf36qm6 ...\n",
      "Processing user erd173y7vmhsnjcqc8uv68g95ptf67ggqrdm7x9clxngygntq25m8fesyq0chh ...\n",
      "Processing user erd1lj7q3xq7f2mknkgfvlgdy4mjqvgtfh9lm03empfskkhvdcwpa0sqfaekg4 ...\n",
      "Processing user erd15qap773kh0khen9cr4hyjlh5ckjk2vkugdeqlu2s5rn3vm6na8vqn9a3un ...\n",
      "Processing user erd19zgdaxgd8enq9xv3lylfwgugzku9qjl5j37nmc6cqvwa2a6thres3a8phs ...\n",
      "Processing user erd130d3tlfpmageewp8q9e7gz3ve47g380c3ky67mdtnl90kvygzsmsm4a3f2 ...\n",
      "Processing user erd1epfn320ltc5ecvavwlutxjs7dz958ucqdm09za48vd7f3gpwzlhqlzmcs2 ...\n",
      "Processing user erd1yq5fhkdsk6a9x06hgsa7r9u2ysvaqn6xses4q6uc8rrw4gkn9tes8hyj07 ...\n",
      "Processing user erd1hhxnkg7k8udnjmx2fxslyf4jytjvmg8c7dqyl9dn2g5fuux00k2qxa2uuu ...\n",
      "Processing user erd1q74p3esfjnzhuyuntv0cjnxxgpuyjn7k5my0j2zyy3vx0esla79s9rfk6y ...\n",
      "Processing user erd1k3fu8qtknaeeqsw37aegfvphfygqe8lra2u6gg86s8ut0qy63plqnkd57v ...\n",
      "Processing user erd1n63p78mva3zg4ss6ku8daxytmppm4enh2a048sdajhkl3y8lmyfsyvtmy4 ...\n",
      "Processing user erd1h7hg5hwxfv2vpd7j0al59jh7mvwdgg86lds7gg24qz6ry9mexnds6xndl9 ...\n",
      "Processing user erd1jej2edekecqwy2szyq4lfxvzcu24zm8qx4hxapp40tevmcnxp03sflxyxg ...\n",
      "Processing user erd1pt38l0mc2fef0jmdykndpr948sq4nu7353ehnxc8mz8hxgqlky8spnpc05 ...\n",
      "Processing user erd1uyy5cvagfd2sajgxthjuha4twshmzxmfn8swy4jfukdlg2a7asws49k0kj ...\n",
      "Processing user erd19skffw0m2arenl0due0a6vxe4j4gw453z2j4dggdk3z363xh7ttqckd4j2 ...\n",
      "Processing user erd18736lt96czd8e3k03yu2pf5y595kp036fmuggmz9wad7syte9ytsfkcwe3 ...\n",
      "Processing user erd1tme4ftp7nrg65xh3wdkj4pdns0m553xa26n59gp6wapm9hua3ncs2tyvf0 ...\n",
      "Processing user erd1l6tf3es2vvex5jh7nesgwg93y6wyhf782w373swv035ql6mr7egq9kffg3 ...\n",
      "Processing user erd152xp5mx6v4zxf599ezqe8ct8gwmzm404vd54wuwttv5c70keh3wqt2m9fh ...\n",
      "Processing user erd16vxd5syuy806lwh5tuqkktszumw7rwyhcl79pye8wprkyf7sk3sqjqzgze ...\n",
      "Processing user erd13ke44evnyfpz6z2rvuegcu2ru72jd4gn6vq5xncn9r34ltyfulmq7ddl99 ...\n",
      "Processing user erd19ju6fkxnpats4zrghmuq5rxx6lznhjc66rc3fdt9jxvn8txm3txsk57xn8 ...\n",
      "Processing user erd1d9ecljnel7jcx2avm06gycv9jtaxch9j6vvtcxwpfs5sy95lpcfqk3w7ys ...\n",
      "Processing user erd1ww4ykhyhq86hwa5c0jgt0l5t83gn04uqm9cadlg0e8h9skxdqh6s8egqfy ...\n",
      "Processing user erd1wnlwm0478lpxzlesgukpdtfggtn764zp94q7xtpu48uxcrrm9p6qcfz9uh ...\n",
      "Processing user erd1layrcal29w808n32dwa5nhykulr98c4dxn46ph3jd6f3562qhhusyst986 ...\n",
      "Processing user erd1spkwp5k5e0t9a7zv2wmfrfcsgtx3kugpcccg09yqgytw7xrzf9hszvqc7e ...\n",
      "Processing user erd1fedpxmeqzlh3qgk389t5eaay3c3thyehnjel6cncf8qwm245jvqq6glat2 ...\n",
      "Processing user erd1dgy80kjlu9l9e93fattac0xkzkpl0yq6dtlwv43jryjldsqyz4kq0psyrc ...\n",
      "Processing user erd14m9wxyytex6sv0dtjhzxhz07u4dyjsg0hr9es6yawuysyh5e57mqzlefmw ...\n",
      "Processing user erd1tme4ftp7nrg65xh3wdkj4pdns0m553xa26n59gp6wapm9hua3ncs2tyvf0 ...\n",
      "Processing user erd19vaqmmv0ad6ksahmv9ycvth9thcm9ux5p284kypx2d6m55svnzkqnygu0t ...\n",
      "Processing user erd1ekt8mahgudk976u3ucsxz9de5fmklztyfcpu47pcupxnx6lrxh7s3k6p37 ...\n",
      "Processing user erd1rwac8rx77hqqapl2z7pp5pqz7294fzgmepc3w6l0curtl9yqagysf7s2vv ...\n",
      "Processing user erd1k9s93rc6pm4lce0xu6cjuk4km865pj59crqxs9qrxhjnglvr68fq62hhv0 ...\n",
      "Processing user erd1jmzg4qruw4275qu9yenjf70te9tv56tksc833n0c7x3gh5p99xzsxhpt4e ...\n",
      "Processing user erd13p5qce2c2u2dhgcn9ngej88xy99wnhcrpssvgvfnr3crzhnr4xps98u6yx ...\n",
      "Processing user erd1ng369zxculla2jm6nsr62u94n00fjchn8k04wqx96uqd80qaj56qzm2rgy ...\n",
      "Processing user erd148870qghzcwe9dau9xw5uz34cgkqaq863whsx9crc9l02534vfrq4fmp25 ...\n",
      "Processing user erd1gmkkmwvklzfjrfvpvuaryk8kd439qt08k8qwj3a9r6sh2tr3qwhsnahmn3 ...\n",
      "Processing user erd13628lfq4q8veq3cvd0nufdw975f04p8d4swnyeck6zvtmwv2qpgs8smhym ...\n",
      "Number of users fetched: 192\n",
      "Number of users with farming tokens: 9\n",
      "Number of users with farm tokens: 189\n",
      "Number of users with both farming and farm tokens: 6\n"
     ]
    }
   ],
   "source": [
    "from utils.utils_chain import WrapperAddress as Address, get_all_token_nonces_details_for_account\n",
    "from multiprocessing.dummy import Pool\n",
    "from multiversx_sdk_network_providers.api_network_provider import ApiNetworkProvider\n",
    "from multiversx_sdk_network_providers.interface import IPagination\n",
    "from multiversx_sdk_network_providers.transactions import TransactionOnNetwork\n",
    "\n",
    "class FetchedUser:\n",
    "    def __init__(self, address: Address, farming_tokens: list, farm_tokens: list) -> None:\n",
    "        self.address = address\n",
    "        self.farming_tokens = farming_tokens\n",
    "        self.farm_tokens = farm_tokens\n",
    "\n",
    "    def __str__(self) -> str:\n",
    "        return f'Address: {self.address.bech32()}\\nFarming tokens: {self.farming_tokens}\\nFarm tokens: {self.farm_tokens}'\n",
    "\n",
    "    def __repr__(self) -> str:\n",
    "        return self.__str__()\n",
    "    \n",
    "class FetchedUsers:\n",
    "    def __init__(self) -> None:\n",
    "        self.users = []\n",
    "\n",
    "    def add_user(self, user: FetchedUser) -> None:\n",
    "        self.users.append(user)\n",
    "\n",
    "    # getter for users having farming tokens\n",
    "    def get_users_with_farming_tokens(self) -> list:\n",
    "        return [user for user in self.users if len(user.farming_tokens) > 0]\n",
    "    \n",
    "    # getter for users having farm tokens\n",
    "    def get_users_with_farm_tokens(self) -> list:\n",
    "        return [user for user in self.users if len(user.farm_tokens) > 0]\n",
    "    \n",
    "    # getter for users having both farming and farm tokens\n",
    "    def get_users_with_both_tokens(self) -> list:\n",
    "        return [user for user in self.users if len(user.farming_tokens) > 0 and len(user.farm_tokens) > 0]\n",
    "\n",
    "    def __str__(self) -> str:\n",
    "        return '\\n'.join([str(user) for user in self.users])\n",
    "\n",
    "    def __repr__(self) -> str:\n",
    "        return self.__str__()\n",
    "\n",
    "class Pagination(IPagination):\n",
    "    def __init__(self, start: int, size: int) -> None:\n",
    "        self.start = start\n",
    "        self.size = size\n",
    "\n",
    "    def get_start(self) -> int:\n",
    "        return self.start\n",
    "\n",
    "    def get_size(self) -> int:\n",
    "        return self.size\n",
    "\n",
    "mainnet_api = ApiNetworkProvider(\"https://api.multiversx.com\")\n",
    "transactions = mainnet_api.get_transactions(Address(farm_contract.address), Pagination(0, 200))\n",
    "\n",
    "fetched_users = FetchedUsers()\n",
    "\n",
    "def process_tx(tx: TransactionOnNetwork):\n",
    "    user = tx.sender\n",
    "    print(f'Processing user {user.bech32()} ...')\n",
    "    farming_tokens_in_account = get_all_token_nonces_details_for_account(farm_contract.farmingToken, user.bech32(), context.network_provider.proxy)\n",
    "    farm_tokens_in_account = get_all_token_nonces_details_for_account(farm_contract.farmToken, user.bech32(), context.network_provider.proxy)\n",
    "\n",
    "    if len(farming_tokens_in_account) > 0 or len(farm_tokens_in_account) > 0:\n",
    "        fetched_users.add_user(FetchedUser(user, farming_tokens_in_account, farm_tokens_in_account))\n",
    "\n",
    "Pool(10).map(process_tx, transactions)\n",
    "\n",
    "print(f'Number of users fetched: {len(fetched_users.users)}')\n",
    "print(f'Number of users with farming tokens: {len(fetched_users.get_users_with_farming_tokens())}')\n",
    "print(f'Number of users with farm tokens: {len(fetched_users.get_users_with_farm_tokens())}')\n",
    "print(f'Number of users with both farming and farm tokens: {len(fetched_users.get_users_with_both_tokens())}')"
   ]
  },
  {
   "cell_type": "markdown",
   "metadata": {},
   "source": [
    "Used users"
   ]
  },
  {
   "cell_type": "code",
   "execution_count": 17,
   "metadata": {},
   "outputs": [
    {
     "name": "stdout",
     "output_type": "stream",
     "text": [
      "Using user: erd1n63p78mva3zg4ss6ku8daxytmppm4enh2a048sdajhkl3y8lmyfsyvtmy4\n",
      "Farming Tokens in account:\n",
      "\t{'balance': '993034527425773745', 'tokenIdentifier': 'EGLDMEX-0be9e5', 'nonce': 0}\n",
      "Farm Tokens in account:\n",
      "\t{'attributes': 'AAAACAseqQBnUrj2AAAAAAAAA18AAAAAAAAACBsDW2/fTEAAnqIfH2zsRIrCGrcO3piL2EO65ndXX1PBvZXt+JD/2RM=', 'balance': '973250000000000000', 'creator': 'erd1qqqqqqqqqqqqqpgqapxdp9gjxtg60mjwhle3n6h88zch9e7kkp2s8aqhkg', 'nonce': 401035, 'royalties': '0', 'tokenIdentifier': 'EGLDMEXFL-c2521e-061e8b', 'uris': ['']}\n",
      "\t\t{'reward_per_share': 801263602917095670, 'entering_epoch': 863, 'compounded_reward': 0, 'current_farm_amount': 1946500000000000000}\n"
     ]
    }
   ],
   "source": [
    "from utils.decoding_structures import FARM_TOKEN_ATTRIBUTES\n",
    "from utils.utils_chain import decode_merged_attributes, base64_to_hex\n",
    "index = 3\n",
    "user = fetched_users.get_users_with_both_tokens()[index].address\n",
    "print(f'Using user: {user.bech32()}')\n",
    "tokens_in_account = get_all_token_nonces_details_for_account(farm_contract.farmingToken, user.bech32(), context.network_provider.proxy)\n",
    "print(f'Farming Tokens in account:')\n",
    "for token in tokens_in_account:\n",
    "    print(f'\\t{token}')\n",
    "tokens_in_account = get_all_token_nonces_details_for_account(farm_contract.farmToken, user.bech32(), context.network_provider.proxy)\n",
    "print(f'Farm Tokens in account:')\n",
    "for token in tokens_in_account:\n",
    "    print(f'\\t{token}')\n",
    "    print(f'\\t\\t{decode_merged_attributes(base64_to_hex(token[\"attributes\"]), FARM_TOKEN_ATTRIBUTES)}')"
   ]
  },
  {
   "cell_type": "markdown",
   "metadata": {},
   "source": [
    "Enter farm"
   ]
  },
  {
   "cell_type": "code",
   "execution_count": 42,
   "metadata": {},
   "outputs": [
    {
     "name": "stderr",
     "output_type": "stream",
     "text": [
      "\u001b[38;20m2023-11-15 18:32:44,777 - DEBUG - Account.sync_nonce() done: 357\u001b[0m\n"
     ]
    },
    {
     "name": "stdout",
     "output_type": "stream",
     "text": [
      "Found 1 farming tokens in account\n"
     ]
    },
    {
     "name": "stderr",
     "output_type": "stream",
     "text": [
      "\u001b[92m2023-11-15 18:32:49,156 - INFO - enter farm\u001b[0m\n",
      "\u001b[38;20m2023-11-15 18:32:49,157 - DEBUG - Account: erd1h7hg5hwxfv2vpd7j0al59jh7mvwdgg86lds7gg24qz6ry9mexnds6xndl9\u001b[0m\n",
      "\u001b[92m2023-11-15 18:32:49,158 - INFO - Calling enterFarm endpoint...\u001b[0m\n",
      "\u001b[38;20m2023-11-15 18:32:49,158 - DEBUG - enter farm\u001b[0m\n"
     ]
    },
    {
     "name": "stdout",
     "output_type": "stream",
     "text": [
      "Found 1 farm tokens in account\n"
     ]
    },
    {
     "name": "stderr",
     "output_type": "stream",
     "text": [
      "\u001b[38;20m2023-11-15 18:32:50,163 - DEBUG - Contract call arguments: []\u001b[0m\n",
      "\u001b[92m2023-11-15 18:32:51,373 - INFO - No explorer known for https://proxy-shadowfork-four.elrond.ro. transaction raw path: transactions/0ba141d624ecf3c65e46175650894764ceb1a7c701284798ab59a65a167ce633\u001b[0m\n"
     ]
    }
   ],
   "source": [
    "from utils.utils_chain import Account, WrapperAddress as Address, get_all_token_nonces_details_for_account\n",
    "from contracts.farm_contract import EnterFarmEvent\n",
    "\n",
    "# user = fetched_users[randint(0, len(fetched_users.get_users_with_farming_tokens()) - 1)].address\n",
    "# user = fetched_users.get_users_with_both_tokens()[0].address\n",
    "user_account = Account(pem_file=\"~/Documents/sh1.pem\")\n",
    "user_account.address = user\n",
    "user_account.sync_nonce(context.network_provider.proxy)\n",
    "\n",
    "farming_tk_balance = 0\n",
    "tokens_in_account = get_all_token_nonces_details_for_account(farm_contract.farmingToken, user_account.address.bech32(), context.network_provider.proxy)\n",
    "print(f'Found {len(tokens_in_account)} farming tokens in account')\n",
    "for token in tokens_in_account:\n",
    "    if int(token['balance']) > 0:\n",
    "        farming_tk_balance = int(token['balance'])\n",
    "        break\n",
    "\n",
    "if not farming_tk_balance:\n",
    "    raise Exception(\"Not enough farming token balance\")\n",
    "\n",
    "farm_tk_balance, farm_tk_nonce = 0, 0\n",
    "tokens_in_account = get_all_token_nonces_details_for_account(farm_contract.farmToken, user_account.address.bech32(), context.network_provider.proxy)\n",
    "print(f'Found {len(tokens_in_account)} farm tokens in account')\n",
    "for token in tokens_in_account:\n",
    "    if int(token['balance']) > farm_tk_balance:\n",
    "        farm_tk_balance = int(token['balance'])\n",
    "        farm_tk_nonce = token['nonce']\n",
    "        break\n",
    "\n",
    "# use only 10% of the balance\n",
    "event = EnterFarmEvent(farm_contract.farmingToken, 0, farming_tk_balance // 10,\n",
    "                       farm_contract.farmToken, farm_tk_nonce, farm_tk_balance)\n",
    "\n",
    "initial_enter: bool = False if farm_tk_nonce else True\n",
    "tx_hash = farm_contract.enterFarm(context.network_provider, user_account, event, initial=initial_enter)"
   ]
  },
  {
   "cell_type": "markdown",
   "metadata": {},
   "source": [
    "Claim rewards"
   ]
  },
  {
   "cell_type": "code",
   "execution_count": 26,
   "metadata": {},
   "outputs": [
    {
     "name": "stderr",
     "output_type": "stream",
     "text": [
      "\u001b[38;20m2023-11-16 16:51:56,266 - DEBUG - Account.sync_nonce() done: 496\u001b[0m\n",
      "\u001b[92m2023-11-16 16:51:58,684 - INFO - claimRewards\u001b[0m\n",
      "\u001b[38;20m2023-11-16 16:51:58,685 - DEBUG - Account: erd1n63p78mva3zg4ss6ku8daxytmppm4enh2a048sdajhkl3y8lmyfsyvtmy4\u001b[0m\n",
      "\u001b[38;20m2023-11-16 16:51:58,686 - DEBUG - claimRewards\u001b[0m\n"
     ]
    },
    {
     "name": "stdout",
     "output_type": "stream",
     "text": [
      "Found 1 positions of EGLDMEXFL-c2521e in account\n"
     ]
    },
    {
     "name": "stderr",
     "output_type": "stream",
     "text": [
      "\u001b[38;20m2023-11-16 16:51:59,146 - DEBUG - Contract call arguments: []\u001b[0m\n",
      "\u001b[92m2023-11-16 16:51:59,380 - INFO - No explorer known for https://proxy-shadowfork-four.elrond.ro. transaction raw path: transactions/bad335a11faba4cef253903159d0539c85a792abb8fec749bfea499ca4159d82\u001b[0m\n"
     ]
    }
   ],
   "source": [
    "from utils.utils_chain import Account, WrapperAddress as Address, get_all_token_nonces_details_for_account\n",
    "from contracts.farm_contract import ClaimRewardsFarmEvent\n",
    "\n",
    "# user = fetched_users[randint(0, len(fetched_users.get_users_with_farming_tokens()) - 1)].address\n",
    "# user = fetched_users.get_users_with_both_tokens()[0].address\n",
    "user_account = Account(pem_file=\"~/Documents/sh1.pem\")\n",
    "user_account.address = user\n",
    "user_account.sync_nonce(context.network_provider.proxy)\n",
    "\n",
    "farm_tk_balance, farm_tk_nonce = 0, 0\n",
    "tokens_in_account = get_all_token_nonces_details_for_account(farm_contract.farmToken, user_account.address.bech32(), context.network_provider.proxy)\n",
    "print(f'Found {len(tokens_in_account)} positions of {farm_contract.farmToken} in account')\n",
    "for token in tokens_in_account:\n",
    "    if int(token['balance']) > farm_tk_balance:\n",
    "        farm_tk_balance = int(token['balance'])\n",
    "        farm_tk_nonce = token['nonce']\n",
    "        break\n",
    "\n",
    "if not farm_tk_nonce:\n",
    "    raise Exception(\"Not enough farm token balance\")\n",
    "\n",
    "event = ClaimRewardsFarmEvent(farm_tk_balance, farm_tk_nonce, '')\n",
    "\n",
    "tx_hash = farm_contract.claimRewards(context.network_provider, user_account, event)"
   ]
  },
  {
   "cell_type": "markdown",
   "metadata": {},
   "source": [
    "Get user farm position"
   ]
  },
  {
   "cell_type": "code",
   "execution_count": 16,
   "metadata": {},
   "outputs": [
    {
     "name": "stdout",
     "output_type": "stream",
     "text": [
      "erd1n63p78mva3zg4ss6ku8daxytmppm4enh2a048sdajhkl3y8lmyfsyvtmy4\n"
     ]
    },
    {
     "data": {
      "text/plain": [
       "{'total_farm_position': 973250000000000000, 'allow_external_claim': 0}"
      ]
     },
     "execution_count": 16,
     "metadata": {},
     "output_type": "execute_result"
    }
   ],
   "source": [
    "# user_address = fetched_users.get_users_with_both_tokens()[0].address.bech32()\n",
    "user_address = user_account.address.bech32()\n",
    "print(user_address)\n",
    "farm_contract.get_user_total_farm_position(user_address, context.network_provider.proxy)"
   ]
  },
  {
   "cell_type": "markdown",
   "metadata": {},
   "source": [
    "Exit rewards"
   ]
  },
  {
   "cell_type": "code",
   "execution_count": 15,
   "metadata": {},
   "outputs": [
    {
     "name": "stderr",
     "output_type": "stream",
     "text": [
      "\u001b[38;20m2023-11-16 16:31:10,387 - DEBUG - Account.sync_nonce() done: 492\u001b[0m\n",
      "\u001b[92m2023-11-16 16:31:12,274 - INFO - exit farm\u001b[0m\n",
      "\u001b[38;20m2023-11-16 16:31:12,276 - DEBUG - Account: erd1n63p78mva3zg4ss6ku8daxytmppm4enh2a048sdajhkl3y8lmyfsyvtmy4\u001b[0m\n",
      "\u001b[38;20m2023-11-16 16:31:12,277 - DEBUG - exit farm\u001b[0m\n"
     ]
    },
    {
     "name": "stdout",
     "output_type": "stream",
     "text": [
      "Found 1 positions of EGLDMEXFL-c2521e in account\n"
     ]
    },
    {
     "name": "stderr",
     "output_type": "stream",
     "text": [
      "\u001b[38;20m2023-11-16 16:31:13,754 - DEBUG - Contract call arguments: []\u001b[0m\n",
      "\u001b[92m2023-11-16 16:31:14,549 - INFO - No explorer known for https://proxy-shadowfork-four.elrond.ro. transaction raw path: transactions/4f266ff3ee5a16f274468be188578c3deda273efb888cf3b8bd537e0da06dc55\u001b[0m\n"
     ]
    }
   ],
   "source": [
    "from utils.utils_chain import Account, WrapperAddress as Address, get_all_token_nonces_details_for_account\n",
    "from contracts.farm_contract import ExitFarmEvent\n",
    "\n",
    "# user = fetched_users[randint(0, len(fetched_users.get_users_with_farming_tokens()) - 1)].address\n",
    "# user = fetched_users.get_users_with_both_tokens()[0].address\n",
    "user_account = Account(pem_file=\"~/Documents/sh1.pem\")\n",
    "user_account.address = user\n",
    "user_account.sync_nonce(context.network_provider.proxy)\n",
    "\n",
    "farm_tk_balance, farm_tk_nonce = 0, 0\n",
    "tokens_in_account = get_all_token_nonces_details_for_account(farm_contract.farmToken, user_account.address.bech32(), context.network_provider.proxy)\n",
    "print(f'Found {len(tokens_in_account)} positions of {farm_contract.farmToken} in account')\n",
    "for token in tokens_in_account:\n",
    "    if int(token['balance']) > farm_tk_balance:\n",
    "        farm_tk_balance = int(token['balance'])\n",
    "        farm_tk_nonce = token['nonce']\n",
    "        break\n",
    "\n",
    "if not farm_tk_nonce:\n",
    "    raise Exception(\"Not enough farm token balance\")\n",
    "\n",
    "event = ExitFarmEvent(farm_contract.farmToken, farm_tk_balance, farm_tk_nonce, '')\n",
    "\n",
    "tx_hash = farm_contract.exitFarm(context.network_provider, user_account, event)"
   ]
  },
  {
   "cell_type": "markdown",
   "metadata": {},
   "source": [
    "Get user farm position"
   ]
  },
  {
   "cell_type": "code",
   "execution_count": 17,
   "metadata": {},
   "outputs": [
    {
     "name": "stdout",
     "output_type": "stream",
     "text": [
      "erd1dx3a4r3hd7du5z2m6gdu0almd8ujun9czfdm2lu5ypfsfr63pj7q59640x\n"
     ]
    },
    {
     "data": {
      "text/plain": [
       "{'total_farm_position': 0, 'allow_external_claim': 0}"
      ]
     },
     "execution_count": 17,
     "metadata": {},
     "output_type": "execute_result"
    }
   ],
   "source": [
    "# user_address = fetched_users.get_users_with_both_tokens()[0].address.bech32()\n",
    "user_address = user_account.address.bech32()\n",
    "print(user_address)\n",
    "farm_contract.get_user_total_farm_position(user_address, context.network_provider.proxy)"
   ]
  },
  {
   "cell_type": "markdown",
   "metadata": {},
   "source": [
    "SHADOWFORK CONTROL"
   ]
  },
  {
   "cell_type": "code",
   "execution_count": 21,
   "metadata": {},
   "outputs": [
    {
     "name": "stdout",
     "output_type": "stream",
     "text": [
      "Current epoch: 1215\n"
     ]
    },
    {
     "name": "stderr",
     "output_type": "stream",
     "text": [
      "\u001b[38;20m2023-11-16 16:41:12,131 - DEBUG - Account.sync_nonce() done: 3426\u001b[0m\n",
      "\u001b[92m2023-11-16 16:41:12,132 - INFO - fast forward epoch\u001b[0m\n",
      "\u001b[92m2023-11-16 16:41:12,133 - INFO - Fast forwarding 7 epochs\u001b[0m\n",
      "\u001b[38;20m2023-11-16 16:41:12,134 - DEBUG - Calling epochsFastForward at erd1qqqqqqqqqqqqqqqpqqqqqqqqqqqqqqqqqqqqqqqqqqqqqqqplllst77y4l\u001b[0m\n",
      "\u001b[38;20m2023-11-16 16:41:12,135 - DEBUG - Args: [7, 9]\u001b[0m\n",
      "\u001b[38;20m2023-11-16 16:41:13,449 - DEBUG - Contract call arguments: [7, 9]\u001b[0m\n",
      "\u001b[92m2023-11-16 16:41:15,086 - INFO - No explorer known for https://proxy-shadowfork-four.elrond.ro. transaction raw path: transactions/f29c3c9101a8f1d3aa848f2053920a28c6452b390d7a40896902ce39accb2bd6\u001b[0m\n"
     ]
    },
    {
     "data": {
      "text/plain": [
       "'f29c3c9101a8f1d3aa848f2053920a28c6452b390d7a40896902ce39accb2bd6'"
      ]
     },
     "execution_count": 21,
     "metadata": {},
     "output_type": "execute_result"
    }
   ],
   "source": [
    "from contracts.builtin_contracts import SFControlContract\n",
    "\n",
    "epocs_to_advance = 7\n",
    "\n",
    "sf_control_contract = SFControlContract(config.SF_CONTROL_ADDRESS)\n",
    "current_epoch = context.network_provider.proxy.get_network_status(1).epoch_number\n",
    "print(f'Current epoch: {current_epoch}')\n",
    "context.deployer_account.sync_nonce(context.network_provider.proxy)\n",
    "sf_control_contract.epochs_fast_forward(context.deployer_account, context.network_provider.proxy, epocs_to_advance, 9)"
   ]
  },
  {
   "cell_type": "markdown",
   "metadata": {},
   "source": [
    "wait for epoch fast forward"
   ]
  },
  {
   "cell_type": "code",
   "execution_count": 23,
   "metadata": {},
   "outputs": [
    {
     "name": "stdout",
     "output_type": "stream",
     "text": [
      "Current epoch: 1216\n"
     ]
    },
    {
     "ename": "KeyboardInterrupt",
     "evalue": "",
     "output_type": "error",
     "traceback": [
      "\u001b[0;31m---------------------------------------------------------------------------\u001b[0m",
      "\u001b[0;31mKeyboardInterrupt\u001b[0m                         Traceback (most recent call last)",
      "\u001b[1;32m/home/ovi/projects/dex/mx-sdk-py-exchange/tools/notebooks/boosted-farm.ipynb Cell 35\u001b[0m line \u001b[0;36m7\n\u001b[1;32m      <a href='vscode-notebook-cell:/home/ovi/projects/dex/mx-sdk-py-exchange/tools/notebooks/boosted-farm.ipynb#X56sZmlsZQ%3D%3D?line=4'>5</a>\u001b[0m     current_epoch \u001b[39m=\u001b[39m context\u001b[39m.\u001b[39mnetwork_provider\u001b[39m.\u001b[39mproxy\u001b[39m.\u001b[39mget_network_status(\u001b[39m1\u001b[39m)\u001b[39m.\u001b[39mepoch_number\n\u001b[1;32m      <a href='vscode-notebook-cell:/home/ovi/projects/dex/mx-sdk-py-exchange/tools/notebooks/boosted-farm.ipynb#X56sZmlsZQ%3D%3D?line=5'>6</a>\u001b[0m     \u001b[39mprint\u001b[39m(\u001b[39mf\u001b[39m\u001b[39m'\u001b[39m\u001b[39mCurrent epoch: \u001b[39m\u001b[39m{\u001b[39;00mcurrent_epoch\u001b[39m}\u001b[39;00m\u001b[39m'\u001b[39m)\n\u001b[0;32m----> <a href='vscode-notebook-cell:/home/ovi/projects/dex/mx-sdk-py-exchange/tools/notebooks/boosted-farm.ipynb#X56sZmlsZQ%3D%3D?line=6'>7</a>\u001b[0m     sleep(\u001b[39m10\u001b[39;49m)\n\u001b[1;32m      <a href='vscode-notebook-cell:/home/ovi/projects/dex/mx-sdk-py-exchange/tools/notebooks/boosted-farm.ipynb#X56sZmlsZQ%3D%3D?line=7'>8</a>\u001b[0m \u001b[39mprint\u001b[39m(\u001b[39m'\u001b[39m\u001b[39mReached target epoch!\u001b[39m\u001b[39m'\u001b[39m)\n",
      "\u001b[0;31mKeyboardInterrupt\u001b[0m: "
     ]
    }
   ],
   "source": [
    "from time import sleep\n",
    "\n",
    "target_epoch = current_epoch + epocs_to_advance\n",
    "while current_epoch < target_epoch:\n",
    "    current_epoch = context.network_provider.proxy.get_network_status(1).epoch_number\n",
    "    print(f'Current epoch: {current_epoch}')\n",
    "    sleep(10)\n",
    "print('Reached target epoch!')"
   ]
  },
  {
   "cell_type": "markdown",
   "metadata": {},
   "source": [
    "Trackers"
   ]
  },
  {
   "cell_type": "code",
   "execution_count": null,
   "metadata": {},
   "outputs": [
    {
     "name": "stdout",
     "output_type": "stream",
     "text": [
      "Farm: erd1qqqqqqqqqqqqqpgqapxdp9gjxtg60mjwhle3n6h88zch9e7kkp2s8aqhkg\n",
      "Farm token supply: 563277123343701612441365\n",
      "Rewards per block: 189000000000000000000000\n",
      "Rewards reserve: 188733770294733922724615707833\n",
      "Rewards per share: 799227971064129275\n",
      "Last rewards block nonce: 17308481\n",
      "Last block offline calculated rewards: 17308481\n"
     ]
    }
   ],
   "source": [
    "from trackers.farm_economics_tracking import FarmEconomics\n",
    "from contracts.farm_contract import FarmContractVersion\n",
    "\n",
    "farm_tracker = FarmEconomics(farm_contract.address, FarmContractVersion.V2Boosted, context.network_provider)"
   ]
  },
  {
   "cell_type": "code",
   "execution_count": 21,
   "metadata": {},
   "outputs": [
    {
     "name": "stderr",
     "output_type": "stream",
     "text": [
      "\u001b[92m2023-11-15 17:21:38,108 - INFO - Updated farm tracking data!\u001b[0m\n"
     ]
    },
    {
     "name": "stdout",
     "output_type": "stream",
     "text": [
      "Farm: erd1qqqqqqqqqqqqqpgqapxdp9gjxtg60mjwhle3n6h88zch9e7kkp2s8aqhkg\n",
      "Farm token supply: 563276926157178730520142\n",
      "Rewards per block: 189000000000000000000000\n",
      "Rewards reserve: 189183961557616089304363259330\n",
      "Rewards per share: 799547670224311943\n",
      "Last rewards block nonce: 17310863\n",
      "Last block offline calculated rewards: 17308481\n"
     ]
    }
   ],
   "source": [
    "farm_tracker.update_tracking_data()\n",
    "farm_tracker.report_current_tracking_data()"
   ]
  },
  {
   "cell_type": "code",
   "execution_count": 24,
   "metadata": {},
   "outputs": [
    {
     "name": "stderr",
     "output_type": "stream",
     "text": [
      "\u001b[92m2023-11-15 17:26:42,948 - INFO - Updated farm tracking data!\u001b[0m\n"
     ]
    },
    {
     "name": "stdout",
     "output_type": "stream",
     "text": [
      "Farm: erd1qqqqqqqqqqqqqpgqapxdp9gjxtg60mjwhle3n6h88zch9e7kkp2s8aqhkg\n",
      "Farm token supply: 563277339953837416231085\n",
      "Rewards per block: 189000000000000000000000\n",
      "Rewards reserve: 189198703557616089304363259330\n",
      "Rewards per share: 799558138964865953\n",
      "Last rewards block nonce: 17310941\n",
      "Last block offline calculated rewards: 17308481\n"
     ]
    }
   ],
   "source": [
    "farm_tracker.update_tracking_data()\n",
    "farm_tracker.report_current_tracking_data()"
   ]
  }
 ],
 "metadata": {
  "kernelspec": {
   "display_name": "venv-newerdpy",
   "language": "python",
   "name": "python3"
  },
  "language_info": {
   "codemirror_mode": {
    "name": "ipython",
    "version": 3
   },
   "file_extension": ".py",
   "mimetype": "text/x-python",
   "name": "python",
   "nbconvert_exporter": "python",
   "pygments_lexer": "ipython3",
   "version": "3.11.4"
  },
  "orig_nbformat": 4,
  "vscode": {
   "interpreter": {
    "hash": "7ae6ab0abdf10440b34f03794a69a71508ff61341cacd694fe6034a1a71d3b05"
   }
  }
 },
 "nbformat": 4,
 "nbformat_minor": 2
}
