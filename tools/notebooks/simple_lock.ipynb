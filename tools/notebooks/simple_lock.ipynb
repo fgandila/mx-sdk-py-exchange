{
 "cells": [
  {
   "cell_type": "code",
   "execution_count": null,
   "metadata": {},
   "outputs": [],
   "source": [
    "import sys\n",
    "from pathlib import Path\n",
    "sys.path.append(str(Path.cwd().parent.parent.absolute()))\n",
    "import config\n",
    "\n",
    "from context import Context\n",
    "\n",
    "context = Context()\n",
    "SIMPLE_LOCK_ADDRESS = \"\""
   ]
  },
  {
   "cell_type": "markdown",
   "metadata": {},
   "source": [
    "Deploy Contract"
   ]
  },
  {
   "cell_type": "code",
   "execution_count": null,
   "metadata": {},
   "outputs": [],
   "source": [
    "from contracts.simple_lock_contract import SimpleLockContract\n",
    "\n",
    "contract = SimpleLockContract(\"\", \"\", \"\", SIMPLE_LOCK_ADDRESS)\n",
    "tx = contract.contract_deploy(context.deployer_account, context.network_provider.proxy, config.SIMPLE_LOCK_BYTECODE_PATH, [])"
   ]
  },
  {
   "cell_type": "markdown",
   "metadata": {},
   "source": [
    "Upgrade Contract"
   ]
  },
  {
   "cell_type": "code",
   "execution_count": null,
   "metadata": {},
   "outputs": [],
   "source": [
    "from contracts.simple_lock_contract import SimpleLockContract\n",
    "\n",
    "contract = SimpleLockContract(\"\", \"\", \"\", SIMPLE_LOCK_ADDRESS)\n",
    "\n",
    "\n",
    "tx = contract.contract_upgrade(context.deployer_account, context.network_provider.proxy, config.SIMPLE_LOCK_BYTECODE_PATH)"
   ]
  },
  {
   "attachments": {},
   "cell_type": "markdown",
   "metadata": {},
   "source": [
    "Lock Tokens"
   ]
  },
  {
   "cell_type": "code",
   "execution_count": null,
   "metadata": {},
   "outputs": [],
   "source": [
    "from contracts.simple_lock_contract import SimpleLockContract\n",
    "from utils.utils_chain import Account\n",
    "from utils.utils_tx import ESDTToken\n",
    "\n",
    "contract = SimpleLockContract(\"\", \"\", \"\", SIMPLE_LOCK_ADDRESS)\n",
    "user = Account(pem_file=config.DEFAULT_ACCOUNTS)\n",
    "tx = contract.lock_tokens(user, context.network_provider.proxy, [[ESDTToken(\"USDC-c76f1f\", 0, 100)], 30])\n",
    "\n",
    "print(\"Transaction hash:\", tx)"
   ]
  },
  {
   "cell_type": "markdown",
   "metadata": {},
   "source": [
    "Remve liquidity Locked Token"
   ]
  },
  {
   "cell_type": "code",
   "execution_count": null,
   "metadata": {},
   "outputs": [],
   "source": [
    "from contracts.simple_lock_contract import SimpleLockContract\n",
    "from utils.utils_chain import Account\n",
    "from utils.utils_tx import ESDTToken\n",
    "\n",
    "contract = SimpleLockContract(\"\", \"\", \"\", SIMPLE_LOCK_ADDRESS)\n",
    "user = Account(pem_file=config.DEFAULT_ACCOUNTS)\n",
    "tx = contract.remove_liquidity_locked_token(user, context.network_provider.proxy, [[ESDTToken(\"LKLPTK-6820d3\", 1, 2496658)], 1, 1])\n",
    "\n",
    "print(\"Transaction hash:\", tx)"
   ]
  },
  {
   "cell_type": "markdown",
   "metadata": {},
   "source": [
    "Add Liquidity Locked Token"
   ]
  },
  {
   "cell_type": "code",
   "execution_count": null,
   "metadata": {},
   "outputs": [],
   "source": [
    "from contracts.simple_lock_contract import SimpleLockContract\n",
    "from utils.utils_chain import Account\n",
    "from utils.utils_tx import ESDTToken\n",
    "\n",
    "contract = SimpleLockContract(\"\", \"\", \"\", SIMPLE_LOCK_ADDRESS)\n",
    "user = Account(pem_file=config.DEFAULT_ACCOUNTS)\n",
    "tx = contract.add_liquidity_locked_token(\n",
    "    user,\n",
    "    context.network_provider.proxy,\n",
    "    [\n",
    "        [\n",
    "            ESDTToken(\"LKTK-6820d3\", 1, 1000000),\n",
    "            ESDTToken(\"WEGLD-bd4d79\", 0, 1000000000000000000),\n",
    "        ],\n",
    "        1, 1\n",
    "    ]\n",
    ")\n",
    "\n",
    "print(\"Transaction hash:\", tx)"
   ]
  },
  {
   "attachments": {},
   "cell_type": "markdown",
   "metadata": {},
   "source": [
    "Exit Farm Locked Token"
   ]
  },
  {
   "cell_type": "code",
   "execution_count": null,
   "metadata": {},
   "outputs": [],
   "source": [
    "from contracts.simple_lock_contract import SimpleLockContract\n",
    "from utils.utils_chain import Account\n",
    "from utils.utils_tx import ESDTToken\n",
    "\n",
    "contract = SimpleLockContract(\"\", \"\", \"\", SIMPLE_LOCK_ADDRESS)\n",
    "user = Account(pem_file=config.DEFAULT_ACCOUNTS)\n",
    "tx = contract.exit_farm_locked_token(\n",
    "    user,\n",
    "    context.network_provider.proxy,\n",
    "    [[ESDTToken(\"LKFTK-6820d3\", 1, 2496658)]]\n",
    ")\n",
    "\n",
    "print(\"Transaction hash:\", tx)"
   ]
  },
  {
   "attachments": {},
   "cell_type": "markdown",
   "metadata": {},
   "source": [
    "Enter Farm Locked Token"
   ]
  },
  {
   "cell_type": "code",
   "execution_count": null,
   "metadata": {},
   "outputs": [],
   "source": [
    "from contracts.simple_lock_contract import SimpleLockContract\n",
    "from utils.utils_chain import Account\n",
    "from utils.utils_tx import ESDTToken\n",
    "\n",
    "contract = SimpleLockContract(\"\", \"\", \"\", SIMPLE_LOCK_ADDRESS)\n",
    "user = Account(pem_file=config.DEFAULT_ACCOUNTS)\n",
    "tx = contract.enter_farm_locked_token(\n",
    "    user,\n",
    "    context.network_provider.proxy,\n",
    "    [[ESDTToken(\"LKLPTK-6820d3\", 1, 2496658)]]\n",
    ")\n",
    "\n",
    "print(\"Transaction hash:\", tx)"
   ]
  },
  {
   "attachments": {},
   "cell_type": "markdown",
   "metadata": {},
   "source": [
    "Claim rewards Locked Farm Token"
   ]
  },
  {
   "cell_type": "code",
   "execution_count": null,
   "metadata": {},
   "outputs": [],
   "source": [
    "from contracts.simple_lock_contract import SimpleLockContract\n",
    "from utils.utils_chain import Account\n",
    "from utils.utils_tx import ESDTToken\n",
    "\n",
    "contract = SimpleLockContract(\"\", \"\", \"\", SIMPLE_LOCK_ADDRESS)\n",
    "user = Account(pem_file=config.DEFAULT_ACCOUNTS)\n",
    "tx = contract.claim_farm_locked_token(\n",
    "    user,\n",
    "    context.network_provider.proxy,\n",
    "    [[ESDTToken(\"LKFARM-9620e7\", 12530, 1164468768499339269)]]\n",
    ")\n",
    "\n",
    "print(\"Transaction hash:\", tx)"
   ]
  }
 ],
 "metadata": {
  "kernelspec": {
   "display_name": ".venv",
   "language": "python",
   "name": "python3"
  },
  "language_info": {
   "codemirror_mode": {
    "name": "ipython",
    "version": 3
   },
   "file_extension": ".py",
   "mimetype": "text/x-python",
   "name": "python",
   "nbconvert_exporter": "python",
   "pygments_lexer": "ipython3",
   "version": "3.8.13"
  },
  "orig_nbformat": 4,
  "vscode": {
   "interpreter": {
    "hash": "46890cb94c8e016cd17355f2b23107d7cb41a4430d538522c76446f308933f39"
   }
  }
 },
 "nbformat": 4,
 "nbformat_minor": 2
}
