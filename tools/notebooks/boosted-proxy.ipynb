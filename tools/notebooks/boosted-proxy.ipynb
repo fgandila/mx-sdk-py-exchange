{
 "cells": [
  {
   "cell_type": "code",
   "execution_count": 1,
   "metadata": {},
   "outputs": [],
   "source": [
    "import sys\n",
    "from pathlib import Path\n",
    "sys.path.append(str(Path.cwd().parent.parent.absolute()))\n",
    "import config"
   ]
  },
  {
   "cell_type": "code",
   "execution_count": 2,
   "metadata": {},
   "outputs": [
    {
     "name": "stderr",
     "output_type": "stream",
     "text": [
      "\u001b[93m2023-08-09 19:29:50,484 - WARNING - Structure definition for egld_wraps not found in /home/ovidiu/projects/dex/mx-sdk-py-exchange/deploy/configs-mainnet/deploy_structure.json\u001b[0m\n",
      "\u001b[93m2023-08-09 19:29:50,488 - WARNING - Structure definition for stakings_boosted not found in /home/ovidiu/projects/dex/mx-sdk-py-exchange/deploy/configs-mainnet/deploy_structure.json\u001b[0m\n",
      "\u001b[93m2023-08-09 19:29:50,489 - WARNING - Structure definition for metastakings_boosted not found in /home/ovidiu/projects/dex/mx-sdk-py-exchange/deploy/configs-mainnet/deploy_structure.json\u001b[0m\n"
     ]
    },
    {
     "name": "stdout",
     "output_type": "stream",
     "text": [
      "loaded 10 accounts from 1 PEM files.\n"
     ]
    },
    {
     "name": "stderr",
     "output_type": "stream",
     "text": [
      "\u001b[38;20m2023-08-09 19:29:51,945 - DEBUG - Account.sync_nonce() done: 3298\u001b[0m\n",
      "\u001b[38;20m2023-08-09 19:29:53,061 - DEBUG - Account.sync_nonce() done: 1\u001b[0m\n",
      "\u001b[92m2023-08-09 19:29:53,063 - INFO - Loaded 10 tokens.\u001b[0m\n",
      "\u001b[38;20m2023-08-09 19:29:55,143 - DEBUG - Account.sync_nonce() done: 3298\u001b[0m\n",
      "\u001b[92m2023-08-09 19:29:55,144 - INFO - Loaded 0 egld_wraps.\u001b[0m\n",
      "\u001b[92m2023-08-09 19:29:55,146 - INFO - Loaded 1 locked_assets.\u001b[0m\n",
      "\u001b[92m2023-08-09 19:29:55,148 - INFO - Loaded 1 proxies.\u001b[0m\n",
      "\u001b[92m2023-08-09 19:29:55,150 - INFO - Loaded 0 simple_locks.\u001b[0m\n",
      "\u001b[92m2023-08-09 19:29:55,152 - INFO - Loaded 1 simple_locks_energy.\u001b[0m\n",
      "\u001b[92m2023-08-09 19:29:55,153 - INFO - Loaded 1 fees_collectors.\u001b[0m\n",
      "\u001b[92m2023-08-09 19:29:55,155 - INFO - Loaded 1 unstakers.\u001b[0m\n",
      "\u001b[92m2023-08-09 19:29:55,156 - INFO - Loaded 1 proxies_v2.\u001b[0m\n",
      "\u001b[92m2023-08-09 19:29:55,157 - INFO - Loaded 0 router.\u001b[0m\n",
      "\u001b[92m2023-08-09 19:29:55,159 - INFO - Loaded 1 router_v2.\u001b[0m\n",
      "\u001b[92m2023-08-09 19:29:55,160 - INFO - Loaded 0 pairs.\u001b[0m\n",
      "\u001b[92m2023-08-09 19:29:55,162 - INFO - Loaded 9 pairs_v2.\u001b[0m\n",
      "\u001b[92m2023-08-09 19:29:55,163 - INFO - Loaded 0 farms_community.\u001b[0m\n",
      "\u001b[92m2023-08-09 19:29:55,164 - INFO - Loaded 0 farms_unlocked.\u001b[0m\n",
      "\u001b[92m2023-08-09 19:29:55,166 - INFO - Loaded 0 farms_locked.\u001b[0m\n",
      "\u001b[92m2023-08-09 19:29:55,167 - INFO - Loaded 0 proxy_deployers.\u001b[0m\n",
      "\u001b[92m2023-08-09 19:29:55,169 - INFO - Loaded 9 farms_boosted.\u001b[0m\n",
      "\u001b[92m2023-08-09 19:29:55,170 - INFO - Loaded 0 price_discoveries.\u001b[0m\n",
      "\u001b[92m2023-08-09 19:29:55,171 - INFO - Loaded 0 stakings.\u001b[0m\n",
      "\u001b[92m2023-08-09 19:29:55,173 - INFO - Loaded 7 stakings_v2.\u001b[0m\n",
      "\u001b[92m2023-08-09 19:29:55,174 - INFO - Loaded 0 stakings_boosted.\u001b[0m\n",
      "\u001b[92m2023-08-09 19:29:55,175 - INFO - Loaded 0 metastakings.\u001b[0m\n",
      "\u001b[92m2023-08-09 19:29:55,176 - INFO - Loaded 4 metastakings_v2.\u001b[0m\n",
      "\u001b[92m2023-08-09 19:29:55,177 - INFO - Loaded 0 metastakings_boosted.\u001b[0m\n",
      "\u001b[38;20m2023-08-09 19:29:56,036 - DEBUG - Account.sync_nonce() done: 3298\u001b[0m\n",
      "\u001b[92m2023-08-09 19:29:56,037 - INFO - Deployed contracts below:\u001b[0m\n",
      "\u001b[92m2023-08-09 19:29:56,038 - INFO - egld_wraps:\u001b[0m\n",
      "\u001b[92m2023-08-09 19:29:56,039 - INFO - locked_assets:\u001b[0m\n",
      "\u001b[92m2023-08-09 19:29:56,040 - INFO - Deployed locked asset contract: erd1qqqqqqqqqqqqqpgqjpt0qqgsrdhp2xqygpjtfrpwf76f9nvg2jpsg4q7th\u001b[0m\n",
      "\u001b[92m2023-08-09 19:29:56,040 - INFO -  ├ Unlocked token: MEX-455c57\u001b[0m\n",
      "\u001b[92m2023-08-09 19:29:56,042 - INFO -  ├ Locked token: LKMEX-aab910\u001b[0m\n",
      "\u001b[92m2023-08-09 19:29:56,042 - INFO - proxies:\u001b[0m\n",
      "\u001b[92m2023-08-09 19:29:56,043 - INFO - Deployed proxy contract: erd1qqqqqqqqqqqqqpgqrc4pg2xarca9z34njcxeur622qmfjp8w2jps89fxnl\u001b[0m\n",
      "\u001b[92m2023-08-09 19:29:56,044 - INFO -  ├ Token: MEX-455c57\u001b[0m\n",
      "\u001b[92m2023-08-09 19:29:56,045 - INFO -  ├ Locked tokens: ['LKMEX-aab910']\u001b[0m\n",
      "\u001b[92m2023-08-09 19:29:56,046 - INFO -  ├ Proxy LP token: LKLP-03a2fa\u001b[0m\n",
      "\u001b[92m2023-08-09 19:29:56,047 - INFO -  ├ Proxy Farm token: LKFARM-9d1ea8\u001b[0m\n",
      "\u001b[92m2023-08-09 19:29:56,048 - INFO - simple_locks:\u001b[0m\n",
      "\u001b[92m2023-08-09 19:29:56,049 - INFO - simple_locks_energy:\u001b[0m\n",
      "\u001b[92m2023-08-09 19:29:56,052 - INFO - Deployed simple lock energy contract: erd1qqqqqqqqqqqqqpgq0tajepcazernwt74820t8ef7t28vjfgukp2sw239f3\u001b[0m\n",
      "\u001b[92m2023-08-09 19:29:56,054 - INFO -  ├ Base token: MEX-455c57\u001b[0m\n",
      "\u001b[92m2023-08-09 19:29:56,054 - INFO -  ├ Locked token: XMEX-fda355\u001b[0m\n",
      "\u001b[92m2023-08-09 19:29:56,055 - INFO -  ├ Locked LP token: \u001b[0m\n",
      "\u001b[92m2023-08-09 19:29:56,056 - INFO -  ├ Locked Farm token: \u001b[0m\n",
      "\u001b[92m2023-08-09 19:29:56,057 - INFO - fees_collectors:\u001b[0m\n",
      "\u001b[92m2023-08-09 19:29:56,058 - INFO - Deployed fees collector contract: erd1qqqqqqqqqqqqqpgqjsnxqprks7qxfwkcg2m2v9hxkrchgm9akp2segrswt\u001b[0m\n",
      "\u001b[92m2023-08-09 19:29:56,059 - INFO - unstakers:\u001b[0m\n",
      "\u001b[92m2023-08-09 19:29:56,060 - INFO - Deployed token unstake contract: erd1qqqqqqqqqqqqqpgqxv0y4p6vvszrknaztatycac77yvsxqrrkp2sghd86c\u001b[0m\n",
      "\u001b[92m2023-08-09 19:29:56,061 - INFO - proxies_v2:\u001b[0m\n",
      "\u001b[92m2023-08-09 19:29:56,061 - INFO - Deployed proxy contract: erd1qqqqqqqqqqqqqpgqt6ltx52ukss9d2qag2k67at28a36xc9lkp2sr06394\u001b[0m\n",
      "\u001b[92m2023-08-09 19:29:56,062 - INFO -  ├ Token: MEX-455c57\u001b[0m\n",
      "\u001b[92m2023-08-09 19:29:56,063 - INFO -  ├ Locked tokens: ['LKMEX-aab910', 'XMEX-fda355']\u001b[0m\n",
      "\u001b[92m2023-08-09 19:29:56,063 - INFO -  ├ Proxy LP token: XMEXLP-2cbdce\u001b[0m\n",
      "\u001b[92m2023-08-09 19:29:56,064 - INFO -  ├ Proxy Farm token: XMEXFARM-e0a3dc\u001b[0m\n",
      "\u001b[92m2023-08-09 19:29:56,065 - INFO - router:\u001b[0m\n",
      "\u001b[92m2023-08-09 19:29:56,066 - INFO - router_v2:\u001b[0m\n",
      "\u001b[92m2023-08-09 19:29:56,067 - INFO - Deployed router contract: erd1qqqqqqqqqqqqqpgqq66xk9gfr4esuhem3jru86wg5hvp33a62jps2fy57p\u001b[0m\n",
      "\u001b[92m2023-08-09 19:29:56,069 - INFO - pairs:\u001b[0m\n",
      "\u001b[92m2023-08-09 19:29:56,069 - INFO - pairs_v2:\u001b[0m\n",
      "\u001b[92m2023-08-09 19:29:56,070 - INFO - Deployed pair contract: erd1qqqqqqqqqqqqqpgqa0fsfshnff4n76jhcye6k7uvd7qacsq42jpsp6shh2\u001b[0m\n",
      "\u001b[92m2023-08-09 19:29:56,071 - INFO -  ├ First token: WEGLD-bd4d79\u001b[0m\n",
      "\u001b[92m2023-08-09 19:29:56,071 - INFO -  ├ Second token: MEX-455c57\u001b[0m\n",
      "\u001b[92m2023-08-09 19:29:56,071 - INFO -  ├ LP token: EGLDMEX-0be9e5\u001b[0m\n",
      "\u001b[92m2023-08-09 19:29:56,072 - INFO - Deployed pair contract: erd1qqqqqqqqqqqqqpgqeel2kumf0r8ffyhth7pqdujjat9nx0862jpsg2pqaq\u001b[0m\n",
      "\u001b[92m2023-08-09 19:29:56,073 - INFO -  ├ First token: WEGLD-bd4d79\u001b[0m\n",
      "\u001b[92m2023-08-09 19:29:56,074 - INFO -  ├ Second token: USDC-c76f1f\u001b[0m\n",
      "\u001b[92m2023-08-09 19:29:56,075 - INFO -  ├ LP token: EGLDUSDC-594e5e\u001b[0m\n",
      "\u001b[92m2023-08-09 19:29:56,076 - INFO - Deployed pair contract: erd1qqqqqqqqqqqqqpgqav09xenkuqsdyeyy5evqyhuusvu4gl3t2jpss57g8x\u001b[0m\n",
      "\u001b[92m2023-08-09 19:29:56,078 - INFO -  ├ First token: WEGLD-bd4d79\u001b[0m\n",
      "\u001b[92m2023-08-09 19:29:56,080 - INFO -  ├ Second token: RIDE-7d18e9\u001b[0m\n",
      "\u001b[92m2023-08-09 19:29:56,081 - INFO -  ├ LP token: EGLDRIDE-7bd51a\u001b[0m\n",
      "\u001b[92m2023-08-09 19:29:56,084 - INFO - Deployed pair contract: erd1qqqqqqqqqqqqqpgqpmud7t8uprrxzgu8eq2mtkl08kesflj62jps9j8dyh\u001b[0m\n",
      "\u001b[92m2023-08-09 19:29:56,084 - INFO -  ├ First token: ITHEUM-df6f26\u001b[0m\n",
      "\u001b[92m2023-08-09 19:29:56,085 - INFO -  ├ Second token: WEGLD-bd4d79\u001b[0m\n",
      "\u001b[92m2023-08-09 19:29:56,087 - INFO -  ├ LP token: ITHWEGLD-1adc53\u001b[0m\n",
      "\u001b[92m2023-08-09 19:29:56,087 - INFO - Deployed pair contract: erd1qqqqqqqqqqqqqpgq0lzzvt2faev4upyf586tg38s84d7zsaj2jpsglugga\u001b[0m\n",
      "\u001b[92m2023-08-09 19:29:56,089 - INFO -  ├ First token: UTK-2f80e9\u001b[0m\n",
      "\u001b[92m2023-08-09 19:29:56,089 - INFO -  ├ Second token: WEGLD-bd4d79\u001b[0m\n",
      "\u001b[92m2023-08-09 19:29:56,091 - INFO -  ├ LP token: UTKWEGLD-c960d1\u001b[0m\n",
      "\u001b[92m2023-08-09 19:29:56,092 - INFO - Deployed pair contract: erd1qqqqqqqqqqqqqpgqf57y8m9krsvrceqxujngzm77p82zqc502jpsnnezqs\u001b[0m\n",
      "\u001b[92m2023-08-09 19:29:56,093 - INFO -  ├ First token: CRT-52decf\u001b[0m\n",
      "\u001b[92m2023-08-09 19:29:56,095 - INFO -  ├ Second token: WEGLD-bd4d79\u001b[0m\n",
      "\u001b[92m2023-08-09 19:29:56,095 - INFO -  ├ LP token: CRTWEGLD-1fac3f\u001b[0m\n",
      "\u001b[92m2023-08-09 19:29:56,096 - INFO - Deployed pair contract: erd1qqqqqqqqqqqqqpgqp5d4x3d263x4alnapwafwujch5xqmvyq2jpsk2xhsy\u001b[0m\n",
      "\u001b[92m2023-08-09 19:29:56,097 - INFO -  ├ First token: ASH-a642d1\u001b[0m\n",
      "\u001b[92m2023-08-09 19:29:56,098 - INFO -  ├ Second token: WEGLD-bd4d79\u001b[0m\n",
      "\u001b[92m2023-08-09 19:29:56,100 - INFO -  ├ LP token: ASHWEGLD-38545c\u001b[0m\n",
      "\u001b[92m2023-08-09 19:29:56,100 - INFO - Deployed pair contract: erd1qqqqqqqqqqqqqpgqtjhhs49h0q2ncld64l3thtk7s7yuw47v2jps8emt0v\u001b[0m\n",
      "\u001b[92m2023-08-09 19:29:56,101 - INFO -  ├ First token: ZPAY-247875\u001b[0m\n",
      "\u001b[92m2023-08-09 19:29:56,103 - INFO -  ├ Second token: WEGLD-bd4d79\u001b[0m\n",
      "\u001b[92m2023-08-09 19:29:56,104 - INFO -  ├ LP token: ZPAYWEGLD-34e5c1\u001b[0m\n",
      "\u001b[92m2023-08-09 19:29:56,105 - INFO - Deployed pair contract: erd1qqqqqqqqqqqqqpgqp32ecg03fyxgt2pf2fsxyg4knvhfvtgz2jps6rx6gf\u001b[0m\n",
      "\u001b[92m2023-08-09 19:29:56,105 - INFO -  ├ First token: BHAT-c1fde3\u001b[0m\n",
      "\u001b[92m2023-08-09 19:29:56,106 - INFO -  ├ Second token: WEGLD-bd4d79\u001b[0m\n",
      "\u001b[92m2023-08-09 19:29:56,107 - INFO -  ├ LP token: BHATWEGLD-f45935\u001b[0m\n",
      "\u001b[92m2023-08-09 19:29:56,108 - INFO - farms_community:\u001b[0m\n",
      "\u001b[92m2023-08-09 19:29:56,108 - INFO - farms_unlocked:\u001b[0m\n",
      "\u001b[92m2023-08-09 19:29:56,109 - INFO - farms_locked:\u001b[0m\n",
      "\u001b[92m2023-08-09 19:29:56,110 - INFO - proxy_deployers:\u001b[0m\n",
      "\u001b[92m2023-08-09 19:29:56,110 - INFO - farms_boosted:\u001b[0m\n",
      "\u001b[92m2023-08-09 19:29:56,111 - INFO - Deployed farm contract: erd1qqqqqqqqqqqqqpgqapxdp9gjxtg60mjwhle3n6h88zch9e7kkp2s8aqhkg\u001b[0m\n",
      "\u001b[92m2023-08-09 19:29:56,112 - INFO -  ├ Farming token: EGLDMEX-0be9e5\u001b[0m\n",
      "\u001b[92m2023-08-09 19:29:56,112 - INFO -  ├ Farmed token: MEX-455c57\u001b[0m\n",
      "\u001b[92m2023-08-09 19:29:56,113 - INFO -  ├ Farm token: EGLDMEXFL-c2521e\u001b[0m\n",
      "\u001b[92m2023-08-09 19:29:56,114 - INFO - Deployed farm contract: erd1qqqqqqqqqqqqqpgqv0pz5z3fkz54nml6pkzzdruuf020gqzykp2sya7kkv\u001b[0m\n",
      "\u001b[92m2023-08-09 19:29:56,114 - INFO -  ├ Farming token: EGLDUSDC-594e5e\u001b[0m\n",
      "\u001b[92m2023-08-09 19:29:56,116 - INFO -  ├ Farmed token: MEX-455c57\u001b[0m\n",
      "\u001b[92m2023-08-09 19:29:56,118 - INFO -  ├ Farm token: EGLDUSDCFL-45109b\u001b[0m\n",
      "\u001b[92m2023-08-09 19:29:56,118 - INFO - Deployed farm contract: erd1qqqqqqqqqqqqqpgqenvn0s3ldc94q2mlkaqx4arj3zfnvnmakp2sxca2h9\u001b[0m\n",
      "\u001b[92m2023-08-09 19:29:56,119 - INFO -  ├ Farming token: EGLDRIDE-7bd51a\u001b[0m\n",
      "\u001b[92m2023-08-09 19:29:56,120 - INFO -  ├ Farmed token: MEX-455c57\u001b[0m\n",
      "\u001b[92m2023-08-09 19:29:56,121 - INFO -  ├ Farm token: EGLDRIDEFL-7aac94\u001b[0m\n",
      "\u001b[92m2023-08-09 19:29:56,123 - INFO - Deployed farm contract: erd1qqqqqqqqqqqqqpgqrdq6zvepdxg36rey8pmluwur43q4hcx3kp2su4yltq\u001b[0m\n",
      "\u001b[92m2023-08-09 19:29:56,124 - INFO -  ├ Farming token: ITHWEGLD-1adc53\u001b[0m\n",
      "\u001b[92m2023-08-09 19:29:56,124 - INFO -  ├ Farmed token: MEX-455c57\u001b[0m\n",
      "\u001b[92m2023-08-09 19:29:56,125 - INFO -  ├ Farm token: ITHWEGLDFL-7d381f\u001b[0m\n",
      "\u001b[92m2023-08-09 19:29:56,125 - INFO - Deployed farm contract: erd1qqqqqqqqqqqqqpgq4acurmluezvmhna8tztgcrnwh0l70a2wkp2sfh6jkp\u001b[0m\n",
      "\u001b[92m2023-08-09 19:29:56,126 - INFO -  ├ Farming token: UTKWEGLD-c960d1\u001b[0m\n",
      "\u001b[92m2023-08-09 19:29:56,127 - INFO -  ├ Farmed token: MEX-455c57\u001b[0m\n",
      "\u001b[92m2023-08-09 19:29:56,127 - INFO -  ├ Farm token: UTKWEGLDFL-ba26d2\u001b[0m\n",
      "\u001b[92m2023-08-09 19:29:56,128 - INFO - Deployed farm contract: erd1qqqqqqqqqqqqqpgquhqfknr9dg5t0xma0zcc55dm8gwv5rpkkp2sq8f40p\u001b[0m\n",
      "\u001b[92m2023-08-09 19:29:56,129 - INFO -  ├ Farming token: CRTWEGLD-1fac3f\u001b[0m\n",
      "\u001b[92m2023-08-09 19:29:56,129 - INFO -  ├ Farmed token: MEX-455c57\u001b[0m\n",
      "\u001b[92m2023-08-09 19:29:56,130 - INFO -  ├ Farm token: CRTWEGLDFL-4fd518\u001b[0m\n",
      "\u001b[92m2023-08-09 19:29:56,130 - INFO - Deployed farm contract: erd1qqqqqqqqqqqqqpgq6v5ta4memvrhjs4x3gqn90c3pujc77takp2sqhxm9j\u001b[0m\n",
      "\u001b[92m2023-08-09 19:29:56,131 - INFO -  ├ Farming token: ASHWEGLD-38545c\u001b[0m\n",
      "\u001b[92m2023-08-09 19:29:56,132 - INFO -  ├ Farmed token: MEX-455c57\u001b[0m\n",
      "\u001b[92m2023-08-09 19:29:56,133 - INFO -  ├ Farm token: ASHWEGLDFL-9612cf\u001b[0m\n",
      "\u001b[92m2023-08-09 19:29:56,134 - INFO - Deployed farm contract: erd1qqqqqqqqqqqqqpgqqqckvlhd3n7ntt5w3vln4xh3tsfpj0hr2jpsxlzgcj\u001b[0m\n",
      "\u001b[92m2023-08-09 19:29:56,134 - INFO -  ├ Farming token: ZPAYWEGLD-34e5c1\u001b[0m\n",
      "\u001b[92m2023-08-09 19:29:56,135 - INFO -  ├ Farmed token: MEX-455c57\u001b[0m\n",
      "\u001b[92m2023-08-09 19:29:56,135 - INFO -  ├ Farm token: ZPAYEGLDFL-4faf85\u001b[0m\n",
      "\u001b[92m2023-08-09 19:29:56,136 - INFO - Deployed farm contract: erd1qqqqqqqqqqqqqpgqcfkmz2j0e8pj0nzuk9j6mzcav0wpthq52jpsg546ch\u001b[0m\n",
      "\u001b[92m2023-08-09 19:29:56,136 - INFO -  ├ Farming token: BHATWEGLD-f45935\u001b[0m\n",
      "\u001b[92m2023-08-09 19:29:56,137 - INFO -  ├ Farmed token: MEX-455c57\u001b[0m\n",
      "\u001b[92m2023-08-09 19:29:56,137 - INFO -  ├ Farm token: BHATEGLDFL-259b84\u001b[0m\n",
      "\u001b[92m2023-08-09 19:29:56,137 - INFO - price_discoveries:\u001b[0m\n",
      "\u001b[92m2023-08-09 19:29:56,138 - INFO - stakings:\u001b[0m\n",
      "\u001b[92m2023-08-09 19:29:56,139 - INFO - stakings_v2:\u001b[0m\n",
      "\u001b[92m2023-08-09 19:29:56,139 - INFO - Deployed staking contract: erd1qqqqqqqqqqqqqpgqmqq78c5htmdnws8hm5u4suvags36eq092jpsaxv3e7\u001b[0m\n",
      "\u001b[92m2023-08-09 19:29:56,140 - INFO -  ├ Staking token: RIDE-7d18e9\u001b[0m\n",
      "\u001b[92m2023-08-09 19:29:56,140 - INFO -  ├ Stake token: SRIDE-4ab1d4\u001b[0m\n",
      "\u001b[92m2023-08-09 19:29:56,141 - INFO - Deployed staking contract: erd1qqqqqqqqqqqqqpgqr7kdhagkqgxvjrsk7s5333l9wwnenr9g2jps8puq33\u001b[0m\n",
      "\u001b[92m2023-08-09 19:29:56,141 - INFO -  ├ Staking token: ZPAY-247875\u001b[0m\n",
      "\u001b[92m2023-08-09 19:29:56,143 - INFO -  ├ Stake token: SZPAY-9f1b39\u001b[0m\n",
      "\u001b[92m2023-08-09 19:29:56,144 - INFO - Deployed staking contract: erd1qqqqqqqqqqqqqpgqzps75vsk97w9nsx2cenv2r2tyxl4fl402jpsx78m9j\u001b[0m\n",
      "\u001b[92m2023-08-09 19:29:56,144 - INFO -  ├ Staking token: ITHEUM-df6f26\u001b[0m\n",
      "\u001b[92m2023-08-09 19:29:56,145 - INFO -  ├ Stake token: SITHEUM-e05083\u001b[0m\n",
      "\u001b[92m2023-08-09 19:29:56,145 - INFO - Deployed staking contract: erd1qqqqqqqqqqqqqpgq45zs77q884ts6y9zj4jyqfn6ydev8ruv2jps3tteqq\u001b[0m\n",
      "\u001b[92m2023-08-09 19:29:56,146 - INFO -  ├ Staking token: BHAT-c1fde3\u001b[0m\n",
      "\u001b[92m2023-08-09 19:29:56,146 - INFO -  ├ Stake token: SBHAT-89efd3\u001b[0m\n",
      "\u001b[92m2023-08-09 19:29:56,148 - INFO - Deployed staking contract: erd1qqqqqqqqqqqqqpgqcedkmj8ezme6mtautj79ngv7fez978le2jps8jtawn\u001b[0m\n",
      "\u001b[92m2023-08-09 19:29:56,150 - INFO -  ├ Staking token: UTK-2f80e9\u001b[0m\n",
      "\u001b[92m2023-08-09 19:29:56,151 - INFO -  ├ Stake token: SUTK-ba35f3\u001b[0m\n",
      "\u001b[92m2023-08-09 19:29:56,152 - INFO - Deployed staking contract: erd1qqqqqqqqqqqqqpgqp2wfzvkhlpkwcdxx25qzznx33345979w2jpsl3gflj\u001b[0m\n",
      "\u001b[92m2023-08-09 19:29:56,153 - INFO -  ├ Staking token: CRT-52decf\u001b[0m\n",
      "\u001b[92m2023-08-09 19:29:56,154 - INFO -  ├ Stake token: SCRT-acbd64\u001b[0m\n",
      "\u001b[92m2023-08-09 19:29:56,155 - INFO - Deployed staking contract: erd1qqqqqqqqqqqqqpgqjdlnu9ggwfc79pygn5fjjgmdm6d7vu5e2jpsw59amp\u001b[0m\n",
      "\u001b[92m2023-08-09 19:29:56,155 - INFO -  ├ Staking token: ASH-a642d1\u001b[0m\n",
      "\u001b[92m2023-08-09 19:29:56,155 - INFO -  ├ Stake token: SASH-3671bd\u001b[0m\n",
      "\u001b[92m2023-08-09 19:29:56,157 - INFO - stakings_boosted:\u001b[0m\n",
      "\u001b[92m2023-08-09 19:29:56,157 - INFO - metastakings:\u001b[0m\n",
      "\u001b[92m2023-08-09 19:29:56,158 - INFO - metastakings_v2:\u001b[0m\n",
      "\u001b[92m2023-08-09 19:29:56,159 - INFO - Deployed metastaking contract: erd1qqqqqqqqqqqqqpgqjvcrk4tun6l438crr0jcz7q3yzp66smwkp2shzmazs\u001b[0m\n",
      "\u001b[92m2023-08-09 19:29:56,159 - INFO -  ├ Staking token: RIDE-7d18e9\u001b[0m\n",
      "\u001b[92m2023-08-09 19:29:56,159 - INFO -  ├ Metastake token: METARIDELK-f0b4bf\u001b[0m\n",
      "\u001b[92m2023-08-09 19:29:56,160 - INFO -  ├ Stake address: erd1qqqqqqqqqqqqqpgqmqq78c5htmdnws8hm5u4suvags36eq092jpsaxv3e7\u001b[0m\n",
      "\u001b[92m2023-08-09 19:29:56,161 - INFO -  ├ Farm address: erd1qqqqqqqqqqqqqpgqenvn0s3ldc94q2mlkaqx4arj3zfnvnmakp2sxca2h9\u001b[0m\n",
      "\u001b[92m2023-08-09 19:29:56,162 - INFO -  ├ LP address: erd1qqqqqqqqqqqqqpgqav09xenkuqsdyeyy5evqyhuusvu4gl3t2jpss57g8x\u001b[0m\n",
      "\u001b[92m2023-08-09 19:29:56,162 - INFO - Deployed metastaking contract: erd1qqqqqqqqqqqqqpgqduftj7u5u5d4ql2znchcmrcet9kcze7ckp2sk4474f\u001b[0m\n",
      "\u001b[92m2023-08-09 19:29:56,163 - INFO -  ├ Staking token: ITHEUM-df6f26\u001b[0m\n",
      "\u001b[92m2023-08-09 19:29:56,163 - INFO -  ├ Metastake token: METAITHLK-4c3f2e\u001b[0m\n",
      "\u001b[92m2023-08-09 19:29:56,163 - INFO -  ├ Stake address: erd1qqqqqqqqqqqqqpgqzps75vsk97w9nsx2cenv2r2tyxl4fl402jpsx78m9j\u001b[0m\n",
      "\u001b[92m2023-08-09 19:29:56,164 - INFO -  ├ Farm address: erd1qqqqqqqqqqqqqpgqrdq6zvepdxg36rey8pmluwur43q4hcx3kp2su4yltq\u001b[0m\n",
      "\u001b[92m2023-08-09 19:29:56,164 - INFO -  ├ LP address: erd1qqqqqqqqqqqqqpgqpmud7t8uprrxzgu8eq2mtkl08kesflj62jps9j8dyh\u001b[0m\n",
      "\u001b[92m2023-08-09 19:29:56,165 - INFO - Deployed metastaking contract: erd1qqqqqqqqqqqqqpgqmgd0eu4z9kzvrputt4l4kw4fqf2wcjsekp2sftan7s\u001b[0m\n",
      "\u001b[92m2023-08-09 19:29:56,166 - INFO -  ├ Staking token: UTK-2f80e9\u001b[0m\n",
      "\u001b[92m2023-08-09 19:29:56,166 - INFO -  ├ Metastake token: METAUTKLK-112f52\u001b[0m\n",
      "\u001b[92m2023-08-09 19:29:56,167 - INFO -  ├ Stake address: erd1qqqqqqqqqqqqqpgqcedkmj8ezme6mtautj79ngv7fez978le2jps8jtawn\u001b[0m\n",
      "\u001b[92m2023-08-09 19:29:56,168 - INFO -  ├ Farm address: erd1qqqqqqqqqqqqqpgq4acurmluezvmhna8tztgcrnwh0l70a2wkp2sfh6jkp\u001b[0m\n",
      "\u001b[92m2023-08-09 19:29:56,168 - INFO -  ├ LP address: erd1qqqqqqqqqqqqqpgq0lzzvt2faev4upyf586tg38s84d7zsaj2jpsglugga\u001b[0m\n",
      "\u001b[92m2023-08-09 19:29:56,168 - INFO - Deployed metastaking contract: erd1qqqqqqqqqqqqqpgqx6zhjfjnwxpzdcj594htl0y6w60aa3a8kp2se2pdms\u001b[0m\n",
      "\u001b[92m2023-08-09 19:29:56,169 - INFO -  ├ Staking token: CRT-52decf\u001b[0m\n",
      "\u001b[92m2023-08-09 19:29:56,170 - INFO -  ├ Metastake token: METACRTLK-39d11c\u001b[0m\n",
      "\u001b[92m2023-08-09 19:29:56,171 - INFO -  ├ Stake address: erd1qqqqqqqqqqqqqpgqp2wfzvkhlpkwcdxx25qzznx33345979w2jpsl3gflj\u001b[0m\n",
      "\u001b[92m2023-08-09 19:29:56,172 - INFO -  ├ Farm address: erd1qqqqqqqqqqqqqpgquhqfknr9dg5t0xma0zcc55dm8gwv5rpkkp2sq8f40p\u001b[0m\n",
      "\u001b[92m2023-08-09 19:29:56,172 - INFO -  ├ LP address: erd1qqqqqqqqqqqqqpgqf57y8m9krsvrceqxujngzm77p82zqc502jpsnnezqs\u001b[0m\n",
      "\u001b[92m2023-08-09 19:29:56,173 - INFO - metastakings_boosted:\u001b[0m\n"
     ]
    },
    {
     "name": "stdout",
     "output_type": "stream",
     "text": [
      "\n",
      "\n",
      "\n",
      "\n",
      "\n",
      "\n",
      "\n",
      "\n",
      "\n",
      "\n",
      "\n",
      "\n",
      "\n",
      "\n",
      "\n",
      "\n",
      "\n",
      "\n",
      "\n",
      "\n",
      "\n",
      "\n",
      "\n",
      "\n"
     ]
    }
   ],
   "source": [
    "from context import Context\n",
    "from utils.utils_chain import WrapperAddress as Address, Account, hex_to_string\n",
    "from utils.utils_chain import nominated_amount\n",
    "\n",
    "context = Context()"
   ]
  },
  {
   "cell_type": "code",
   "execution_count": 3,
   "metadata": {},
   "outputs": [],
   "source": [
    "from utils.contract_retrievers import retrieve_farm_by_address\n",
    "from utils.utils_chain import get_token_details_for_address, get_all_token_nonces_details_for_account\n",
    "from utils.utils_tx import ESDTToken\n",
    "from contracts.pair_contract import PairContract\n",
    "from contracts.farm_contract import FarmContract, ClaimRewardsFarmEvent, EnterFarmEvent\n",
    "from contracts.dex_proxy_contract import DexProxyContract, DexProxyClaimRewardsEvent, DexProxyEnterFarmEvent, DexProxyExitFarmEvent, DexProxyRemoveLiquidityEvent, DexProxyAddLiquidityEvent\n",
    "from contracts.simple_lock_energy_contract import SimpleLockEnergyContract"
   ]
  },
  {
   "cell_type": "code",
   "execution_count": 4,
   "metadata": {},
   "outputs": [],
   "source": [
    "farm_contract: FarmContract\n",
    "farm_contract = context.get_contracts(config.FARMS_V2)[0]\n",
    "proxy_contract: DexProxyContract\n",
    "proxy_contract = context.get_contracts(config.PROXIES_V2)[0]\n",
    "pair_contract: PairContract\n",
    "pair_contract = context.get_contracts(config.PAIRS_V2)[0]\n",
    "energy_contract: SimpleLockEnergyContract\n",
    "energy_contract = context.get_contracts(config.SIMPLE_LOCKS_ENERGY)[0]"
   ]
  },
  {
   "cell_type": "code",
   "execution_count": 5,
   "metadata": {},
   "outputs": [
    {
     "name": "stderr",
     "output_type": "stream",
     "text": [
      "\u001b[38;20m2023-08-09 19:29:56,584 - DEBUG - Account.sync_nonce() done: 426\u001b[0m\n"
     ]
    }
   ],
   "source": [
    "user = Account(pem_file=\"~/Documents/sh1.pem\")\n",
    "user.address = Address(\"erd1ynecckmk8apsy086e49ng6mske566e8c5sc9val809z7rcth4j2sdal443\")\n",
    "user.sync_nonce(context.network_provider.proxy)"
   ]
  },
  {
   "cell_type": "markdown",
   "metadata": {},
   "source": [
    "claim proxy farm rewards"
   ]
  },
  {
   "cell_type": "code",
   "execution_count": null,
   "metadata": {},
   "outputs": [
    {
     "name": "stderr",
     "output_type": "stream",
     "text": [
      "\u001b[38;20m2023-08-08 17:13:25,007 - DEBUG - Account.sync_nonce() done: 405\u001b[0m\n",
      "\u001b[38;20m2023-08-08 17:13:27,683 - DEBUG - Executing claim rewards via proxy for user erd1ynecckmk8apsy086e49ng6mske566e8c5sc9val809z7rcth4j2sdal443 with event {'farmContract': <contracts.farm_contract.FarmContract object at 0x7f774c7db790>, 'token': 'XMEXFARM-e0a3dc', 'nonce': 190622, 'amount': 57629834055703580649}\u001b[0m\n",
      "\u001b[38;20m2023-08-08 17:13:27,685 - DEBUG - claim rewards via proxy\u001b[0m\n",
      "\u001b[38;20m2023-08-08 17:13:27,848 - DEBUG - Contract call arguments: [erd1qqqqqqqqqqqqqpgqapxdp9gjxtg60mjwhle3n6h88zch9e7kkp2s8aqhkg]\u001b[0m\n",
      "\u001b[92m2023-08-08 17:13:29,468 - INFO - No explorer known for https://proxy-shadowfork-one.elrond.ro. transaction raw path: transactions/1c8fe88e85d0b4aaca2974ffdf110a34a891eae6d82b6b4db6d5660c8b838d0c\u001b[0m\n"
     ]
    }
   ],
   "source": [
    "farm_token_nonce, farm_token_amount, _ = get_token_details_for_address(proxy_contract.proxy_farm_token, user.address.bech32(), context.network_provider.proxy)\n",
    "if farm_token_nonce == 0:\n",
    "    print(\"No farm tokens\")\n",
    "    exit()\n",
    "event = DexProxyClaimRewardsEvent(farm_contract, proxy_contract.proxy_farm_token, farm_token_nonce, farm_token_amount)\n",
    "txhash = proxy_contract.claim_rewards_proxy(user, context.network_provider.proxy, event)"
   ]
  },
  {
   "cell_type": "markdown",
   "metadata": {},
   "source": [
    "exit position"
   ]
  },
  {
   "cell_type": "code",
   "execution_count": 23,
   "metadata": {},
   "outputs": [
    {
     "name": "stderr",
     "output_type": "stream",
     "text": [
      "\u001b[38;20m2023-08-11 01:43:25,084 - DEBUG - Executing exit farm via proxy for user erd1ynecckmk8apsy086e49ng6mske566e8c5sc9val809z7rcth4j2sdal443 with event {'farmContract': <contracts.farm_contract.FarmContract object at 0x7f9dbe883310>, 'token': 'XMEXFARM-e0a3dc', 'nonce': 193574, 'amount': 27219538694909253357}\u001b[0m\n",
      "\u001b[38;20m2023-08-11 01:43:25,086 - DEBUG - exit farm via proxy\u001b[0m\n",
      "\u001b[38;20m2023-08-11 01:43:25,497 - DEBUG - Contract call arguments: [erd1qqqqqqqqqqqqqpgqapxdp9gjxtg60mjwhle3n6h88zch9e7kkp2s8aqhkg, 27219538694909253357]\u001b[0m\n",
      "\u001b[92m2023-08-11 01:43:25,807 - INFO - No explorer known for https://proxy-shadowfork-one.elrond.ro. transaction raw path: transactions/805257d1c0bebba44a64f664cb82544f212a7d073e81aeabae194095a3df1e48\u001b[0m\n"
     ]
    }
   ],
   "source": [
    "farm_token_nonce, farm_token_amount, _ = get_token_details_for_address(proxy_contract.proxy_farm_token, user.address.bech32(), context.network_provider.proxy)\n",
    "if farm_token_nonce == 0:\n",
    "    print(\"No farm tokens\")\n",
    "    exit()\n",
    "event = DexProxyExitFarmEvent(farm_contract, proxy_contract.proxy_farm_token, farm_token_nonce, farm_token_amount // 2)\n",
    "txhash = proxy_contract.exit_farm_proxy(user, context.network_provider.proxy, event)"
   ]
  },
  {
   "cell_type": "markdown",
   "metadata": {},
   "source": [
    "enter position"
   ]
  },
  {
   "cell_type": "code",
   "execution_count": 24,
   "metadata": {},
   "outputs": [
    {
     "name": "stderr",
     "output_type": "stream",
     "text": [
      "\u001b[38;20m2023-08-11 01:43:47,001 - DEBUG - Executing enter farm via proxy for user erd1ynecckmk8apsy086e49ng6mske566e8c5sc9val809z7rcth4j2sdal443 with event {'farmContract': <contracts.farm_contract.FarmContract object at 0x7f9dbe883310>, 'farming_tk': 'XMEXLP-2cbdce', 'farming_tk_nonce': 59828, 'farming_tk_amount': 26402952534061975757, 'farm_tk': 'XMEXFARM-e0a3dc', 'farm_tk_nonce': 193574, 'farm_tk_amount': 27219538694909253357}\u001b[0m\n",
      "\u001b[38;20m2023-08-11 01:43:47,003 - DEBUG - enter farm via proxy\u001b[0m\n",
      "\u001b[38;20m2023-08-11 01:43:47,427 - DEBUG - Contract call arguments: [erd1qqqqqqqqqqqqqpgqapxdp9gjxtg60mjwhle3n6h88zch9e7kkp2s8aqhkg]\u001b[0m\n",
      "\u001b[92m2023-08-11 01:43:48,048 - INFO - No explorer known for https://proxy-shadowfork-one.elrond.ro. transaction raw path: transactions/48f8b24b3684d179a3e739426c49a416bfe503a747b0d7da3a9c4c969e592990\u001b[0m\n"
     ]
    }
   ],
   "source": [
    "farming_token_nonce, farming_token_amount, _ = get_token_details_for_address(proxy_contract.proxy_lp_token, user.address.bech32(), context.network_provider.proxy)\n",
    "farm_token_nonce, farm_token_amount, _ = get_token_details_for_address(proxy_contract.proxy_farm_token, user.address.bech32(), context.network_provider.proxy)\n",
    "if farm_token_nonce == 0:\n",
    "    print(\"No farm tokens\")\n",
    "    exit()\n",
    "event = DexProxyEnterFarmEvent(farm_contract, \n",
    "                               proxy_contract.proxy_lp_token, farming_token_nonce, farming_token_amount,\n",
    "                               proxy_contract.proxy_farm_token, farm_token_nonce, farm_token_amount)\n",
    "txhash = proxy_contract.enter_farm_proxy(user, context.network_provider.proxy, event)"
   ]
  },
  {
   "cell_type": "markdown",
   "metadata": {},
   "source": [
    "exit lp position"
   ]
  },
  {
   "cell_type": "code",
   "execution_count": 34,
   "metadata": {},
   "outputs": [
    {
     "name": "stderr",
     "output_type": "stream",
     "text": [
      "\u001b[38;20m2023-08-09 19:28:52,737 - DEBUG - Executing remove liquidity via proxy for user erd1ynecckmk8apsy086e49ng6mske566e8c5sc9val809z7rcth4j2sdal443 with event {'pairContract': <contracts.pair_contract.PairContract object at 0x7fb6b9227670>, 'amount': 49717612028259933112, 'nonce': 59819, 'amountA': 1, 'amountB': 1}\u001b[0m\n",
      "\u001b[38;20m2023-08-09 19:28:52,739 - DEBUG - remove liquidity via proxy\u001b[0m\n",
      "\u001b[38;20m2023-08-09 19:28:53,339 - DEBUG - Contract call arguments: [erd1qqqqqqqqqqqqqpgqa0fsfshnff4n76jhcye6k7uvd7qacsq42jpsp6shh2, 1, 1]\u001b[0m\n",
      "\u001b[92m2023-08-09 19:28:54,493 - INFO - No explorer known for https://proxy-shadowfork-one.elrond.ro. transaction raw path: transactions/080958180e0eefb482ad28b1457fbdaa70cc4263ea3cbfd8f83751ddc520afe5\u001b[0m\n"
     ]
    }
   ],
   "source": [
    "farming_token_nonce, farming_token_amount, _ = get_token_details_for_address(proxy_contract.proxy_lp_token, user.address.bech32(), context.network_provider.proxy)\n",
    "if farm_token_nonce == 0:\n",
    "    print(\"No tokens\")\n",
    "    exit()\n",
    "event = DexProxyRemoveLiquidityEvent(pair_contract, farming_token_amount, farming_token_nonce, 1, 1)\n",
    "txhash = proxy_contract.remove_liquidity_proxy(user, context.network_provider.proxy, event)"
   ]
  },
  {
   "cell_type": "markdown",
   "metadata": {},
   "source": [
    "create lp position"
   ]
  },
  {
   "cell_type": "code",
   "execution_count": 21,
   "metadata": {},
   "outputs": [
    {
     "name": "stderr",
     "output_type": "stream",
     "text": [
      "\u001b[38;20m2023-08-11 01:41:04,661 - DEBUG - Executing add liquidity via proxy for user erd1ynecckmk8apsy086e49ng6mske566e8c5sc9val809z7rcth4j2sdal443 with event {'pairContract': <contracts.pair_contract.PairContract object at 0x7f9dbe8830a0>, 'tokenA': 'WEGLD-bd4d79', 'nonceA': 0, 'amountA': 23606332009211084887, 'amountAmin': 1, 'tokenB': 'XMEX-fda355', 'nonceB': 53, 'amountB': 135900053706923476104973053, 'amountBmin': 1}\u001b[0m\n",
      "\u001b[38;20m2023-08-11 01:41:04,663 - DEBUG - add liquidity via proxy\u001b[0m\n",
      "\u001b[38;20m2023-08-11 01:41:04,971 - DEBUG - Contract call arguments: [erd1qqqqqqqqqqqqqpgqa0fsfshnff4n76jhcye6k7uvd7qacsq42jpsp6shh2, 1, 1]\u001b[0m\n",
      "\u001b[92m2023-08-11 01:41:05,553 - INFO - No explorer known for https://proxy-shadowfork-one.elrond.ro. transaction raw path: transactions/d1d88587fb099e0412f6f94acd83056dfa2e0ce8b5bef06f33c481bb0a48e887\u001b[0m\n"
     ]
    }
   ],
   "source": [
    "first_token_nonce, first_token_amount, _ = get_token_details_for_address(pair_contract.firstToken, user.address.bech32(), context.network_provider.proxy)\n",
    "\n",
    "xmex = next(locked_token for locked_token in proxy_contract.locked_tokens if \"XMEX\" in locked_token)\n",
    "xmex_list = get_all_token_nonces_details_for_account(xmex, user.address.bech32(), context.network_provider.proxy)\n",
    "biggest_xmex = {}\n",
    "for xmex_found in xmex_list:\n",
    "    # get the highest amount one in the list\n",
    "    if int(xmex_found['balance']) > int(biggest_xmex.get('balance', 0)):\n",
    "        biggest_xmex = xmex_found\n",
    "second_token_nonce, second_token_amount = biggest_xmex['nonce'], int(biggest_xmex['balance'])\n",
    "\n",
    "if first_token_amount == 0 or second_token_amount == 0:\n",
    "    print(f\"No tokens: first token amount: {first_token_amount}; second token amount {second_token_amount}\")\n",
    "    exit()\n",
    "event = DexProxyAddLiquidityEvent(pair_contract, pair_contract.firstToken, first_token_nonce, first_token_amount, 1,\n",
    "                                  xmex, second_token_nonce, second_token_amount, 1,)\n",
    "txhash = proxy_contract.add_liquidity_proxy(user, context.network_provider.proxy, event)"
   ]
  },
  {
   "cell_type": "markdown",
   "metadata": {},
   "source": [
    "exit position"
   ]
  },
  {
   "cell_type": "code",
   "execution_count": 18,
   "metadata": {},
   "outputs": [
    {
     "name": "stderr",
     "output_type": "stream",
     "text": [
      "\u001b[38;20m2023-08-11 01:30:25,125 - DEBUG - Executing exit farm via proxy for user erd1ynecckmk8apsy086e49ng6mske566e8c5sc9val809z7rcth4j2sdal443 with event {'farmContract': <contracts.farm_contract.FarmContract object at 0x7f9dbe883310>, 'token': 'XMEXFARM-e0a3dc', 'nonce': 193571, 'amount': 10305923245858968100}\u001b[0m\n",
      "\u001b[38;20m2023-08-11 01:30:25,127 - DEBUG - exit farm via proxy\u001b[0m\n",
      "\u001b[38;20m2023-08-11 01:30:25,566 - DEBUG - Contract call arguments: [erd1qqqqqqqqqqqqqpgqapxdp9gjxtg60mjwhle3n6h88zch9e7kkp2s8aqhkg, 10305923245858968100]\u001b[0m\n",
      "\u001b[92m2023-08-11 01:30:25,797 - INFO - No explorer known for https://proxy-shadowfork-one.elrond.ro. transaction raw path: transactions/e010f9dc717ade8d29762a784dd2cc65c78a74cd2c91619f3cd028bedbeaea13\u001b[0m\n"
     ]
    }
   ],
   "source": [
    "farm_token_nonce, farm_token_amount, _ = get_token_details_for_address(proxy_contract.proxy_farm_token, user.address.bech32(), context.network_provider.proxy)\n",
    "if farm_token_nonce == 0:\n",
    "    print(\"No farm tokens\")\n",
    "    exit()\n",
    "event = DexProxyExitFarmEvent(farm_contract, proxy_contract.proxy_farm_token, farm_token_nonce, farm_token_amount)\n",
    "txhash = proxy_contract.exit_farm_proxy(user, context.network_provider.proxy, event)"
   ]
  },
  {
   "cell_type": "markdown",
   "metadata": {},
   "source": [
    "Lock tokens"
   ]
  },
  {
   "cell_type": "code",
   "execution_count": 7,
   "metadata": {},
   "outputs": [
    {
     "name": "stderr",
     "output_type": "stream",
     "text": [
      "\u001b[92m2023-08-09 19:31:15,265 - INFO - lock tokens\u001b[0m\n",
      "\u001b[38;20m2023-08-09 19:31:15,267 - DEBUG - lock tokens\u001b[0m\n",
      "\u001b[38;20m2023-08-09 19:31:16,185 - DEBUG - Contract call arguments: [720]\u001b[0m\n",
      "\u001b[92m2023-08-09 19:31:16,743 - INFO - No explorer known for https://proxy-shadowfork-one.elrond.ro. transaction raw path: transactions/3a237dcc6918e77b3a839890214e941bfc35bdf132ebf1d29c522cbce4ac14a7\u001b[0m\n"
     ]
    }
   ],
   "source": [
    "_, mex_amount, _ = get_token_details_for_address(proxy_contract.token, user.address.bech32(), context.network_provider.proxy)\n",
    "\n",
    "lockable_tokens = ESDTToken(proxy_contract.token, 0, mex_amount)\n",
    "txhash = energy_contract.lock_tokens(user, context.network_provider.proxy, [[lockable_tokens], 720])"
   ]
  },
  {
   "cell_type": "markdown",
   "metadata": {},
   "source": [
    "create lp position"
   ]
  },
  {
   "cell_type": "code",
   "execution_count": 8,
   "metadata": {},
   "outputs": [
    {
     "name": "stderr",
     "output_type": "stream",
     "text": [
      "\u001b[38;20m2023-08-09 19:33:41,735 - DEBUG - Executing add liquidity via proxy for user erd1ynecckmk8apsy086e49ng6mske566e8c5sc9val809z7rcth4j2sdal443 with event {'pairContract': <contracts.pair_contract.PairContract object at 0x7f9dbe8830a0>, 'tokenA': 'WEGLD-bd4d79', 'nonceA': 0, 'amountA': 29163864616900849236, 'amountAmin': 1, 'tokenB': 'XMEX-fda355', 'nonceB': 17, 'amountB': 31942150868735998483800174, 'amountBmin': 1}\u001b[0m\n",
      "\u001b[38;20m2023-08-09 19:33:41,737 - DEBUG - add liquidity via proxy\u001b[0m\n",
      "\u001b[38;20m2023-08-09 19:33:42,533 - DEBUG - Contract call arguments: [erd1qqqqqqqqqqqqqpgqa0fsfshnff4n76jhcye6k7uvd7qacsq42jpsp6shh2, 1, 1]\u001b[0m\n",
      "\u001b[92m2023-08-09 19:33:42,919 - INFO - No explorer known for https://proxy-shadowfork-one.elrond.ro. transaction raw path: transactions/b174f539ce97eb8d3900b9895a8c18da3302cbe7c6f386cdea275973b5d7cfbd\u001b[0m\n"
     ]
    }
   ],
   "source": [
    "first_token_nonce, first_token_amount, _ = get_token_details_for_address(pair_contract.firstToken, user.address.bech32(), context.network_provider.proxy)\n",
    "\n",
    "xmex = next(locked_token for locked_token in proxy_contract.locked_tokens if \"XMEX\" in locked_token)\n",
    "xmex_list = get_all_token_nonces_details_for_account(xmex, user.address.bech32(), context.network_provider.proxy)\n",
    "biggest_xmex = {}\n",
    "for xmex_found in xmex_list:\n",
    "    # get a specific xmex nonce from the list\n",
    "    if int(xmex_found['nonce']) == 17:\n",
    "        biggest_xmex = xmex_found\n",
    "second_token_nonce, second_token_amount = biggest_xmex['nonce'], int(biggest_xmex['balance'])\n",
    "\n",
    "if first_token_amount == 0 or second_token_amount == 0:\n",
    "    print(f\"No tokens: first token amount: {first_token_amount}; second token amount {second_token_amount}\")\n",
    "    exit()\n",
    "event = DexProxyAddLiquidityEvent(pair_contract, pair_contract.firstToken, first_token_nonce, first_token_amount, 1,\n",
    "                                  xmex, second_token_nonce, second_token_amount, 1,)\n",
    "txhash = proxy_contract.add_liquidity_proxy(user, context.network_provider.proxy, event)"
   ]
  },
  {
   "cell_type": "markdown",
   "metadata": {},
   "source": [
    "enter new position"
   ]
  },
  {
   "cell_type": "code",
   "execution_count": 19,
   "metadata": {},
   "outputs": [
    {
     "name": "stderr",
     "output_type": "stream",
     "text": [
      "\u001b[38;20m2023-08-11 01:38:36,390 - DEBUG - Executing enter farm via proxy for user erd1ynecckmk8apsy086e49ng6mske566e8c5sc9val809z7rcth4j2sdal443 with event {'farmContract': <contracts.farm_contract.FarmContract object at 0x7f9dbe883310>, 'farming_tk': 'XMEXLP-2cbdce', 'farming_tk_nonce': 59824, 'farming_tk_amount': 4998372774241599528, 'farm_tk': '', 'farm_tk_nonce': 0, 'farm_tk_amount': 0}\u001b[0m\n",
      "\u001b[38;20m2023-08-11 01:38:36,391 - DEBUG - enter farm via proxy\u001b[0m\n",
      "\u001b[38;20m2023-08-11 01:38:36,925 - DEBUG - Contract call arguments: [erd1qqqqqqqqqqqqqpgqapxdp9gjxtg60mjwhle3n6h88zch9e7kkp2s8aqhkg]\u001b[0m\n",
      "\u001b[92m2023-08-11 01:38:37,336 - INFO - No explorer known for https://proxy-shadowfork-one.elrond.ro. transaction raw path: transactions/b6ac89fc6996e223f78850f548003d92333b367391af6bb06b5cc35dfa8b1cee\u001b[0m\n"
     ]
    }
   ],
   "source": [
    "farming_token_nonce, farming_token_amount, _ = get_token_details_for_address(proxy_contract.proxy_lp_token, user.address.bech32(), context.network_provider.proxy)\n",
    "event = DexProxyEnterFarmEvent(farm_contract, \n",
    "                               proxy_contract.proxy_lp_token, farming_token_nonce, farming_token_amount // 2,\n",
    "                               \"\", 0, 0)\n",
    "txhash = proxy_contract.enter_farm_proxy(user, context.network_provider.proxy, event)"
   ]
  },
  {
   "cell_type": "markdown",
   "metadata": {},
   "source": [
    "merge position"
   ]
  },
  {
   "cell_type": "code",
   "execution_count": 22,
   "metadata": {},
   "outputs": [
    {
     "name": "stderr",
     "output_type": "stream",
     "text": [
      "\u001b[38;20m2023-08-11 01:41:46,303 - DEBUG - Executing enter farm via proxy for user erd1ynecckmk8apsy086e49ng6mske566e8c5sc9val809z7rcth4j2sdal443 with event {'farmContract': <contracts.farm_contract.FarmContract object at 0x7f9dbe883310>, 'farming_tk': 'XMEXLP-2cbdce', 'farming_tk_nonce': 59826, 'farming_tk_amount': 44442331841335307657, 'farm_tk': 'XMEXFARM-e0a3dc', 'farm_tk_nonce': 193573, 'farm_tk_amount': 9996745548483199057}\u001b[0m\n",
      "\u001b[38;20m2023-08-11 01:41:46,305 - DEBUG - enter farm via proxy\u001b[0m\n",
      "\u001b[38;20m2023-08-11 01:41:46,734 - DEBUG - Contract call arguments: [erd1qqqqqqqqqqqqqpgqapxdp9gjxtg60mjwhle3n6h88zch9e7kkp2s8aqhkg]\u001b[0m\n",
      "\u001b[92m2023-08-11 01:41:47,144 - INFO - No explorer known for https://proxy-shadowfork-one.elrond.ro. transaction raw path: transactions/e373fc0147efdaa3ceb2179b6b83c971418453c47097b0cbce7bafdb1e8ea9fe\u001b[0m\n"
     ]
    }
   ],
   "source": [
    "farming_token_nonce, farming_token_amount, _ = get_token_details_for_address(proxy_contract.proxy_lp_token, user.address.bech32(), context.network_provider.proxy)\n",
    "farm_token_nonce, farm_token_amount, _ = get_token_details_for_address(proxy_contract.proxy_farm_token, user.address.bech32(), context.network_provider.proxy)\n",
    "if farm_token_nonce == 0:\n",
    "    print(\"No farm tokens\")\n",
    "    exit()\n",
    "event = DexProxyEnterFarmEvent(farm_contract, \n",
    "                               proxy_contract.proxy_lp_token, farming_token_nonce, farming_token_amount,\n",
    "                               proxy_contract.proxy_farm_token, farm_token_nonce, farm_token_amount)\n",
    "txhash = proxy_contract.enter_farm_proxy(user, context.network_provider.proxy, event)"
   ]
  },
  {
   "cell_type": "code",
   "execution_count": null,
   "metadata": {},
   "outputs": [],
   "source": [
    "from tools.account_state import get_account_keys_online, report_key_files_compare\n",
    "get_account_keys_online(energy_contract.address, context.network_provider.proxy.url, with_save_in=\"state_dump/pre_upgrade_energy_factory.json\")"
   ]
  },
  {
   "cell_type": "code",
   "execution_count": null,
   "metadata": {},
   "outputs": [],
   "source": [
    "get_account_keys_online(energy_contract.address, context.network_provider.proxy.url, with_save_in=\"state_dump/post_upgrade_energy_factory.json\")\n",
    "report_key_files_compare(\"state_dump\", \"pre\", \"post\", True)"
   ]
  }
 ],
 "metadata": {
  "kernelspec": {
   "display_name": "venv-newerdpy",
   "language": "python",
   "name": "python3"
  },
  "language_info": {
   "codemirror_mode": {
    "name": "ipython",
    "version": 3
   },
   "file_extension": ".py",
   "mimetype": "text/x-python",
   "name": "python",
   "nbconvert_exporter": "python",
   "pygments_lexer": "ipython3",
   "version": "3.8.10"
  },
  "orig_nbformat": 4,
  "vscode": {
   "interpreter": {
    "hash": "7ae6ab0abdf10440b34f03794a69a71508ff61341cacd694fe6034a1a71d3b05"
   }
  }
 },
 "nbformat": 4,
 "nbformat_minor": 2
}
