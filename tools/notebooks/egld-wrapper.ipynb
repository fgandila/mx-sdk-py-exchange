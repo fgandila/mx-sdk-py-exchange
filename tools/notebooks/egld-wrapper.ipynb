{
 "cells": [
  {
   "cell_type": "code",
   "execution_count": null,
   "metadata": {},
   "outputs": [],
   "source": [
    "import sys\n",
    "from pathlib import Path\n",
    "sys.path.append(str(Path.cwd().parent.parent.absolute()))"
   ]
  },
  {
   "cell_type": "code",
   "execution_count": null,
   "metadata": {},
   "outputs": [],
   "source": [
    "from multiversx_sdk_core import Address\n",
    "from multiversx_sdk_core.transaction_builders import ContractCallBuilder, ESDTNFTTransferBuilder\n",
    "from multiversx_sdk_core.transaction_builders import DefaultTransactionBuildersConfiguration\n",
    "from multiversx_sdk_core import TokenPayment\n",
    "from multiversx_sdk_network_providers import ProxyNetworkProvider\n",
    "from multiversx_sdk_core import AccountNonceHolder\n",
    "from multiversx_sdk_wallet import UserSigner\n",
    "from pathlib import Path\n",
    "from tools.notebooks import env\n",
    "\n",
    "config = DefaultTransactionBuildersConfiguration(env.CHAIN_ID)\n",
    "proxy = ProxyNetworkProvider(env.PROXY_URL)\n",
    "\n",
    "user_signer = UserSigner.from_pem_file(Path(env.USER1_PEM))"
   ]
  },
  {
   "attachments": {},
   "cell_type": "markdown",
   "metadata": {},
   "source": [
    "Wrap tokens"
   ]
  },
  {
   "cell_type": "code",
   "execution_count": null,
   "metadata": {},
   "outputs": [],
   "source": [
    "user = env.USER1\n",
    "user_nonce_holder = AccountNonceHolder(proxy.get_account(user).nonce)\n",
    "\n",
    "transfer = TokenPayment.egld_from_amount(600000)\n",
    "\n",
    "builder = ContractCallBuilder(\n",
    "    config,\n",
    "    contract=env.EGLD_WRAP_SH0_CONTRACT,\n",
    "    function_name=\"wrapEgld\",\n",
    "    caller=user,\n",
    "    call_arguments=[],\n",
    "    gas_limit=30000000,\n",
    "    value=transfer\n",
    ")\n",
    "\n",
    "tx = builder.build()\n",
    "print(\"Transaction:\", tx.to_dictionary())\n",
    "print(\"Transaction data:\", tx.data)"
   ]
  },
  {
   "cell_type": "code",
   "execution_count": null,
   "metadata": {},
   "outputs": [],
   "source": [
    "pair_contract = Address.from_bech32(\"erd1qqqqqqqqqqqqqpgqa0fsfshnff4n76jhcye6k7uvd7qacsq42jpsp6shh2\")\n",
    "\n",
    "transfers = [\n",
    "    TokenPayment.fungible_from_amount(env.WEGLD, 600000, 18)\n",
    "]\n",
    "\n",
    "builder = ContractCallBuilder(\n",
    "    config,\n",
    "    contract=pair_contract,\n",
    "    function_name=\"swapTokensFixedInput\",\n",
    "    caller=user,\n",
    "    call_arguments=[env.MEX, 1],\n",
    "    esdt_transfers=transfers,\n",
    "    gas_limit=50000000\n",
    ")\n",
    "\n",
    "tx = builder.build()\n",
    "print(\"Transaction:\", tx.to_dictionary())\n",
    "print(\"Transaction data:\", tx.data)"
   ]
  },
  {
   "cell_type": "code",
   "execution_count": null,
   "metadata": {},
   "outputs": [],
   "source": [
    "tx.nonce = user_nonce_holder.get_nonce_then_increment()\n",
    "tx.signature = user_signer.sign(tx)\n",
    "proxy.send_transaction(tx)"
   ]
  },
  {
   "attachments": {},
   "cell_type": "markdown",
   "metadata": {},
   "source": [
    "Unwrap tokens"
   ]
  },
  {
   "cell_type": "code",
   "execution_count": null,
   "metadata": {},
   "outputs": [],
   "source": [
    "user = env.USER1\n",
    "user_nonce_holder = AccountNonceHolder(proxy.get_account(user).nonce)\n",
    "\n",
    "transfers = [\n",
    "    TokenPayment.fungible_from_amount(env.WEGLD, 1, 18)\n",
    "]\n",
    "\n",
    "builder = ContractCallBuilder(\n",
    "    config,\n",
    "    contract=env.EGLD_WRAP_SH0_CONTRACT,\n",
    "    function_name=\"unwrapEgld\",\n",
    "    caller=user,\n",
    "    call_arguments=[],\n",
    "    gas_limit=30000000,\n",
    "    esdt_transfers=transfers\n",
    ")\n",
    "\n",
    "tx = builder.build()\n",
    "print(\"Transaction:\", tx.to_dictionary())\n",
    "print(\"Transaction data:\", tx.data)"
   ]
  },
  {
   "cell_type": "code",
   "execution_count": null,
   "metadata": {},
   "outputs": [],
   "source": [
    "tx.nonce = user_nonce_holder.get_nonce_then_increment()\n",
    "tx.signature = user_signer.sign(tx)\n",
    "proxy.send_transaction(tx)"
   ]
  },
  {
   "attachments": {},
   "cell_type": "markdown",
   "metadata": {},
   "source": [
    "Token transfer"
   ]
  },
  {
   "cell_type": "code",
   "execution_count": null,
   "metadata": {},
   "outputs": [],
   "source": [
    "transfer = TokenPayment.fungible_from_amount(env.WEGLD, 2000000, 18)\n",
    "\n",
    "user = env.USER1\n",
    "receiver = env.USER2\n",
    "user_nonce_holder = AccountNonceHolder(proxy.get_account(user).nonce)\n",
    "\n",
    "builder = ESDTNFTTransferBuilder(\n",
    "    config,\n",
    "    destination=receiver,\n",
    "    sender=user,\n",
    "    gas_limit=30000000,\n",
    "    payment=transfer\n",
    ")\n",
    "\n",
    "tx = builder.build()\n",
    "print(\"Transaction:\", tx.to_dictionary())\n",
    "print(\"Transaction data:\", tx.data)"
   ]
  },
  {
   "cell_type": "code",
   "execution_count": null,
   "metadata": {},
   "outputs": [],
   "source": [
    "tx.nonce = user_nonce_holder.get_nonce_then_increment()\n",
    "tx.signature = user_signer.sign(tx)\n",
    "proxy.send_transaction(tx)"
   ]
  }
 ],
 "metadata": {
  "kernelspec": {
   "display_name": ".venv",
   "language": "python",
   "name": "python3"
  },
  "language_info": {
   "codemirror_mode": {
    "name": "ipython",
    "version": 3
   },
   "file_extension": ".py",
   "mimetype": "text/x-python",
   "name": "python",
   "nbconvert_exporter": "python",
   "pygments_lexer": "ipython3",
   "version": "3.8.10"
  },
  "orig_nbformat": 4,
  "vscode": {
   "interpreter": {
    "hash": "46890cb94c8e016cd17355f2b23107d7cb41a4430d538522c76446f308933f39"
   }
  }
 },
 "nbformat": 4,
 "nbformat_minor": 2
}
