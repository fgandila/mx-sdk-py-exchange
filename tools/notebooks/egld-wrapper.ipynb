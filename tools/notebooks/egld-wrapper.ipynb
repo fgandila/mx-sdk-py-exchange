{
 "cells": [
  {
   "cell_type": "markdown",
   "metadata": {},
   "source": [
    "Setup"
   ]
  },
  {
   "cell_type": "code",
   "execution_count": 3,
   "metadata": {},
   "outputs": [],
   "source": [
    "import sys\n",
    "from pathlib import Path\n",
    "sys.path.append(str(Path.cwd().parent.parent.absolute()))\n",
    "import config"
   ]
  },
  {
   "cell_type": "code",
   "execution_count": 4,
   "metadata": {},
   "outputs": [
    {
     "name": "stderr",
     "output_type": "stream",
     "text": [
      "\u001b[93m2023-12-04 14:13:52,168 - WARNING - Structure definition for stakings_boosted not found in /home/ovi/projects/dex/mx-sdk-py-exchange/deploy/configs-testnet/deploy_structure.json\u001b[0m\n",
      "\u001b[93m2023-12-04 14:13:52,171 - WARNING - Structure definition for metastakings_boosted not found in /home/ovi/projects/dex/mx-sdk-py-exchange/deploy/configs-testnet/deploy_structure.json\u001b[0m\n",
      "\u001b[93m2023-12-04 14:13:52,173 - WARNING - Structure definition for position_creator not found in /home/ovi/projects/dex/mx-sdk-py-exchange/deploy/configs-testnet/deploy_structure.json\u001b[0m\n"
     ]
    },
    {
     "name": "stdout",
     "output_type": "stream",
     "text": [
      "loaded 10 accounts from 1 PEM files.\n"
     ]
    },
    {
     "name": "stderr",
     "output_type": "stream",
     "text": [
      "\u001b[38;20m2023-12-04 14:13:55,716 - DEBUG - Account.sync_nonce() done: 8\u001b[0m\n",
      "\u001b[38;20m2023-12-04 14:13:56,783 - DEBUG - Account.sync_nonce() done: 8\u001b[0m\n",
      "\u001b[92m2023-12-04 14:13:56,784 - INFO - Loaded 5 tokens.\u001b[0m\n",
      "\u001b[38;20m2023-12-04 14:13:58,269 - DEBUG - Account.sync_nonce() done: 8\u001b[0m\n",
      "\u001b[92m2023-12-04 14:13:58,270 - INFO - Loaded 1 egld_wraps.\u001b[0m\n",
      "\u001b[92m2023-12-04 14:13:58,272 - INFO - Loaded 1 locked_assets.\u001b[0m\n",
      "\u001b[92m2023-12-04 14:13:58,273 - INFO - Loaded 1 proxies.\u001b[0m\n",
      "\u001b[92m2023-12-04 14:13:58,274 - INFO - Loaded 1 simple_locks.\u001b[0m\n",
      "\u001b[92m2023-12-04 14:13:58,275 - INFO - Loaded 1 simple_locks_energy.\u001b[0m\n",
      "\u001b[92m2023-12-04 14:13:58,276 - INFO - Loaded 1 fees_collectors.\u001b[0m\n",
      "\u001b[92m2023-12-04 14:13:58,278 - INFO - Loaded 1 unstakers.\u001b[0m\n",
      "\u001b[92m2023-12-04 14:13:58,279 - INFO - Loaded 1 proxies_v2.\u001b[0m\n",
      "\u001b[92m2023-12-04 14:13:58,279 - INFO - Loaded 0 router.\u001b[0m\n",
      "\u001b[92m2023-12-04 14:13:58,280 - INFO - Loaded 1 router_v2.\u001b[0m\n",
      "\u001b[92m2023-12-04 14:13:58,281 - INFO - Loaded 0 pairs.\u001b[0m\n",
      "\u001b[92m2023-12-04 14:13:58,283 - INFO - Loaded 4 pairs_v2.\u001b[0m\n",
      "\u001b[92m2023-12-04 14:13:58,284 - INFO - Loaded 1 pairs_view.\u001b[0m\n",
      "\u001b[92m2023-12-04 14:13:58,285 - INFO - Loaded 0 farms_community.\u001b[0m\n",
      "\u001b[92m2023-12-04 14:13:58,286 - INFO - Loaded 0 farms_unlocked.\u001b[0m\n",
      "\u001b[92m2023-12-04 14:13:58,286 - INFO - Loaded 0 farms_locked.\u001b[0m\n",
      "\u001b[92m2023-12-04 14:13:58,287 - INFO - Loaded 0 proxy_deployers.\u001b[0m\n",
      "\u001b[92m2023-12-04 14:13:58,288 - INFO - Loaded 4 farms_boosted.\u001b[0m\n",
      "\u001b[92m2023-12-04 14:13:58,289 - INFO - Loaded 0 price_discoveries.\u001b[0m\n",
      "\u001b[92m2023-12-04 14:13:58,289 - INFO - Loaded 0 stakings.\u001b[0m\n",
      "\u001b[92m2023-12-04 14:13:58,291 - INFO - Loaded 2 stakings_v2.\u001b[0m\n",
      "\u001b[92m2023-12-04 14:13:58,292 - INFO - Loaded 0 stakings_boosted.\u001b[0m\n",
      "\u001b[92m2023-12-04 14:13:58,293 - INFO - Loaded 0 metastakings.\u001b[0m\n",
      "\u001b[92m2023-12-04 14:13:58,294 - INFO - Loaded 1 metastakings_v2.\u001b[0m\n",
      "\u001b[92m2023-12-04 14:13:58,295 - INFO - Loaded 0 metastakings_boosted.\u001b[0m\n",
      "\u001b[92m2023-12-04 14:13:58,296 - INFO - Loaded 0 position_creator.\u001b[0m\n",
      "\u001b[38;20m2023-12-04 14:13:59,395 - DEBUG - Account.sync_nonce() done: 8\u001b[0m\n",
      "\u001b[92m2023-12-04 14:13:59,396 - INFO - Deployed contracts below:\u001b[0m\n",
      "\u001b[92m2023-12-04 14:13:59,397 - INFO - egld_wraps:\u001b[0m\n",
      "\u001b[92m2023-12-04 14:13:59,399 - INFO - Deployed egld wrapper contract: erd1qqqqqqqqqqqqqpgqhpmz3gh6jnwuyw4qxnksfh74tv8kdf6gexksrputsf\u001b[0m\n",
      "\u001b[92m2023-12-04 14:13:59,400 - INFO - locked_assets:\u001b[0m\n",
      "\u001b[92m2023-12-04 14:13:59,401 - INFO - Deployed locked asset contract: erd1qqqqqqqqqqqqqpgq68yyplpvzs40urda5y7ce8xgn6kj3sarexkslzm02u\u001b[0m\n",
      "\u001b[92m2023-12-04 14:13:59,401 - INFO -  ├ Unlocked token: MEX-708726\u001b[0m\n",
      "\u001b[92m2023-12-04 14:13:59,402 - INFO -  ├ Locked token: LKMEX-828c89\u001b[0m\n",
      "\u001b[92m2023-12-04 14:13:59,402 - INFO - proxies:\u001b[0m\n",
      "\u001b[92m2023-12-04 14:13:59,403 - INFO - Deployed proxy contract: erd1qqqqqqqqqqqqqpgqyxu6kgfxmw22zx5atyal4vtpwkc62v86exkshygpfx\u001b[0m\n",
      "\u001b[92m2023-12-04 14:13:59,403 - INFO -  ├ Token: MEX-708726\u001b[0m\n",
      "\u001b[92m2023-12-04 14:13:59,404 - INFO -  ├ Locked tokens: ['LKMEX-828c89']\u001b[0m\n",
      "\u001b[92m2023-12-04 14:13:59,405 - INFO -  ├ Proxy LP token: LKLP-035d67\u001b[0m\n",
      "\u001b[92m2023-12-04 14:13:59,406 - INFO -  ├ Proxy Farm token: LKFARM-72faa3\u001b[0m\n",
      "\u001b[92m2023-12-04 14:13:59,406 - INFO - simple_locks:\u001b[0m\n",
      "\u001b[92m2023-12-04 14:13:59,407 - INFO - Deployed simple lock contract: erd1qqqqqqqqqqqqqpgq5fszwql529edaggetu7vkauc07dzed9zexksqdewxw\u001b[0m\n",
      "\u001b[92m2023-12-04 14:13:59,409 - INFO -  ├ Locked token: LKTK-c7a296\u001b[0m\n",
      "\u001b[92m2023-12-04 14:13:59,409 - INFO -  ├ Locked LP token: LKFTK-37335f\u001b[0m\n",
      "\u001b[92m2023-12-04 14:13:59,411 - INFO - simple_locks_energy:\u001b[0m\n",
      "\u001b[92m2023-12-04 14:13:59,412 - INFO - Deployed simple lock energy contract: erd1qqqqqqqqqqqqqpgqgcd4wquv46u5u9gvvz4x3avuwmjqwfstexksk37nf4\u001b[0m\n",
      "\u001b[92m2023-12-04 14:13:59,413 - INFO -  ├ Base token: MEX-708726\u001b[0m\n",
      "\u001b[92m2023-12-04 14:13:59,413 - INFO -  ├ Locked token: XMEX-e42221\u001b[0m\n",
      "\u001b[92m2023-12-04 14:13:59,414 - INFO -  ├ Locked LP token: \u001b[0m\n",
      "\u001b[92m2023-12-04 14:13:59,415 - INFO -  ├ Locked Farm token: \u001b[0m\n",
      "\u001b[92m2023-12-04 14:13:59,416 - INFO - fees_collectors:\u001b[0m\n",
      "\u001b[92m2023-12-04 14:13:59,417 - INFO - Deployed fees collector contract: erd1qqqqqqqqqqqqqpgqt5mtw8hjy5n8vkap5ea3nmd4qd9rwyzvexksw07tns\u001b[0m\n",
      "\u001b[92m2023-12-04 14:13:59,418 - INFO - unstakers:\u001b[0m\n",
      "\u001b[92m2023-12-04 14:13:59,418 - INFO - Deployed token unstake contract: erd1qqqqqqqqqqqqqpgqyxus98ytge6yt2ptesjxa5dzjfuz60dgexks3zee0k\u001b[0m\n",
      "\u001b[92m2023-12-04 14:13:59,420 - INFO - proxies_v2:\u001b[0m\n",
      "\u001b[92m2023-12-04 14:13:59,421 - INFO - Deployed proxy contract: erd1qqqqqqqqqqqqqpgqkh74aapaz5cahf4rf8fzyxvqkh6ca86yexksjtmmnm\u001b[0m\n",
      "\u001b[92m2023-12-04 14:13:59,421 - INFO -  ├ Token: MEX-708726\u001b[0m\n",
      "\u001b[92m2023-12-04 14:13:59,422 - INFO -  ├ Locked tokens: ['LKMEX-828c89', 'XMEX-e42221']\u001b[0m\n",
      "\u001b[92m2023-12-04 14:13:59,423 - INFO -  ├ Proxy LP token: XMEXLP-c175bb\u001b[0m\n",
      "\u001b[92m2023-12-04 14:13:59,423 - INFO -  ├ Proxy Farm token: XMEXFARM-2caeda\u001b[0m\n",
      "\u001b[92m2023-12-04 14:13:59,424 - INFO - router:\u001b[0m\n",
      "\u001b[92m2023-12-04 14:13:59,425 - INFO - router_v2:\u001b[0m\n",
      "\u001b[92m2023-12-04 14:13:59,426 - INFO - Deployed router contract: erd1qqqqqqqqqqqqqpgqfd2apcqxxmvngsnhmq4xfq22pfnq7gctexksm0gudw\u001b[0m\n",
      "\u001b[92m2023-12-04 14:13:59,426 - INFO - pairs:\u001b[0m\n",
      "\u001b[92m2023-12-04 14:13:59,427 - INFO - pairs_v2:\u001b[0m\n",
      "\u001b[92m2023-12-04 14:13:59,427 - INFO - Deployed pair contract: erd1qqqqqqqqqqqqqpgqzjstzefzeastekqpxz6ysh3d0k9eap9aexkscvsdqn\u001b[0m\n",
      "\u001b[92m2023-12-04 14:13:59,428 - INFO -  ├ First token: WEGLD-dd8471\u001b[0m\n",
      "\u001b[92m2023-12-04 14:13:59,429 - INFO -  ├ Second token: MEX-708726\u001b[0m\n",
      "\u001b[92m2023-12-04 14:13:59,429 - INFO -  ├ LP token: EGLDMEX-f63683\u001b[0m\n",
      "\u001b[92m2023-12-04 14:13:59,430 - INFO - Deployed pair contract: erd1qqqqqqqqqqqqqpgqfsfcrxnlym0fjlnuvus2dmlz6ju9cpsfexks8wq4d4\u001b[0m\n",
      "\u001b[92m2023-12-04 14:13:59,430 - INFO -  ├ First token: WEGLD-dd8471\u001b[0m\n",
      "\u001b[92m2023-12-04 14:13:59,432 - INFO -  ├ Second token: USDC-5bee92\u001b[0m\n",
      "\u001b[92m2023-12-04 14:13:59,432 - INFO -  ├ LP token: EGLDUSDC-ea9998\u001b[0m\n",
      "\u001b[92m2023-12-04 14:13:59,433 - INFO - Deployed pair contract: erd1qqqqqqqqqqqqqpgqzt7clww7329ajkq07x295h7hvl2hgnsaexks5m7sen\u001b[0m\n",
      "\u001b[92m2023-12-04 14:13:59,434 - INFO -  ├ First token: WEGLD-dd8471\u001b[0m\n",
      "\u001b[92m2023-12-04 14:13:59,435 - INFO -  ├ Second token: RIDE-d3a377\u001b[0m\n",
      "\u001b[92m2023-12-04 14:13:59,435 - INFO -  ├ LP token: EGLDRIDE-42736d\u001b[0m\n",
      "\u001b[92m2023-12-04 14:13:59,436 - INFO - Deployed pair contract: erd1qqqqqqqqqqqqqpgqluxegqj5fymplf8vj3qen6ryh03dukhxexks43z5kc\u001b[0m\n",
      "\u001b[92m2023-12-04 14:13:59,436 - INFO -  ├ First token: UTK-f4e83f\u001b[0m\n",
      "\u001b[92m2023-12-04 14:13:59,437 - INFO -  ├ Second token: WEGLD-dd8471\u001b[0m\n",
      "\u001b[92m2023-12-04 14:13:59,438 - INFO -  ├ LP token: UTKWEGLD-dd657e\u001b[0m\n",
      "\u001b[92m2023-12-04 14:13:59,438 - INFO - pairs_view:\u001b[0m\n",
      "\u001b[92m2023-12-04 14:13:59,439 - INFO - Deployed pair contract: erd1qqqqqqqqqqqqqpgqmdfdr9xp5glax4fcyxcf6j3wthufdrtrexkscfgj4p\u001b[0m\n",
      "\u001b[92m2023-12-04 14:13:59,439 - INFO -  ├ First token: \u001b[0m\n",
      "\u001b[92m2023-12-04 14:13:59,440 - INFO -  ├ Second token: \u001b[0m\n",
      "\u001b[92m2023-12-04 14:13:59,440 - INFO -  ├ LP token: \u001b[0m\n",
      "\u001b[92m2023-12-04 14:13:59,441 - INFO - farms_community:\u001b[0m\n",
      "\u001b[92m2023-12-04 14:13:59,442 - INFO - farms_unlocked:\u001b[0m\n",
      "\u001b[92m2023-12-04 14:13:59,442 - INFO - farms_locked:\u001b[0m\n",
      "\u001b[92m2023-12-04 14:13:59,443 - INFO - proxy_deployers:\u001b[0m\n",
      "\u001b[92m2023-12-04 14:13:59,444 - INFO - farms_boosted:\u001b[0m\n",
      "\u001b[92m2023-12-04 14:13:59,444 - INFO - Deployed farm contract: erd1qqqqqqqqqqqqqpgqk232ukl7944vmjq44krjns0yturh6ms9exksgmr2sc\u001b[0m\n",
      "\u001b[92m2023-12-04 14:13:59,445 - INFO -  ├ Farming token: EGLDMEX-f63683\u001b[0m\n",
      "\u001b[92m2023-12-04 14:13:59,446 - INFO -  ├ Farmed token: MEX-708726\u001b[0m\n",
      "\u001b[92m2023-12-04 14:13:59,446 - INFO -  ├ Farm token: EGLDMEXFL-6a8961\u001b[0m\n",
      "\u001b[92m2023-12-04 14:13:59,447 - INFO - Deployed farm contract: erd1qqqqqqqqqqqqqpgq3qw8j5kd6295y8ud4kwc7k3qyhdcvu6fexksas5lm6\u001b[0m\n",
      "\u001b[92m2023-12-04 14:13:59,447 - INFO -  ├ Farming token: EGLDUSDC-ea9998\u001b[0m\n",
      "\u001b[92m2023-12-04 14:13:59,448 - INFO -  ├ Farmed token: MEX-708726\u001b[0m\n",
      "\u001b[92m2023-12-04 14:13:59,448 - INFO -  ├ Farm token: EGLDUSDCFL-07eaa8\u001b[0m\n",
      "\u001b[92m2023-12-04 14:13:59,449 - INFO - Deployed farm contract: erd1qqqqqqqqqqqqqpgqzqlavpqgwkrnslzrl05aqms2au2327asexksc4u3qg\u001b[0m\n",
      "\u001b[92m2023-12-04 14:13:59,449 - INFO -  ├ Farming token: EGLDRIDE-42736d\u001b[0m\n",
      "\u001b[92m2023-12-04 14:13:59,450 - INFO -  ├ Farmed token: MEX-708726\u001b[0m\n",
      "\u001b[92m2023-12-04 14:13:59,450 - INFO -  ├ Farm token: EGLDRIDEFL-8f0a0a\u001b[0m\n",
      "\u001b[92m2023-12-04 14:13:59,452 - INFO - Deployed farm contract: erd1qqqqqqqqqqqqqpgqv2w0j3wveyv09mclcnnulcn0d5vwuhe8exksu2n3rz\u001b[0m\n",
      "\u001b[92m2023-12-04 14:13:59,453 - INFO -  ├ Farming token: UTKWEGLD-dd657e\u001b[0m\n",
      "\u001b[92m2023-12-04 14:13:59,454 - INFO -  ├ Farmed token: MEX-708726\u001b[0m\n",
      "\u001b[92m2023-12-04 14:13:59,454 - INFO -  ├ Farm token: UTKWEGLDFL-258770\u001b[0m\n",
      "\u001b[92m2023-12-04 14:13:59,455 - INFO - price_discoveries:\u001b[0m\n",
      "\u001b[92m2023-12-04 14:13:59,455 - INFO - stakings:\u001b[0m\n",
      "\u001b[92m2023-12-04 14:13:59,456 - INFO - stakings_v2:\u001b[0m\n",
      "\u001b[92m2023-12-04 14:13:59,457 - INFO - Deployed staking contract: erd1qqqqqqqqqqqqqpgqsaryrfe84lqez2nvlv837krxnmp7zzgtexksjnynn3\u001b[0m\n",
      "\u001b[92m2023-12-04 14:13:59,458 - INFO -  ├ Staking token: RIDE-d3a377\u001b[0m\n",
      "\u001b[92m2023-12-04 14:13:59,458 - INFO -  ├ Stake token: SRIDE-81c226\u001b[0m\n",
      "\u001b[92m2023-12-04 14:13:59,459 - INFO - Deployed staking contract: erd1qqqqqqqqqqqqqpgqjmlxhn5njuw6g4vd6zdnhce74vxvejnaexks4wv4x6\u001b[0m\n",
      "\u001b[92m2023-12-04 14:13:59,460 - INFO -  ├ Staking token: UTK-f4e83f\u001b[0m\n",
      "\u001b[92m2023-12-04 14:13:59,461 - INFO -  ├ Stake token: SUTK-591932\u001b[0m\n",
      "\u001b[92m2023-12-04 14:13:59,461 - INFO - stakings_boosted:\u001b[0m\n",
      "\u001b[92m2023-12-04 14:13:59,462 - INFO - metastakings:\u001b[0m\n",
      "\u001b[92m2023-12-04 14:13:59,462 - INFO - metastakings_v2:\u001b[0m\n",
      "\u001b[92m2023-12-04 14:13:59,463 - INFO - Deployed metastaking contract: erd1qqqqqqqqqqqqqpgqhtuarsv8v2g6wn5z85e3r7nntr3990frexksj4devm\u001b[0m\n",
      "\u001b[92m2023-12-04 14:13:59,464 - INFO -  ├ Staking token: RIDE-d3a377\u001b[0m\n",
      "\u001b[92m2023-12-04 14:13:59,465 - INFO -  ├ Metastake token: METARIDELK-c172cb\u001b[0m\n",
      "\u001b[92m2023-12-04 14:13:59,465 - INFO -  ├ Stake address: erd1qqqqqqqqqqqqqpgqsaryrfe84lqez2nvlv837krxnmp7zzgtexksjnynn3\u001b[0m\n",
      "\u001b[92m2023-12-04 14:13:59,466 - INFO -  ├ Farm address: erd1qqqqqqqqqqqqqpgqzqlavpqgwkrnslzrl05aqms2au2327asexksc4u3qg\u001b[0m\n",
      "\u001b[92m2023-12-04 14:13:59,467 - INFO -  ├ LP address: erd1qqqqqqqqqqqqqpgqzt7clww7329ajkq07x295h7hvl2hgnsaexks5m7sen\u001b[0m\n",
      "\u001b[92m2023-12-04 14:13:59,468 - INFO - metastakings_boosted:\u001b[0m\n",
      "\u001b[92m2023-12-04 14:13:59,469 - INFO - position_creator:\u001b[0m\n"
     ]
    },
    {
     "name": "stdout",
     "output_type": "stream",
     "text": [
      "\n",
      "\n",
      "\n",
      "\n",
      "\n",
      "\n",
      "\n",
      "\n",
      "\n",
      "\n",
      "\n",
      "\n",
      "\n",
      "\n",
      "\n",
      "\n",
      "\n",
      "\n",
      "\n",
      "\n",
      "\n",
      "\n",
      "\n",
      "\n",
      "\n",
      "\n"
     ]
    }
   ],
   "source": [
    "from context import Context\n",
    "\n",
    "context = Context()"
   ]
  },
  {
   "cell_type": "code",
   "execution_count": 5,
   "metadata": {},
   "outputs": [
    {
     "name": "stderr",
     "output_type": "stream",
     "text": [
      "\u001b[38;20m2023-12-04 14:14:00,211 - DEBUG - Account.sync_nonce() done: 3\u001b[0m\n",
      "\u001b[92m2023-12-04 14:14:00,212 - INFO - deploy EgldWrapContract contract\u001b[0m\n",
      "\u001b[38;20m2023-12-04 14:14:00,213 - DEBUG - Deploy EgldWrapContract\u001b[0m\n",
      "\u001b[38;20m2023-12-04 14:14:00,922 - DEBUG - Deploy arguments: ['WEGLD-dd8471']\u001b[0m\n",
      "\u001b[92m2023-12-04 14:14:01,851 - INFO - View this transaction in the MultiversX Testnet Explorer: https://testnet-explorer.multiversx.com/transactions/e0697ad40dcec159af117b0bac6e5196414cc4b8196625402f2938e2ca621d04\u001b[0m\n"
     ]
    },
    {
     "ename": "KeyboardInterrupt",
     "evalue": "",
     "output_type": "error",
     "traceback": [
      "\u001b[0;31m---------------------------------------------------------------------------\u001b[0m",
      "\u001b[0;31mKeyboardInterrupt\u001b[0m                         Traceback (most recent call last)",
      "\u001b[1;32m/home/ovi/projects/dex/mx-sdk-py-exchange/tools/notebooks/egld-wrapper.ipynb Cell 4\u001b[0m line \u001b[0;36m8\n\u001b[1;32m      <a href='vscode-notebook-cell:/home/ovi/projects/dex/mx-sdk-py-exchange/tools/notebooks/egld-wrapper.ipynb#X30sZmlsZQ%3D%3D?line=5'>6</a>\u001b[0m owner \u001b[39m=\u001b[39m Account(pem_file\u001b[39m=\u001b[39m\u001b[39m'\u001b[39m\u001b[39m~/Documents/sh2.pem\u001b[39m\u001b[39m'\u001b[39m)\n\u001b[1;32m      <a href='vscode-notebook-cell:/home/ovi/projects/dex/mx-sdk-py-exchange/tools/notebooks/egld-wrapper.ipynb#X30sZmlsZQ%3D%3D?line=6'>7</a>\u001b[0m owner\u001b[39m.\u001b[39msync_nonce(context\u001b[39m.\u001b[39mnetwork_provider\u001b[39m.\u001b[39mproxy)\n\u001b[0;32m----> <a href='vscode-notebook-cell:/home/ovi/projects/dex/mx-sdk-py-exchange/tools/notebooks/egld-wrapper.ipynb#X30sZmlsZQ%3D%3D?line=7'>8</a>\u001b[0m \u001b[39mhash\u001b[39m, address \u001b[39m=\u001b[39m contract\u001b[39m.\u001b[39;49mcontract_deploy(owner, context\u001b[39m.\u001b[39;49mnetwork_provider\u001b[39m.\u001b[39;49mproxy, config\u001b[39m.\u001b[39;49mEGLD_WRAP_BYTECODE_PATH)\n",
      "File \u001b[0;32m~/projects/dex/mx-sdk-py-exchange/contracts/egld_wrap_contract.py:42\u001b[0m, in \u001b[0;36mEgldWrapContract.contract_deploy\u001b[0;34m(self, deployer, proxy, bytecode_path, args)\u001b[0m\n\u001b[1;32m     37\u001b[0m gas_limit \u001b[39m=\u001b[39m \u001b[39m200000000\u001b[39m\n\u001b[1;32m     39\u001b[0m arguments \u001b[39m=\u001b[39m [\n\u001b[1;32m     40\u001b[0m     \u001b[39mself\u001b[39m\u001b[39m.\u001b[39mwrapped_token\n\u001b[1;32m     41\u001b[0m ]\n\u001b[0;32m---> 42\u001b[0m tx_hash, address \u001b[39m=\u001b[39m deploy(\u001b[39mtype\u001b[39;49m(\u001b[39mself\u001b[39;49m)\u001b[39m.\u001b[39;49m\u001b[39m__name__\u001b[39;49m, proxy, gas_limit, deployer, bytecode_path, metadata, arguments)\n\u001b[1;32m     44\u001b[0m \u001b[39mreturn\u001b[39;00m tx_hash, address\n",
      "File \u001b[0;32m~/projects/dex/mx-sdk-py-exchange/utils/utils_tx.py:478\u001b[0m, in \u001b[0;36mdeploy\u001b[0;34m(contract_label, proxy, gas, owner, bytecode_path, metadata, args)\u001b[0m\n\u001b[1;32m    475\u001b[0m tx_hash \u001b[39m=\u001b[39m send_deploy_tx(tx, proxy)\n\u001b[1;32m    477\u001b[0m \u001b[39mif\u001b[39;00m tx_hash:\n\u001b[0;32m--> 478\u001b[0m     contract_address \u001b[39m=\u001b[39m get_deployed_address_from_tx(tx_hash, proxy)\n\u001b[1;32m    479\u001b[0m     owner\u001b[39m.\u001b[39mnonce \u001b[39m+\u001b[39m\u001b[39m=\u001b[39m \u001b[39m1\u001b[39m\n\u001b[1;32m    481\u001b[0m \u001b[39mreturn\u001b[39;00m tx_hash, contract_address\n",
      "File \u001b[0;32m~/projects/dex/mx-sdk-py-exchange/utils/utils_tx.py:540\u001b[0m, in \u001b[0;36mget_deployed_address_from_tx\u001b[0;34m(tx_hash, proxy)\u001b[0m\n\u001b[1;32m    539\u001b[0m \u001b[39mdef\u001b[39;00m \u001b[39mget_deployed_address_from_tx\u001b[39m(tx_hash: \u001b[39mstr\u001b[39m, proxy: ProxyNetworkProvider) \u001b[39m-\u001b[39m\u001b[39m>\u001b[39m \u001b[39mstr\u001b[39m:\n\u001b[0;32m--> 540\u001b[0m     event \u001b[39m=\u001b[39m get_event_from_tx(\u001b[39m\"\u001b[39;49m\u001b[39mSCDeploy\u001b[39;49m\u001b[39m\"\u001b[39;49m, tx_hash, proxy)\n\u001b[1;32m    541\u001b[0m     \u001b[39mif\u001b[39;00m event \u001b[39mis\u001b[39;00m \u001b[39mNone\u001b[39;00m:\n\u001b[1;32m    542\u001b[0m         \u001b[39mreturn\u001b[39;00m \u001b[39m\"\u001b[39m\u001b[39m\"\u001b[39m\n",
      "File \u001b[0;32m~/projects/dex/mx-sdk-py-exchange/utils/utils_tx.py:508\u001b[0m, in \u001b[0;36mget_event_from_tx\u001b[0;34m(event_id, tx_hash, proxy)\u001b[0m\n\u001b[1;32m    506\u001b[0m \u001b[39mdef\u001b[39;00m \u001b[39mget_event_from_tx\u001b[39m(event_id: \u001b[39mstr\u001b[39m, tx_hash: \u001b[39mstr\u001b[39m, proxy: ProxyNetworkProvider) \u001b[39m-\u001b[39m\u001b[39m>\u001b[39m Union[TransactionEvent, \u001b[39mNone\u001b[39;00m]:\n\u001b[1;32m    507\u001b[0m     \u001b[39mtry\u001b[39;00m:\n\u001b[0;32m--> 508\u001b[0m         time\u001b[39m.\u001b[39;49msleep(API_TX_DELAY)\n\u001b[1;32m    509\u001b[0m         \u001b[39mwhile\u001b[39;00m \u001b[39mnot\u001b[39;00m proxy\u001b[39m.\u001b[39mget_transaction_status(tx_hash)\u001b[39m.\u001b[39mis_executed():\n\u001b[1;32m    510\u001b[0m             time\u001b[39m.\u001b[39msleep(\u001b[39m6\u001b[39m)\n",
      "\u001b[0;31mKeyboardInterrupt\u001b[0m: "
     ]
    }
   ],
   "source": [
    "from contracts.egld_wrap_contract import EgldWrapContract\n",
    "from utils.utils_chain import Account\n",
    "\n",
    "token = 'WEGLD-dd8471'\n",
    "contract = EgldWrapContract(token)\n",
    "owner = Account(pem_file='~/Documents/sh2.pem')\n",
    "owner.sync_nonce(context.network_provider.proxy)\n",
    "hash, address = contract.contract_deploy(owner, context.network_provider.proxy, config.EGLD_WRAP_BYTECODE_PATH)"
   ]
  },
  {
   "cell_type": "code",
   "execution_count": null,
   "metadata": {},
   "outputs": [],
   "source": [
    "from contracts.builtin_contracts import ESDTContract\n",
    "\n",
    "esdt_contract = ESDTContract(config.TOKENS_CONTRACT_ADDRESS)\n",
    "context.deployer_account.sync_nonce(context.network_provider.proxy)\n",
    "tx_hash = esdt_contract.set_special_role_token(context.deployer_account, context.network_provider.proxy,\n",
    "                                               [token, address, \"ESDTRoleLocalMint\", \"ESDTRoleLocalBurn\"])\n"
   ]
  },
  {
   "cell_type": "code",
   "execution_count": null,
   "metadata": {},
   "outputs": [],
   "source": [
    "contract.address = address\n",
    "contract.resume(owner, context.network_provider.proxy)"
   ]
  },
  {
   "cell_type": "code",
   "execution_count": null,
   "metadata": {},
   "outputs": [],
   "source": [
    "from utils.utils_tx import endpoint_call\n",
    "from utils.utils_chain import WrapperAddress\n",
    "\n",
    "endpoint_call(context.network_provider.proxy, 50000000, owner, WrapperAddress(contract.address), \"ChangeOwnerAddress\", [context.deployer_account.address.bech32()])"
   ]
  },
  {
   "attachments": {},
   "cell_type": "markdown",
   "metadata": {},
   "source": [
    "Token transfer"
   ]
  }
 ],
 "metadata": {
  "kernelspec": {
   "display_name": ".venv",
   "language": "python",
   "name": "python3"
  },
  "language_info": {
   "codemirror_mode": {
    "name": "ipython",
    "version": 3
   },
   "file_extension": ".py",
   "mimetype": "text/x-python",
   "name": "python",
   "nbconvert_exporter": "python",
   "pygments_lexer": "ipython3",
   "version": "3.11.6"
  },
  "orig_nbformat": 4,
  "vscode": {
   "interpreter": {
    "hash": "46890cb94c8e016cd17355f2b23107d7cb41a4430d538522c76446f308933f39"
   }
  }
 },
 "nbformat": 4,
 "nbformat_minor": 2
}
