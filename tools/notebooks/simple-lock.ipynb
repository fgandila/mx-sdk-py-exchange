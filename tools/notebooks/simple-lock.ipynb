{
 "cells": [
  {
   "cell_type": "code",
   "execution_count": null,
   "metadata": {},
   "outputs": [],
   "source": [
    "import sys\n",
    "from pathlib import Path\n",
    "sys.path.append(str(Path.cwd().parent.parent.absolute()))"
   ]
  },
  {
   "cell_type": "code",
   "execution_count": null,
   "metadata": {},
   "outputs": [],
   "source": [
    "from multiversx_sdk_core import Address, CodeMetadata\n",
    "from multiversx_sdk_core.transaction_builders import ContractCallBuilder, ContractDeploymentBuilder\n",
    "from multiversx_sdk_core.transaction_builders import DefaultTransactionBuildersConfiguration\n",
    "from multiversx_sdk_core import TokenPayment\n",
    "from multiversx_sdk_network_providers import ProxyNetworkProvider\n",
    "from tools.notebooks import env\n",
    "\n",
    "config = DefaultTransactionBuildersConfiguration(chain_id=env.CHAIN_ID)\n",
    "proxy = ProxyNetworkProvider(env.PROXY_URL)"
   ]
  },
  {
   "cell_type": "code",
   "execution_count": null,
   "metadata": {},
   "outputs": [],
   "source": [
    "contract_address = Address.from_bech32(\"erd1qqqqqqqqqqqqqpgql02f70kt3g2du0sdhuhkxmldq0spdg8g2jpsapy4x0\")\n",
    "energy_contract = env.ENERGY_CONTRACT"
   ]
  },
  {
   "cell_type": "code",
   "execution_count": null,
   "metadata": {},
   "outputs": [],
   "source": [
    "from multiversx_sdk_core import AccountNonceHolder\n",
    "from multiversx_sdk_wallet import UserSigner\n",
    "from pathlib import Path\n",
    "\n",
    "user = env.USER1\n",
    "owner = env.OWNER\n",
    "user_nonce_holder = AccountNonceHolder(proxy.get_account(user).nonce)\n",
    "user_signer = UserSigner.from_pem_file(Path(env.USER1_PEM))"
   ]
  },
  {
   "attachments": {},
   "cell_type": "markdown",
   "metadata": {},
   "source": [
    "lock tokens"
   ]
  },
  {
   "cell_type": "code",
   "execution_count": null,
   "metadata": {},
   "outputs": [],
   "source": [
    "transfers = [\n",
    "    TokenPayment.fungible_from_amount(\"USDC-c76f1f\", \"100\", 6)\n",
    "]\n",
    "\n",
    "builder = ContractCallBuilder(\n",
    "    config,\n",
    "    contract=contract_address,\n",
    "    function_name=\"lockTokens\",\n",
    "    caller=user,\n",
    "    call_arguments=[938],\n",
    "    gas_limit=20000000,\n",
    "    esdt_transfers=transfers\n",
    ")\n",
    "\n",
    "tx = builder.build()\n",
    "print(\"Transaction:\", tx.to_dictionary())\n",
    "print(\"Transaction data:\", tx.data)"
   ]
  },
  {
   "cell_type": "code",
   "execution_count": null,
   "metadata": {},
   "outputs": [],
   "source": [
    "tx.nonce = user_nonce_holder.get_nonce_then_increment()\n",
    "tx.signature = user_signer.sign(tx)\n",
    "proxy.send_transaction(tx)"
   ]
  },
  {
   "attachments": {},
   "cell_type": "markdown",
   "metadata": {},
   "source": [
    "remove liquidity 875dcb1f92e33f55c4afcfe8f7a212ebcff3afa1993f005937fb80259eb96b53"
   ]
  },
  {
   "cell_type": "code",
   "execution_count": null,
   "metadata": {},
   "outputs": [],
   "source": [
    "transfers = [\n",
    "    TokenPayment.meta_esdt_from_integer(\"LKLPTK-6820d3\", 1, 2496658, 18)\n",
    "]\n",
    "\n",
    "builder = ContractCallBuilder(\n",
    "    config,\n",
    "    contract=contract_address,\n",
    "    function_name=\"removeLiquidityLockedToken\",\n",
    "    caller=user,\n",
    "    call_arguments=[1, 1],\n",
    "    gas_limit=20000000,\n",
    "    esdt_transfers=transfers\n",
    ")\n",
    "\n",
    "tx = builder.build()\n",
    "print(\"Transaction:\", tx.to_dictionary())\n",
    "print(\"Transaction data:\", tx.data)"
   ]
  },
  {
   "attachments": {},
   "cell_type": "markdown",
   "metadata": {},
   "source": [
    "add liquidity 07291fc6d2fec193ce7d3cce4e7b102fa3579535a58fecabe424f4c57355e9b1"
   ]
  },
  {
   "cell_type": "code",
   "execution_count": null,
   "metadata": {},
   "outputs": [],
   "source": [
    "user = Address.from_bech32(\"erd1z7lpgmh89qql3me0ye2hleckagjhka00vyulzmvas7lm4jn7a7es3cmcc4\")\n",
    "user_nonce_holder = AccountNonceHolder(proxy.get_account(user).nonce)\n",
    "user_signer = UserSigner.from_pem_file(Path(\"/home/ovidiu/Documents/sh1.pem\"))"
   ]
  },
  {
   "cell_type": "code",
   "execution_count": null,
   "metadata": {},
   "outputs": [],
   "source": [
    "transfers = [\n",
    "    TokenPayment.meta_esdt_from_integer(\"LKTK-6820d3\", 1, 1000000, 18),\n",
    "    TokenPayment.meta_esdt_from_integer(\"WEGLD-bd4d79\", 0, 1000000000000000000, 18)\n",
    "]\n",
    "\n",
    "builder = ContractCallBuilder(\n",
    "    config,\n",
    "    contract=contract_address,\n",
    "    function_name=\"addLiquidityLockedToken\",\n",
    "    caller=user,\n",
    "    call_arguments=[1, 1],\n",
    "    gas_limit=20000000,\n",
    "    esdt_transfers=transfers\n",
    ")\n",
    "\n",
    "tx = builder.build()\n",
    "print(\"Transaction:\", tx.to_dictionary())\n",
    "print(\"Transaction data:\", tx.data)"
   ]
  },
  {
   "cell_type": "code",
   "execution_count": null,
   "metadata": {},
   "outputs": [],
   "source": [
    "tx.nonce = user_nonce_holder.get_nonce_then_increment()\n",
    "tx.signature = user_signer.sign(tx)\n",
    "proxy.send_transaction(tx)"
   ]
  },
  {
   "attachments": {},
   "cell_type": "markdown",
   "metadata": {},
   "source": [
    "exit farm new"
   ]
  },
  {
   "cell_type": "code",
   "execution_count": null,
   "metadata": {},
   "outputs": [],
   "source": [
    "transfers = [\n",
    "    TokenPayment.meta_esdt_from_integer(\"LKFTK-6820d3\", 1, 2496658, 18)\n",
    "]\n",
    "\n",
    "builder = ContractCallBuilder(\n",
    "    config,\n",
    "    contract=contract_address,\n",
    "    function_name=\"exitFarmLockedToken\",\n",
    "    caller=user,\n",
    "    call_arguments=[2496658],\n",
    "    gas_limit=50000000,\n",
    "    esdt_transfers=transfers\n",
    ")\n",
    "\n",
    "tx = builder.build()\n",
    "print(\"Transaction:\", tx.to_dictionary())\n",
    "print(\"Transaction data:\", tx.data)"
   ]
  },
  {
   "cell_type": "code",
   "execution_count": null,
   "metadata": {},
   "outputs": [],
   "source": [
    "tx.nonce = user_nonce_holder.get_nonce_then_increment()\n",
    "tx.signature = user_signer.sign(tx)\n",
    "proxy.send_transaction(tx)"
   ]
  },
  {
   "attachments": {},
   "cell_type": "markdown",
   "metadata": {},
   "source": [
    "exit farm old"
   ]
  },
  {
   "cell_type": "code",
   "execution_count": null,
   "metadata": {},
   "outputs": [],
   "source": [
    "transfers = [\n",
    "    TokenPayment.meta_esdt_from_integer(\"LKFARM-9620e7\", 2372, 1164468768499339269, 18)\n",
    "]\n",
    "\n",
    "builder = ContractCallBuilder(\n",
    "    config,\n",
    "    contract=contract_address,\n",
    "    function_name=\"exitFarmOldToken\",\n",
    "    caller=user,\n",
    "    call_arguments=[],\n",
    "    gas_limit=20000000,\n",
    "    esdt_transfers=transfers\n",
    ")\n",
    "\n",
    "tx = builder.build()\n",
    "print(\"Transaction:\", tx.to_dictionary())\n",
    "print(\"Transaction data:\", tx.data)"
   ]
  },
  {
   "attachments": {},
   "cell_type": "markdown",
   "metadata": {},
   "source": [
    "enter farm"
   ]
  },
  {
   "cell_type": "code",
   "execution_count": null,
   "metadata": {},
   "outputs": [],
   "source": [
    "transfers = [\n",
    "    TokenPayment.meta_esdt_from_integer(\"LKLPTK-6820d3\", 1, 2496658, 18)\n",
    "]\n",
    "\n",
    "builder = ContractCallBuilder(\n",
    "    config,\n",
    "    contract=contract_address,\n",
    "    function_name=\"enterFarmLockedToken\",\n",
    "    caller=user,\n",
    "    call_arguments=[2],\n",
    "    gas_limit=20000000,\n",
    "    esdt_transfers=transfers\n",
    ")\n",
    "\n",
    "tx = builder.build()\n",
    "print(\"Transaction:\", tx.to_dictionary())\n",
    "print(\"Transaction data:\", tx.data)"
   ]
  },
  {
   "cell_type": "code",
   "execution_count": null,
   "metadata": {},
   "outputs": [],
   "source": [
    "tx.nonce = user_nonce_holder.get_nonce_then_increment()\n",
    "tx.signature = user_signer.sign(tx)\n",
    "proxy.send_transaction(tx)"
   ]
  },
  {
   "cell_type": "code",
   "execution_count": null,
   "metadata": {},
   "outputs": [],
   "source": [
    "transfers = [\n",
    "    TokenPayment.meta_esdt_from_integer(\"LKLP-98ca2e\", 1, 400000000000000000, 18),\n",
    "    TokenPayment.meta_esdt_from_integer(\"LKFARM-9620e7\", 12532, 400000000000000000, 18)\n",
    "]\n",
    "\n",
    "builder = ContractCallBuilder(\n",
    "    config,\n",
    "    contract=contract_address,\n",
    "    function_name=\"enterFarmLockedToken\",\n",
    "    caller=user,\n",
    "    call_arguments=[2],\n",
    "    gas_limit=20000000,\n",
    "    esdt_transfers=transfers\n",
    ")\n",
    "\n",
    "tx = builder.build()\n",
    "print(\"Transaction:\", tx.to_dictionary())\n",
    "print(\"Transaction data:\", tx.data)"
   ]
  },
  {
   "attachments": {},
   "cell_type": "markdown",
   "metadata": {},
   "source": [
    "claim rewards farm token"
   ]
  },
  {
   "cell_type": "code",
   "execution_count": null,
   "metadata": {},
   "outputs": [],
   "source": [
    "transfers = [\n",
    "    TokenPayment.meta_esdt_from_integer(\"LKFARM-9620e7\", 12530, 1164468768499339269, 18)\n",
    "]\n",
    "\n",
    "builder = ContractCallBuilder(\n",
    "    config,\n",
    "    contract=contract_address,\n",
    "    function_name=\"farmClaimRewardsLockedToken\",\n",
    "    caller=user,\n",
    "    call_arguments=[],\n",
    "    gas_limit=60000000,\n",
    "    esdt_transfers=transfers\n",
    ")\n",
    "\n",
    "tx = builder.build()\n",
    "print(\"Transaction:\", tx.to_dictionary())\n",
    "print(\"Transaction data:\", tx.data)"
   ]
  },
  {
   "cell_type": "code",
   "execution_count": null,
   "metadata": {},
   "outputs": [],
   "source": [
    "tx.nonce = user_nonce_holder.get_nonce_then_increment()\n",
    "tx.signature = user_signer.sign(tx)\n",
    "proxy.send_transaction(tx)"
   ]
  },
  {
   "attachments": {},
   "cell_type": "markdown",
   "metadata": {},
   "source": [
    "deploy & setup contract"
   ]
  },
  {
   "cell_type": "code",
   "execution_count": null,
   "metadata": {},
   "outputs": [],
   "source": [
    "from pathlib import Path\n",
    "metadata = CodeMetadata(upgradeable=True, readable=True, payable=False, payable_by_contract=True)\n",
    "path = Path.home() / \"projects\" / \"dex\" / \"dex-v2\" / \"dexv2-rs\" / \"simple-lock.wasm\"\n",
    "\n",
    "builder = ContractDeploymentBuilder(\n",
    "    config,\n",
    "    owner=owner,\n",
    "    deploy_arguments=[],\n",
    "    code_metadata=metadata,\n",
    "    code=path.read_bytes(),\n",
    "    gas_limit=150000000\n",
    ")\n",
    "\n",
    "tx = builder.build()\n",
    "print(\"Transaction:\", tx.to_dictionary())\n",
    "print(\"Transaction data:\", tx.data)"
   ]
  },
  {
   "cell_type": "code",
   "execution_count": null,
   "metadata": {},
   "outputs": [],
   "source": [
    "user_nonce_holder = AccountNonceHolder(proxy.get_account(owner).nonce)\n",
    "tx.nonce = user_nonce_holder.get_nonce_then_increment()\n",
    "tx.signature = user_signer.sign(tx)\n",
    "hash = proxy.send_transaction(tx)\n",
    "print(hash)"
   ]
  },
  {
   "cell_type": "code",
   "execution_count": null,
   "metadata": {},
   "outputs": [],
   "source": [
    "tx_data = proxy.get_transaction(hash)\n",
    "if tx_data.status.is_failed():\n",
    "    print(\"Transaction failed\")\n",
    "    exit(1)\n",
    "event = tx_data.logs.find_first_or_none_event(\"SCDeploy\")\n",
    "topic = event.topics[0]\n",
    "contract_address = Address.from_hex(topic.hex(), \"erd\")\n",
    "print(\"Deployed contract:\", contract_address.bech32())"
   ]
  },
  {
   "cell_type": "code",
   "execution_count": null,
   "metadata": {},
   "outputs": [],
   "source": [
    "builder = ContractCallBuilder(\n",
    "    config,\n",
    "    contract=contract_address,\n",
    "    function_name=\"issueLockedToken\",\n",
    "    caller=owner,\n",
    "    call_arguments=[\"LKTK\", \"LKTK\", 18],\n",
    "    gas_limit=100000000,\n",
    "    value=TokenPayment.egld_from_amount(\"0.05\")\n",
    ")\n",
    "\n",
    "tx = builder.build()\n",
    "print(\"Transaction:\", tx.to_dictionary())\n",
    "print(\"Transaction data:\", tx.data)"
   ]
  },
  {
   "cell_type": "code",
   "execution_count": null,
   "metadata": {},
   "outputs": [],
   "source": [
    "tx.nonce = user_nonce_holder.get_nonce_then_increment()\n",
    "tx.signature = user_signer.sign(tx)\n",
    "proxy.send_transaction(tx)"
   ]
  },
  {
   "cell_type": "code",
   "execution_count": null,
   "metadata": {},
   "outputs": [],
   "source": [
    "builder = ContractCallBuilder(\n",
    "    config,\n",
    "    contract=contract_address,\n",
    "    function_name=\"issueLpProxyToken\",\n",
    "    caller=owner,\n",
    "    call_arguments=[\"LKLPTK\", \"LKLPTK\", 18],\n",
    "    gas_limit=100000000,\n",
    "    value=TokenPayment.egld_from_amount(\"0.05\")\n",
    ")\n",
    "\n",
    "tx = builder.build()\n",
    "print(\"Transaction:\", tx.to_dictionary())\n",
    "print(\"Transaction data:\", tx.data)"
   ]
  },
  {
   "cell_type": "code",
   "execution_count": null,
   "metadata": {},
   "outputs": [],
   "source": [
    "tx.nonce = user_nonce_holder.get_nonce_then_increment()\n",
    "tx.signature = user_signer.sign(tx)\n",
    "proxy.send_transaction(tx)"
   ]
  },
  {
   "cell_type": "code",
   "execution_count": null,
   "metadata": {},
   "outputs": [],
   "source": [
    "builder = ContractCallBuilder(\n",
    "    config,\n",
    "    contract=contract_address,\n",
    "    function_name=\"issueFarmProxyToken\",\n",
    "    caller=owner,\n",
    "    call_arguments=[\"LKFTK\", \"LKFTK\", 18],\n",
    "    gas_limit=100000000,\n",
    "    value=TokenPayment.egld_from_amount(\"0.05\")\n",
    ")\n",
    "\n",
    "tx = builder.build()\n",
    "print(\"Transaction:\", tx.to_dictionary())\n",
    "print(\"Transaction data:\", tx.data)"
   ]
  },
  {
   "cell_type": "code",
   "execution_count": null,
   "metadata": {},
   "outputs": [],
   "source": [
    "tx.nonce = user_nonce_holder.get_nonce_then_increment()\n",
    "tx.signature = user_signer.sign(tx)\n",
    "proxy.send_transaction(tx)"
   ]
  },
  {
   "cell_type": "code",
   "execution_count": null,
   "metadata": {},
   "outputs": [],
   "source": [
    "lp_address = Address.from_bech32(\"erd1qqqqqqqqqqqqqpgqeel2kumf0r8ffyhth7pqdujjat9nx0862jpsg2pqaq\")\n",
    "first_token_id = \"WEGLD-bd4d79\"\n",
    "second_token_id = \"USDC-c76f1f\"\n",
    "\n",
    "builder = ContractCallBuilder(\n",
    "    config,\n",
    "    contract=contract_address,\n",
    "    function_name=\"addLpToWhitelist\",\n",
    "    caller=owner,\n",
    "    call_arguments=[lp_address, first_token_id, second_token_id],\n",
    "    gas_limit=30000000\n",
    ")\n",
    "\n",
    "tx = builder.build()\n",
    "print(\"Transaction:\", tx.to_dictionary())\n",
    "print(\"Transaction data:\", tx.data)"
   ]
  },
  {
   "cell_type": "code",
   "execution_count": null,
   "metadata": {},
   "outputs": [],
   "source": [
    "tx.nonce = user_nonce_holder.get_nonce_then_increment()\n",
    "tx.signature = user_signer.sign(tx)\n",
    "proxy.send_transaction(tx)"
   ]
  },
  {
   "cell_type": "code",
   "execution_count": null,
   "metadata": {},
   "outputs": [],
   "source": [
    "farm_address = Address.from_bech32(\"erd1qqqqqqqqqqqqqpgqv0pz5z3fkz54nml6pkzzdruuf020gqzykp2sya7kkv\")\n",
    "farming_token_id = \"EGLDUSDC-594e5e\"\n",
    "farm_type = 2  # 0 - simple, 1 - locked, 2 - boosted\n",
    "\n",
    "builder = ContractCallBuilder(\n",
    "    config,\n",
    "    contract=contract_address,\n",
    "    function_name=\"addFarmToWhitelist\",\n",
    "    caller=owner,\n",
    "    call_arguments=[farm_address, farming_token_id, farm_type],\n",
    "    gas_limit=30000000\n",
    ")\n",
    "\n",
    "tx = builder.build()\n",
    "print(\"Transaction:\", tx.to_dictionary())\n",
    "print(\"Transaction data:\", tx.data)"
   ]
  },
  {
   "cell_type": "code",
   "execution_count": null,
   "metadata": {},
   "outputs": [],
   "source": [
    "tx.nonce = user_nonce_holder.get_nonce_then_increment()\n",
    "tx.signature = user_signer.sign(tx)\n",
    "proxy.send_transaction(tx)"
   ]
  },
  {
   "attachments": {},
   "cell_type": "markdown",
   "metadata": {},
   "source": [
    "connecting contracts setup"
   ]
  },
  {
   "cell_type": "code",
   "execution_count": null,
   "metadata": {},
   "outputs": [],
   "source": [
    "builder = ContractCallBuilder(\n",
    "    config,\n",
    "    contract=farm_address,\n",
    "    function_name=\"addSCAddressToWhitelist\",\n",
    "    caller=owner,\n",
    "    call_arguments=[contract_address],\n",
    "    gas_limit=30000000,\n",
    ")\n",
    "\n",
    "tx = builder.build()\n",
    "print(\"Transaction:\", tx.to_dictionary())\n",
    "print(\"Transaction data:\", tx.data)"
   ]
  },
  {
   "cell_type": "code",
   "execution_count": null,
   "metadata": {},
   "outputs": [],
   "source": [
    "tx.nonce = user_nonce_holder.get_nonce_then_increment()\n",
    "tx.signature = user_signer.sign(tx)\n",
    "proxy.send_transaction(tx)"
   ]
  },
  {
   "cell_type": "code",
   "execution_count": null,
   "metadata": {},
   "outputs": [],
   "source": [
    "builder = ContractCallBuilder(\n",
    "    config,\n",
    "    contract=energy_contract,\n",
    "    function_name=\"addToTokenTransferWhitelist\",\n",
    "    caller=owner,\n",
    "    call_arguments=[contract_address],\n",
    "    gas_limit=30000000,\n",
    ")\n",
    "\n",
    "tx = builder.build()\n",
    "print(\"Transaction:\", tx.to_dictionary())\n",
    "print(\"Transaction data:\", tx.data)"
   ]
  },
  {
   "cell_type": "code",
   "execution_count": null,
   "metadata": {},
   "outputs": [],
   "source": [
    "tx.nonce = user_nonce_holder.get_nonce_then_increment()\n",
    "tx.signature = user_signer.sign(tx)\n",
    "proxy.send_transaction(tx)"
   ]
  }
 ],
 "metadata": {
  "kernelspec": {
   "display_name": ".venv",
   "language": "python",
   "name": "python3"
  },
  "language_info": {
   "codemirror_mode": {
    "name": "ipython",
    "version": 3
   },
   "file_extension": ".py",
   "mimetype": "text/x-python",
   "name": "python",
   "nbconvert_exporter": "python",
   "pygments_lexer": "ipython3",
   "version": "3.8.10"
  },
  "orig_nbformat": 4,
  "vscode": {
   "interpreter": {
    "hash": "46890cb94c8e016cd17355f2b23107d7cb41a4430d538522c76446f308933f39"
   }
  }
 },
 "nbformat": 4,
 "nbformat_minor": 2
}
