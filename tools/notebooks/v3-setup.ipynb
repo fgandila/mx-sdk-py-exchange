{
 "cells": [
  {
   "cell_type": "code",
   "execution_count": null,
   "metadata": {},
   "outputs": [],
   "source": [
    "import sys\n",
    "import time\n",
    "from pathlib import Path\n",
    "sys.path.append(str(Path.cwd().parent.parent.absolute()))\n",
    "import config\n",
    "from context import Context\n",
    "\n",
    "context = Context()"
   ]
  },
  {
   "cell_type": "markdown",
   "metadata": {},
   "source": [
    "Energy contract setup"
   ]
  },
  {
   "cell_type": "code",
   "execution_count": null,
   "metadata": {},
   "outputs": [],
   "source": [
    "from contracts.simple_lock_energy_contract import SimpleLockEnergyContract\n",
    "energy_contract: SimpleLockEnergyContract\n",
    "energy_contract = context.get_contracts(config.SIMPLE_LOCKS_ENERGY)[0]"
   ]
  },
  {
   "cell_type": "code",
   "execution_count": null,
   "metadata": {},
   "outputs": [],
   "source": [
    "energy_contract.contract_upgrade(context.deployer_account, context.network_provider.proxy, config.SIMPLE_LOCK_ENERGY_BYTECODE_PATH, [], True)"
   ]
  },
  {
   "cell_type": "markdown",
   "metadata": {},
   "source": [
    "Proxy dex setup"
   ]
  },
  {
   "cell_type": "code",
   "execution_count": null,
   "metadata": {},
   "outputs": [],
   "source": [
    "from contracts.dex_proxy_contract import DexProxyContract\n",
    "dex_proxy_contract: DexProxyContract\n",
    "dex_proxy_contract = context.get_contracts(config.PROXIES_V2)[0]"
   ]
  },
  {
   "cell_type": "code",
   "execution_count": null,
   "metadata": {},
   "outputs": [],
   "source": [
    "dex_proxy_contract.contract_upgrade(context.deployer_account, context.network_provider.proxy, config.PROXY_V2_BYTECODE_PATH, [], True)"
   ]
  },
  {
   "cell_type": "markdown",
   "metadata": {},
   "source": [
    "Farm contract setup"
   ]
  },
  {
   "cell_type": "code",
   "execution_count": null,
   "metadata": {},
   "outputs": [],
   "source": [
    "from contracts.farm_contract import FarmContract\n",
    "farm_contract: FarmContract\n",
    "farm_contracts = context.get_contracts(config.FARMS_V2)"
   ]
  },
  {
   "cell_type": "code",
   "execution_count": null,
   "metadata": {},
   "outputs": [],
   "source": [
    "for farm_contract in farm_contracts:\n",
    "    farm_contract.contract_upgrade(context.deployer_account, context.network_provider.proxy, config.FARM_V3_BYTECODE_PATH, [], True)"
   ]
  },
  {
   "cell_type": "markdown",
   "metadata": {},
   "source": [
    "Staking contract setup"
   ]
  },
  {
   "cell_type": "code",
   "execution_count": null,
   "metadata": {},
   "outputs": [],
   "source": [
    "from contracts.staking_contract import StakingContract\n",
    "staking_contract: StakingContract\n",
    "staking_contracts = context.get_contracts(config.STAKINGS_V2)"
   ]
  },
  {
   "cell_type": "code",
   "execution_count": null,
   "metadata": {},
   "outputs": [],
   "source": [
    "for staking_contract in staking_contracts:\n",
    "    staking_contract.contract_upgrade(context.deployer_account, context.network_provider.proxy, config.STAKING_V3_BYTECODE_PATH, [], True)"
   ]
  },
  {
   "cell_type": "markdown",
   "metadata": {},
   "source": [
    "Metastaking contract setup"
   ]
  },
  {
   "cell_type": "code",
   "execution_count": null,
   "metadata": {},
   "outputs": [],
   "source": [
    "from contracts.metastaking_contract import MetaStakingContract\n",
    "metastaking_contract: MetaStakingContract\n",
    "metastaking_contracts = context.get_contracts(config.METASTAKINGS_V2)"
   ]
  },
  {
   "cell_type": "code",
   "execution_count": null,
   "metadata": {},
   "outputs": [],
   "source": [
    "for metastaking_contract in metastaking_contracts:\n",
    "    metastaking_contract.contract_upgrade(context.deployer_account, context.network_provider.proxy, config.STAKING_PROXY_V3_BYTECODE_PATH, [], True)"
   ]
  }
 ],
 "metadata": {
  "kernelspec": {
   "display_name": "venv",
   "language": "python",
   "name": "python3"
  },
  "language_info": {
   "codemirror_mode": {
    "name": "ipython",
    "version": 3
   },
   "file_extension": ".py",
   "mimetype": "text/x-python",
   "name": "python",
   "nbconvert_exporter": "python",
   "pygments_lexer": "ipython3",
   "version": "3.11.6"
  }
 },
 "nbformat": 4,
 "nbformat_minor": 2
}
