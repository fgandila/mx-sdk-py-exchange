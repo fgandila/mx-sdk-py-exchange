{
 "cells": [
  {
   "cell_type": "code",
   "execution_count": 1,
   "metadata": {},
   "outputs": [
    {
     "name": "stderr",
     "output_type": "stream",
     "text": [
      "\u001b[93m2024-04-17 17:45:51,966 - WARNING - Structure definition for egld_wraps not found in /home/ovi/projects/dex/mx-sdk-py-exchange/deploy/configs-mainnet/deploy_structure.json\u001b[0m\n",
      "\u001b[93m2024-04-17 17:45:51,968 - WARNING - Structure definition for pairs_view not found in /home/ovi/projects/dex/mx-sdk-py-exchange/deploy/configs-mainnet/deploy_structure.json\u001b[0m\n",
      "\u001b[93m2024-04-17 17:45:51,970 - WARNING - Structure definition for stakings_boosted not found in /home/ovi/projects/dex/mx-sdk-py-exchange/deploy/configs-mainnet/deploy_structure.json\u001b[0m\n",
      "\u001b[93m2024-04-17 17:45:51,971 - WARNING - Structure definition for metastakings_boosted not found in /home/ovi/projects/dex/mx-sdk-py-exchange/deploy/configs-mainnet/deploy_structure.json\u001b[0m\n",
      "\u001b[93m2024-04-17 17:45:51,972 - WARNING - Structure definition for position_creator not found in /home/ovi/projects/dex/mx-sdk-py-exchange/deploy/configs-mainnet/deploy_structure.json\u001b[0m\n"
     ]
    },
    {
     "name": "stdout",
     "output_type": "stream",
     "text": [
      "loaded 10 accounts from 1 PEM files.\n"
     ]
    },
    {
     "name": "stderr",
     "output_type": "stream",
     "text": [
      "\u001b[38;20m2024-04-17 17:45:54,863 - DEBUG - Account.sync_nonce() done: 3552\u001b[0m\n",
      "\u001b[38;20m2024-04-17 17:45:55,042 - DEBUG - Account.sync_nonce() done: 3552\u001b[0m\n",
      "\u001b[93m2024-04-17 17:45:55,044 - WARNING - Loaded 11 tokens instead of expected 10.\u001b[0m\n",
      "\u001b[38;20m2024-04-17 17:45:55,228 - DEBUG - Account.sync_nonce() done: 3552\u001b[0m\n",
      "\u001b[92m2024-04-17 17:45:55,230 - INFO - Loaded 0 egld_wraps.\u001b[0m\n",
      "\u001b[92m2024-04-17 17:45:55,231 - INFO - Loaded 1 locked_assets.\u001b[0m\n",
      "\u001b[92m2024-04-17 17:45:55,232 - INFO - Loaded 1 proxies.\u001b[0m\n",
      "\u001b[92m2024-04-17 17:45:55,233 - INFO - Loaded 0 simple_locks.\u001b[0m\n",
      "\u001b[92m2024-04-17 17:45:55,234 - INFO - Loaded 1 simple_locks_energy.\u001b[0m\n",
      "\u001b[92m2024-04-17 17:45:55,236 - INFO - Loaded 1 fees_collectors.\u001b[0m\n",
      "\u001b[92m2024-04-17 17:45:55,237 - INFO - Loaded 1 unstakers.\u001b[0m\n",
      "\u001b[92m2024-04-17 17:45:55,239 - INFO - Loaded 1 proxies_v2.\u001b[0m\n",
      "\u001b[92m2024-04-17 17:45:55,240 - INFO - Loaded 0 router.\u001b[0m\n",
      "\u001b[92m2024-04-17 17:45:55,241 - INFO - Loaded 1 router_v2.\u001b[0m\n",
      "\u001b[92m2024-04-17 17:45:55,242 - INFO - Loaded 0 pairs.\u001b[0m\n",
      "\u001b[92m2024-04-17 17:45:55,244 - INFO - Loaded 9 pairs_v2.\u001b[0m\n",
      "\u001b[92m2024-04-17 17:45:55,244 - INFO - Loaded 0 pairs_view.\u001b[0m\n",
      "\u001b[92m2024-04-17 17:45:55,245 - INFO - Loaded 0 farms_community.\u001b[0m\n",
      "\u001b[92m2024-04-17 17:45:55,246 - INFO - Loaded 0 farms_unlocked.\u001b[0m\n",
      "\u001b[92m2024-04-17 17:45:55,247 - INFO - Loaded 0 farms_locked.\u001b[0m\n",
      "\u001b[92m2024-04-17 17:45:55,247 - INFO - Loaded 0 proxy_deployers.\u001b[0m\n",
      "\u001b[92m2024-04-17 17:45:55,248 - INFO - Loaded 9 farms_boosted.\u001b[0m\n",
      "\u001b[92m2024-04-17 17:45:55,249 - INFO - Loaded 0 price_discoveries.\u001b[0m\n",
      "\u001b[92m2024-04-17 17:45:55,250 - INFO - Loaded 0 stakings.\u001b[0m\n",
      "\u001b[92m2024-04-17 17:45:55,251 - INFO - Loaded 7 stakings_v2.\u001b[0m\n",
      "\u001b[92m2024-04-17 17:45:55,252 - INFO - Loaded 0 stakings_boosted.\u001b[0m\n",
      "\u001b[92m2024-04-17 17:45:55,253 - INFO - Loaded 0 metastakings.\u001b[0m\n",
      "\u001b[92m2024-04-17 17:45:55,253 - INFO - Loaded 4 metastakings_v2.\u001b[0m\n",
      "\u001b[92m2024-04-17 17:45:55,254 - INFO - Loaded 0 metastakings_boosted.\u001b[0m\n",
      "\u001b[92m2024-04-17 17:45:55,255 - INFO - Loaded 0 position_creator.\u001b[0m\n",
      "\u001b[92m2024-04-17 17:45:55,257 - INFO - Loaded 1 escrows.\u001b[0m\n",
      "\u001b[92m2024-04-17 17:45:55,258 - INFO - Loaded 1 lk_wraps.\u001b[0m\n",
      "\u001b[38;20m2024-04-17 17:45:55,502 - DEBUG - Account.sync_nonce() done: 3552\u001b[0m\n",
      "\u001b[92m2024-04-17 17:45:55,503 - INFO - Deployed contracts below:\u001b[0m\n",
      "\u001b[92m2024-04-17 17:45:55,504 - INFO - egld_wraps:\u001b[0m\n",
      "\u001b[92m2024-04-17 17:45:55,505 - INFO - locked_assets:\u001b[0m\n",
      "\u001b[92m2024-04-17 17:45:55,506 - INFO - Deployed locked asset contract: erd1qqqqqqqqqqqqqpgqjpt0qqgsrdhp2xqygpjtfrpwf76f9nvg2jpsg4q7th\u001b[0m\n",
      "\u001b[92m2024-04-17 17:45:55,507 - INFO -  ├ Unlocked token: MEX-455c57\u001b[0m\n",
      "\u001b[92m2024-04-17 17:45:55,507 - INFO -  ├ Locked token: LKMEX-aab910\u001b[0m\n",
      "\u001b[92m2024-04-17 17:45:55,508 - INFO - proxies:\u001b[0m\n",
      "\u001b[92m2024-04-17 17:45:55,508 - INFO - Deployed proxy contract: erd1qqqqqqqqqqqqqpgqrc4pg2xarca9z34njcxeur622qmfjp8w2jps89fxnl\u001b[0m\n",
      "\u001b[92m2024-04-17 17:45:55,509 - INFO -  ├ Token: MEX-455c57\u001b[0m\n",
      "\u001b[92m2024-04-17 17:45:55,510 - INFO -  ├ Locked tokens: ['LKMEX-aab910']\u001b[0m\n",
      "\u001b[92m2024-04-17 17:45:55,510 - INFO -  ├ Proxy LP token: LKLP-03a2fa\u001b[0m\n",
      "\u001b[92m2024-04-17 17:45:55,511 - INFO -  ├ Proxy Farm token: LKFARM-9d1ea8\u001b[0m\n",
      "\u001b[92m2024-04-17 17:45:55,511 - INFO - simple_locks:\u001b[0m\n",
      "\u001b[92m2024-04-17 17:45:55,511 - INFO - simple_locks_energy:\u001b[0m\n",
      "\u001b[92m2024-04-17 17:45:55,512 - INFO - Deployed simple lock energy contract: erd1qqqqqqqqqqqqqpgq0tajepcazernwt74820t8ef7t28vjfgukp2sw239f3\u001b[0m\n",
      "\u001b[92m2024-04-17 17:45:55,512 - INFO -  ├ Base token: MEX-455c57\u001b[0m\n",
      "\u001b[92m2024-04-17 17:45:55,512 - INFO -  ├ Locked token: XMEX-fda355\u001b[0m\n",
      "\u001b[92m2024-04-17 17:45:55,513 - INFO -  ├ Locked LP token: \u001b[0m\n",
      "\u001b[92m2024-04-17 17:45:55,513 - INFO -  ├ Locked Farm token: \u001b[0m\n",
      "\u001b[92m2024-04-17 17:45:55,514 - INFO - fees_collectors:\u001b[0m\n",
      "\u001b[92m2024-04-17 17:45:55,514 - INFO - Deployed fees collector contract: erd1qqqqqqqqqqqqqpgqjsnxqprks7qxfwkcg2m2v9hxkrchgm9akp2segrswt\u001b[0m\n",
      "\u001b[92m2024-04-17 17:45:55,515 - INFO - unstakers:\u001b[0m\n",
      "\u001b[92m2024-04-17 17:45:55,516 - INFO - Deployed token unstake contract: erd1qqqqqqqqqqqqqpgqxv0y4p6vvszrknaztatycac77yvsxqrrkp2sghd86c\u001b[0m\n",
      "\u001b[92m2024-04-17 17:45:55,516 - INFO - proxies_v2:\u001b[0m\n",
      "\u001b[92m2024-04-17 17:45:55,517 - INFO - Deployed proxy contract: erd1qqqqqqqqqqqqqpgqt6ltx52ukss9d2qag2k67at28a36xc9lkp2sr06394\u001b[0m\n",
      "\u001b[92m2024-04-17 17:45:55,517 - INFO -  ├ Token: MEX-455c57\u001b[0m\n",
      "\u001b[92m2024-04-17 17:45:55,518 - INFO -  ├ Locked tokens: ['LKMEX-aab910', 'XMEX-fda355']\u001b[0m\n",
      "\u001b[92m2024-04-17 17:45:55,519 - INFO -  ├ Proxy LP token: XMEXLP-2cbdce\u001b[0m\n",
      "\u001b[92m2024-04-17 17:45:55,519 - INFO -  ├ Proxy Farm token: XMEXFARM-e0a3dc\u001b[0m\n",
      "\u001b[92m2024-04-17 17:45:55,520 - INFO - router:\u001b[0m\n",
      "\u001b[92m2024-04-17 17:45:55,520 - INFO - router_v2:\u001b[0m\n",
      "\u001b[92m2024-04-17 17:45:55,521 - INFO - Deployed router contract: erd1qqqqqqqqqqqqqpgqq66xk9gfr4esuhem3jru86wg5hvp33a62jps2fy57p\u001b[0m\n",
      "\u001b[92m2024-04-17 17:45:55,521 - INFO - pairs:\u001b[0m\n",
      "\u001b[92m2024-04-17 17:45:55,522 - INFO - pairs_v2:\u001b[0m\n",
      "\u001b[92m2024-04-17 17:45:55,523 - INFO - Deployed pair contract: erd1qqqqqqqqqqqqqpgqa0fsfshnff4n76jhcye6k7uvd7qacsq42jpsp6shh2\u001b[0m\n",
      "\u001b[92m2024-04-17 17:45:55,523 - INFO -  ├ First token: WEGLD-bd4d79\u001b[0m\n",
      "\u001b[92m2024-04-17 17:45:55,525 - INFO -  ├ Second token: MEX-455c57\u001b[0m\n",
      "\u001b[92m2024-04-17 17:45:55,525 - INFO -  ├ LP token: EGLDMEX-0be9e5\u001b[0m\n",
      "\u001b[92m2024-04-17 17:45:55,527 - INFO - Deployed pair contract: erd1qqqqqqqqqqqqqpgqeel2kumf0r8ffyhth7pqdujjat9nx0862jpsg2pqaq\u001b[0m\n",
      "\u001b[92m2024-04-17 17:45:55,527 - INFO -  ├ First token: WEGLD-bd4d79\u001b[0m\n",
      "\u001b[92m2024-04-17 17:45:55,528 - INFO -  ├ Second token: USDC-c76f1f\u001b[0m\n",
      "\u001b[92m2024-04-17 17:45:55,529 - INFO -  ├ LP token: EGLDUSDC-594e5e\u001b[0m\n",
      "\u001b[92m2024-04-17 17:45:55,529 - INFO - Deployed pair contract: erd1qqqqqqqqqqqqqpgqav09xenkuqsdyeyy5evqyhuusvu4gl3t2jpss57g8x\u001b[0m\n",
      "\u001b[92m2024-04-17 17:45:55,530 - INFO -  ├ First token: WEGLD-bd4d79\u001b[0m\n",
      "\u001b[92m2024-04-17 17:45:55,530 - INFO -  ├ Second token: RIDE-7d18e9\u001b[0m\n",
      "\u001b[92m2024-04-17 17:45:55,531 - INFO -  ├ LP token: EGLDRIDE-7bd51a\u001b[0m\n",
      "\u001b[92m2024-04-17 17:45:55,531 - INFO - Deployed pair contract: erd1qqqqqqqqqqqqqpgqpmud7t8uprrxzgu8eq2mtkl08kesflj62jps9j8dyh\u001b[0m\n",
      "\u001b[92m2024-04-17 17:45:55,532 - INFO -  ├ First token: ITHEUM-df6f26\u001b[0m\n",
      "\u001b[92m2024-04-17 17:45:55,532 - INFO -  ├ Second token: WEGLD-bd4d79\u001b[0m\n",
      "\u001b[92m2024-04-17 17:45:55,533 - INFO -  ├ LP token: ITHWEGLD-1adc53\u001b[0m\n",
      "\u001b[92m2024-04-17 17:45:55,534 - INFO - Deployed pair contract: erd1qqqqqqqqqqqqqpgq0lzzvt2faev4upyf586tg38s84d7zsaj2jpsglugga\u001b[0m\n",
      "\u001b[92m2024-04-17 17:45:55,535 - INFO -  ├ First token: UTK-2f80e9\u001b[0m\n",
      "\u001b[92m2024-04-17 17:45:55,535 - INFO -  ├ Second token: WEGLD-bd4d79\u001b[0m\n",
      "\u001b[92m2024-04-17 17:45:55,536 - INFO -  ├ LP token: UTKWEGLD-c960d1\u001b[0m\n",
      "\u001b[92m2024-04-17 17:45:55,536 - INFO - Deployed pair contract: erd1qqqqqqqqqqqqqpgqf57y8m9krsvrceqxujngzm77p82zqc502jpsnnezqs\u001b[0m\n",
      "\u001b[92m2024-04-17 17:45:55,537 - INFO -  ├ First token: CRT-52decf\u001b[0m\n",
      "\u001b[92m2024-04-17 17:45:55,538 - INFO -  ├ Second token: WEGLD-bd4d79\u001b[0m\n",
      "\u001b[92m2024-04-17 17:45:55,538 - INFO -  ├ LP token: CRTWEGLD-1fac3f\u001b[0m\n",
      "\u001b[92m2024-04-17 17:45:55,539 - INFO - Deployed pair contract: erd1qqqqqqqqqqqqqpgqp5d4x3d263x4alnapwafwujch5xqmvyq2jpsk2xhsy\u001b[0m\n",
      "\u001b[92m2024-04-17 17:45:55,540 - INFO -  ├ First token: ASH-a642d1\u001b[0m\n",
      "\u001b[92m2024-04-17 17:45:55,541 - INFO -  ├ Second token: WEGLD-bd4d79\u001b[0m\n",
      "\u001b[92m2024-04-17 17:45:55,542 - INFO -  ├ LP token: ASHWEGLD-38545c\u001b[0m\n",
      "\u001b[92m2024-04-17 17:45:55,542 - INFO - Deployed pair contract: erd1qqqqqqqqqqqqqpgqtjhhs49h0q2ncld64l3thtk7s7yuw47v2jps8emt0v\u001b[0m\n",
      "\u001b[92m2024-04-17 17:45:55,543 - INFO -  ├ First token: ZPAY-247875\u001b[0m\n",
      "\u001b[92m2024-04-17 17:45:55,544 - INFO -  ├ Second token: WEGLD-bd4d79\u001b[0m\n",
      "\u001b[92m2024-04-17 17:45:55,544 - INFO -  ├ LP token: ZPAYWEGLD-34e5c1\u001b[0m\n",
      "\u001b[92m2024-04-17 17:45:55,545 - INFO - Deployed pair contract: erd1qqqqqqqqqqqqqpgqp32ecg03fyxgt2pf2fsxyg4knvhfvtgz2jps6rx6gf\u001b[0m\n",
      "\u001b[92m2024-04-17 17:45:55,546 - INFO -  ├ First token: BHAT-c1fde3\u001b[0m\n",
      "\u001b[92m2024-04-17 17:45:55,546 - INFO -  ├ Second token: WEGLD-bd4d79\u001b[0m\n",
      "\u001b[92m2024-04-17 17:45:55,547 - INFO -  ├ LP token: BHATWEGLD-f45935\u001b[0m\n",
      "\u001b[92m2024-04-17 17:45:55,547 - INFO - pairs_view:\u001b[0m\n",
      "\u001b[92m2024-04-17 17:45:55,548 - INFO - farms_community:\u001b[0m\n",
      "\u001b[92m2024-04-17 17:45:55,549 - INFO - farms_unlocked:\u001b[0m\n",
      "\u001b[92m2024-04-17 17:45:55,549 - INFO - farms_locked:\u001b[0m\n",
      "\u001b[92m2024-04-17 17:45:55,550 - INFO - proxy_deployers:\u001b[0m\n",
      "\u001b[92m2024-04-17 17:45:55,550 - INFO - farms_boosted:\u001b[0m\n",
      "\u001b[92m2024-04-17 17:45:55,551 - INFO - Deployed farm contract: erd1qqqqqqqqqqqqqpgqapxdp9gjxtg60mjwhle3n6h88zch9e7kkp2s8aqhkg\u001b[0m\n",
      "\u001b[92m2024-04-17 17:45:55,551 - INFO -  ├ Farming token: EGLDMEX-0be9e5\u001b[0m\n",
      "\u001b[92m2024-04-17 17:45:55,552 - INFO -  ├ Farmed token: MEX-455c57\u001b[0m\n",
      "\u001b[92m2024-04-17 17:45:55,552 - INFO -  ├ Farm token: EGLDMEXFL-c2521e\u001b[0m\n",
      "\u001b[92m2024-04-17 17:45:55,553 - INFO - Deployed farm contract: erd1qqqqqqqqqqqqqpgqv0pz5z3fkz54nml6pkzzdruuf020gqzykp2sya7kkv\u001b[0m\n",
      "\u001b[92m2024-04-17 17:45:55,553 - INFO -  ├ Farming token: EGLDUSDC-594e5e\u001b[0m\n",
      "\u001b[92m2024-04-17 17:45:55,554 - INFO -  ├ Farmed token: MEX-455c57\u001b[0m\n",
      "\u001b[92m2024-04-17 17:45:55,554 - INFO -  ├ Farm token: EGLDUSDCFL-45109b\u001b[0m\n",
      "\u001b[92m2024-04-17 17:45:55,555 - INFO - Deployed farm contract: erd1qqqqqqqqqqqqqpgqenvn0s3ldc94q2mlkaqx4arj3zfnvnmakp2sxca2h9\u001b[0m\n",
      "\u001b[92m2024-04-17 17:45:55,555 - INFO -  ├ Farming token: EGLDRIDE-7bd51a\u001b[0m\n",
      "\u001b[92m2024-04-17 17:45:55,556 - INFO -  ├ Farmed token: MEX-455c57\u001b[0m\n",
      "\u001b[92m2024-04-17 17:45:55,556 - INFO -  ├ Farm token: EGLDRIDEFL-7aac94\u001b[0m\n",
      "\u001b[92m2024-04-17 17:45:55,557 - INFO - Deployed farm contract: erd1qqqqqqqqqqqqqpgqrdq6zvepdxg36rey8pmluwur43q4hcx3kp2su4yltq\u001b[0m\n",
      "\u001b[92m2024-04-17 17:45:55,558 - INFO -  ├ Farming token: ITHWEGLD-1adc53\u001b[0m\n",
      "\u001b[92m2024-04-17 17:45:55,558 - INFO -  ├ Farmed token: MEX-455c57\u001b[0m\n",
      "\u001b[92m2024-04-17 17:45:55,559 - INFO -  ├ Farm token: ITHWEGLDFL-7d381f\u001b[0m\n",
      "\u001b[92m2024-04-17 17:45:55,559 - INFO - Deployed farm contract: erd1qqqqqqqqqqqqqpgq4acurmluezvmhna8tztgcrnwh0l70a2wkp2sfh6jkp\u001b[0m\n",
      "\u001b[92m2024-04-17 17:45:55,560 - INFO -  ├ Farming token: UTKWEGLD-c960d1\u001b[0m\n",
      "\u001b[92m2024-04-17 17:45:55,561 - INFO -  ├ Farmed token: MEX-455c57\u001b[0m\n",
      "\u001b[92m2024-04-17 17:45:55,561 - INFO -  ├ Farm token: UTKWEGLDFL-ba26d2\u001b[0m\n",
      "\u001b[92m2024-04-17 17:45:55,562 - INFO - Deployed farm contract: erd1qqqqqqqqqqqqqpgquhqfknr9dg5t0xma0zcc55dm8gwv5rpkkp2sq8f40p\u001b[0m\n",
      "\u001b[92m2024-04-17 17:45:55,562 - INFO -  ├ Farming token: CRTWEGLD-1fac3f\u001b[0m\n",
      "\u001b[92m2024-04-17 17:45:55,563 - INFO -  ├ Farmed token: MEX-455c57\u001b[0m\n",
      "\u001b[92m2024-04-17 17:45:55,564 - INFO -  ├ Farm token: CRTWEGLDFL-4fd518\u001b[0m\n",
      "\u001b[92m2024-04-17 17:45:55,564 - INFO - Deployed farm contract: erd1qqqqqqqqqqqqqpgq6v5ta4memvrhjs4x3gqn90c3pujc77takp2sqhxm9j\u001b[0m\n",
      "\u001b[92m2024-04-17 17:45:55,565 - INFO -  ├ Farming token: ASHWEGLD-38545c\u001b[0m\n",
      "\u001b[92m2024-04-17 17:45:55,565 - INFO -  ├ Farmed token: MEX-455c57\u001b[0m\n",
      "\u001b[92m2024-04-17 17:45:55,566 - INFO -  ├ Farm token: ASHWEGLDFL-9612cf\u001b[0m\n",
      "\u001b[92m2024-04-17 17:45:55,566 - INFO - Deployed farm contract: erd1qqqqqqqqqqqqqpgqqqckvlhd3n7ntt5w3vln4xh3tsfpj0hr2jpsxlzgcj\u001b[0m\n",
      "\u001b[92m2024-04-17 17:45:55,567 - INFO -  ├ Farming token: ZPAYWEGLD-34e5c1\u001b[0m\n",
      "\u001b[92m2024-04-17 17:45:55,568 - INFO -  ├ Farmed token: MEX-455c57\u001b[0m\n",
      "\u001b[92m2024-04-17 17:45:55,568 - INFO -  ├ Farm token: ZPAYEGLDFL-4faf85\u001b[0m\n",
      "\u001b[92m2024-04-17 17:45:55,569 - INFO - Deployed farm contract: erd1qqqqqqqqqqqqqpgqcfkmz2j0e8pj0nzuk9j6mzcav0wpthq52jpsg546ch\u001b[0m\n",
      "\u001b[92m2024-04-17 17:45:55,569 - INFO -  ├ Farming token: BHATWEGLD-f45935\u001b[0m\n",
      "\u001b[92m2024-04-17 17:45:55,570 - INFO -  ├ Farmed token: MEX-455c57\u001b[0m\n",
      "\u001b[92m2024-04-17 17:45:55,571 - INFO -  ├ Farm token: BHATEGLDFL-259b84\u001b[0m\n",
      "\u001b[92m2024-04-17 17:45:55,572 - INFO - price_discoveries:\u001b[0m\n",
      "\u001b[92m2024-04-17 17:45:55,572 - INFO - stakings:\u001b[0m\n",
      "\u001b[92m2024-04-17 17:45:55,573 - INFO - stakings_v2:\u001b[0m\n",
      "\u001b[92m2024-04-17 17:45:55,573 - INFO - Deployed staking contract: erd1qqqqqqqqqqqqqpgqmqq78c5htmdnws8hm5u4suvags36eq092jpsaxv3e7\u001b[0m\n",
      "\u001b[92m2024-04-17 17:45:55,574 - INFO -  ├ Staking token: RIDE-7d18e9\u001b[0m\n",
      "\u001b[92m2024-04-17 17:45:55,574 - INFO -  ├ Stake token: SRIDE-4ab1d4\u001b[0m\n",
      "\u001b[92m2024-04-17 17:45:55,575 - INFO - Deployed staking contract: erd1qqqqqqqqqqqqqpgqr7kdhagkqgxvjrsk7s5333l9wwnenr9g2jps8puq33\u001b[0m\n",
      "\u001b[92m2024-04-17 17:45:55,576 - INFO -  ├ Staking token: ZPAY-247875\u001b[0m\n",
      "\u001b[92m2024-04-17 17:45:55,577 - INFO -  ├ Stake token: SZPAY-9f1b39\u001b[0m\n",
      "\u001b[92m2024-04-17 17:45:55,578 - INFO - Deployed staking contract: erd1qqqqqqqqqqqqqpgqzps75vsk97w9nsx2cenv2r2tyxl4fl402jpsx78m9j\u001b[0m\n",
      "\u001b[92m2024-04-17 17:45:55,578 - INFO -  ├ Staking token: ITHEUM-df6f26\u001b[0m\n",
      "\u001b[92m2024-04-17 17:45:55,578 - INFO -  ├ Stake token: SITHEUM-e05083\u001b[0m\n",
      "\u001b[92m2024-04-17 17:45:55,579 - INFO - Deployed staking contract: erd1qqqqqqqqqqqqqpgq45zs77q884ts6y9zj4jyqfn6ydev8ruv2jps3tteqq\u001b[0m\n",
      "\u001b[92m2024-04-17 17:45:55,580 - INFO -  ├ Staking token: BHAT-c1fde3\u001b[0m\n",
      "\u001b[92m2024-04-17 17:45:55,581 - INFO -  ├ Stake token: SBHAT-89efd3\u001b[0m\n",
      "\u001b[92m2024-04-17 17:45:55,581 - INFO - Deployed staking contract: erd1qqqqqqqqqqqqqpgqcedkmj8ezme6mtautj79ngv7fez978le2jps8jtawn\u001b[0m\n",
      "\u001b[92m2024-04-17 17:45:55,582 - INFO -  ├ Staking token: UTK-2f80e9\u001b[0m\n",
      "\u001b[92m2024-04-17 17:45:55,582 - INFO -  ├ Stake token: SUTK-ba35f3\u001b[0m\n",
      "\u001b[92m2024-04-17 17:45:55,583 - INFO - Deployed staking contract: erd1qqqqqqqqqqqqqpgqp2wfzvkhlpkwcdxx25qzznx33345979w2jpsl3gflj\u001b[0m\n",
      "\u001b[92m2024-04-17 17:45:55,584 - INFO -  ├ Staking token: CRT-52decf\u001b[0m\n",
      "\u001b[92m2024-04-17 17:45:55,584 - INFO -  ├ Stake token: SCRT-acbd64\u001b[0m\n",
      "\u001b[92m2024-04-17 17:45:55,585 - INFO - Deployed staking contract: erd1qqqqqqqqqqqqqpgqjdlnu9ggwfc79pygn5fjjgmdm6d7vu5e2jpsw59amp\u001b[0m\n",
      "\u001b[92m2024-04-17 17:45:55,585 - INFO -  ├ Staking token: ASH-a642d1\u001b[0m\n",
      "\u001b[92m2024-04-17 17:45:55,586 - INFO -  ├ Stake token: SASH-3671bd\u001b[0m\n",
      "\u001b[92m2024-04-17 17:45:55,587 - INFO - stakings_boosted:\u001b[0m\n",
      "\u001b[92m2024-04-17 17:45:55,587 - INFO - metastakings:\u001b[0m\n",
      "\u001b[92m2024-04-17 17:45:55,588 - INFO - metastakings_v2:\u001b[0m\n",
      "\u001b[92m2024-04-17 17:45:55,588 - INFO - Deployed metastaking contract: erd1qqqqqqqqqqqqqpgqjvcrk4tun6l438crr0jcz7q3yzp66smwkp2shzmazs\u001b[0m\n",
      "\u001b[92m2024-04-17 17:45:55,589 - INFO -  ├ Staking token: RIDE-7d18e9\u001b[0m\n",
      "\u001b[92m2024-04-17 17:45:55,590 - INFO -  ├ Metastake token: METARIDELK-f0b4bf\u001b[0m\n",
      "\u001b[92m2024-04-17 17:45:55,590 - INFO -  ├ Stake address: erd1qqqqqqqqqqqqqpgqmqq78c5htmdnws8hm5u4suvags36eq092jpsaxv3e7\u001b[0m\n",
      "\u001b[92m2024-04-17 17:45:55,591 - INFO -  ├ Farm address: erd1qqqqqqqqqqqqqpgqenvn0s3ldc94q2mlkaqx4arj3zfnvnmakp2sxca2h9\u001b[0m\n",
      "\u001b[92m2024-04-17 17:45:55,592 - INFO -  ├ LP address: erd1qqqqqqqqqqqqqpgqav09xenkuqsdyeyy5evqyhuusvu4gl3t2jpss57g8x\u001b[0m\n",
      "\u001b[92m2024-04-17 17:45:55,592 - INFO - Deployed metastaking contract: erd1qqqqqqqqqqqqqpgqduftj7u5u5d4ql2znchcmrcet9kcze7ckp2sk4474f\u001b[0m\n",
      "\u001b[92m2024-04-17 17:45:55,594 - INFO -  ├ Staking token: ITHEUM-df6f26\u001b[0m\n",
      "\u001b[92m2024-04-17 17:45:55,594 - INFO -  ├ Metastake token: METAITHLK-4c3f2e\u001b[0m\n",
      "\u001b[92m2024-04-17 17:45:55,595 - INFO -  ├ Stake address: erd1qqqqqqqqqqqqqpgqzps75vsk97w9nsx2cenv2r2tyxl4fl402jpsx78m9j\u001b[0m\n",
      "\u001b[92m2024-04-17 17:45:55,596 - INFO -  ├ Farm address: erd1qqqqqqqqqqqqqpgqrdq6zvepdxg36rey8pmluwur43q4hcx3kp2su4yltq\u001b[0m\n",
      "\u001b[92m2024-04-17 17:45:55,597 - INFO -  ├ LP address: erd1qqqqqqqqqqqqqpgqpmud7t8uprrxzgu8eq2mtkl08kesflj62jps9j8dyh\u001b[0m\n",
      "\u001b[92m2024-04-17 17:45:55,597 - INFO - Deployed metastaking contract: erd1qqqqqqqqqqqqqpgqmgd0eu4z9kzvrputt4l4kw4fqf2wcjsekp2sftan7s\u001b[0m\n",
      "\u001b[92m2024-04-17 17:45:55,598 - INFO -  ├ Staking token: UTK-2f80e9\u001b[0m\n",
      "\u001b[92m2024-04-17 17:45:55,599 - INFO -  ├ Metastake token: METAUTKLK-112f52\u001b[0m\n",
      "\u001b[92m2024-04-17 17:45:55,599 - INFO -  ├ Stake address: erd1qqqqqqqqqqqqqpgqcedkmj8ezme6mtautj79ngv7fez978le2jps8jtawn\u001b[0m\n",
      "\u001b[92m2024-04-17 17:45:55,599 - INFO -  ├ Farm address: erd1qqqqqqqqqqqqqpgq4acurmluezvmhna8tztgcrnwh0l70a2wkp2sfh6jkp\u001b[0m\n",
      "\u001b[92m2024-04-17 17:45:55,600 - INFO -  ├ LP address: erd1qqqqqqqqqqqqqpgq0lzzvt2faev4upyf586tg38s84d7zsaj2jpsglugga\u001b[0m\n",
      "\u001b[92m2024-04-17 17:45:55,601 - INFO - Deployed metastaking contract: erd1qqqqqqqqqqqqqpgqx6zhjfjnwxpzdcj594htl0y6w60aa3a8kp2se2pdms\u001b[0m\n",
      "\u001b[92m2024-04-17 17:45:55,601 - INFO -  ├ Staking token: CRT-52decf\u001b[0m\n",
      "\u001b[92m2024-04-17 17:45:55,602 - INFO -  ├ Metastake token: METACRTLK-39d11c\u001b[0m\n",
      "\u001b[92m2024-04-17 17:45:55,602 - INFO -  ├ Stake address: erd1qqqqqqqqqqqqqpgqp2wfzvkhlpkwcdxx25qzznx33345979w2jpsl3gflj\u001b[0m\n",
      "\u001b[92m2024-04-17 17:45:55,603 - INFO -  ├ Farm address: erd1qqqqqqqqqqqqqpgquhqfknr9dg5t0xma0zcc55dm8gwv5rpkkp2sq8f40p\u001b[0m\n",
      "\u001b[92m2024-04-17 17:45:55,603 - INFO -  ├ LP address: erd1qqqqqqqqqqqqqpgqf57y8m9krsvrceqxujngzm77p82zqc502jpsnnezqs\u001b[0m\n",
      "\u001b[92m2024-04-17 17:45:55,604 - INFO - metastakings_boosted:\u001b[0m\n",
      "\u001b[92m2024-04-17 17:45:55,605 - INFO - position_creator:\u001b[0m\n",
      "\u001b[92m2024-04-17 17:45:55,605 - INFO - escrows:\u001b[0m\n",
      "\u001b[92m2024-04-17 17:45:55,606 - INFO - Deployed escrow contract: erd1qqqqqqqqqqqqqpgqeh4yv09rmyg4xgn5ma03mvm4v5gndu8w2jpsglz3cn\u001b[0m\n",
      "\u001b[92m2024-04-17 17:45:55,606 - INFO - lk_wraps:\u001b[0m\n",
      "\u001b[92m2024-04-17 17:45:55,607 - INFO - Deployed locked token wrapping contract: erd1qqqqqqqqqqqqqpgqu64gygjs5ted4rupaewaszyhaxl9lv7m2jpsw47nzr\u001b[0m\n"
     ]
    },
    {
     "name": "stdout",
     "output_type": "stream",
     "text": [
      "\n",
      "\n",
      "\n",
      "\n",
      "\n",
      "\n",
      "\n",
      "\n",
      "\n",
      "\n",
      "\n",
      "\n",
      "\n",
      "\n",
      "\n",
      "\n",
      "\n",
      "\n",
      "\n",
      "\n",
      "\n",
      "\n",
      "\n",
      "\n",
      "\n",
      "\n",
      "\n",
      "\n"
     ]
    }
   ],
   "source": [
    "import sys\n",
    "import time\n",
    "from pathlib import Path\n",
    "sys.path.append(str(Path.cwd().parent.parent.absolute()))\n",
    "import config\n",
    "from context import Context\n",
    "from tools.runners.account_state_runner import get_account_keys_online\n",
    "from tools.runners.account_state_runner import report_key_files_compare\n",
    "from contracts.contract_identities import DEXContractInterface\n",
    "\n",
    "context = Context()"
   ]
  },
  {
   "cell_type": "code",
   "execution_count": 2,
   "metadata": {},
   "outputs": [],
   "source": [
    "# wrap the upgrade function of each contract around a state compare procedure\n",
    "def upgrade_contract_with_check(contract: DEXContractInterface, *args):\n",
    "    try:\n",
    "        # get the current state of the account\n",
    "        get_account_keys_online(contract.address, config.DEFAULT_PROXY, with_save_in=\"state_dump/pre_contract_state.json\")\n",
    "    except Exception as e:\n",
    "        print(f\"Error getting the account state: {e}\")\n",
    "        # ask for user accept to continue or cancel\n",
    "        if input(\"Continue without state? (y/n): \") != \"y\":\n",
    "            return\n",
    "\n",
    "    # upgrade the contract\n",
    "    contract.contract_upgrade(*args)\n",
    "\n",
    "    try:\n",
    "        # get the new state of the account\n",
    "        get_account_keys_online(contract.address, config.DEFAULT_PROXY, with_save_in=\"state_dump/post_contract_state.json\")\n",
    "        # compare the states\n",
    "        report_key_files_compare(\"state_dump\", \"pre\", \"post\", True)\n",
    "    except Exception as e:\n",
    "        print(f\"Error getting the account state: {e}\")"
   ]
  },
  {
   "cell_type": "markdown",
   "metadata": {},
   "source": [
    "Energy contract setup"
   ]
  },
  {
   "cell_type": "code",
   "execution_count": 10,
   "metadata": {},
   "outputs": [],
   "source": [
    "from contracts.simple_lock_energy_contract import SimpleLockEnergyContract\n",
    "energy_contract: SimpleLockEnergyContract\n",
    "energy_contract = context.get_contracts(config.SIMPLE_LOCKS_ENERGY)[0]"
   ]
  },
  {
   "cell_type": "code",
   "execution_count": null,
   "metadata": {},
   "outputs": [],
   "source": [
    "energy_contract.contract_upgrade(context.deployer_account, context.network_provider.proxy, config.SIMPLE_LOCK_ENERGY_BYTECODE_PATH, [], True)"
   ]
  },
  {
   "cell_type": "code",
   "execution_count": 14,
   "metadata": {},
   "outputs": [
    {
     "name": "stdout",
     "output_type": "stream",
     "text": [
      "Error getting the account state: Url = [https://proxy-shadowfork-three.elrond.ro/address/erd1qqqqqqqqqqqqqpgq0tajepcazernwt74820t8ef7t28vjfgukp2sw239f3/keys], error = {'data': None, 'error': 'get key value pairs error: sending request error', 'code': 'internal_issue'}\n"
     ]
    },
    {
     "name": "stderr",
     "output_type": "stream",
     "text": [
      "\u001b[92m2024-04-17 17:26:55,424 - INFO - Upgrade simple lock energy contract\u001b[0m\n",
      "\u001b[38;20m2024-04-17 17:26:55,425 - DEBUG - Upgrade SimpleLockEnergyContract contract\u001b[0m\n",
      "\u001b[38;20m2024-04-17 17:26:56,535 - DEBUG - Upgrade arguments: []\u001b[0m\n",
      "\u001b[92m2024-04-17 17:26:57,704 - INFO - No explorer known for https://proxy-shadowfork-three.elrond.ro. transaction raw path: https://proxy-shadowfork-three.elrond.ro/transaction/bed859079aadee416d14c5963ab4771fa400b964d96972537624c9a0a9761251\u001b[0m\n"
     ]
    },
    {
     "name": "stdout",
     "output_type": "stream",
     "text": [
      "Error getting the account state: Url = [https://proxy-shadowfork-three.elrond.ro/address/erd1qqqqqqqqqqqqqpgq0tajepcazernwt74820t8ef7t28vjfgukp2sw239f3/keys], error = {'data': None, 'error': 'get key value pairs error: sending request error', 'code': 'internal_issue'}\n"
     ]
    }
   ],
   "source": [
    "upgrade_contract_with_check(energy_contract, context.deployer_account, context.network_provider.proxy, config.SIMPLE_LOCK_ENERGY_BYTECODE_PATH, [], True)"
   ]
  },
  {
   "cell_type": "markdown",
   "metadata": {},
   "source": [
    "Proxy dex setup"
   ]
  },
  {
   "cell_type": "code",
   "execution_count": 3,
   "metadata": {},
   "outputs": [
    {
     "name": "stdout",
     "output_type": "stream",
     "text": [
      "old_locked_token: LKMEX-aab910\n",
      "old_factory_address: erd1qqqqqqqqqqqqqpgqjpt0qqgsrdhp2xqygpjtfrpwf76f9nvg2jpsg4q7th\n"
     ]
    }
   ],
   "source": [
    "from contracts.dex_proxy_contract import DexProxyContract\n",
    "from utils.utils_chain import WrapperAddress as Address, hex_to_string\n",
    "from utils.contract_data_fetchers import ProxyContractDataFetcher\n",
    "\n",
    "dex_proxy_contract: DexProxyContract\n",
    "dex_proxy_contract = context.get_contracts(config.PROXIES_V2)[0]\n",
    "\n",
    "data_fetcher = ProxyContractDataFetcher(Address(dex_proxy_contract.address), context.network_provider.proxy.url)\n",
    "old_locked_token = hex_to_string(data_fetcher.get_data(\"getLockedTokenIds\")[0])\n",
    "old_factory_address = context.get_contracts(config.LOCKED_ASSETS)[0].address\n",
    "print(f\"old_locked_token: {old_locked_token}\")\n",
    "print(f\"old_factory_address: {old_factory_address}\")"
   ]
  },
  {
   "cell_type": "code",
   "execution_count": 20,
   "metadata": {},
   "outputs": [
    {
     "name": "stderr",
     "output_type": "stream",
     "text": [
      "\u001b[92m2024-04-17 17:45:36,071 - INFO - upgrade DexProxyContract contract\u001b[0m\n",
      "\u001b[31;20m2024-04-17 17:45:36,072 - ERROR - Failed to upgrade DexProxyContract contract due to unexpected number of arguments received!\u001b[0m\n",
      "\u001b[38;20m2024-04-17 17:45:36,073 - DEBUG - Unexpected arguments: ['LKMEX-aab910', 'erd1qqqqqqqqqqqqqpgqjpt0qqgsrdhp2xqygpjtfrpwf76f9nvg2jpsg4q7th']\u001b[0m\n"
     ]
    },
    {
     "name": "stdout",
     "output_type": "stream",
     "text": [
      "old_locked_token: LKMEX-aab910\n",
      "old_factory_address: erd1qqqqqqqqqqqqqpgqjpt0qqgsrdhp2xqygpjtfrpwf76f9nvg2jpsg4q7th\n"
     ]
    },
    {
     "data": {
      "text/plain": [
       "('', '')"
      ]
     },
     "execution_count": 20,
     "metadata": {},
     "output_type": "execute_result"
    }
   ],
   "source": [
    "dex_proxy_contract.contract_upgrade(context.deployer_account, context.network_provider.proxy, config.PROXY_V2_BYTECODE_PATH, [old_locked_token, old_factory_address])"
   ]
  },
  {
   "cell_type": "code",
   "execution_count": 17,
   "metadata": {},
   "outputs": [
    {
     "name": "stdout",
     "output_type": "stream",
     "text": [
      "Error getting the account state: Url = [https://proxy-shadowfork-three.elrond.ro/address/erd1qqqqqqqqqqqqqpgqt6ltx52ukss9d2qag2k67at28a36xc9lkp2sr06394/keys], error = {'data': None, 'error': 'get key value pairs error: sending request error', 'code': 'internal_issue'}\n"
     ]
    },
    {
     "name": "stderr",
     "output_type": "stream",
     "text": [
      "\u001b[92m2024-04-17 17:29:33,542 - INFO - upgrade DexProxyContract contract\u001b[0m\n",
      "\u001b[38;20m2024-04-17 17:29:33,543 - DEBUG - Upgrade DexProxyContract contract\u001b[0m\n",
      "\u001b[38;20m2024-04-17 17:29:34,654 - DEBUG - Upgrade arguments: []\u001b[0m\n",
      "\u001b[92m2024-04-17 17:29:35,910 - INFO - No explorer known for https://proxy-shadowfork-three.elrond.ro. transaction raw path: https://proxy-shadowfork-three.elrond.ro/transaction/4a67cc0d2c6a9ca6ec1ebccbfa358601463c8fdb17418e60db27e8f0bbfc013d\u001b[0m\n"
     ]
    },
    {
     "name": "stdout",
     "output_type": "stream",
     "text": [
      "Error getting the account state: Url = [https://proxy-shadowfork-three.elrond.ro/address/erd1qqqqqqqqqqqqqpgqt6ltx52ukss9d2qag2k67at28a36xc9lkp2sr06394/keys], error = {'data': None, 'error': 'get key value pairs error: sending request error', 'code': 'internal_issue'}\n"
     ]
    }
   ],
   "source": [
    "upgrade_contract_with_check(dex_proxy_contract, context.deployer_account, context.network_provider.proxy, config.PROXY_V2_BYTECODE_PATH, [])"
   ]
  },
  {
   "cell_type": "markdown",
   "metadata": {},
   "source": [
    "Farm contract setup"
   ]
  },
  {
   "cell_type": "code",
   "execution_count": null,
   "metadata": {},
   "outputs": [],
   "source": [
    "from contracts.farm_contract import FarmContract\n",
    "farm_contract: FarmContract\n",
    "farm_contracts = context.get_contracts(config.FARMS_V2)"
   ]
  },
  {
   "cell_type": "code",
   "execution_count": null,
   "metadata": {},
   "outputs": [],
   "source": [
    "for farm_contract in farm_contracts:\n",
    "    farm_contract.contract_upgrade(context.deployer_account, context.network_provider.proxy, config.FARM_V3_BYTECODE_PATH, [], True)"
   ]
  },
  {
   "cell_type": "code",
   "execution_count": null,
   "metadata": {},
   "outputs": [],
   "source": [
    "for farm_contract in farm_contracts:\n",
    "    upgrade_contract_with_check(farm_contract, context.deployer_account, context.network_provider.proxy, config.FARM_V3_BYTECODE_PATH, [], True)"
   ]
  },
  {
   "cell_type": "code",
   "execution_count": null,
   "metadata": {},
   "outputs": [],
   "source": [
    "# resume all\n",
    "context.deployer_account.sync_nonce(context.network_provider.proxy)\n",
    "\n",
    "for contract in farm_contracts:\n",
    "    tx_hash = contract.resume(context.deployer_account, context.network_provider.proxy)"
   ]
  },
  {
   "cell_type": "markdown",
   "metadata": {},
   "source": [
    "Staking contract setup"
   ]
  },
  {
   "cell_type": "code",
   "execution_count": null,
   "metadata": {},
   "outputs": [],
   "source": [
    "from contracts.staking_contract import StakingContract\n",
    "staking_contract: StakingContract\n",
    "staking_contracts = context.get_contracts(config.STAKINGS_V2)"
   ]
  },
  {
   "cell_type": "code",
   "execution_count": null,
   "metadata": {},
   "outputs": [],
   "source": [
    "for staking_contract in staking_contracts:\n",
    "    staking_contract.contract_upgrade(context.deployer_account, context.network_provider.proxy, config.STAKING_V3_BYTECODE_PATH, [], True)"
   ]
  },
  {
   "cell_type": "code",
   "execution_count": null,
   "metadata": {},
   "outputs": [],
   "source": [
    "for staking_contract in staking_contracts:\n",
    "    upgrade_contract_with_check(staking_contract, context.deployer_account, context.network_provider.proxy, config.STAKING_V3_BYTECODE_PATH, [], True)"
   ]
  },
  {
   "cell_type": "code",
   "execution_count": null,
   "metadata": {},
   "outputs": [],
   "source": [
    "from time import sleep\n",
    "from contracts.simple_lock_energy_contract import SimpleLockEnergyContract\n",
    "context.deployer_account.sync_nonce(context.network_provider.proxy)\n",
    "simple_lock_energy_contract: SimpleLockEnergyContract = context.get_contracts(config.SIMPLE_LOCKS_ENERGY)[0]\n",
    "\n",
    "for contract in staking_contracts:\n",
    "    tx_hash = contract.set_boosted_yields_rewards_percentage(context.deployer_account, context.network_provider.proxy, 6000)\n",
    "    tx_hash = contract.set_boosted_yields_factors(context.deployer_account, context.network_provider.proxy, \n",
    "                                                  [2, 1, 0, 1, 1])\n",
    "    tx_hash = contract.set_energy_factory_address(context.deployer_account, context.network_provider.proxy, context.get_contracts(config.SIMPLE_LOCKS_ENERGY)[0].address)\n",
    "    tx_hash = simple_lock_energy_contract.add_sc_to_whitelist(context.deployer_account, context.network_provider.proxy, contract.address)\n",
    "    sleep(2)"
   ]
  },
  {
   "cell_type": "code",
   "execution_count": null,
   "metadata": {},
   "outputs": [],
   "source": [
    "# resume all\n",
    "context.deployer_account.sync_nonce(context.network_provider.proxy)\n",
    "\n",
    "for contract in staking_contracts:\n",
    "    tx_hash = contract.resume(context.deployer_account, context.network_provider.proxy)"
   ]
  },
  {
   "cell_type": "markdown",
   "metadata": {},
   "source": [
    "Metastaking contract setup"
   ]
  },
  {
   "cell_type": "code",
   "execution_count": null,
   "metadata": {},
   "outputs": [],
   "source": [
    "from contracts.metastaking_contract import MetaStakingContract\n",
    "metastaking_contract: MetaStakingContract\n",
    "metastaking_contracts = context.get_contracts(config.METASTAKINGS_V2)"
   ]
  },
  {
   "cell_type": "code",
   "execution_count": null,
   "metadata": {},
   "outputs": [],
   "source": [
    "for metastaking_contract in metastaking_contracts:\n",
    "    metastaking_contract.contract_upgrade(context.deployer_account, context.network_provider.proxy, config.STAKING_PROXY_V3_BYTECODE_PATH, [], True)"
   ]
  },
  {
   "cell_type": "code",
   "execution_count": null,
   "metadata": {},
   "outputs": [],
   "source": [
    "for metastaking_contract in metastaking_contracts:\n",
    "    upgrade_contract_with_check(metastaking_contract, context.deployer_account, context.network_provider.proxy, config.STAKING_PROXY_V3_BYTECODE_PATH, [], True)"
   ]
  },
  {
   "cell_type": "code",
   "execution_count": null,
   "metadata": {},
   "outputs": [
    {
     "name": "stderr",
     "output_type": "stream",
     "text": [
      "\u001b[38;20m2023-12-19 12:58:36,079 - DEBUG - Account.sync_nonce() done: 3531\u001b[0m\n",
      "\u001b[92m2023-12-19 12:58:36,080 - INFO - Set energy factory address in proxy staking contract\u001b[0m\n",
      "\u001b[38;20m2023-12-19 12:58:36,081 - DEBUG - Calling setEnergyFactoryAddress at erd1qqqqqqqqqqqqqpgqjvcrk4tun6l438crr0jcz7q3yzp66smwkp2shzmazs\u001b[0m\n",
      "\u001b[38;20m2023-12-19 12:58:36,081 - DEBUG - Args: ['erd1qqqqqqqqqqqqqpgq0tajepcazernwt74820t8ef7t28vjfgukp2sw239f3']\u001b[0m\n",
      "\u001b[38;20m2023-12-19 12:58:36,655 - DEBUG - Contract call arguments: [erd1qqqqqqqqqqqqqpgq0tajepcazernwt74820t8ef7t28vjfgukp2sw239f3]\u001b[0m\n",
      "\u001b[92m2023-12-19 12:58:37,509 - INFO - No explorer known for https://proxy-shadowfork-one.elrond.ro. transaction raw path: transactions/628d12c699ee40548534239b9346c6799c6ef2f0812906d56c8cfed0f02a197a\u001b[0m\n",
      "\u001b[92m2023-12-19 12:58:37,509 - INFO - Set energy factory address in proxy staking contract\u001b[0m\n",
      "\u001b[38;20m2023-12-19 12:58:37,510 - DEBUG - Calling setEnergyFactoryAddress at erd1qqqqqqqqqqqqqpgqduftj7u5u5d4ql2znchcmrcet9kcze7ckp2sk4474f\u001b[0m\n",
      "\u001b[38;20m2023-12-19 12:58:37,511 - DEBUG - Args: ['erd1qqqqqqqqqqqqqpgq0tajepcazernwt74820t8ef7t28vjfgukp2sw239f3']\u001b[0m\n",
      "\u001b[38;20m2023-12-19 12:58:38,765 - DEBUG - Contract call arguments: [erd1qqqqqqqqqqqqqpgq0tajepcazernwt74820t8ef7t28vjfgukp2sw239f3]\u001b[0m\n",
      "\u001b[92m2023-12-19 12:58:39,359 - INFO - No explorer known for https://proxy-shadowfork-one.elrond.ro. transaction raw path: transactions/6ff2b2e16cde97c4bf90ff47aef8a5da95f30a05a6a14ccab9a31ab5adc606c6\u001b[0m\n",
      "\u001b[92m2023-12-19 12:58:39,359 - INFO - Set energy factory address in proxy staking contract\u001b[0m\n",
      "\u001b[38;20m2023-12-19 12:58:39,360 - DEBUG - Calling setEnergyFactoryAddress at erd1qqqqqqqqqqqqqpgqmgd0eu4z9kzvrputt4l4kw4fqf2wcjsekp2sftan7s\u001b[0m\n",
      "\u001b[38;20m2023-12-19 12:58:39,361 - DEBUG - Args: ['erd1qqqqqqqqqqqqqpgq0tajepcazernwt74820t8ef7t28vjfgukp2sw239f3']\u001b[0m\n",
      "\u001b[38;20m2023-12-19 12:58:40,288 - DEBUG - Contract call arguments: [erd1qqqqqqqqqqqqqpgq0tajepcazernwt74820t8ef7t28vjfgukp2sw239f3]\u001b[0m\n",
      "\u001b[92m2023-12-19 12:58:40,860 - INFO - No explorer known for https://proxy-shadowfork-one.elrond.ro. transaction raw path: transactions/94f3165a3bae3ca7cbf5545ff0a62f23045d4358fe9c33fff29812ccc2393ef2\u001b[0m\n",
      "\u001b[92m2023-12-19 12:58:40,861 - INFO - Set energy factory address in proxy staking contract\u001b[0m\n",
      "\u001b[38;20m2023-12-19 12:58:40,861 - DEBUG - Calling setEnergyFactoryAddress at erd1qqqqqqqqqqqqqpgqx6zhjfjnwxpzdcj594htl0y6w60aa3a8kp2se2pdms\u001b[0m\n",
      "\u001b[38;20m2023-12-19 12:58:40,862 - DEBUG - Args: ['erd1qqqqqqqqqqqqqpgq0tajepcazernwt74820t8ef7t28vjfgukp2sw239f3']\u001b[0m\n",
      "\u001b[38;20m2023-12-19 12:58:41,034 - DEBUG - Contract call arguments: [erd1qqqqqqqqqqqqqpgq0tajepcazernwt74820t8ef7t28vjfgukp2sw239f3]\u001b[0m\n",
      "\u001b[92m2023-12-19 12:58:41,240 - INFO - No explorer known for https://proxy-shadowfork-one.elrond.ro. transaction raw path: transactions/4ff26e76c0b5c56fecc84c96d1ca8e29c291762eaf8c0144f14e888378a35a7d\u001b[0m\n"
     ]
    }
   ],
   "source": [
    "context.deployer_account.sync_nonce(context.network_provider.proxy)\n",
    "\n",
    "for contract in metastaking_contracts:\n",
    "    tx_hash = contract.set_energy_factory_address(context.deployer_account, context.network_provider.proxy, context.get_contracts(config.SIMPLE_LOCKS_ENERGY)[0].address)"
   ]
  }
 ],
 "metadata": {
  "kernelspec": {
   "display_name": "venv",
   "language": "python",
   "name": "python3"
  },
  "language_info": {
   "codemirror_mode": {
    "name": "ipython",
    "version": 3
   },
   "file_extension": ".py",
   "mimetype": "text/x-python",
   "name": "python",
   "nbconvert_exporter": "python",
   "pygments_lexer": "ipython3",
   "version": "3.11.6"
  }
 },
 "nbformat": 4,
 "nbformat_minor": 2
}
